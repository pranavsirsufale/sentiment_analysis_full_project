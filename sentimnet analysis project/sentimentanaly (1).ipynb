{
 "cells": [
  {
   "cell_type": "markdown",
   "metadata": {},
   "source": [
    "# Sentiment analysis full project"
   ]
  },
  {
   "cell_type": "markdown",
   "metadata": {},
   "source": [
    "### step 1. import Libraries and files\n",
    "### step 2. Identify Polarity\n",
    "### step 3. Sentiment classification\n",
    "### step 4. word cloud \n",
    "### step 5. "
   ]
  },
  {
   "cell_type": "code",
   "execution_count": 9,
   "metadata": {},
   "outputs": [],
   "source": [
    "import numpy as np\n",
    "import pandas as pd\n",
    "import seaborn as sns\n",
    "import matplotlib.pyplot as plt\n",
    "import plotly.express as ex\n",
    "from textblob import TextBlob\n",
    "from wordcloud import WordCloud,STOPWORDS\n"
   ]
  },
  {
   "cell_type": "markdown",
   "metadata": {},
   "source": [
    "## import dataset "
   ]
  },
  {
   "cell_type": "code",
   "execution_count": null,
   "metadata": {},
   "outputs": [
    {
     "data": {
      "text/html": [
       "<div>\n",
       "<style scoped>\n",
       "    .dataframe tbody tr th:only-of-type {\n",
       "        vertical-align: middle;\n",
       "    }\n",
       "\n",
       "    .dataframe tbody tr th {\n",
       "        vertical-align: top;\n",
       "    }\n",
       "\n",
       "    .dataframe thead th {\n",
       "        text-align: right;\n",
       "    }\n",
       "</style>\n",
       "<table border=\"1\" class=\"dataframe\">\n",
       "  <thead>\n",
       "    <tr style=\"text-align: right;\">\n",
       "      <th></th>\n",
       "      <th>Time of Review</th>\n",
       "      <th>User ID</th>\n",
       "      <th>Brief Review</th>\n",
       "    </tr>\n",
       "  </thead>\n",
       "  <tbody>\n",
       "    <tr>\n",
       "      <th>0</th>\n",
       "      <td>8/22/2022 14:16</td>\n",
       "      <td>User1</td>\n",
       "      <td>extremely satisfied with my new mobile phone</td>\n",
       "    </tr>\n",
       "    <tr>\n",
       "      <th>1</th>\n",
       "      <td>7/7/2023 14:16</td>\n",
       "      <td>User2</td>\n",
       "      <td>Nice design and sleek look.</td>\n",
       "    </tr>\n",
       "    <tr>\n",
       "      <th>2</th>\n",
       "      <td>2/26/2023 14:16</td>\n",
       "      <td>User3</td>\n",
       "      <td>Nice design and sleek look.</td>\n",
       "    </tr>\n",
       "    <tr>\n",
       "      <th>3</th>\n",
       "      <td>4/13/2023 14:16</td>\n",
       "      <td>User4</td>\n",
       "      <td>Good value for money.</td>\n",
       "    </tr>\n",
       "    <tr>\n",
       "      <th>4</th>\n",
       "      <td>5/25/2023 14:16</td>\n",
       "      <td>User5</td>\n",
       "      <td>Disappointed</td>\n",
       "    </tr>\n",
       "  </tbody>\n",
       "</table>\n",
       "</div>"
      ],
      "text/plain": [
       "    Time of Review User ID                                  Brief Review\n",
       "0  8/22/2022 14:16   User1  extremely satisfied with my new mobile phone\n",
       "1   7/7/2023 14:16   User2                   Nice design and sleek look.\n",
       "2  2/26/2023 14:16   User3                   Nice design and sleek look.\n",
       "3  4/13/2023 14:16   User4                         Good value for money.\n",
       "4  5/25/2023 14:16   User5                                  Disappointed"
      ]
     },
     "execution_count": 31,
     "metadata": {},
     "output_type": "execute_result"
    }
   ],
   "source": [
    "df = pd.read_csv('F:/new projects/sentimet analysis proejct/sentimnet analysis project/dataset/mobile.csv')\n",
    "\n",
    "pd.set_option('display.max_columns',200)\n",
    "df.head()\n",
    "# df.shape"
   ]
  },
  {
   "cell_type": "markdown",
   "metadata": {},
   "source": []
  },
  {
   "cell_type": "markdown",
   "metadata": {},
   "source": [
    "### Task 1. Deriving the polarity of data"
   ]
  },
  {
   "cell_type": "code",
   "execution_count": 32,
   "metadata": {},
   "outputs": [
    {
     "data": {
      "text/html": [
       "<div>\n",
       "<style scoped>\n",
       "    .dataframe tbody tr th:only-of-type {\n",
       "        vertical-align: middle;\n",
       "    }\n",
       "\n",
       "    .dataframe tbody tr th {\n",
       "        vertical-align: top;\n",
       "    }\n",
       "\n",
       "    .dataframe thead th {\n",
       "        text-align: right;\n",
       "    }\n",
       "</style>\n",
       "<table border=\"1\" class=\"dataframe\">\n",
       "  <thead>\n",
       "    <tr style=\"text-align: right;\">\n",
       "      <th></th>\n",
       "      <th>Time of Review</th>\n",
       "      <th>User ID</th>\n",
       "      <th>Brief Review</th>\n",
       "      <th>Polarity</th>\n",
       "    </tr>\n",
       "  </thead>\n",
       "  <tbody>\n",
       "    <tr>\n",
       "      <th>0</th>\n",
       "      <td>8/22/2022 14:16</td>\n",
       "      <td>User1</td>\n",
       "      <td>extremely satisfied with my new mobile phone</td>\n",
       "      <td>0.318182</td>\n",
       "    </tr>\n",
       "    <tr>\n",
       "      <th>1</th>\n",
       "      <td>7/7/2023 14:16</td>\n",
       "      <td>User2</td>\n",
       "      <td>Nice design and sleek look.</td>\n",
       "      <td>0.600000</td>\n",
       "    </tr>\n",
       "    <tr>\n",
       "      <th>2</th>\n",
       "      <td>2/26/2023 14:16</td>\n",
       "      <td>User3</td>\n",
       "      <td>Nice design and sleek look.</td>\n",
       "      <td>0.600000</td>\n",
       "    </tr>\n",
       "    <tr>\n",
       "      <th>3</th>\n",
       "      <td>4/13/2023 14:16</td>\n",
       "      <td>User4</td>\n",
       "      <td>Good value for money.</td>\n",
       "      <td>0.700000</td>\n",
       "    </tr>\n",
       "    <tr>\n",
       "      <th>4</th>\n",
       "      <td>5/25/2023 14:16</td>\n",
       "      <td>User5</td>\n",
       "      <td>Disappointed</td>\n",
       "      <td>-0.750000</td>\n",
       "    </tr>\n",
       "    <tr>\n",
       "      <th>...</th>\n",
       "      <td>...</td>\n",
       "      <td>...</td>\n",
       "      <td>...</td>\n",
       "      <td>...</td>\n",
       "    </tr>\n",
       "    <tr>\n",
       "      <th>99995</th>\n",
       "      <td>9/13/2022 14:16</td>\n",
       "      <td>User99996</td>\n",
       "      <td>Awesome</td>\n",
       "      <td>1.000000</td>\n",
       "    </tr>\n",
       "    <tr>\n",
       "      <th>99996</th>\n",
       "      <td>6/23/2023 14:16</td>\n",
       "      <td>User99997</td>\n",
       "      <td>Awesome</td>\n",
       "      <td>1.000000</td>\n",
       "    </tr>\n",
       "    <tr>\n",
       "      <th>99997</th>\n",
       "      <td>12/4/2022 14:16</td>\n",
       "      <td>User99998</td>\n",
       "      <td>Awesome</td>\n",
       "      <td>1.000000</td>\n",
       "    </tr>\n",
       "    <tr>\n",
       "      <th>99998</th>\n",
       "      <td>5/6/2023 14:16</td>\n",
       "      <td>User99999</td>\n",
       "      <td>Easy to use and user-friendly interface.</td>\n",
       "      <td>0.433333</td>\n",
       "    </tr>\n",
       "    <tr>\n",
       "      <th>99999</th>\n",
       "      <td>2/17/2023 14:16</td>\n",
       "      <td>User100000</td>\n",
       "      <td>Slow customer support.</td>\n",
       "      <td>-0.300000</td>\n",
       "    </tr>\n",
       "  </tbody>\n",
       "</table>\n",
       "<p>100000 rows × 4 columns</p>\n",
       "</div>"
      ],
      "text/plain": [
       "        Time of Review     User ID  \\\n",
       "0      8/22/2022 14:16       User1   \n",
       "1       7/7/2023 14:16       User2   \n",
       "2      2/26/2023 14:16       User3   \n",
       "3      4/13/2023 14:16       User4   \n",
       "4      5/25/2023 14:16       User5   \n",
       "...                ...         ...   \n",
       "99995  9/13/2022 14:16   User99996   \n",
       "99996  6/23/2023 14:16   User99997   \n",
       "99997  12/4/2022 14:16   User99998   \n",
       "99998   5/6/2023 14:16   User99999   \n",
       "99999  2/17/2023 14:16  User100000   \n",
       "\n",
       "                                       Brief Review  Polarity  \n",
       "0      extremely satisfied with my new mobile phone  0.318182  \n",
       "1                       Nice design and sleek look.  0.600000  \n",
       "2                       Nice design and sleek look.  0.600000  \n",
       "3                             Good value for money.  0.700000  \n",
       "4                                      Disappointed -0.750000  \n",
       "...                                             ...       ...  \n",
       "99995                                       Awesome  1.000000  \n",
       "99996                                       Awesome  1.000000  \n",
       "99997                                       Awesome  1.000000  \n",
       "99998      Easy to use and user-friendly interface.  0.433333  \n",
       "99999                        Slow customer support. -0.300000  \n",
       "\n",
       "[100000 rows x 4 columns]"
      ]
     },
     "execution_count": 32,
     "metadata": {},
     "output_type": "execute_result"
    }
   ],
   "source": [
    "# df['Sentiment'] = [  TextBlob(x).sentiment for x in df['Brief Review']]\n",
    "# df\n",
    "\n",
    "def calculate_polarity(text):\n",
    "    return TextBlob(text).sentiment.polarity\n",
    "\n",
    "def calculate_subjectivity(text):\n",
    "    return TextBlob(text).sentiment.subjectivity\n",
    "\n",
    "def calculate_polarity_and_subjectivity(text):\n",
    "    sentiment_and_subjectivity = TextBlob(text).sentiment\n",
    "    sentiment_and_subjectivity = [sentiment_and_subjectivity.polarity,sentiment_and_subjectivity.subjectivity]\n",
    "    return sentiment_and_subjectivity\n",
    "\n",
    "df['Polarity'] = df['Brief Review'].apply(calculate_polarity)\n",
    "df"
   ]
  },
  {
   "cell_type": "markdown",
   "metadata": {},
   "source": []
  },
  {
   "cell_type": "code",
   "execution_count": null,
   "metadata": {},
   "outputs": [
    {
     "data": {
      "text/html": [
       "<div>\n",
       "<style scoped>\n",
       "    .dataframe tbody tr th:only-of-type {\n",
       "        vertical-align: middle;\n",
       "    }\n",
       "\n",
       "    .dataframe tbody tr th {\n",
       "        vertical-align: top;\n",
       "    }\n",
       "\n",
       "    .dataframe thead th {\n",
       "        text-align: right;\n",
       "    }\n",
       "</style>\n",
       "<table border=\"1\" class=\"dataframe\">\n",
       "  <thead>\n",
       "    <tr style=\"text-align: right;\">\n",
       "      <th></th>\n",
       "      <th>Time of Review</th>\n",
       "      <th>User ID</th>\n",
       "      <th>Brief Review</th>\n",
       "      <th>Polarity</th>\n",
       "      <th>Polarity Type</th>\n",
       "    </tr>\n",
       "  </thead>\n",
       "  <tbody>\n",
       "    <tr>\n",
       "      <th>0</th>\n",
       "      <td>8/22/2022 14:16</td>\n",
       "      <td>User1</td>\n",
       "      <td>extremely satisfied with my new mobile phone</td>\n",
       "      <td>0.318182</td>\n",
       "      <td>Positive</td>\n",
       "    </tr>\n",
       "    <tr>\n",
       "      <th>1</th>\n",
       "      <td>7/7/2023 14:16</td>\n",
       "      <td>User2</td>\n",
       "      <td>Nice design and sleek look.</td>\n",
       "      <td>0.600000</td>\n",
       "      <td>Positive</td>\n",
       "    </tr>\n",
       "    <tr>\n",
       "      <th>2</th>\n",
       "      <td>2/26/2023 14:16</td>\n",
       "      <td>User3</td>\n",
       "      <td>Nice design and sleek look.</td>\n",
       "      <td>0.600000</td>\n",
       "      <td>Positive</td>\n",
       "    </tr>\n",
       "    <tr>\n",
       "      <th>3</th>\n",
       "      <td>4/13/2023 14:16</td>\n",
       "      <td>User4</td>\n",
       "      <td>Good value for money.</td>\n",
       "      <td>0.700000</td>\n",
       "      <td>Positive</td>\n",
       "    </tr>\n",
       "    <tr>\n",
       "      <th>4</th>\n",
       "      <td>5/25/2023 14:16</td>\n",
       "      <td>User5</td>\n",
       "      <td>Disappointed</td>\n",
       "      <td>-0.750000</td>\n",
       "      <td>Negetive</td>\n",
       "    </tr>\n",
       "    <tr>\n",
       "      <th>...</th>\n",
       "      <td>...</td>\n",
       "      <td>...</td>\n",
       "      <td>...</td>\n",
       "      <td>...</td>\n",
       "      <td>...</td>\n",
       "    </tr>\n",
       "    <tr>\n",
       "      <th>99995</th>\n",
       "      <td>9/13/2022 14:16</td>\n",
       "      <td>User99996</td>\n",
       "      <td>Awesome</td>\n",
       "      <td>1.000000</td>\n",
       "      <td>Positive</td>\n",
       "    </tr>\n",
       "    <tr>\n",
       "      <th>99996</th>\n",
       "      <td>6/23/2023 14:16</td>\n",
       "      <td>User99997</td>\n",
       "      <td>Awesome</td>\n",
       "      <td>1.000000</td>\n",
       "      <td>Positive</td>\n",
       "    </tr>\n",
       "    <tr>\n",
       "      <th>99997</th>\n",
       "      <td>12/4/2022 14:16</td>\n",
       "      <td>User99998</td>\n",
       "      <td>Awesome</td>\n",
       "      <td>1.000000</td>\n",
       "      <td>Positive</td>\n",
       "    </tr>\n",
       "    <tr>\n",
       "      <th>99998</th>\n",
       "      <td>5/6/2023 14:16</td>\n",
       "      <td>User99999</td>\n",
       "      <td>Easy to use and user-friendly interface.</td>\n",
       "      <td>0.433333</td>\n",
       "      <td>Positive</td>\n",
       "    </tr>\n",
       "    <tr>\n",
       "      <th>99999</th>\n",
       "      <td>2/17/2023 14:16</td>\n",
       "      <td>User100000</td>\n",
       "      <td>Slow customer support.</td>\n",
       "      <td>-0.300000</td>\n",
       "      <td>Negetive</td>\n",
       "    </tr>\n",
       "  </tbody>\n",
       "</table>\n",
       "<p>100000 rows × 5 columns</p>\n",
       "</div>"
      ],
      "text/plain": [
       "        Time of Review     User ID  \\\n",
       "0      8/22/2022 14:16       User1   \n",
       "1       7/7/2023 14:16       User2   \n",
       "2      2/26/2023 14:16       User3   \n",
       "3      4/13/2023 14:16       User4   \n",
       "4      5/25/2023 14:16       User5   \n",
       "...                ...         ...   \n",
       "99995  9/13/2022 14:16   User99996   \n",
       "99996  6/23/2023 14:16   User99997   \n",
       "99997  12/4/2022 14:16   User99998   \n",
       "99998   5/6/2023 14:16   User99999   \n",
       "99999  2/17/2023 14:16  User100000   \n",
       "\n",
       "                                       Brief Review  Polarity Polarity Type  \n",
       "0      extremely satisfied with my new mobile phone  0.318182      Positive  \n",
       "1                       Nice design and sleek look.  0.600000      Positive  \n",
       "2                       Nice design and sleek look.  0.600000      Positive  \n",
       "3                             Good value for money.  0.700000      Positive  \n",
       "4                                      Disappointed -0.750000      Negetive  \n",
       "...                                             ...       ...           ...  \n",
       "99995                                       Awesome  1.000000      Positive  \n",
       "99996                                       Awesome  1.000000      Positive  \n",
       "99997                                       Awesome  1.000000      Positive  \n",
       "99998      Easy to use and user-friendly interface.  0.433333      Positive  \n",
       "99999                        Slow customer support. -0.300000      Negetive  \n",
       "\n",
       "[100000 rows x 5 columns]"
      ]
     },
     "execution_count": 33,
     "metadata": {},
     "output_type": "execute_result"
    }
   ],
   "source": [
    "def review_type(pol):\n",
    "    if pol < 0 :\n",
    "        return 'Negetive'\n",
    "    elif pol > 0 :\n",
    "        return 'Positive'\n",
    "    else :\n",
    "        return 'Neutral'\n",
    "\n",
    "\n",
    "df['Polarity Type'] = df['Polarity'].apply(review_type)\n",
    "\n",
    "df\n"
   ]
  },
  {
   "cell_type": "markdown",
   "metadata": {},
   "source": []
  },
  {
   "cell_type": "code",
   "execution_count": null,
   "metadata": {},
   "outputs": [
    {
     "data": {
      "text/html": [
       "<div>\n",
       "<style scoped>\n",
       "    .dataframe tbody tr th:only-of-type {\n",
       "        vertical-align: middle;\n",
       "    }\n",
       "\n",
       "    .dataframe tbody tr th {\n",
       "        vertical-align: top;\n",
       "    }\n",
       "\n",
       "    .dataframe thead th {\n",
       "        text-align: right;\n",
       "    }\n",
       "</style>\n",
       "<table border=\"1\" class=\"dataframe\">\n",
       "  <thead>\n",
       "    <tr style=\"text-align: right;\">\n",
       "      <th></th>\n",
       "      <th>Polarity Type</th>\n",
       "      <th>Count of Users</th>\n",
       "    </tr>\n",
       "  </thead>\n",
       "  <tbody>\n",
       "    <tr>\n",
       "      <th>0</th>\n",
       "      <td>Negetive</td>\n",
       "      <td>16111</td>\n",
       "    </tr>\n",
       "    <tr>\n",
       "      <th>1</th>\n",
       "      <td>Neutral</td>\n",
       "      <td>10330</td>\n",
       "    </tr>\n",
       "    <tr>\n",
       "      <th>2</th>\n",
       "      <td>Positive</td>\n",
       "      <td>73559</td>\n",
       "    </tr>\n",
       "  </tbody>\n",
       "</table>\n",
       "</div>"
      ],
      "text/plain": [
       "  Polarity Type  Count of Users\n",
       "0      Negetive           16111\n",
       "1       Neutral           10330\n",
       "2      Positive           73559"
      ]
     },
     "execution_count": 46,
     "metadata": {},
     "output_type": "execute_result"
    }
   ],
   "source": [
    "count_review = df.groupby('Polarity Type',as_index= False)['User ID'].count()\n",
    "count_review.rename(columns={'User ID':'Count of Users'},inplace=True)\n",
    "count_review\n",
    "\n"
   ]
  },
  {
   "cell_type": "markdown",
   "metadata": {},
   "source": []
  },
  {
   "cell_type": "markdown",
   "metadata": {},
   "source": [
    "### Plotting the Bar Chart "
   ]
  },
  {
   "cell_type": "code",
   "execution_count": 56,
   "metadata": {},
   "outputs": [
    {
     "data": {
      "application/vnd.plotly.v1+json": {
       "config": {
        "plotlyServerURL": "https://plot.ly"
       },
       "data": [
        {
         "alignmentgroup": "True",
         "hovertemplate": "Polarity Type=%{x}<br>Count of Users=%{y}<extra></extra>",
         "legendgroup": "Negetive",
         "marker": {
          "color": "Red",
          "pattern": {
           "shape": ""
          }
         },
         "name": "Negetive",
         "offsetgroup": "Negetive",
         "orientation": "v",
         "showlegend": true,
         "textposition": "auto",
         "type": "bar",
         "x": [
          "Negetive"
         ],
         "xaxis": "x",
         "y": [
          16111
         ],
         "yaxis": "y"
        },
        {
         "alignmentgroup": "True",
         "hovertemplate": "Polarity Type=%{x}<br>Count of Users=%{y}<extra></extra>",
         "legendgroup": "Neutral",
         "marker": {
          "color": "Blue",
          "pattern": {
           "shape": ""
          }
         },
         "name": "Neutral",
         "offsetgroup": "Neutral",
         "orientation": "v",
         "showlegend": true,
         "textposition": "auto",
         "type": "bar",
         "x": [
          "Neutral"
         ],
         "xaxis": "x",
         "y": [
          10330
         ],
         "yaxis": "y"
        },
        {
         "alignmentgroup": "True",
         "hovertemplate": "Polarity Type=%{x}<br>Count of Users=%{y}<extra></extra>",
         "legendgroup": "Positive",
         "marker": {
          "color": "Green",
          "pattern": {
           "shape": ""
          }
         },
         "name": "Positive",
         "offsetgroup": "Positive",
         "orientation": "v",
         "showlegend": true,
         "textposition": "auto",
         "type": "bar",
         "x": [
          "Positive"
         ],
         "xaxis": "x",
         "y": [
          73559
         ],
         "yaxis": "y"
        }
       ],
       "layout": {
        "barmode": "relative",
        "legend": {
         "title": {
          "text": "Polarity Type"
         },
         "tracegroupgap": 0
        },
        "margin": {
         "t": 60
        },
        "template": {
         "data": {
          "bar": [
           {
            "error_x": {
             "color": "#f2f5fa"
            },
            "error_y": {
             "color": "#f2f5fa"
            },
            "marker": {
             "line": {
              "color": "rgb(17,17,17)",
              "width": 0.5
             },
             "pattern": {
              "fillmode": "overlay",
              "size": 10,
              "solidity": 0.2
             }
            },
            "type": "bar"
           }
          ],
          "barpolar": [
           {
            "marker": {
             "line": {
              "color": "rgb(17,17,17)",
              "width": 0.5
             },
             "pattern": {
              "fillmode": "overlay",
              "size": 10,
              "solidity": 0.2
             }
            },
            "type": "barpolar"
           }
          ],
          "carpet": [
           {
            "aaxis": {
             "endlinecolor": "#A2B1C6",
             "gridcolor": "#506784",
             "linecolor": "#506784",
             "minorgridcolor": "#506784",
             "startlinecolor": "#A2B1C6"
            },
            "baxis": {
             "endlinecolor": "#A2B1C6",
             "gridcolor": "#506784",
             "linecolor": "#506784",
             "minorgridcolor": "#506784",
             "startlinecolor": "#A2B1C6"
            },
            "type": "carpet"
           }
          ],
          "choropleth": [
           {
            "colorbar": {
             "outlinewidth": 0,
             "ticks": ""
            },
            "type": "choropleth"
           }
          ],
          "contour": [
           {
            "colorbar": {
             "outlinewidth": 0,
             "ticks": ""
            },
            "colorscale": [
             [
              0,
              "#0d0887"
             ],
             [
              0.1111111111111111,
              "#46039f"
             ],
             [
              0.2222222222222222,
              "#7201a8"
             ],
             [
              0.3333333333333333,
              "#9c179e"
             ],
             [
              0.4444444444444444,
              "#bd3786"
             ],
             [
              0.5555555555555556,
              "#d8576b"
             ],
             [
              0.6666666666666666,
              "#ed7953"
             ],
             [
              0.7777777777777778,
              "#fb9f3a"
             ],
             [
              0.8888888888888888,
              "#fdca26"
             ],
             [
              1,
              "#f0f921"
             ]
            ],
            "type": "contour"
           }
          ],
          "contourcarpet": [
           {
            "colorbar": {
             "outlinewidth": 0,
             "ticks": ""
            },
            "type": "contourcarpet"
           }
          ],
          "heatmap": [
           {
            "colorbar": {
             "outlinewidth": 0,
             "ticks": ""
            },
            "colorscale": [
             [
              0,
              "#0d0887"
             ],
             [
              0.1111111111111111,
              "#46039f"
             ],
             [
              0.2222222222222222,
              "#7201a8"
             ],
             [
              0.3333333333333333,
              "#9c179e"
             ],
             [
              0.4444444444444444,
              "#bd3786"
             ],
             [
              0.5555555555555556,
              "#d8576b"
             ],
             [
              0.6666666666666666,
              "#ed7953"
             ],
             [
              0.7777777777777778,
              "#fb9f3a"
             ],
             [
              0.8888888888888888,
              "#fdca26"
             ],
             [
              1,
              "#f0f921"
             ]
            ],
            "type": "heatmap"
           }
          ],
          "heatmapgl": [
           {
            "colorbar": {
             "outlinewidth": 0,
             "ticks": ""
            },
            "colorscale": [
             [
              0,
              "#0d0887"
             ],
             [
              0.1111111111111111,
              "#46039f"
             ],
             [
              0.2222222222222222,
              "#7201a8"
             ],
             [
              0.3333333333333333,
              "#9c179e"
             ],
             [
              0.4444444444444444,
              "#bd3786"
             ],
             [
              0.5555555555555556,
              "#d8576b"
             ],
             [
              0.6666666666666666,
              "#ed7953"
             ],
             [
              0.7777777777777778,
              "#fb9f3a"
             ],
             [
              0.8888888888888888,
              "#fdca26"
             ],
             [
              1,
              "#f0f921"
             ]
            ],
            "type": "heatmapgl"
           }
          ],
          "histogram": [
           {
            "marker": {
             "pattern": {
              "fillmode": "overlay",
              "size": 10,
              "solidity": 0.2
             }
            },
            "type": "histogram"
           }
          ],
          "histogram2d": [
           {
            "colorbar": {
             "outlinewidth": 0,
             "ticks": ""
            },
            "colorscale": [
             [
              0,
              "#0d0887"
             ],
             [
              0.1111111111111111,
              "#46039f"
             ],
             [
              0.2222222222222222,
              "#7201a8"
             ],
             [
              0.3333333333333333,
              "#9c179e"
             ],
             [
              0.4444444444444444,
              "#bd3786"
             ],
             [
              0.5555555555555556,
              "#d8576b"
             ],
             [
              0.6666666666666666,
              "#ed7953"
             ],
             [
              0.7777777777777778,
              "#fb9f3a"
             ],
             [
              0.8888888888888888,
              "#fdca26"
             ],
             [
              1,
              "#f0f921"
             ]
            ],
            "type": "histogram2d"
           }
          ],
          "histogram2dcontour": [
           {
            "colorbar": {
             "outlinewidth": 0,
             "ticks": ""
            },
            "colorscale": [
             [
              0,
              "#0d0887"
             ],
             [
              0.1111111111111111,
              "#46039f"
             ],
             [
              0.2222222222222222,
              "#7201a8"
             ],
             [
              0.3333333333333333,
              "#9c179e"
             ],
             [
              0.4444444444444444,
              "#bd3786"
             ],
             [
              0.5555555555555556,
              "#d8576b"
             ],
             [
              0.6666666666666666,
              "#ed7953"
             ],
             [
              0.7777777777777778,
              "#fb9f3a"
             ],
             [
              0.8888888888888888,
              "#fdca26"
             ],
             [
              1,
              "#f0f921"
             ]
            ],
            "type": "histogram2dcontour"
           }
          ],
          "mesh3d": [
           {
            "colorbar": {
             "outlinewidth": 0,
             "ticks": ""
            },
            "type": "mesh3d"
           }
          ],
          "parcoords": [
           {
            "line": {
             "colorbar": {
              "outlinewidth": 0,
              "ticks": ""
             }
            },
            "type": "parcoords"
           }
          ],
          "pie": [
           {
            "automargin": true,
            "type": "pie"
           }
          ],
          "scatter": [
           {
            "marker": {
             "line": {
              "color": "#283442"
             }
            },
            "type": "scatter"
           }
          ],
          "scatter3d": [
           {
            "line": {
             "colorbar": {
              "outlinewidth": 0,
              "ticks": ""
             }
            },
            "marker": {
             "colorbar": {
              "outlinewidth": 0,
              "ticks": ""
             }
            },
            "type": "scatter3d"
           }
          ],
          "scattercarpet": [
           {
            "marker": {
             "colorbar": {
              "outlinewidth": 0,
              "ticks": ""
             }
            },
            "type": "scattercarpet"
           }
          ],
          "scattergeo": [
           {
            "marker": {
             "colorbar": {
              "outlinewidth": 0,
              "ticks": ""
             }
            },
            "type": "scattergeo"
           }
          ],
          "scattergl": [
           {
            "marker": {
             "line": {
              "color": "#283442"
             }
            },
            "type": "scattergl"
           }
          ],
          "scattermapbox": [
           {
            "marker": {
             "colorbar": {
              "outlinewidth": 0,
              "ticks": ""
             }
            },
            "type": "scattermapbox"
           }
          ],
          "scatterpolar": [
           {
            "marker": {
             "colorbar": {
              "outlinewidth": 0,
              "ticks": ""
             }
            },
            "type": "scatterpolar"
           }
          ],
          "scatterpolargl": [
           {
            "marker": {
             "colorbar": {
              "outlinewidth": 0,
              "ticks": ""
             }
            },
            "type": "scatterpolargl"
           }
          ],
          "scatterternary": [
           {
            "marker": {
             "colorbar": {
              "outlinewidth": 0,
              "ticks": ""
             }
            },
            "type": "scatterternary"
           }
          ],
          "surface": [
           {
            "colorbar": {
             "outlinewidth": 0,
             "ticks": ""
            },
            "colorscale": [
             [
              0,
              "#0d0887"
             ],
             [
              0.1111111111111111,
              "#46039f"
             ],
             [
              0.2222222222222222,
              "#7201a8"
             ],
             [
              0.3333333333333333,
              "#9c179e"
             ],
             [
              0.4444444444444444,
              "#bd3786"
             ],
             [
              0.5555555555555556,
              "#d8576b"
             ],
             [
              0.6666666666666666,
              "#ed7953"
             ],
             [
              0.7777777777777778,
              "#fb9f3a"
             ],
             [
              0.8888888888888888,
              "#fdca26"
             ],
             [
              1,
              "#f0f921"
             ]
            ],
            "type": "surface"
           }
          ],
          "table": [
           {
            "cells": {
             "fill": {
              "color": "#506784"
             },
             "line": {
              "color": "rgb(17,17,17)"
             }
            },
            "header": {
             "fill": {
              "color": "#2a3f5f"
             },
             "line": {
              "color": "rgb(17,17,17)"
             }
            },
            "type": "table"
           }
          ]
         },
         "layout": {
          "annotationdefaults": {
           "arrowcolor": "#f2f5fa",
           "arrowhead": 0,
           "arrowwidth": 1
          },
          "autotypenumbers": "strict",
          "coloraxis": {
           "colorbar": {
            "outlinewidth": 0,
            "ticks": ""
           }
          },
          "colorscale": {
           "diverging": [
            [
             0,
             "#8e0152"
            ],
            [
             0.1,
             "#c51b7d"
            ],
            [
             0.2,
             "#de77ae"
            ],
            [
             0.3,
             "#f1b6da"
            ],
            [
             0.4,
             "#fde0ef"
            ],
            [
             0.5,
             "#f7f7f7"
            ],
            [
             0.6,
             "#e6f5d0"
            ],
            [
             0.7,
             "#b8e186"
            ],
            [
             0.8,
             "#7fbc41"
            ],
            [
             0.9,
             "#4d9221"
            ],
            [
             1,
             "#276419"
            ]
           ],
           "sequential": [
            [
             0,
             "#0d0887"
            ],
            [
             0.1111111111111111,
             "#46039f"
            ],
            [
             0.2222222222222222,
             "#7201a8"
            ],
            [
             0.3333333333333333,
             "#9c179e"
            ],
            [
             0.4444444444444444,
             "#bd3786"
            ],
            [
             0.5555555555555556,
             "#d8576b"
            ],
            [
             0.6666666666666666,
             "#ed7953"
            ],
            [
             0.7777777777777778,
             "#fb9f3a"
            ],
            [
             0.8888888888888888,
             "#fdca26"
            ],
            [
             1,
             "#f0f921"
            ]
           ],
           "sequentialminus": [
            [
             0,
             "#0d0887"
            ],
            [
             0.1111111111111111,
             "#46039f"
            ],
            [
             0.2222222222222222,
             "#7201a8"
            ],
            [
             0.3333333333333333,
             "#9c179e"
            ],
            [
             0.4444444444444444,
             "#bd3786"
            ],
            [
             0.5555555555555556,
             "#d8576b"
            ],
            [
             0.6666666666666666,
             "#ed7953"
            ],
            [
             0.7777777777777778,
             "#fb9f3a"
            ],
            [
             0.8888888888888888,
             "#fdca26"
            ],
            [
             1,
             "#f0f921"
            ]
           ]
          },
          "colorway": [
           "#636efa",
           "#EF553B",
           "#00cc96",
           "#ab63fa",
           "#FFA15A",
           "#19d3f3",
           "#FF6692",
           "#B6E880",
           "#FF97FF",
           "#FECB52"
          ],
          "font": {
           "color": "#f2f5fa"
          },
          "geo": {
           "bgcolor": "rgb(17,17,17)",
           "lakecolor": "rgb(17,17,17)",
           "landcolor": "rgb(17,17,17)",
           "showlakes": true,
           "showland": true,
           "subunitcolor": "#506784"
          },
          "hoverlabel": {
           "align": "left"
          },
          "hovermode": "closest",
          "mapbox": {
           "style": "dark"
          },
          "paper_bgcolor": "rgb(17,17,17)",
          "plot_bgcolor": "rgb(17,17,17)",
          "polar": {
           "angularaxis": {
            "gridcolor": "#506784",
            "linecolor": "#506784",
            "ticks": ""
           },
           "bgcolor": "rgb(17,17,17)",
           "radialaxis": {
            "gridcolor": "#506784",
            "linecolor": "#506784",
            "ticks": ""
           }
          },
          "scene": {
           "xaxis": {
            "backgroundcolor": "rgb(17,17,17)",
            "gridcolor": "#506784",
            "gridwidth": 2,
            "linecolor": "#506784",
            "showbackground": true,
            "ticks": "",
            "zerolinecolor": "#C8D4E3"
           },
           "yaxis": {
            "backgroundcolor": "rgb(17,17,17)",
            "gridcolor": "#506784",
            "gridwidth": 2,
            "linecolor": "#506784",
            "showbackground": true,
            "ticks": "",
            "zerolinecolor": "#C8D4E3"
           },
           "zaxis": {
            "backgroundcolor": "rgb(17,17,17)",
            "gridcolor": "#506784",
            "gridwidth": 2,
            "linecolor": "#506784",
            "showbackground": true,
            "ticks": "",
            "zerolinecolor": "#C8D4E3"
           }
          },
          "shapedefaults": {
           "line": {
            "color": "#f2f5fa"
           }
          },
          "sliderdefaults": {
           "bgcolor": "#C8D4E3",
           "bordercolor": "rgb(17,17,17)",
           "borderwidth": 1,
           "tickwidth": 0
          },
          "ternary": {
           "aaxis": {
            "gridcolor": "#506784",
            "linecolor": "#506784",
            "ticks": ""
           },
           "baxis": {
            "gridcolor": "#506784",
            "linecolor": "#506784",
            "ticks": ""
           },
           "bgcolor": "rgb(17,17,17)",
           "caxis": {
            "gridcolor": "#506784",
            "linecolor": "#506784",
            "ticks": ""
           }
          },
          "title": {
           "x": 0.05
          },
          "updatemenudefaults": {
           "bgcolor": "#506784",
           "borderwidth": 0
          },
          "xaxis": {
           "automargin": true,
           "gridcolor": "#283442",
           "linecolor": "#506784",
           "ticks": "",
           "title": {
            "standoff": 15
           },
           "zerolinecolor": "#283442",
           "zerolinewidth": 2
          },
          "yaxis": {
           "automargin": true,
           "gridcolor": "#283442",
           "linecolor": "#506784",
           "ticks": "",
           "title": {
            "standoff": 15
           },
           "zerolinecolor": "#283442",
           "zerolinewidth": 2
          }
         }
        },
        "title": {
         "text": "Sentiment Analysis of users",
         "x": 0.5
        },
        "width": 600,
        "xaxis": {
         "anchor": "y",
         "categoryarray": [
          "Negetive",
          "Neutral",
          "Positive"
         ],
         "categoryorder": "array",
         "domain": [
          0,
          1
         ],
         "title": {
          "text": "Polarity Type"
         }
        },
        "yaxis": {
         "anchor": "x",
         "domain": [
          0,
          1
         ],
         "title": {
          "text": "Count of Users"
         }
        }
       }
      }
     },
     "metadata": {},
     "output_type": "display_data"
    }
   ],
   "source": [
    "fig = ex.bar(count_review, x= 'Polarity Type' , y ='Count of Users',color='Polarity Type',template='plotly_dark',color_discrete_sequence=['Red','Blue','Green'])\n",
    "\n",
    "fig.update_layout(width = 600,title=dict(text= 'Sentiment Analysis of users',x=0.5))\n",
    "fig.show()\n",
    "\n"
   ]
  },
  {
   "cell_type": "markdown",
   "metadata": {},
   "source": []
  },
  {
   "cell_type": "markdown",
   "metadata": {},
   "source": [
    "## Creating word cloud\n",
    "\n",
    "- #### Total Review\n",
    "- #### Positive Reviews Word cloud\n",
    "- #### Negetive Reviews word cloud"
   ]
  },
  {
   "cell_type": "markdown",
   "metadata": {},
   "source": []
  },
  {
   "cell_type": "code",
   "execution_count": 58,
   "metadata": {},
   "outputs": [
    {
     "data": {
      "text/html": [
       "<div>\n",
       "<style scoped>\n",
       "    .dataframe tbody tr th:only-of-type {\n",
       "        vertical-align: middle;\n",
       "    }\n",
       "\n",
       "    .dataframe tbody tr th {\n",
       "        vertical-align: top;\n",
       "    }\n",
       "\n",
       "    .dataframe thead th {\n",
       "        text-align: right;\n",
       "    }\n",
       "</style>\n",
       "<table border=\"1\" class=\"dataframe\">\n",
       "  <thead>\n",
       "    <tr style=\"text-align: right;\">\n",
       "      <th></th>\n",
       "      <th>Time of Review</th>\n",
       "      <th>User ID</th>\n",
       "      <th>Brief Review</th>\n",
       "      <th>Polarity</th>\n",
       "      <th>Polarity Type</th>\n",
       "    </tr>\n",
       "  </thead>\n",
       "  <tbody>\n",
       "    <tr>\n",
       "      <th>0</th>\n",
       "      <td>8/22/2022 14:16</td>\n",
       "      <td>User1</td>\n",
       "      <td>extremely satisfied with my new mobile phone</td>\n",
       "      <td>0.318182</td>\n",
       "      <td>Positive</td>\n",
       "    </tr>\n",
       "    <tr>\n",
       "      <th>1</th>\n",
       "      <td>7/7/2023 14:16</td>\n",
       "      <td>User2</td>\n",
       "      <td>Nice design and sleek look.</td>\n",
       "      <td>0.600000</td>\n",
       "      <td>Positive</td>\n",
       "    </tr>\n",
       "    <tr>\n",
       "      <th>2</th>\n",
       "      <td>2/26/2023 14:16</td>\n",
       "      <td>User3</td>\n",
       "      <td>Nice design and sleek look.</td>\n",
       "      <td>0.600000</td>\n",
       "      <td>Positive</td>\n",
       "    </tr>\n",
       "    <tr>\n",
       "      <th>3</th>\n",
       "      <td>4/13/2023 14:16</td>\n",
       "      <td>User4</td>\n",
       "      <td>Good value for money.</td>\n",
       "      <td>0.700000</td>\n",
       "      <td>Positive</td>\n",
       "    </tr>\n",
       "    <tr>\n",
       "      <th>5</th>\n",
       "      <td>2/12/2023 14:16</td>\n",
       "      <td>User6</td>\n",
       "      <td>The Best Mobile</td>\n",
       "      <td>1.000000</td>\n",
       "      <td>Positive</td>\n",
       "    </tr>\n",
       "    <tr>\n",
       "      <th>...</th>\n",
       "      <td>...</td>\n",
       "      <td>...</td>\n",
       "      <td>...</td>\n",
       "      <td>...</td>\n",
       "      <td>...</td>\n",
       "    </tr>\n",
       "    <tr>\n",
       "      <th>99992</th>\n",
       "      <td>12/12/2022 14:16</td>\n",
       "      <td>User99993</td>\n",
       "      <td>Nice design and sleek look.</td>\n",
       "      <td>0.600000</td>\n",
       "      <td>Positive</td>\n",
       "    </tr>\n",
       "    <tr>\n",
       "      <th>99995</th>\n",
       "      <td>9/13/2022 14:16</td>\n",
       "      <td>User99996</td>\n",
       "      <td>Awesome</td>\n",
       "      <td>1.000000</td>\n",
       "      <td>Positive</td>\n",
       "    </tr>\n",
       "    <tr>\n",
       "      <th>99996</th>\n",
       "      <td>6/23/2023 14:16</td>\n",
       "      <td>User99997</td>\n",
       "      <td>Awesome</td>\n",
       "      <td>1.000000</td>\n",
       "      <td>Positive</td>\n",
       "    </tr>\n",
       "    <tr>\n",
       "      <th>99997</th>\n",
       "      <td>12/4/2022 14:16</td>\n",
       "      <td>User99998</td>\n",
       "      <td>Awesome</td>\n",
       "      <td>1.000000</td>\n",
       "      <td>Positive</td>\n",
       "    </tr>\n",
       "    <tr>\n",
       "      <th>99998</th>\n",
       "      <td>5/6/2023 14:16</td>\n",
       "      <td>User99999</td>\n",
       "      <td>Easy to use and user-friendly interface.</td>\n",
       "      <td>0.433333</td>\n",
       "      <td>Positive</td>\n",
       "    </tr>\n",
       "  </tbody>\n",
       "</table>\n",
       "<p>73559 rows × 5 columns</p>\n",
       "</div>"
      ],
      "text/plain": [
       "         Time of Review    User ID  \\\n",
       "0       8/22/2022 14:16      User1   \n",
       "1        7/7/2023 14:16      User2   \n",
       "2       2/26/2023 14:16      User3   \n",
       "3       4/13/2023 14:16      User4   \n",
       "5       2/12/2023 14:16      User6   \n",
       "...                 ...        ...   \n",
       "99992  12/12/2022 14:16  User99993   \n",
       "99995   9/13/2022 14:16  User99996   \n",
       "99996   6/23/2023 14:16  User99997   \n",
       "99997   12/4/2022 14:16  User99998   \n",
       "99998    5/6/2023 14:16  User99999   \n",
       "\n",
       "                                       Brief Review  Polarity Polarity Type  \n",
       "0      extremely satisfied with my new mobile phone  0.318182      Positive  \n",
       "1                       Nice design and sleek look.  0.600000      Positive  \n",
       "2                       Nice design and sleek look.  0.600000      Positive  \n",
       "3                             Good value for money.  0.700000      Positive  \n",
       "5                                   The Best Mobile  1.000000      Positive  \n",
       "...                                             ...       ...           ...  \n",
       "99992                   Nice design and sleek look.  0.600000      Positive  \n",
       "99995                                       Awesome  1.000000      Positive  \n",
       "99996                                       Awesome  1.000000      Positive  \n",
       "99997                                       Awesome  1.000000      Positive  \n",
       "99998      Easy to use and user-friendly interface.  0.433333      Positive  \n",
       "\n",
       "[73559 rows x 5 columns]"
      ]
     },
     "execution_count": 58,
     "metadata": {},
     "output_type": "execute_result"
    }
   ],
   "source": [
    "negetive_review_df = df[df['Polarity Type'] == 'Negetive']\n",
    "positive_review_df = df[df['Polarity Type'] == 'Positive']\n",
    "neutral_review_df = df[df['Polarity Type'] == 'Neutral']\n",
    "\n",
    "positive_review_df"
   ]
  },
  {
   "cell_type": "markdown",
   "metadata": {},
   "source": []
  },
  {
   "cell_type": "code",
   "execution_count": null,
   "metadata": {},
   "outputs": [
    {
     "data": {
      "text/plain": [
       "73559"
      ]
     },
     "execution_count": 61,
     "metadata": {},
     "output_type": "execute_result"
    }
   ],
   "source": [
    "### concatinating the elements \n",
    "neg_review_text = ' '.join(negetive_review_df['Brief Review'])\n",
    "\n",
    "positive_review_text = ' '.join(positive_review_df['Brief Review'])\n",
    "\n",
    "neutral_review_text = ' '.join(neutral_review_df['Brief Review'])\n",
    "\n",
    "len(positive_review_df)\n",
    "\n",
    " \n"
   ]
  },
  {
   "cell_type": "markdown",
   "metadata": {},
   "source": [
    "## Plotting WordCloud"
   ]
  },
  {
   "cell_type": "code",
   "execution_count": 70,
   "metadata": {},
   "outputs": [
    {
     "data": {
      "application/vnd.plotly.v1+json": {
       "config": {
        "plotlyServerURL": "https://plot.ly"
       },
       "data": [
        {
         "hovertemplate": "x: %{x}<br>y: %{y}<br>color: [%{z[0]}, %{z[1]}, %{z[2]}]<extra></extra>",
         "name": "0",
         "source": "data:image/png;base64,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",
         "type": "image",
         "xaxis": "x",
         "yaxis": "y"
        }
       ],
       "layout": {
        "margin": {
         "t": 60
        },
        "template": {
         "data": {
          "bar": [
           {
            "error_x": {
             "color": "#f2f5fa"
            },
            "error_y": {
             "color": "#f2f5fa"
            },
            "marker": {
             "line": {
              "color": "rgb(17,17,17)",
              "width": 0.5
             },
             "pattern": {
              "fillmode": "overlay",
              "size": 10,
              "solidity": 0.2
             }
            },
            "type": "bar"
           }
          ],
          "barpolar": [
           {
            "marker": {
             "line": {
              "color": "rgb(17,17,17)",
              "width": 0.5
             },
             "pattern": {
              "fillmode": "overlay",
              "size": 10,
              "solidity": 0.2
             }
            },
            "type": "barpolar"
           }
          ],
          "carpet": [
           {
            "aaxis": {
             "endlinecolor": "#A2B1C6",
             "gridcolor": "#506784",
             "linecolor": "#506784",
             "minorgridcolor": "#506784",
             "startlinecolor": "#A2B1C6"
            },
            "baxis": {
             "endlinecolor": "#A2B1C6",
             "gridcolor": "#506784",
             "linecolor": "#506784",
             "minorgridcolor": "#506784",
             "startlinecolor": "#A2B1C6"
            },
            "type": "carpet"
           }
          ],
          "choropleth": [
           {
            "colorbar": {
             "outlinewidth": 0,
             "ticks": ""
            },
            "type": "choropleth"
           }
          ],
          "contour": [
           {
            "colorbar": {
             "outlinewidth": 0,
             "ticks": ""
            },
            "colorscale": [
             [
              0,
              "#0d0887"
             ],
             [
              0.1111111111111111,
              "#46039f"
             ],
             [
              0.2222222222222222,
              "#7201a8"
             ],
             [
              0.3333333333333333,
              "#9c179e"
             ],
             [
              0.4444444444444444,
              "#bd3786"
             ],
             [
              0.5555555555555556,
              "#d8576b"
             ],
             [
              0.6666666666666666,
              "#ed7953"
             ],
             [
              0.7777777777777778,
              "#fb9f3a"
             ],
             [
              0.8888888888888888,
              "#fdca26"
             ],
             [
              1,
              "#f0f921"
             ]
            ],
            "type": "contour"
           }
          ],
          "contourcarpet": [
           {
            "colorbar": {
             "outlinewidth": 0,
             "ticks": ""
            },
            "type": "contourcarpet"
           }
          ],
          "heatmap": [
           {
            "colorbar": {
             "outlinewidth": 0,
             "ticks": ""
            },
            "colorscale": [
             [
              0,
              "#0d0887"
             ],
             [
              0.1111111111111111,
              "#46039f"
             ],
             [
              0.2222222222222222,
              "#7201a8"
             ],
             [
              0.3333333333333333,
              "#9c179e"
             ],
             [
              0.4444444444444444,
              "#bd3786"
             ],
             [
              0.5555555555555556,
              "#d8576b"
             ],
             [
              0.6666666666666666,
              "#ed7953"
             ],
             [
              0.7777777777777778,
              "#fb9f3a"
             ],
             [
              0.8888888888888888,
              "#fdca26"
             ],
             [
              1,
              "#f0f921"
             ]
            ],
            "type": "heatmap"
           }
          ],
          "heatmapgl": [
           {
            "colorbar": {
             "outlinewidth": 0,
             "ticks": ""
            },
            "colorscale": [
             [
              0,
              "#0d0887"
             ],
             [
              0.1111111111111111,
              "#46039f"
             ],
             [
              0.2222222222222222,
              "#7201a8"
             ],
             [
              0.3333333333333333,
              "#9c179e"
             ],
             [
              0.4444444444444444,
              "#bd3786"
             ],
             [
              0.5555555555555556,
              "#d8576b"
             ],
             [
              0.6666666666666666,
              "#ed7953"
             ],
             [
              0.7777777777777778,
              "#fb9f3a"
             ],
             [
              0.8888888888888888,
              "#fdca26"
             ],
             [
              1,
              "#f0f921"
             ]
            ],
            "type": "heatmapgl"
           }
          ],
          "histogram": [
           {
            "marker": {
             "pattern": {
              "fillmode": "overlay",
              "size": 10,
              "solidity": 0.2
             }
            },
            "type": "histogram"
           }
          ],
          "histogram2d": [
           {
            "colorbar": {
             "outlinewidth": 0,
             "ticks": ""
            },
            "colorscale": [
             [
              0,
              "#0d0887"
             ],
             [
              0.1111111111111111,
              "#46039f"
             ],
             [
              0.2222222222222222,
              "#7201a8"
             ],
             [
              0.3333333333333333,
              "#9c179e"
             ],
             [
              0.4444444444444444,
              "#bd3786"
             ],
             [
              0.5555555555555556,
              "#d8576b"
             ],
             [
              0.6666666666666666,
              "#ed7953"
             ],
             [
              0.7777777777777778,
              "#fb9f3a"
             ],
             [
              0.8888888888888888,
              "#fdca26"
             ],
             [
              1,
              "#f0f921"
             ]
            ],
            "type": "histogram2d"
           }
          ],
          "histogram2dcontour": [
           {
            "colorbar": {
             "outlinewidth": 0,
             "ticks": ""
            },
            "colorscale": [
             [
              0,
              "#0d0887"
             ],
             [
              0.1111111111111111,
              "#46039f"
             ],
             [
              0.2222222222222222,
              "#7201a8"
             ],
             [
              0.3333333333333333,
              "#9c179e"
             ],
             [
              0.4444444444444444,
              "#bd3786"
             ],
             [
              0.5555555555555556,
              "#d8576b"
             ],
             [
              0.6666666666666666,
              "#ed7953"
             ],
             [
              0.7777777777777778,
              "#fb9f3a"
             ],
             [
              0.8888888888888888,
              "#fdca26"
             ],
             [
              1,
              "#f0f921"
             ]
            ],
            "type": "histogram2dcontour"
           }
          ],
          "mesh3d": [
           {
            "colorbar": {
             "outlinewidth": 0,
             "ticks": ""
            },
            "type": "mesh3d"
           }
          ],
          "parcoords": [
           {
            "line": {
             "colorbar": {
              "outlinewidth": 0,
              "ticks": ""
             }
            },
            "type": "parcoords"
           }
          ],
          "pie": [
           {
            "automargin": true,
            "type": "pie"
           }
          ],
          "scatter": [
           {
            "marker": {
             "line": {
              "color": "#283442"
             }
            },
            "type": "scatter"
           }
          ],
          "scatter3d": [
           {
            "line": {
             "colorbar": {
              "outlinewidth": 0,
              "ticks": ""
             }
            },
            "marker": {
             "colorbar": {
              "outlinewidth": 0,
              "ticks": ""
             }
            },
            "type": "scatter3d"
           }
          ],
          "scattercarpet": [
           {
            "marker": {
             "colorbar": {
              "outlinewidth": 0,
              "ticks": ""
             }
            },
            "type": "scattercarpet"
           }
          ],
          "scattergeo": [
           {
            "marker": {
             "colorbar": {
              "outlinewidth": 0,
              "ticks": ""
             }
            },
            "type": "scattergeo"
           }
          ],
          "scattergl": [
           {
            "marker": {
             "line": {
              "color": "#283442"
             }
            },
            "type": "scattergl"
           }
          ],
          "scattermapbox": [
           {
            "marker": {
             "colorbar": {
              "outlinewidth": 0,
              "ticks": ""
             }
            },
            "type": "scattermapbox"
           }
          ],
          "scatterpolar": [
           {
            "marker": {
             "colorbar": {
              "outlinewidth": 0,
              "ticks": ""
             }
            },
            "type": "scatterpolar"
           }
          ],
          "scatterpolargl": [
           {
            "marker": {
             "colorbar": {
              "outlinewidth": 0,
              "ticks": ""
             }
            },
            "type": "scatterpolargl"
           }
          ],
          "scatterternary": [
           {
            "marker": {
             "colorbar": {
              "outlinewidth": 0,
              "ticks": ""
             }
            },
            "type": "scatterternary"
           }
          ],
          "surface": [
           {
            "colorbar": {
             "outlinewidth": 0,
             "ticks": ""
            },
            "colorscale": [
             [
              0,
              "#0d0887"
             ],
             [
              0.1111111111111111,
              "#46039f"
             ],
             [
              0.2222222222222222,
              "#7201a8"
             ],
             [
              0.3333333333333333,
              "#9c179e"
             ],
             [
              0.4444444444444444,
              "#bd3786"
             ],
             [
              0.5555555555555556,
              "#d8576b"
             ],
             [
              0.6666666666666666,
              "#ed7953"
             ],
             [
              0.7777777777777778,
              "#fb9f3a"
             ],
             [
              0.8888888888888888,
              "#fdca26"
             ],
             [
              1,
              "#f0f921"
             ]
            ],
            "type": "surface"
           }
          ],
          "table": [
           {
            "cells": {
             "fill": {
              "color": "#506784"
             },
             "line": {
              "color": "rgb(17,17,17)"
             }
            },
            "header": {
             "fill": {
              "color": "#2a3f5f"
             },
             "line": {
              "color": "rgb(17,17,17)"
             }
            },
            "type": "table"
           }
          ]
         },
         "layout": {
          "annotationdefaults": {
           "arrowcolor": "#f2f5fa",
           "arrowhead": 0,
           "arrowwidth": 1
          },
          "autotypenumbers": "strict",
          "coloraxis": {
           "colorbar": {
            "outlinewidth": 0,
            "ticks": ""
           }
          },
          "colorscale": {
           "diverging": [
            [
             0,
             "#8e0152"
            ],
            [
             0.1,
             "#c51b7d"
            ],
            [
             0.2,
             "#de77ae"
            ],
            [
             0.3,
             "#f1b6da"
            ],
            [
             0.4,
             "#fde0ef"
            ],
            [
             0.5,
             "#f7f7f7"
            ],
            [
             0.6,
             "#e6f5d0"
            ],
            [
             0.7,
             "#b8e186"
            ],
            [
             0.8,
             "#7fbc41"
            ],
            [
             0.9,
             "#4d9221"
            ],
            [
             1,
             "#276419"
            ]
           ],
           "sequential": [
            [
             0,
             "#0d0887"
            ],
            [
             0.1111111111111111,
             "#46039f"
            ],
            [
             0.2222222222222222,
             "#7201a8"
            ],
            [
             0.3333333333333333,
             "#9c179e"
            ],
            [
             0.4444444444444444,
             "#bd3786"
            ],
            [
             0.5555555555555556,
             "#d8576b"
            ],
            [
             0.6666666666666666,
             "#ed7953"
            ],
            [
             0.7777777777777778,
             "#fb9f3a"
            ],
            [
             0.8888888888888888,
             "#fdca26"
            ],
            [
             1,
             "#f0f921"
            ]
           ],
           "sequentialminus": [
            [
             0,
             "#0d0887"
            ],
            [
             0.1111111111111111,
             "#46039f"
            ],
            [
             0.2222222222222222,
             "#7201a8"
            ],
            [
             0.3333333333333333,
             "#9c179e"
            ],
            [
             0.4444444444444444,
             "#bd3786"
            ],
            [
             0.5555555555555556,
             "#d8576b"
            ],
            [
             0.6666666666666666,
             "#ed7953"
            ],
            [
             0.7777777777777778,
             "#fb9f3a"
            ],
            [
             0.8888888888888888,
             "#fdca26"
            ],
            [
             1,
             "#f0f921"
            ]
           ]
          },
          "colorway": [
           "#636efa",
           "#EF553B",
           "#00cc96",
           "#ab63fa",
           "#FFA15A",
           "#19d3f3",
           "#FF6692",
           "#B6E880",
           "#FF97FF",
           "#FECB52"
          ],
          "font": {
           "color": "#f2f5fa"
          },
          "geo": {
           "bgcolor": "rgb(17,17,17)",
           "lakecolor": "rgb(17,17,17)",
           "landcolor": "rgb(17,17,17)",
           "showlakes": true,
           "showland": true,
           "subunitcolor": "#506784"
          },
          "hoverlabel": {
           "align": "left"
          },
          "hovermode": "closest",
          "mapbox": {
           "style": "dark"
          },
          "paper_bgcolor": "rgb(17,17,17)",
          "plot_bgcolor": "rgb(17,17,17)",
          "polar": {
           "angularaxis": {
            "gridcolor": "#506784",
            "linecolor": "#506784",
            "ticks": ""
           },
           "bgcolor": "rgb(17,17,17)",
           "radialaxis": {
            "gridcolor": "#506784",
            "linecolor": "#506784",
            "ticks": ""
           }
          },
          "scene": {
           "xaxis": {
            "backgroundcolor": "rgb(17,17,17)",
            "gridcolor": "#506784",
            "gridwidth": 2,
            "linecolor": "#506784",
            "showbackground": true,
            "ticks": "",
            "zerolinecolor": "#C8D4E3"
           },
           "yaxis": {
            "backgroundcolor": "rgb(17,17,17)",
            "gridcolor": "#506784",
            "gridwidth": 2,
            "linecolor": "#506784",
            "showbackground": true,
            "ticks": "",
            "zerolinecolor": "#C8D4E3"
           },
           "zaxis": {
            "backgroundcolor": "rgb(17,17,17)",
            "gridcolor": "#506784",
            "gridwidth": 2,
            "linecolor": "#506784",
            "showbackground": true,
            "ticks": "",
            "zerolinecolor": "#C8D4E3"
           }
          },
          "shapedefaults": {
           "line": {
            "color": "#f2f5fa"
           }
          },
          "sliderdefaults": {
           "bgcolor": "#C8D4E3",
           "bordercolor": "rgb(17,17,17)",
           "borderwidth": 1,
           "tickwidth": 0
          },
          "ternary": {
           "aaxis": {
            "gridcolor": "#506784",
            "linecolor": "#506784",
            "ticks": ""
           },
           "baxis": {
            "gridcolor": "#506784",
            "linecolor": "#506784",
            "ticks": ""
           },
           "bgcolor": "rgb(17,17,17)",
           "caxis": {
            "gridcolor": "#506784",
            "linecolor": "#506784",
            "ticks": ""
           }
          },
          "title": {
           "x": 0.05
          },
          "updatemenudefaults": {
           "bgcolor": "#506784",
           "borderwidth": 0
          },
          "xaxis": {
           "automargin": true,
           "gridcolor": "#283442",
           "linecolor": "#506784",
           "ticks": "",
           "title": {
            "standoff": 15
           },
           "zerolinecolor": "#283442",
           "zerolinewidth": 2
          },
          "yaxis": {
           "automargin": true,
           "gridcolor": "#283442",
           "linecolor": "#506784",
           "ticks": "",
           "title": {
            "standoff": 15
           },
           "zerolinecolor": "#283442",
           "zerolinewidth": 2
          }
         }
        },
        "xaxis": {
         "anchor": "y",
         "domain": [
          0,
          1
         ]
        },
        "yaxis": {
         "anchor": "x",
         "domain": [
          0,
          1
         ]
        }
       }
      }
     },
     "metadata": {},
     "output_type": "display_data"
    }
   ],
   "source": [
    "positive_word_cloud = WordCloud(stopwords=STOPWORDS).generate(positive_review_text)\n",
    "fig = ex.imshow(positive_word_cloud, template='plotly_dark')\n",
    "fig.show()"
   ]
  },
  {
   "cell_type": "code",
   "execution_count": 79,
   "metadata": {},
   "outputs": [
    {
     "data": {
      "application/vnd.plotly.v1+json": {
       "config": {
        "plotlyServerURL": "https://plot.ly"
       },
       "data": [
        {
         "hovertemplate": "x: %{x}<br>y: %{y}<br>color: [%{z[0]}, %{z[1]}, %{z[2]}]<extra></extra>",
         "name": "0",
         "source": "data:image/png;base64,iVBORw0KGgoAAAANSUhEUgAAAZAAAADICAIAAABJdyC1AADlyUlEQVR4Xuy9dZgc15XwfYqrupphmEmjGTEzWma2Ywcdpk0Wsvvu7rtMybebhWQ38G5gw+DEcZzEbBkkWxYzjTTM0D3NVFz1/VE9NdU13TMjzUh2sv49evTcPhen6tape8899xbAO7zDO7zDO/xu4HTXECQLAA5XFU4w1uhrp1g5CIoZ4WJpCmJjAwBAUg4Mp61xRTDK9wWWGkKCZGsadmE4NZ3udxEEx3GfGwDwUh9Ck4bQtrYNL/GZUy6cm1mXAVVXVvvl32/6yd9U/vVjKJWr9HcG1Cr4LQRBUADEKl0MnO4ap7sGx2kMIzGMVBVJl7OOcob1AwCCYi5PHUW7AYCkHAzrnxkGAIeriqQcAGAuh6QcjM2nqxuCtDe03OF018ySBgCc7lqnu8aiy8qrNwCA29tgY/2QXxdJ2p3uWgRBLWGjfKen1minJGZUVcawXBe3Oyso2jVVCbSvZVZvYe941I285V0GRQHJ3W7PI7djLgcA+D/1aF6a4iAUoWexrW3DPbk/UFMUTVFtq1vzkuZzM+taCJ57t5FVAYQkbCub2I3TL6QFYt+6wiq6RuimKj2AB9x5EdcCbhXcLLylrdFgp7e0NR0fliWeoBwYTuIEk46P4CQr8gkA8JcvC49fwgmGpByylAUAVVVIygEIYqSUpayvrC0R7hOFlLWOhVFetUGSMnZnVSR0RdNUj7+F52I8F/P4W2xsSSY1zmXCJGlHEKy+5farF35WWbsllRjx+Jr7ul40h0vKV4p8oqR85VDvAUURjXIqa7ekk+Nef0vv1WdRFMMJRlVlADDXZU7jLVmqKqK/pL2r41fmdiIoXtu4l3WUDfe/Xl690aiLYf2lFWsngxc0TWMdZUbYXD4AsPZSvZ2KzBtlllas1jTNVV0/0L1fEjMAkE6qvlL0/LGspgIAIASOu+1yPI05bKiNwuyMkuYwOyMMh3C3XY6mUIZUklmixC3H0pidkSbjAOC+c6MmyekTVzE7I4XiuNsuJzMoQ2mChDKUygkoQylpDmNpVZSMclAbjdkZvncMc9iUDGdft4S7PCDH00ZrdVAH67prJyCQPnhSSWYct2xCbbTQM8R39Blh7uwV561bpYmw0DcMAPYd6xCSSB08IQ1PKNEEUeoDAJShnHfvQnAsc/isODRuqUXnZtZ1zWjadFhWpsPXhX3LctRGiUMhotznvGWdOBwCVSOrS4SBCaLchzKkOBzSBIleUiMMjPOdQ3ouuqWGrClVs7wmSJnTV9m1rUL/GNVQwfeMUA0Vrts2xZ89jGCoJdd8uNkKy/vADqatLvn6WXrUWdW0U+STNUv2JSL9qiKpiqhpWlXTTsrm6bv0rCLz+hxH01S7uxLDaZr1RcYv0javJKSNlJnEODL1vl1cGNY/3nlCH62oqizySV2eiPax9hKnuyYe7XU4KynGixM0ACCARkJXccJG0y5zmLH5xoePoyjBsIFkfNAoBwF0cuIiQdhwguG5mCSk08kxS13mNNl0sLRiTTo1Zgz0dDRVHux9taR8JQCY6wLQYpHueKRXT2aE88tHjHZm0tMKy+6sFPg4n42iKA4AGIY0LqVUDVZssH3/S5MAYN+4VBMlR00pUeLOnOpUORH3OUHVQNWohgr7JreS5kDTUIpQEhmVF3WFpaZ5YXCCrPDhfjdVX66JEjoZd92yVp5MKFkec7JKMoNSpJLmuMsDRjlKNKnykue+rUSJWxiYsNxu90P7NEFEacq5b3PqtWNyJO770APxJ/cT5YHwN34OAJjLYYQBIHPsvG1tux7mzl0V+oa9j90X+c4vjQLZHeuUWFIORVz37Jr8+uOGHG5uXddN7JnDVEMFEXCnT3emj1+xRs8P4znFvO7404fc920HVUu+csp15xYEReLPHnbfux3BsdhTB113bsHddnE4SDVWTiuspbXx3xxy37ddkxQAIMq8mdNXAccBQBycEAYnxOGg7723WnLNh5s9vnfdtsG2qoko9RIkqyoiZfMoiphNh1hXOZeJ0KxX4OLRiSuKIgAARtD+iuUU42bsJZKQ5jNhinYz9hI+GzOlFLF5m3uuiXikt775Nre3EQBsbMDpqSspX4nhNOso0zSgGS8A0DYfMjVH0kCrqtvqctdms2FzOB7pqWnY4/LWp1Nj5nJymaZAUKy8eqOlLnMaBMEIwqaqiq5ECmKuCwDM5Rthc/mKKhntZO2lTndtSflqDCPDocs4YQMAfdyKIHDpFHfhWPbUG7lxjTg6SdWWyeFE5lSnMBQiSj3SeJQo9eAeB1XllyNJaTyCoKgmK8LwJFVbpufCAy6mvU7lRarKL41HqNoyZmmtJkiAYxjLICiCsYwmy5idwRyMUY4cTxOlHr0ujZdQNs9UF//ly9GfPKvyAkKRGieAoiI4BgBKNGGkMYfNqIKgyYqe3gClKZUXNElOPHPQLIebW9d1IwxMDH7uqz3v/6eJLz+hKdc5wjKeU5ShHLvW6G8dPUqOpRw7VsnRpCERBicQhjLrHSWRcexcjdKkms46dq5GbTRRGaDqyqj6Ck1RcbedqAzMzDUfbsjYpBhkpb/2P/8AACI/ezX6y9cBAADJPUgIApqW9//sXGv66wJBUE2fAuWDYoQxzDHS1LfcMdD9kqZpAJo5bE4zOwiKaWrRHtaw5M6B7v2lFWtSydF0ctQaPcU86zJAENRop1UOmnFhKRppX2tbsdH2g/+czBU/8xbk3wjnrlUoTaYOX9JHW4Z8Gn2spGmObctThy85ti5LHb40s5xcykK1eB65PfnSYSWR8n/q0cTTB5y3bVUFkb/SJ/aNOG/bGnviRQDAXA4jjJf6HLs3ElWlqVeOEhUBzO1ECJy/1C2NTdr3bCRKfamXj0rjIdf9t8iTUbF/hLvQZTThZtb11mJ+ThVOTLxwrPDtMIOioOb3OgRx3bEp8fzRAokNycxcc3FTFZb7jk2Bj9wJeQrrdweXpy4RG5gZXixoxuPxtwhcLBp+C3o2w6Jb9tlxHHnpycIjiLcFCAIIcm3PAIaCUiA9gmFzDE9uZl03F/NzmnjllJLIWFPMD8zFXnfeYhSdXNwIbCsarKLfIcwaatG1FQDwXGx8+LhVerPw+LCBLrGsmkAxKD4KfKvRpoeE86WQBgGAuTXIzazr5mJ+TheicRaStxg3z4aF0iTTXm+VvsNvCROjUstymnWgb19t9Q6Lwdv8OZ17SogH3I4ty5j2eqoqgDpsKImrgqRmeHEiIg4Gs5f6shf7NCFv3UoHZSimrY6qLaVqy8i6MrLcl7NZzErvBz5vGPMKgjlZx7bltpVNZHUJ5rQhgMiJtDgUzJzuSr15Yfa8OrX/9QdkhR8A+j7+r4q+Oo6i7Kom567VZE0J7nUCgijxtBSMZi/0pk9elcYjlhIMMJfdvm4J01ZH1pXhXifKUJosq1lBGo8IfWOpo5f5rmFrniJQdWXO3avpJTVEiQe10Qg227uk+11/axUZIIh9fSu7dgm9pBpz2VGaVDOcFIpzl/uTh86LQyFr+vlR3Ug2t9M1TZS+SnitMMvq2ZVNdGst4XehDgbBcU0Q5VhaCkb57hHuUh/XOTzLgGWB17nhf/4Mc9nB1LuYpbXOXavp1hrc6wRNk2MprmMwdeg81zFgyVuQBbZnJgu5PhV/9l52fWGvroHf+5K+PjsLi/KcUrWlNf/+GT08T4OP7z23eB/coYcHP/dVcWRe/Wq2KSGCYf7373PdsRHB8pc2GAplKNzvsi1rcN+1WeWE8I/2J14+aU4DAPSSmor/+z6LcEEgiPfBHZ77tqFMnjc2UeIhSjzsulbfu/eGf/py8rUz5thZwL1OJZ4mSj3lf/xuqqHcHIWWeYkyr21lE0qTkScOmKN0mGX1nnu2squbLXcXwUiUInGPg2mrc9+9JXOmK/j1XynJ2cbGKE2WfPwex46V1ohrh1laG/jY3VRNqVmIueyYy043V3nu25Y6fCn07WfU7LQHwzzJptVjr6W7Ll1zRtuqJv/7bqXqcguFBoiNJm00Weln17TAo3tiT78Z/tF+SxpY1OsMAGRlQByZDHzkTueeNXlyhiIr/K5b1qaPXAr+969nee0tbntgwddn4SzKcyoMBrmOAaatDgBc+9ZFf3VoDusegjh35jo83z0yT20FsyksBCn/P4+y6/I0t6aooKoIkZcLZShposAYRM3yQp++uA4AAChq3BU5llJihf08NbXwawQhifLPPcKuW5InVdWc7RMAADAXW/rp+6nassnvv1DsdWQG9zrVDF/9hY/pr9+CZM4UtnDb17Wya1osQk1WEGzaDxsA2DUtlX/1geG//HYxOwWCYRV//j5mWW4QriQyXMeAksygLM0sqTH7BHMdA3zfmDQRlSaihtCMY/uK0t97IG/hXNO0qaV3AAAEcWxbTjVWjPztd3JDy/mB48hDH/X2dwrxsDzSV/Rhnonv0T3eh3bO542devOiVQQAi3eddciqgPfhXdO9SNM0VTW/j+1blmFe59jnf6gKhf/MxW3Pwq8PACRePsn3jmJOG+ZgMQdDVAaIa3ElX6znNP7CcV1h4T4Xu7Ylc/KqJYEZ24pG3OfSw/MfYcAsCsu+vtXQVtlLffGnD/M9o0oqCwAISZAVPrqp0rayyba6WYmls5f68zIDAADfNTz0598wfqIs3fj9v9TDiZdOzGfQaKbkE/cY/UwKRqNPvZE91yPHUgCA+13s6hbvg9v1S+C+c5OSykafPGjKXRiywud//z7MZdcEKfn62cy5HikY1TgRc7FUbZltdTPdWMn3mu6lidizR1y3b0RQhLs8kD51le8aFodDKi8CghABN7thqfehnZidAQCqocK5Z83MEaiO+46NhraKPXsk8tNXNEnOxSGI+85NgQ/dof8SxyLhH7yYi5oB01ZX9tkHAUUBQA4nYr95M3O2SwrFQdNQhqJbqt13btKfNLLcV/Gn7xn52+/O/iyZkWXt+cfjCArJ6HyzAIDn3m3eh3cZP6XxSPL1c3zXsBxLaaKM2hmy0s+01bFrWpRERugv7Oe9WNdZx//YbZiTVbN87DeH08cvSxNRTVExl92+Yanv0d36e4tprfG9d+/k916wZgaARW3PolwfAMic7c6c7TZ+uu/abPSZ+bBYz2nm5BU5ksR9TgBw37ZhdoXl3L1aD2iClDpcVBfPpKjCMrSVOBYe+/wPNdMChyZKwsCEMDCReOU0SpF4wDWf4cxCsG9qc+5cpYezl/rG/uUnZquZPBlP7D+ROnS+8q8fo1uqAcD3yO7s+R6+e8RIUxDfu/ciBM73jIz/28/kaM75GwCkyTjfM5p49TSCYcX+NDmcCH7lSa57RLbYCDRNCsXizx7JXuip+ZdP6aNR+5b2Yh3XfddmPcB1DFj1kabFnztK1ZU7d60CAOfOleEfvqhyQl4aAABASKLsDx7WtRXfPTL6Tz8wJ1M5IXu+J3u+x/+B2zz3bgUAuqXauXtV4pXTRprZwXHkzve49RHWydfnnuYAAFVX5n//vtwPVQ3/5OXYM0fyLmYoJvSNpQ5dAATBXOy0PJ/Fus46mJNVOWH4r/9HHJ625SmJdOLlk5kzXdVf+HjuebtjU+Klk+JYeDrnFIvVnsW6Pm8fNEVN7D/pe89eALCtaCTKvMWmAihL2zcs1cPp4x0Fu3TDGlftMkff2cTgxbwhXlHLLuaw6QElmjJrKwuqIM5//nndeB/YqQfUDDfx5V8UtPGrnDD+pZ/nrA8IYn53FQMhcGkyPvr5H5m1lZnZxyCpI5esvdaEOBRKH+vQw3RDRX5kDqLch/unBsYHzuZH5kgeyA2YEQKnm3PbRy04d63SnzRNVib+8xcFewAARB5/xfhL3XdvzY+cDVnWnvpu9MpZrvdK4ZJn4n1olzHTmfzR/tjTh4upftC02eenC7/OZqJPHjRrKwM5kpj83vO5HwjivGVtXrSJRWnPIl6ftw+JV07l5gcI4rp1vTV6CsfW5YZZKfFq4bdm9VJ7Ji7VLHOgWN58uajCksJxPUAvqaabKvPibi5UbalhEU+8emYWQ6YcSabeOK+H2TUtxiR5FqI/f03NcFbpIiEMBfUAaqMtCxc6ZluDOFpY74uj0+/5YrYJ1951eiBzpksKxfIjp9FkJXMmN3cgK/2GrpwPDIu2LKPvfb/HGlEI1EbbN0yN0Ecm488dzY9fZOa8ztNoWvL1c1bhFOkTVwzVYF+fGwJcB3O25yZfn5uGksykjlzSw87dayzGbgNjPigFo9yVwfzIHH1nE+XNLJeUVSVPjxdVWKlDF/QAQuCVf/9h33v24h5HfpKbBNOWM/EAQObUbBNjAEifnN7tybTXTUcUQlPU1LHLVuniMW2NAkCIAh3XbCDXim2sN4/yCvk6oAxF1eespHzncH6kFdmkziyLibOTiiuhMenQi4VNsBaYtlp9fgoAyVdPFx07LBJzXmcDKRibzZtR07IX+/QgUeqxbFqcP3O25yZfn5tJ4oXjegCzM46ty/IjAQDIqoBxzkzytbPF/nZF0n7zH33DV6xDy8IqEAD4ruHYb9703LcNAFCK9D6403Pf9uzZruShC5lTnZpYYFJ2gyBrp58rYTD37iqGMDBhhOnGCmPAVRBxdLLg7PKawD0O28pGsraMLPdhDhvqsKEkgZC4/r81dT7GMBYAcJ+roGHVvFCoLzJYoOrLjcmF/wO3+j9wa358UTBnbtY/H7bsc1w5y63cZOvt4K1xMzB2OwMAd427W4uxkOtsUMyqYjBt30AQstzH94zmRZtYSHtuxPV5m8D3jvLdI7rtwnXbhuTBc5YEzt1rciFNS75e2Aziq6T3fqR65Gra6Sef/nK/eUVytisb/vF+YSgY+MBtmNsOAAiGsuta2XWtKiekDl9KvHxC6CvwgC06hjVNk5U5HYjM70/MMYepUk1mraJrgWmr8z2ym2mrm8+ydEGksYiSzGBOFgDsG9sKjh8N8yRoGn+1QOfWs18HCElYRcUhKaRhKcWwBYZ4MzGrQjmcMMVcDwu/zgbKnP0nPd0lUFvhEdbC27O41+ftRvyFY2XNDwMA3VRFNZTnaQkUdU75G2bP98iRwrbjyCj/+o9HR66mLfNBmF1hAUDqjfPpYx3O3avdd2wiK/26EGUo1y1rXbeszV7sC//wRfOg5kaATp0tO6/RkKZpkqxPnlEbZY3Np+gsbB743rPX++BOs0QKxaSxsJzIqGlOFSRNkOgl1TN9dsxospLYf1JfH3DuXMld7k8ezHvn2FY06oNcAEgduqC7lVgw/5maJGuzO+yZuKY//9c/KGoam4n5US+2AjBPFuU6TzPXxTFPHRCqgEJflPYs4vV5G5I+eln54O26j4j7to3B//61EcWubtZHPwCQmNX9auhyCgCq2xzDHXmzijkUFgBoopR46UTipRN0S7Vz1yrHlmUoy+hRtuUNNV/81OT3X4y/cCw/02Ji3NGCHcgKihqmPjV7o7qCa996o9eqGT761BupQ+dnztc892+fveMCQPTXh9g1S6iGckCQ0s884LptA3epT0lmURtFt9bY2uv117gUjE3+8EVrZgAA0Exu2cGvPWVYPd9CzJ7iCEVCccfx2VnE66wz56ASMR2Cbr6wOovVnsW6Pm9PNFlJvHxKfw07ti6f/OGLaiY3sDXM7UoqO4ujVt1KZ027AyOQqqX2H/3fvGRzKywDvmuY7xqe/O7z9k1t7ru25JYOUTTwkTulYLSYR/jCMZYFERxDWdr44wuCmzxWlFRx8+oCQDDU9+gePazy4vBffbvYAp/ltLaCaII09i8/Lv3sg7YVjQBAN1XOXJPlOgYmvvJkMWuxYprYYm/RwogFNT298Ir7HErCajqdD4t7nXWwuezohv0BZrzwFrE9i3J93s4k9p/0PLAdwTCEIpw7V8WfPwYAmMPGrl2iJ0gdOj/LAH/gfDI+IcSDQmmD1cw6L5OEGU1WUm9eHP6Lb4a+/Yxh4fc+lDdIXlzM+waoupx/QzHMe7KE/hsyV6UaKw1HvuQrp4r1WgCYp7+fHEuFvvW07iGlyYrKCaBpKieIo5PJA2dH/+kHI3/33WKzfdAX0aduRDFHrZuM2dGJbq42xVwDi36dAYCoyJk1ikFWl+RCmmZxHF3E9izK9Xk7I8dSxunMzr1r9YBj63JDlc+5Hae6zb7nQ1Xr7py6HVNcwwjLQmL/SWZpnWPbcgCgmyoBmXGuoAWTqX/OV5CZ7MV+I2xft4S7PP1zJubNj/PceX+t4N7pUQxfaF3PQN9aNSdUXVnV338EZWkpGB3755/M8iQURElmhMGgrqnZNS0oQ73lZpHs5QEj7Ny1OvHSiem4ebPo1xkAcI+DKPcVPX4DRW1T26TE8YjlMi5iexbl+tworvc5tZB44ZhjyzIAoGpKddO7Y/sKPUroG5tzuf/igQgAbLq/DEER8yrhNY+wzOR5DM+1YqLyoqHRiJJ5+R/qSMGo4R3j3L3GMNrNBPc5jTMPuEv9s7hQLgRNnjbcmmcQFmyrmufl6IQgpZ95UHf5Gf/3n12rttJJTrkLowzle2R3fuRbgJJIZy/06mG6qdK5K2e5uCYW+TpP4co/p8GMY1ObseSaOZEbIBgsYnsW5frcIK77ObXAXR0y3HQcW1fgPqcx/J/d3K6zfLdv9werNLDusi6ssBAMde5ZYyzPFQQhcPvmdj0sjkfmXH8BTTO8YGxrWq5pMT765EH9IqIsXf65Rwp+HhJlqPLPPWK0OfrU6/nxi4ZkmikUs62SVYGyzz5olRYC97v0wZGmqAW3jMyHxCunjGOP3Hdv8T442wEACIbZNywt5jS/WJg3n5d84p7Zn0mUoWYemLG419nAfddmZmmtVQqA+1x+Y8+wqs7cMrK47Vn49blRLOA5tRB/MedEyq5tYdcs0fukJsmpNy/kpSsEacMIEi2pZXY/VuXwTT/vRaaEKFr66fsDH7kze743e75X6B8TR8M5HygUJfwupq3Ofc8W400y54xUJ32603P3FgDA7EzlXz8W/tFLfM+oygmAIKiNwt0OzG0vOOPjOgaivz7kfWAHADBtdTVf+kzsV29kznbL0RQA4F4Hu7rF++AOw8cy/vwxY1C26IhjYXFkkqwKAIBtRWPgo3dFnzhgOBzgPqdz9xrP/dtQilQSmTnNGYaiRzC05BP3xp49IoVi83LgMKHJyvi/P179jx/TF1J979nr2L4ieeAM3zUsx9OgaihD4j4XWRmgW2ts7XUoy4z8zXfmPNptIXBXBmNPv+m5dxsAIARe+pkH3HdsTB26wPeMKImMpqgoQ+IBD1VbyiytZdrqgt/4jcXLd5GvMwAA6C4vlX/zwfjzx1KHzosjk5qiYk7WvqHV9+69hlKIPXd0povp4rZn4dfnxnHdz6mF1KEL/vffijlsZGXAvqlNF6aPd8y+bqbD2PH93x7adH/Z8aeD5kFW4fcwQuBNP/1bq1RVc4cr5b+9sxf7xr6Qd5xDMXCPo+ZLn9UP3zDQRAkhcL1MJZXt+8i/mGOnQdGSj9/tumVdnlB/2qd2Oeik3rwY/NpTs+xbNk4czZ7rGf3CD63R84Bd3VzxF++fvg6aJkeTSprHnDZjA5MwFBz/t8frvvKHerJZTlKt+sePFnzn66i8qCTSQt946sjF9PErsxgKbSsayz73iOXyFmPkb77DXR20ShcXBCn5xD3WW1aEia/+cuYDuVjX2ThxNPLz19hVTfSSGiNKUxTLdj/uyuDo539YcC/HYrUnx4KvD8rSzt1rMBuF2miUoVAbjdoostxnvLmFvjElmVGzgpIVVI5Xs4Ka5fU1u1lY0HOaj/99+zz3bzdLRv/x+/MZTDSsdjWtc6Ui4tGn8pbOioywVE2ajFtnDSiK5KsGTVbiLxyL/PSV+WgrAJBjqbF//nH5nzyKe52GcE7XmByqGvrm00L/uO/de6ctCPntUTNc5MnX488eMQtvBJmz3cH/96uSj9+TazyC4D6Xea915nTnxFefUjOcOBEly32GvCDj//Hzij9/b7EFPpQmUdpLlHrtm9v5ruGxf/1pMf+G7IXeoT/778CH7rCvb51lSggAwmBQjhVddlw0NC30zae5y/2+d99ClHqssfnMdHqCxb7OAIDS5Og//7j0U/fZN+WsGRZtlTpyKfT/fl1QW8Git2fB1wd32wMfvN0qNUEVOi5iToW1oOc0n/hLJzz3bjWeU2kyXvDsvJn0nU30nU1YpcUUlqYoA5/5sm15g215A1VfTpR4MCeLUASCIqogKYmMOBzKdgykj1wqdjBLMfiu4cE/+qpz92p27RKqplQ3NqtZXo5nxOEg3zVizZBPYv/J1KELju0r2bUtVE0p5rRpmqYks+JgMHOuO/XmhfmMNheF5MFz2csD7lvX60f/IBSpZnklnuauDKSPdmQv5d4hfOfw7B3XvrHNc//2mb5XBaFbqiv+7/uG//LbxcZZ8mR8/N8e10fgTHs9We4zHRCeEkfDfOdw9kLPjd6cYCb15sXUkcvs2hbbikampQbz2DE7Ayii8ZIcTYpjYf7qUPrkVSlonYLpLNZ11kHtjJrhx//j57ZlDY6dq5jWGtzj0PQz3S8PpN44V+zwAIPFbQ8s+PrcIBb4nBrI4UT6VKexvSx5oOhu53ky23v4HW40JR+/Rz82SM3ysWePchd75WjKPJlFcBxz2MiaEtet6+nGnFIb/7fH0zPWsN4OoAhGYiwvX9s7bCbXV46TKk0KhRfLjSlh6o3zE1/9pTX6HW4kZX/4Lt35CTSt/zNfnuUosflQeIT1DjcIBBBt6hvLzp2rctqKF4f/4lsFz7cEACkY5XtGUocv1n/9c/pTZ1vZdPMVVpl9STDdZTRep8W3g0ApFMH646fSYhhDCOraFc1MipVTsA0Gta41F0MvWKUWZp0pv8Oig9KkfeqLPtmLffPUVuvuKimtt0mCSlDoc18bMEe9o7CsoAhG4awgZ0jMhqMUgdGSwhMYnRYmSdwuyCkMJSWFYwiXIGcIjOKkJACU2luC6S4CpUjcLik8AGiaTOJ2BBACoxP8OInZJIUvsTdFuSFBzgCAcSRj8sCZYtrKQBMkrnNYH1rP/2AyHKWavVsBYDR1mSU8cWGckxIN7o2cnKBxJ4M7hpPn7aTfCAtKpt69AQFkOHlBVLI1rtUESsX4MU5O1LnW2Qh3jBuJ8aPmKnqiRyRVWF5y+8XQC7XuNRkxlhDGzfXycqrOvY5A6aHEGXNdxerl5IRRTrm9lSFcDO4cT3fKqmC0ISVONrg3ogg2mrrMK+lmzxZeSUMRRfYObyHshqXGFuB5+hIAwKnnQtvfXXHoZ2MzHUcXQWEhOI7ZHXI8Zo2YBwvJa+b6yqEqq4RR62y81N6iarLdEWAIVyjTo6gihdsBNA00J1Vqs7eICg+gYSghKhlFlXSFhaMUAOhpCIyyEe6JdBeDu0QlC6DVezYyhCslhMxveONQpHlalAy34/k7shMYjaNUV/SQIKd9TA0mhgGAJb0aqHF+dFAItvn3ZqSoEeaV9HDyHCen2v37uqNvsqT3QvA5vai0GO6Pn9S0AqsrqiYjgKiaMp66Wso2Q369ADCUOOelK0vYJlVT5qz30uRLRjk07kjwE4P86bbALRdDLxptqHWt4ZV0Voo3ejbFhbHR1OWMFGsP7LM07B3eclxTp18pqew1TQtGOzO3frwmFRHn5Th6TSAEgTly73x2xUrLyp0F7513+R98KPDIo2RZGeTnXQjFypm9Pc5t26wigIwYcVAlvJwMZXrSwiRDuLNSjCHcFG63Uz5eTmWlGIIgqqakhYiDyu11wlGyzLGExp12yifI2YwYp3GHnfJxcoIh3HppiiYRKGVUZExtUHpaWAyUoQzXB3GGi1AxOCnRHX2zwb3Bb6vTQEMRFEFQFEEBQNFkVZNRBDOHcYSQVUnTVF3OyylLgQXBUMIyTTPXW+FoK7cvkVQRmXe9ZgQlo2iyxdiKo5Siiqom98WPYwghq6KiisWmiosISmBMaYFudq1cXzmuloBVhABKYACAEljZ9ga20mVN8JZCN1UZX4RKvDx13Ps8QUAS1LFu64I4DgCAIN7bbkcIguvtFYYGXTt2YjZb4vCbZEkp7vHgbnfy+DEllTLk4sSEkZ7rvOravkOanBSGh6iqKvfOXUTAz/f1keUV6TOnVZ5379kbf+1Vc5Wxl/erHBd493smH/+pkRelac/td4CqpU+fkhPxgm3Ia08y6d69BwCSx4/L0YhRjn3lKtznw93uzPnzqsAb7RHHx9279yAYljpzWoknPLfdJicKLJoCQFIIpYRJDTTd3sQlEhpoo4kLGmjd4UN6Ghq3YyjBycneSM6FYjCec4w20gDAROoqAHBi3CjNbMOSxiJUfTkAOHetSrx0YhbHMZQmy/7oXcbnY9PzPtbZTvrL2BZdU8T5sUbPprQYkVUJAKqcywGWBzNdNsJjhDNSrNm7TVGliUynpaiEMLHEu3Mi0xnnx8zyJu8WFMF7Y0dthLvKudxB+lPiJCcnjXo1TbURbgwhNE2DedRrLsdcEZjaMJa63OTdkpXiCSEYzHQ3ejdnxKiiFvZFWAhtn9qMsyRKYr0/P5fqi2I0TnttXHBeenwWipVTsbtp/PXemZ/802l4eMXZ/2/6UXI1B5ret5qbSEUvTQSPDGiKWrq1ru8Jq6/WWwVCESWfvFcPq5xwrc5GxkcohjvyjvHDAcDW2iqFw6lTJ3VR8sgRuqGebV+mShI/MCCMDPsfeHDyF08YctztNqdPnzvLti8DAGFkRJwYTxw4oKmqJsn2NWuFwUFNLOA/oskygiCaohh5UZsNpeno888pySQUaYMYChlhOZFIHj0ix2L+hx6e/MUTRjmY2y0MDycOveF/4MHJJ35utMe1fbucSMiRiGfPXn5oMHXypBSe9D/0sKVhOrpOmfm/wWjykvnn7BQrJ/n6uUB9OQBQ9eWVf//h6M9f464M5Hm0oShVHbCtbnHfvmH6q5MHz85/B09aDPdJMQ00fSp3LvisHqh3rx+Mn8nKcU1TzWEAuDy539CqXZE3jKKGk+dRBFO1PK1qTgAAnZHXjbC53mCmW884z3qNciazOS8B3ZpubsPF0IsIgup5Lwaft9ygRaTzeyeltLD6L/ee/cKrDe9amRmOx64ECZZs/fhGTdWGX+zkJ9ONj64inHT/kxcc9V6m1MGU2AefvmwO85FM8/vWAIIMPnM5O54yyqnc22yrcDIl9rEDPXJGbHz3KrbKFTk/luyNNL9vDUpgwy918pPpJR/ZwIetYw1Xs3/sQM/461OOFJNptsoFAKSLNuryr6lK9oTtNR4hziW6J/lJayGLBoLgXqeSymqipH8D2PeeW4yjUyKmLQHzpO9sYs0dJaMzDh3FAQClaSWT1n/b16zFHA4pFNJnUpokaYqCYLhZbk5vZapwYWTYuWkT7nIlXp/uxAYoRVkOxpSj0diLL7h37clevYLZ7QXbYA6jJKnygqaqutyMkkpqkpSzFk21B6VoORbTZCn22mtsW5sqCKoomjem33wSLx63b1iq7+xnWmsq/+5DmiTL4YTKiwiGoQyJeZ1I/lcnMme7J7+TMyrNE7OKMSxQGSmmaKL+0xzOJSvy8Fu01eyYExvh66vXTME/Zz4ZF4IqKgiKqJIy+mp3+fZ6ACCcNM5SV755VNcj/b+65FtZXra9XhGV6MXxeGdoxed2pIbiRpgLZ/p/fYkLplf+n53nvnjAKIcuscevhPqeOL/8j3ec++fXUn2Rnp+e1RS14V0r+XAmM5po+cDa2OWJ4ReuZobjK/50l7lVIy93tTy2rnRLXfePzmRG4oa8/uEVRl1CnMcYAiMxW4UzdGwOF7OFgFJE/Tf+BAA0WbGc8ZA5230dnwXSP0Ix8zwsHACyV674H3yIqqkVRoZBUQi/HyVJfdeLY+NGB0Dm0gUEww25Ob0UDDo3bCTKymwT49krV4TREe9d92QunucHBvjBQbq2Vslalbrn1tsQHI+/8jLh9xt55ViMXb4CwTFAoFgbcJ/fCIuhSc/td2iimL5w3lyOpS6jPanTpzz7bpWjUWF4OH3hgueWfdJkSJMKjP5uGpqijn7+h4EP3e66ZZ2umhECJ4p4G8qxVOypN+L7T869yXwehDI9BcM3mreq3gWCM4RlmpYdT1799rGm964OHhuk3DbKZ0sPxhAMBVAUQVYlRTctGWGcJuSspCmqLjfDRzOKICP6xuApIc4S3ERKFZXuH58u3VInZ0WZk7T8sYYqKVe/c5x00sv+YNuZz79iyM11KbyEIIimapqsFptpLi5WbXWma+LLT1yrs+gsH6GYtmUiGKabUYyAa+eubEeHHAnroyFDbklvAcFxTZYBwLF2nZxKcV1Wa0gx9M8sW+oyt8HSHkAQQJA5H2CjPWBuM4qCpl3rdbxBEAG3fcsypq2OrAxgThtKEZqiqryopDlpLCwOhzLne/grg/Pc//QOM5l2HD10YeIrT1qji9P2qc24ncJIrOenZ1VZqbu33dHg6//lhWwwVbGzkfLaJg71Ew7Kt7pSiGQ0TVMEha1wAkDoxDBb5TLCmaFYwyMrZV6OnBlJDcaMcux13tDxwVRfdPVf7j37/71ad/8ytto9fqCHC2eWfHh9diwZvxriJlLNj61LD8eYEsf5fz1gtK1sW72nvQyj8djliUTXZN19y9gqV/8vL3LBlFEXbiNpP5udSDkavJ3fOWHkXXQQAq/868eIcp/upq8ks0LPaPL1c+kTs+1+nYWadkfBj1DMBtu+DHe5rNL5wa5YqRvFF4i5DQtpz40GxVHLJ2pvENe3wKRTLG8x+UwKLFQtGBplkd/CHRcogRkTdmPc1Pie1fYaty43hwEAEEDQuf9M8xAMxXN5EbTwFUJJrHCZ86vr7UzDGtfuD1bt/mCVNWImlSu8NjcJAOXtHtqRc/paCMXKwYhpA02xNG8tmz7c3LKnvLTVbffTJIvbAzRGoo4ShmRxFEcxEgWA5p1lS/ZWOEqZ9jurcQqz+2mCwSgWJxjr4H9RIByUZ2nuVJ+K3U2z90t3a0nDIyuNn+a8ZuZf5uq/3GsVLZgAWdNkW9fIrGmyrbXGLSr2ZbP5uCwKZdvq6UDuYBlz+B2ulW2PFNi2DTMdRyuWeypXeLNxQRIUksFkMTcNKWlxyYISHUxjBFqxzJOY4JLjWdZPUywui6olDADl7Z5kkMuEeYLBjHLsfpqwYSiKRAbSrJfa9JGWq/tHRy9Ei6UBgMqVXtAg0p/iU3mL1p4alnGS4x1xFEPM7WGcBIohk70pTdVKW93ZmJAKcqQNJxjMXcWOXYyZ05sLLAjrocS0XLncGxlIeWsdyfGso4SxB+jxy7F0mO8/GlIAsnHRU8WmgpymaqserBWzsrPMxifFcG9q4IR1YR4AEBRZ8tENGIVHzo7GOoIFF5iEWNaQpwaiRvrQiWFjgcm9JGAsKjkbfaP7u6SM2PyBtd0/Om2tEgAAUAIz8tY/tJytdHETKZwlu398pmCZxRaqnDVLk0NXXbVLM6FhReQImwPFSYyyZSeHcZqVMol5pjEgEVrTFA20zIy9OACA0rTvljtA05JnT5E+Pz8yJMWinh175VgEd3txlzt58ihZUmqE5VTSs2MPAJI8dUzJpF2btqEUzQ8PSLGoZ9su0hfgBnq5wf7pChDEt/cOhCC4/h5+eNCzdRdqsyWOHmLqGwmfX4rFUJqOH37ds2MvgmGpc6fkRNwokxvoM9ILwXEAmHhzumQ9XFK+MjR+3umqTiaGjah5MjMXzXh4LlYwyoLb25CIDejrEjMTGxKjQDN6my3CmwyfkW//dK2QVQ78IM+1O09hrXqwLhsXytrc3W+Mq4pWv6U0PpZNjGXrN5f4GxyhrmR0MG3zUiiO7vr9tqf/8tT69zSMXY7Vbyo5+F+XzeG2O6pTQa7t9soj3+kSs7JRzrr3NAQ7Ew1bSl/594sogTIOQhYUADDXZU7TvLNM5OQluyte+Pw5czvrNgTK2t0THXFN02xe2mjP1o8tQTEkPppxlNkYJ6FpUL2m7o2vdXhq7Mvvqbn68qglvbnMggS7kr46u6pojJNMjGXiI1mMQMc7YvGRTP3m0q4D4wCAogjro8va3IFGZ2qSY5wkQWN8Egl25j2WBiUbazIjieEXruo/Cy4wnfviAUPOlNrN6Y0FpnjnpLGopIpK5a0tsctBhSvqi2Re5HLU+wafvuxpL6UZwiw3l1lsoYpy+ktX75YyyfJ1t6bH+1RFViUBNK101W7S4R098htF5OeTxmhYRkkQKI0AwmB2Q2iAMTaUYiL7n5VTSVtDMxIKAgAZKAFV5Yf6+dHhknseEidDRlhOJhInjsjxWMl97wq//DzpD0z84id6UWJwInboNcvyNNuyVIpMJs/mfHTiJw4ztQ3s0mW4y504eZSurkVJ0rlmg5JMiNGwd+ctoed+ZS7TSK8rLDNOd63dUUZSDop22l1VycSww1lls5ckE0MIIG5vYzo1RjMeDKMy6SDNuPUAgMbaS9PJcVFM6rlKyldiGJVNB1VVrqjZMjLwhixzlihNU22OMlURDUVjd1Qk40Oaphq1l1WtJwhG4JOJWN9Ueyr1AhEUc7prM8kxDUBvc/6f8hZw6rkQAFS3WVuSp7C8tfZzTw3Y/TQAKKKanuR0+dDpcKDRWbnCM3hysrzN7aqw6dM3BEV63ggyTtJZZjOHPVXs2Sf7cQr11tpHz0eNchAUufLyKOMiaSeRGMtmooL+VJvrMqeZ7E0tu7s62JnQ9ZpBWbv74jPDmTAPAOb2ZKK8lFUGT0766h1lS93JCS4+ksFIDAD6j4X08Y45vRnP7r10fWPq9Kn0+TOG8NKzQ3rA2NDUfyyEoEjdxkD/0dzBAMNnI8PnIqDBREfcnLIYOEuK8dwfW3XrkoILTGa5Ob0Fo5r41VDtve1MwN7783Om+KKooqzKisLLMzcDG2UWW6jCGVbm0qTdrcoiHw+5atujXaccVS1iOs5FxhVJAID5pDFw4D4SoRRNzqops1xHikUjrzzv2bEn03kFNBVBUQRFERQDADXn45IXRghSFXR/FwwAzO7BuueqBZSijYVsx6q1uN0pTgYRFNVkSVMUTRIBEJSm5XhUk+XoG6+CqUxzeqNAA5enbrj/9er6nQKf1D34NdBwglFkkaKdopB0eeoAED0NAOgBTVNHBg5V1+8c7n9dz8XYfIO9r1XVbhsdOpJJjWfSQQCwREkSpyqSLBXoJ0btKIrLsoBhpCFJp8b1Ahta7sikJ+yuKhTFjfYsLgWfr2LM97uEAycmd362zVtr7z8W8tU7qlb5CAY/8/M+b51D0zR3JQsA7ipWX4IFAE2D9e9r9Nc7Lj03bA4PnJjc8rEldj/12pcvm8sBMD0QACiBrn647uyTA8XSYDhic5PxkQxGosrU5BQAeg8Ft3y0JTnOnfxpr7k9ZroOjNdvKhGyUjrMO8sYo7MWS+/ctBV3ufkB02TBhFkHaarWfzTfddP0R82urQAgdHRw+Z/s9LSVxTtDmqKylS6cxvXXfu09bQAw9nofRmKG3Jw+NRCtvWupo8GX7I0Ejw4mOifbfm/L+IGe6KWJ2KUJz7IyMTE9ctEp39FgK3PELgfjnSEjrzkBW+UqWObwi53GQtX4wd6WD65PD8cUQR4/+TIAACD6n81FxkDTIlePg6YBkvty0vjJF+dMYxCVRuuYlRSgSSWvYTpkabm9fQWC4YAg3PCgd9c+MTShSiIAuNZtAoD05YuEz2+ExXDId8sdmiSmLlknNcLYiP/2e1KXzvNDA4Yw09VRcs/DdFUNPzoMikL4/AhJWlRb8uxJ357b8GiEHx2WU6Z5a5H0OpKYKa1Yi2GEjQ3YneV2ZyWCoJKYdXvrSdIhy5ymaQRBl1Wuk8QMY/PqAVWVSivWCHzSyKXIOecbTVNJymFjAwBgiVJk3mYviaTyRnnlVRvSqTFJzOiJQVNBUwHAKDmdHNULTKfGcJxJxgdZe5neZnM5i8Lsz5eFWb5LaKXYUhdOYUbYSLP7D9uN9Qtz2Jxmdsx295ns+aNlOIWterCubKnbGmdaBylWF4IiBe3HM9MTgZLGf/lS4798ybNnnyXqBmEsABVcYDLLcz+n0lswklXfviSwoTo/8jq5poWqhbPEthEBFABa2U0F60AwzBjCIFjuhG7Ptt2kv0SXm8MAAAhSzLiO4FajrY4+HDMHZlIwqqBwmhmvRn27kh4CgMrarZaAEVWYIlG1jXvszoqa+l3WiDmZKtDSsMXlOp6vmmWOfR+rWX+PdY3Iel+LOT6YJ2VGmu7XJzQ152ZsDpvTzI4izeZbdPrnfcvvqUlOcBNX4tY4bXosU6wuTdUKjndmprc1L7FIbjTq1DejVCl3YTPDcZmTDGcrQ577afrGlBk9WcXuJsrHTp4YtkZfF+aqjXrNN3fRoTGWRGkMrJuodTRFMQxPmqLoAzQxMqmKgi43hwEANK2Yd57hkWfB8Cgs6FqoUzCqoHCaGSOvac9+TQOA0Ph5S8CIKkyRqOH+NzRVGR54wxoxJ1MFWhq2uFzH81W11P7y/wwhqNU/o/ALZ56MnJsew5vDi0ViPHv2yX6r9AbANBX+atPNxLzAdK2MHfit8RqfST93voZpxwAf4C9a44qTuTK9ndMc/u1CEnNb3IzA9aGqsm7bentyHc/XeFdm74erEyHBMuZYkML63QAlKaax0Sp9h5uFqPE92dMA4CeqMkrcGv0Ov+Vc3/OF6KcOUdYp4DXPV5nGJltLK11Xj7vcqI1FcFwTRSWVlCJhfniI6+nmhwZmjipr//xvcI8HADIdlyZ++F1LrJmy93+IXbYCAORYbPCL/2SNNoF7PPYVq5mGRrKkDGVtKE6okqRyWSkSFsfHud7ubE93wd2CKEXRDY1UWQVZXkGVVxD+wHzm7f1/+xeqONvJeRhrt69abWtpJUtKUdaOICCn0uLEePZqR/rcmWJ5qarqqs9+DgBCT/w0deYU4fV677jH1tisaSo/OBjd/7yob5BEEOfGza4t2wmvT8mks1c7ovtfUDLWfZp5IAjbtszW2kbX1uF2B0JRKpeVYlG+rzd15rQ4Yxl+JjV/8n+JQAkADHzh75RUCgAARW0trY6168nSMtzlAgRRUikpGuG6uzIdl6RwAb+zWbBhzgBRY/z0EZVnUi+Z4gtz3fcdFq8f1v31P2B2B5h6BV3f4Fy7nq6tx1wu0EBJJrj+vvTZ01x/ryWvmcUqx8z19UMzC7zvi/J8bXuk4s0nxjY/WHbs13nfJbyGEZatpdV7+11URaVFjtA0StNEoMTW2gb7bo+/cSDy/DOWNIsLgmHeO+52bd5mMXmiFIVSFO72MI3Nrm07VEGIPP908vhRcxoAoGvryz/4MYtwQSCIZ/ct7p17UIoyiwmvl/B62bZ27613RF58LnXquDnWAllahjudFZ/8LO5y6xK2rZ1pbBz9+n+JoaD/3gdcm7fpctzldm7cwjQ0jXzty6pQuP/R9Q2B+x4iy8rNQszuwOwOurrWvWN3+sLZyV89qfLWVcWC4E6XkkoRXl/p+z5IVebtlkB9FOHz25qXoCQZfWVudWPGjnmzapJXc2qXwRz58VYWeN9vBERJiRQK+u99wLFuo1mOBkqIQIlzw6b0hXOTT/58TjWxOOUsRj80c333fVGeLy4j7/tYDW3Hdr2/8tRzoVQk9waar8Ly7rvds2fffDRl+twZq2hxQZDS932IbWs3yzRVBVW1rAGhFCVFwmaJjsrzeScjI4ihheVkUjGvW5swH4RiBiGI0vc+xi7Naw+oKiCIcbkwu73k4Uep8orws7+eOfzUIUvKvHfcg7vcuQQIAgAoRfvuvCdx9HBOW6mqsf5FBEpcW7bFDrxqlGBgX7225OF35z3Vmma4JgEAIIh95Rqqsnr0m1/LvUJnBXe5VJ6r/PQf6MOBgmSuXrGK5iIsDWsmY/6w1pEfn8+C7/uNgCwp9ey9dfruW64zgH3FKtzlGv/ON9VCB8MZLLycxeqHZq7vvi/K8xUbE3wVdHiIm9+HVPNx79jt2Xur8VMKT6bOnOKHBpRkUpMllLERJaVMfYOttU1Jp4WxUVPWxYdtW2b0Wq63O/7GQWF4SPf9QwiCDJRQVdVM8xLbkqVKKsn1FrBG80MDI1/9kvETZZj6v/uCHk4eOxx7Tfczmi+BB95l9BIpEokffCXbeVX31sHdbtuSpZ7dt+iDJtfW7Uo2E3t1vyn3NExzC4JhkeefSRw5hGB44OFH7ctXAoBtyVKytFzl+dAvHs9cuYyxbPkHP0pV1QAAu3zVTIXF1DeWvus9ul6T47H46weynVekWBQ0DaVouqbWtW2HbclSACD8gbIPfGTsm1+bY6kLgPCXeG+/G7M7NElMnT6V7boqRSKqKGCsnSqvsC1ppaqqhdFrXqNUNaWErA2JgzbM1cisDkvDGSVhTTTFwu/7jcB3170Ya1d5Pv7Ga+mLF/SjRDC7g21f5t13u/6c07X13tvuDD/za2tmEwsvZ7H6oZnru++L8nxVNLP7vz20+cFr/wgFWV7hu+Pu3A9Vjbz4XPzQwXz1HBVGR9JnTwOCYPYCuysWl+m7Mhka/843zTstNEkSxkaFsdHkiWMoSeJuz3xeIwuBXbbCsWadHuZ6u8e//x2z9USOxZLHjqTPnin/6CfomjoA8N5yG9fVyQ8PGmkMEBzPXLoQf+MAAGiyPPnUE+zSdgTHAUFwj2fyqScyly8CgJJKRfe/WP6RTwAAVV5hPjwHABCCKHn3+3RtxQ8Pjv/PN1VhetKnCny2uzPb3em78x73jt0AQNfUOtauT544ZqQpiPfWOxAcF4aHJn70PTk5rVPkWFQYGUqePIZg2HVcahTB3HhpSBxsYFZdzRxttK2ZEPoKejbA2+y+G2CsXRX40f/+ihicHggo6VTy+NHs1SuVv/cHOR2xZXvi2BFpMt/f2MQCy1nEfmjmBt33+VBsSmg1ws/Eu/dWY0gZef6Z+BsHijZR0+Yzv1ggKMvqATmZNPdaC6ooiqGgVbrYeHbfogdUjgv+9EcFbb2qwAd/8sOc9QFBPLdMj1UtpC9eMMIqxxkO2ZqipM5OT7Sn+xmC4G6PIQcAx5r1es/WFCX0+I/M2spM9KXnjf7n3r4rL64QCI7LsejYd79p7rVm5hyjFUTVFBq1l5J1vJqWNEHV5Gn3xRm8re67mdirL5u1jIGciE+PhhDEuWGTOXYmCylncfuhwQ267/MhOsJrmpZNyAd+OGJoK5hTYaE0zbYt08NiKBg/fO2eaYuNHIvpAbq2Tp8ZvVWQ5RWGJTJ58ljRY6MB5EQ8ffa0HrYtWWqY1S1YVu6kSGRKPmHugirHGaMqlGYMOQAYvTl7tUOKRs1RZjRFyU6ZHohAiUXrFST68osqx1mlC2aAP48jZF/2LADE5dAspzC/fe57HpqWOnPSKpwic/mi8Qo3nqPCLKCcRe+HZm7QfZ+TqjZ7aIDLxCWL4+gcCoupbzSsvKmTx4qOrW4ihlEfwfGKT/ye99Y7MYczP8lNgqlvNMKZK5dNMQXIXL5khJnGJlPMNPoHOAy0qRXAmd9b1CRJD6DE9LYvlKIN6yY/OGDICyLHctoQAMjSMlNMATRVNY/+FpGkHBkVulRQASAkzjZDefvcdzNSNKKkiyoI0DSup0sPEl4fyuS9XcwspJxF74cGN+6+z0nXsXgiJNhc+LU5jpLlFUaYHxiYjnjr4IcG4q+/5t65BwBQkvTsuUX/dEX63OnMlcvGk3wTIMunnQbE8byPX81EGJ9ei6Aqq1JnTpkicyhc3hFdxrrJzFfc9JKKad2Wqqw0fvruvMd35z1G1OzMaXmUQsGCs4ybydvnvpuZczlSnJyanyII4QsII0N50VMspJxF74cGb+F91zSIB8XEpLX2ORQWNmU4AABpxnv+rSLywrNicMJ3xz36x1MRFGXb2tm2dlXg0+fPJY8fmfk95xsBZstdHE1R5nRoMr8/jYx5qGqxAaymTJvVZwFj59A7xUDwOXbnz+GherN4m9x3M3Pf98z0SwilaVNMHgspZ5H7oYm38L7Xr3LanHg6JqEYYv0u4SyYTSTGDOXtQOrMqfTF8851G1xbtuteuQCAUrRzwybnhk1cT3fk+advtIOF4Z5X8NuLVjRNk2XdY8hieNKZxZBcZN3Mirkfa7I8W4EW1KKWI515asybwNvhvucx10XW5OmhH0qSpph8FlDO4vZDM2/hfR/vyWgqYHietoI5FZbZsxYhSZjd0XYxQGa5qflokpQ4ejhx9DBdU+dYu96+YpUxt2eamqs++7nws79JHDmUn2kxMd5m82ozihr+jSpvneItCmav99ATP01fODcd9zbGg5fF5AkAcOOlcXlq4lOcm3Pf53VPARCTDbEgZuUyi5/6Qsp5u/XDRWHoUgrmPHF0Jmp2eiCKu1xK+sZ7LRQ3TBaDHxrghwbCTz/FLlvp3r4jt4SEov57H5CikezVDmuGRcIYMCMYhjLMTEuTGdxkJ5r5rcZFwTyAx5xvvUF6PiCAeIiyuBwCgDKqPqmEZ1kotHBD7/s8++GcyVDTtGuW+dpCynm79cOFM98TR2didgyha2qv20ZgGIkLHiZrhgyUWkXzQ1OU9Pkz6fNnnBu3BO5/SDc/e/bcssCOOwvC6DDAZj1MlVdyfT358XmQ5bn1OwC4QXMWcWIcNE3/w+nq2sKeM28zSsn6ErKWwZwAWlK+Bm1lcE33fdH7ITk1LS3G9AqspkmTk3lxJhZSztutHy6cWU4cneO2cX29Rtixdr0p5tow3gmzL0VTlVWzGCbnSfL4kfSFs3qYrqoxr6MVxvxd2dkPkMyH6+02wrb8PW4zMW+C4+e98/6aUDJpYWqRyNa6FKUWeiVvAhNiX0fm8OX0G5fTh4Z56660a2I+933R+yHmcBL+gFVqgKKG64AUnizmxwsLK+ft1g+tXPvzZfcQmx8qu/3Ttf5q68BzDoWlpFNcd84BhKqquW6dJcfjeoAsKzevPFowDiRYIHkew4U6rhlVFIzlOdzry4+cDSkS4XpyfcW5doO+dFUQ3OW2r16rh7nenllcOhdI6uRxPYBStGffbfmRb1MYtOh1u1bmvO83oh8612+0iqawL1thLN1mOi7lR1q57nLehv3QzHU8Xyv3+V/65tCL/z0YqLa+NuZQWAAQfW2/EQ488K7ZdRZK0QU3dvMDfXoAwTDvbXfmR+awr1w9e+EAgKCoc/1GlMwtixQEwXF22Uo9LIYn51x/AU0zvGDYJUuvyTkg9up+/WagDFP63scKLgOhFFX63seMNscOvJwfv5gkTxyVY7le6N6207PnloLPrQ6CYWz7ctzjtUbcXNz4HLMhWLz7vlj90Ixr6w66vsEqBcBdbt/d9+d+qOqcGzYXUs7brR/mce3PF5dS9nyw6paPVLvLrHd8DhsWAPD9ffE3Duh7ZREcL3nXe1xbtqfPneaHhpRMGlQFoWjC4yHLKuj6Bqa+cfKXP09Nuf8bpM6c0jdSAoBzw2aUscVfPyCOjWiqipIkVVXjWLfBsXotIIiSTs/mx4iigYce9d3zANfdme3uFEdHxclgbpyPooTbTdc3urfvMs6BSp06Yc5djMyVDvf2nQCA2mzlH/1k5PmnheEhVRAAQVCaxh1OzO4oaBrg+ntjB1/z7N4LAEx9Y9Uf/Vlul3wyAQC405XbJe/J7X1JHD5kvAxvBJqiTPz4+5Wf+ixCkADgvfVO+6q1qVMn+MEBJZ0CTUUoGne6yJJSuq6eaWhCGWb0G181dNxbgqxJK+y79VOxurJF7tci3fdF64dT6C4CFR/9VOLwG6lzZ6TghKaqGGtn25d5b73DeHnHD78xu2voAst5u/VDC9f6fJ15ITSdOZ+5FRYARF54FqVp54Ypw15lleU0rzlR0qnoS8/77rpX/2lfvtK+fCXMOPQnff4M19sTePARQ1IQlCTZ9uVs+/Lcb1XNlZM/muB6uhNvvm6WFCNx6IBz7XrUZgMAqqKy4mOfBgBNkhAc18tUspmBf/wbSy6d6MsvYKxNvziE15trvP56z7fsps+fiTz/tFlyIxBGR8Z/8N2y9z6m/zlkSen8Xd7fEob4y/pn8uZk4fd9cfshAMQOvGJraaVr69w79+he+NrUpxIN+P6+6P4XzJKZLLyct1s/NLOQ58vC3FNCAABNm3zqF8HHfyxFI9aoGRQ7YCx+6GD0pefyBuoIYr4liaOHQ7/4mRgMTieYiaYVGA7oriWmXqspSvzQwfHvfWuezpNyMjn+/W9btqQjBDHLfGoaVZ186heTv3oyzy0YRc29ROW4yLO/CT7+4xu3u90M19M1/NX/yFy+aNgOiiGOj1k2MN58SJRusq1rsW1w4n5rnMHi3ffF6YdToCQ5/v1vpy+eNyQWLZO+cG78e9+ac+fQIpTz9uuHBgt6vvKZ1whLJ33+TPriOba1jWluoWvqcKcTZWyAIJooysmENBniB/szHZeMMwZmEjvwavr8WeeGzXRDI+ELoDSt5+V6e1JnTunbo8SQyW46A01RBv/1C0xTs62phayoJDxejLUjJIkgiCqJSjotBif4vt70hXPFDsQoBj80OPwfX3SsW8+2tpNl5bpfjMpzSiolBif4oUFrhnySx4+kz52xr17DtraRZeUYa9c0Tc2khYlxrutq6tyZ2b1jFh05Fpv40ffIklJ22QqmoYnw+40D+Kdu1kC2u3POrWc3gSqqtSP9pgZqK7spLA4XPA9rce/7wvuhAWqzqRwX/MkPko3NjjXr6Lp63OnUNE1JJrm+3tTZU3x/zmo2O4tVztutHxos8PkyQADA78ytmM4knCxguHmH+bNtr+3fv1MCAN1XxA/cMZt2KKcax4VeF16SkItO4IsxMxeDOjg1VTDKQhnZgKNkSBgQNX7OxAWZmcuo3Yz+B1qEALDEtnFI6FA0qZlZfzlzyBr9tsT4eETq7OnQz39ijZ43i1XO9YHgOOayy5H4POUzIWsrxcGb6syFA0BT5R4AANA0TXOyFRwf1UCzUb5wsvs6FBaK4gRlF7g4w/pEIaV/TRtFcU/Jkkxqgs8UHX8BAACCopiqyvNO/7uAGy914F4KtdEo68L9CTnkxAN2zK1rAS9RmZLDDObAECItxxjMrgcANDvmTSoRUc3qucqpRj1KBaWGbh/gLsiaaInSQHNgHgVkQ3fQmH2Qu9TArBoVOhe3dhRB3XhpUo4AgP4Hmv7oaa7vu4RvE/QpDYpgFMYKSoZEGRylCJSSVIFAqbQUITFWUNIYQkoqx+BOQckQKM3J1mn4NU+N5sK2fnn29GXLUilZX0U31yX3v6n/RCgCczlmKiazvGA5Bo59WyL/8wur9EaCA8CxK9/Sf7TX3ts5/GI8MwIATlt5VWBdfdudo72HRCG1ZM17Os88bs5ZDBQjSNohcHFf2bJIsINLTwKAqimapvpK20b7ir5C7a7KqqadAhdPRgcjwY450xcEQRF7hZ2LcDhDKIJM2AgxJeI2Qojz9gq7kBAZHw0IQjmpWHdUERUERRRRqdxSNXp0pGprdbgjLKVF2svgDE45qciVMOWispNZazWLioco6+fO1zMreTWjf7QdQCMQStYkGmUFNeMhygAQPQ0A6AFNUwf4i/XMyn7uvJ7Lhjp7ubO19LIhviMlR9JKDAAsUZImKqBIap6dUQMVQFv02ltsG9JK1IUHUAQzss+EQm0UyqKAspjb8l3CXfc4Dz5jfbaLsXKz7fzRrP6/Nc5E6yrm6jnOKNlfRuy61/nktxb0Xiy1NamabCeXMrgzlO1TVInCCdA0DTQnWWLDm0WVAwAMwUUlq2jSTIWlgzK0+6FbQdXSh88QZT6hb0SejLru2iWHo5jPg3tdqYMnyMoSI6wkUq47dwKCpA+eUFIZx97NqI0WegblcMx5+w6izM939gtdA9ZqAAAAwTHnvq3SRFjoG3bcsoUo8cmRGMLQyWcPGHKyrtIoRxoed961C8HxzOEzcizhfmCfEiv8V9xQ8mxYXmf95cGn9XAyO+5zNIyo02ufBMlWNe8CQCYGj0tipqJuC0bQqehgPNJrhCPBjsqGbVwmnIoNA0BZzXoUIycGj2WSEwKfYFg/AGA4Xd28G0Gx0PDpTHLcKJ91lYfHLoTHc35xRnpzvW5/UyY5xtgDkpBJJ8ZE3mqwaLqnOXIlTNiI5vuWpCfSUlqK9UQbbm+MdkUiV8J8lPcu8fMxHjStZnedmBLGT4wBgKPKuewDK7KT2ZUfXRU8F1REReZk0LT29y+3l9tP/udxKVPc2LlgRJWroFowBGcxtxP3OXE/Aoio8V6inERssiZomkagZCXVIqqcDXPqARWUCqqZVzNGLlnLNVIDlUJtLOYGAEuUrIl2zJ2Sp59PEqFr6PakEl702lNKBEeouBy0Yx79DzQqNVNFt17JHFY1pY3dOikOaaDuvMfJ2tGBTqGqgbzzPe7BLkFRoa6F6uvgK+pImx0d7BJ4Xmtbw/R18JdP54wyS1YyvZeFJSsZgdf0xJQNraghh3oFnED0QGhMalpGXz3HVTWQd77XM3CV7zjD6UazxnbaUuD8yUjRElsjJydTYjgtRrxMVYQb9jHVvJKyE96sHOeVNIt7VE1JS9ESW0MwW2BqDACo3YYydOwXLyrxJN3WiIwGAQAvD2iqKnQPpAZGvR+4TxqfNMJKLJl67Zgcjfs++ED8l/uJcn/4mz/Xi5JGJxLPvw5K4ZERAGiykjl+3ramHQCIytL0wRNUUw1GkWa5ODBqlOO4dasSS8qhiOue3ULvUPrN0/JE2PuhB6zl3mDy+pCiiGWe9onYZQAo87QrqgQAta23KoqE4VRF/dbx/qMCF29a+eDglZcYe0Afc5GUwwgDwOToeV95ux6OBq+mYkONK+7vPvdkrg6Aspp1Ip/gMpHqlj1XT03P20MjZ2ta9npL24a7X+My084m5nolIYNhJIrhtM0XDV010hgoomqvcLClrCzIGIEhTsTfHpAFWZcrouqqc0U6JkvXlE1enKzYXDn8xhAA0G6ai3JsGSsLcnIwXrW9pu+F3vL15ZlgJtYTlTnZWs2iMip0IYDoxuaL6dd1YVKOaKACgB5VSy8bE7rNASPKyJWUwwAwyF8CgO7syYJRjczqSWkoQNamuZhekdn1aXFrzyhxPU1CnjQSz4RXM07Mr4ICADbMoWhySQXxi29GHvmUT1Hg+cfjD3zEiyDw1Hei7/qkDyeQx78WfuAjXo8fH+gSmlcwhn5hHdjqrSzrwNrWMHriSFC+eCI7Nijuud+lBwCAIBEAEHjt+Z/GHvmUr+NMLvvOu5yWAudPUpxMiWENNP3P5FIJDbTRVFIDrTt+RE9D2+0YQnBysjee240wE3kyGv/lS647d3IXroKmISgGGIrgGABooqzJiiWMUKTGC6CoulyJmoY8hS92ESRZU2RNEAss202Vg9K0HIlpkpx49iCzqlXjBFUQi00Vrw+bu6Kyfe9Yx6sE7YyPF3i6waKwOgafWd7wcHvdfQAgydyF/ic9NcsHr+7Xp4QoTiqyoGkqiuIAYB7dzBzp6CiyoKqKnt4Aw2mei6mqPNx9wCzXVGXw6n6ctDUuu7fzzM8MubleVREBQTRNA00puGbf90IPguoJoP7WhoFX+vUwAOjfCzr3zTMAkBpNla2rGD+Wsxee+9YZAAAkd3tiPTFN1XqeSWuqZvnK0A1i5sOs6wuYihoXey0BI6ogxaL6+Qs21DnAXbBG5LNYtc8MzIRTUm6iFACyaipA1maVhM2evfVhdzyssE59igrRkLz3AVdkQnb5cov9fVd4uxPrMCmXVFw59EKytIowEgMCXDb3h+iB6kayYSndtIymaESvoraZqm+lGtvomQVeE/ofOPN/g9F0h/lnQYiqUtu65YBjgCBCz6Dr3j3SWFATRACw71wPANlTl/FSnxGWJibdD92mCmLmhNX8Jw6MeB65M3vyotCTtwDHrG3H/R6hd1AYGLXvWE9UlTEjeeuheKnPkHPnrxrlZA6fcd2/V56Miv0j2VOXXPftkcbDmriYM49A/drJvpMYwbDeqkSwWyt0TJtVoSIIwpBuAODEhKapZhvWcPerlQ3bFVmMR3rTseHKxu39Hc8DAEk5jDDD+srqNrGOsrH+IzZ7CUk7UIyIhbqy6VB53SaG9Y/1H86mJmuX7OOzkVR8JBbqNKr2lbU7PDUYRiRjQ+nEqJFe4OJGvThOkbSTz8ZYR9lg534j79sWY5Wwq0N87M7ZVgn/1+LAvDXMMhTQoDgQEgcA4P4Pe3/zg6jlw7UIChYJihU9eXBm4pnMTDNLgRaM1b302dPBBazuzSwHwTFN0/SpHIJhmqqCpjnv2MGdvSJNRkBRzWEAAAQBBCk40kHyPwF33ZjLQTAs58OFoqBpBQcN1031yjvFbEKVBWdJY+/x3NzWgtWs4LRVsLRvLHIBRTAUJXQ1BAD6jK/7/FMIguhndBhRopAywlwm0n/5OT0cDV4BAARB9fR9l57R5QDQde4JBMUsGjQycTkW6lSnhk7m9OZ6dcIwxxjh7cY8n4T/hcy0YR18OjlT3cyUzHJJZyaeycw0sxR409Dk6UYY7p1yMKwKgq6hzGEAmEVrLIq2gvxypj1OC6nIBTLW8VqgYT3JekYuFR2L5Cms6sD6urKtKIKORS6wtH9J9e2nun5gTgCgaUWuTjHMWsbg1o9VhwaykTEhOSkKWYVisUxctnsIPi1LAiAoKovqsp3ey29El+30Dl5MZ1Oy009SNtTmxAcvpe0eIh4UrIXOg7om4q6H7Ks20tV1OOtAQYN0Sh0blrs7xFNH+MMHOC5jbe36bcxXf1wKAIN90qN7irqc/Py1ytoGAgB+//3Bk28WmFZIkgYAFI3c/17HLXex1fU4a0ejEeXiaeHZJ9LH3iiQBUwDtD/5SPDwaxxBIPe+277vHra2kbA75s5uUFmD77jVtmYj3dhKenwYSUI2o02MyVcuiC8/nT55OO+4Egsf/n33J//EDQB3rR+OTCoA0NhKPvBex9rNdEk5hiIQmVR6rkpHX+eeeSJ1Hc/8TBtWPGLy1X4HgOyZ6emkOfw7hiLxE52HAMBdvkTIxKzRAGBRWLWlm451fGNL++8BQIoLsrTfHLuIOLwEnybrVzon+rKl9bboGO8upVwBcvBSKjEpXjkcA4BANXPrx6rjIfGuz9R0n07IgipkVU3Tbv1ola+S/sW/9PLpa3g4UAx+/y+8j37EaTm4zePDPD6sfRV1/3sdXEZ9YPtoPHoNxc4fPqvW1BP/9j8ltY2EISwtx0vvxm+5m33pN5l/+pOwLBd9GdQ1kb2d0r9+u6SljTSE88leXoX/xT/7NmxnLHKHC3G4yOal5L2P2t98JftXn50U+ALZzfhLscik8rE/cn/kD9zmy1jFolV1xJJl5G8etzqLzoeZNixefEdh/e+Ctvs8lW3GT2dpc3x82lhkJk9hIYBKyvTLtuDgaFEY6cyU1TOqorFuIjLCh0d4nEAHL6XCw3zbVs/5VyMAYPfgqajkLadEXg32cSv2+I7/Jti62R0bF0a7MkL22tTKp/6P5z0fc+rhsWG567KYiCk4iVRU4c1tpN2BAsCls8IN0lYAQNHol75XUlVHZNLquRNCOCizDnTVBtpfggHAbfexGAZ//dlJa7Yplq2m7nyQbWwl0yn1/MlryB6LKEuWUXqY57TuDnFkUBJ4zV+CrdlM21gUALbdYvvTf/J9/k8LHANgxl+Cbf8j98f+yA0AXFbr7xZ5TguUYuXVOI4jh1+bY5RXDAZz2jEXAqiiyTfI0x0FjEQZXk3bUKegcYom6UI/UZVWYll1vv5ERjkDn/+7gnKzsCBOzJ9Upq+zpZxiMJW13OggABAur5SIWqOLcH253hJs7nI+HRGzcf0nyXrzok3kKaysEHHaygEAQZC60q2p7Lg5dhE5/pvczlLD8HnlSAxBoXWTp+Nwbij4zFcHAQBBcjP0kc60psLhX05oagFz6ezYWPTRDzsBQFXgb/9w8pVn817gKAbtK6lb7maPH7rOR24+rFhHAcDTP0v95z/FslMTTxSDj/2h+yN/4AaAW+5mX3k2c/DFwk6Pu++wAcCvfpr6yhdixrx1Ptl5Tnv8O4mWNvLZX6RPHuYlcXoYZXegf/cl//Z9NgC48yH7t74UD43PZvW4+12OXbfbJieUr3wheuCFrDGgY+3o9n22/u48Z9T508+dAwAE0EbbamtcIVqY9YPCJUHlVrC7LmQOWqMLgSE4hTK8mi4hayeloYySAAANVA20AFEzKFyyZpjCifk9eJmRwCgnP1WevIysD4oDxVZFa+n2i5nXSW/A3tiaHRlQRYGta+InRgmXF6VoYXJc4bK6ROGyeho5naTLqrjRQbq8yrtue+TYQdLjS3VdcixZnurMLQ4yVXV0SbnC86okprsv25vb+YkRSy4EQ5mqen5ilBvpz2/UgliUZfT42FXDeA0AqpLzBZlJnsK6MvT8yoZ3kYR97+q/yvKRs73TvgU3CLPe0VS4csQ6cTUsZnpK8//zp66JoGgEADovCxZtBQCqAhfPCBfPXI9R7Jo4e4L/57+ImG2AqgLf+lK8soa47X4WAB77tGumxjE4fZT/4l9GzJJ5Zv/+1wo7naRT6t/+4eSvD1e7PCiKwtrN9AtPWR9FM7vvsE1OKB++dywcyhuHZtLqi7+aLePsMKgDQ3AEQe2YBwHU8KiYDyRC19MrAWBEvCqqfA3VhiNkXAlFpTEjPCkO1tLtGSWRgEkAqCSXYAg+IlxNKVFezdhQJwDgCFFPr0IBHRO7U0rhwQgKqFFODdVmw5ycmsaB7OfPGXIn5q+jlttQV0yeSCkRo0xezTQxawU1oysyx5LlkaOvAQBTUSOnkrbqBkCQyNHXfJv3ZAd7zBK9av3kBiE4xgdHhclx0uO11TSaj6W3VTfo2fUPc5Fef7r7siVXyZ67hdA4U1G9uAprw++vPf5fp6zSQlBOirQTqbECXUVVZQCwucvLWrajGBYdvsglC0wXAPKPl8kK0WNXvvXmpa8eufz1ox3f4ASr+vgtRZZySqKkHCcpqyfHTePn30kWXLH47lfieqBtJVVTP23hsvD4dwrPXOaZvSBcVjt6MKfjSstzLk6z8OV/jFq01cJx4QE/We3DKwa4i/PUVk302lbbJgwhauj2IaGjiztZR61AEZTFXJ3c8aDYbw6roI6LfTRq1/NOSkOd3PEaKufbrFNJLhHUTEQebaBXmeVmzOXYMe+Y0KNpKo4QZnlSCaeUWD9/ISZPmMusoJpHha4h4QoKGACIkZB3406mooaprkdpRtNUlKLdKzco2bQhMdKQvhK6tJIuq9JUFbc7SV9JqvuKb9PuVNdlo21KNu1asR4lKYXLulasxyh6Zi4+OIZSFDcyYOSaCVtis5exdbtqXLVOAAAESlcEGvbVsSU2APA2ezASAwCbj7GXswBQtbli6I1hI7un0d1wS13N9ip7GWvJS7uo9kdbW+5pqtlepTtT2cvY+j21Nt+0dbWkcdPA6ad6jv7MVdaCIPnG5inypAiCaKBxQiwrxIqNaa8VqqEKteUOZtb9cW8+vV2SbpzyBbD/+G7ptT7Vi8Xpo4UX4wb7pNHB3FysfXXO3mRB0+DMArLPwsRYTgHZ7IW7iEEqoR580To+XThZNTnAXUgpMRyZ733p4U9fzR5TNAkDXNEkDVT9CED92FIdc9iMosmqpliODMQRQtYkVVP6+PNmeTFUkFVQFG22GbS5TBwIBSRFkwA0AEh1XYqeOMSNDUWPv564eCp6/HUlm45fOBk/f8KQGGnESGjsmcf5iREACB14ToyESK8/3XvF/JXT+PkTiYunFC6TuHgqcfHU5BsvzcyVvHwmduYYNzZk5JpJ5YbybX+5ScpI2/9iE8kSGIF5GtwyJ+/7110A4F/ird9TAwArP7iMYAgAEBLi2k+u1PM6yu3rP72ai3ArH1smZWVLXozGSTuhCIqUlfXEGz67RkgJO/5mC2knMZxinAFVEe2+GtZToSpSMQN6Xh/d0vYZ88/NSz+pB4hSH9VYBQiC4Bi9pBb3uQEAczuIcr8eNsvz0lMkQhGaJAMA5mQ9j95GNVUDAO53AwBKUyhrXb0qWldlCVldqp9GRtZV4F4XAKA0ibnsVHMNoKilDWYUWfvqF3KjxfVb6Z+9Wvml75Xuus1GEDdvtBWPKqlk4XsAAH1dOQNQfXPhhzYSUgzL10zmzD4LxvBzzmtx9aJwA5xvoIJqplBbgKwuIWundl/PlxGxs5lZ18psmhD7rHFT2FBnFbnEi5cHiGoAKCcb22xbg2I/i7kqqWYfUeEnqsbEbi9R7sHLKNTaIUvJulbbpjKywVKOgUWeVMJLmA1uvNRc5oTU30ivbqBXTes444HUNABIXj5jMn/k20HMaBoAaLIUOzPDyqNpyctn9MDMqKnAjAJn0Ld/YPTkeOhSmC1lVVlVZdW/1EfaSQRF+l4drNtdg2KIs8oR64sDwGRHWBFzZaIEKqTE9ERGykpCUrDkzQQziaFktDc2fnoCNKjZUUU6yPrdtbSb8i3xEozDXdEu8RnWW+MsbRa5osvNeTYsCwRuAwCmvYGsrxL7RwEAc9oBwzyP7Jv87184b90k9I0yy5piP38JZWhDbk4PqsqsaJbDcXkyhuA4ytK68mI3Lk8fPmffuip9+Jy5xmJ1ue/bBSgiT8Zwnxu1M6Bq9J71sV+8jJf67NtXZ09cAk3DnA4jvblMned+meZ57U/+wev1YygKW3YzW3Yzybj64q/ST/0kNdCzmDsMCpJMzNZXYtFcrMNV+IldYHYEgbaV1PptdFMrWVaJO90oa0dJCqEoRN9bNx+MWhYXBJAW24bu7MlKagmij0BmpYs7qQd0i/vl7JvGRkUjSlA5I5xVk51cbvvepDQMAIal7Gr2mC4HgEuZN2Za0JJK+ETqWeOnpRz9PAyzHACGhSsoYLpbmbnMi5nXZ5m1yJkClp1iSIlcvRZmFqK7Z8900tajALSZR7Mq4lRKBJrvaiRZ4sy3z5evLkUQkDlZSIpNdzQMHR7JywMAAImhJIIitTurD33hKIA1rwagqYBM7VWUsnLv/oHu53qN7ONXDxphd8VSI2whp7BKPUsZ0kPgTF3pFl3CUG5J4QCArK9Kv3lWiacAgKyvwAMelKUBAEFR7mwnxjK4z4WX+gy5Ob0mycYZFHI0oSYz4uA4AKQPnbFvW405bXoyg2J1KYm0ygv8lX6iIkDWVcjhuBSKAo4DAH+pl7vcZ0lfkFefyxw5yD3wXvu7Pugsr8IBwOlGH/mw810fch58MfuVL0THR2Yb4S8QSSjaWQFA4HP9xmYrrHHUWRdiZs++63bbZ/7cU73gibDu+7rodGdPEQjFqxnd3mSNngezKIKCFLOUFZNfK7q20rHsypw/CIISLo+cSaEEpcoSRlIKz6EkpXAZwuVR+CxucwCCYJSND49psgwIoimyb9V2TZGSvZcw2qaKon/NjujFo97lm8NnDqIkLcbChMsjZ9OgqhhjZyvruclRjLJlx/qt1QMAQGoktfqjK9gSG87kFEX3c717Pr/9yfc8AwBsKdv2cIu7zrX+91ZffuIqHxf8rV4ERdx1ruNfOT0z72RHeOMfri1ZHjj59TN9+/t3/v3WknY/TmNv/stxHHcQjJO2+0jWAwDOkob42JWpVuSRKysrxOxMKYpgdqZEl8gKf6HvSQDgznW6790ph+PJl44SJV6Y0pGapjlv30JU+NOHzzHLmw25OT1e6qVbalGaSr58TOUEwDDHnvWp104qyQzmcQhd1ul0sbrMZE91MMubVE5UEmnc5zI874ulN8Nl1J9+O/n4/yQ3bGPufsS+81YbSSEIArvvsG3YTv/px0JnjhW2E80JzcxR9ezGfprJKZrs1GZdC9T1Zv/g77k+/WcePZyIqcde57o6xIlROZlQuYzKc9qjH3He80jOIP2WIGuirIlgGrC8AwB42jdkg8Okm/Yu3yQlY4rI8ZPj7qVr+dBoNjgsZ9NMSZXMpUHTXE0rFIFLD3ZpAIqQ5SfHKE+AcHi44AgfHgcE4cPjiiiyVU1sRUM2OOxsrJMzKT4yDppG2F3mKWTXs7khz4mvndEDoT9+TZVVw3Fh4lzop3f/Ug9ngpmTXz978utn9Z9rPrbi4N8fDl+JtD/SWra6ZPjwqCVvpDP64h++qodlQXn1L97AaVwRFU3VNDmtyIK7ojUyeA4ACMqmJ5tJTmGlshOp7ISLrbw08Ou8eABxJBj50XOAIKCqiRcOIxiaeP5NPSrxwmHQNNA0s9ycXhqbDH1tehNj9CfP63Z3BEM1WcmesZ4gUayu+K8P5BIMjgMA3zWk1yv0TK9QWNo2C5oGxw9xxw9xLg/6wPsc7/+ky+5AWTv6z/9d8tCOkXTK+szPB6drjvUEt3e2BF5/LjYZL1z79WVvaiU/+X9y2uqJ7yW//sXYTHf2dHHL2jvcNFCMqF9+j7d8GUGxisQHB0/GlQnS5SUcbk0WEQzDKJutvEaTRVWRSZdXU2TKW8p1DLNVjdnxAXtdq9p7CQBIhwejbJnRPru3ND3cI2dTCpeRsymCdVLeUjERJl1eBMXYqkZNkShfWbbjpL2qCaDb2qAppmeIczF+Oth6f7O4txZn8M5neqBQXlXK62wyn5vTqKqsivLo5Vf1qWuwZ3qqbiGnsHQ6Bp8x/5xGm95gqU3tuuTOdpo3QBpygLz0FvS9nfSypvTrpwt/uqNQXVZmTLx1iqYvQiKmfv9riVeezX731+VON+ryoDtvtT33yzxDgDzlaUkWt/WUVeCMrWisjsOFenxYLFLoTwZoXJKbr/V1Fna/vL7st97H6s46nZfEL/9jtOA9KWb2eoebSWXzrrL6zeN9R1LRQYKyZ1PBeLATQVBN0wA095I18a6zoAGABgD6gQLBIy8AgJAI22ua04O5jSyhE6/oAX5yFABSmSQApAauAoCePncYAYKApmVG+wEgmojoWRbI+Nng+NmcQ/j14alsjw5fAAA+FbbGTZHXWXkxydI+r6Pe52zQ/5ljLfBdg1bRvOHOd0kTi3OZFs7IgLT/6dwSeEVNngYHgOTUAMRfihWzT2/ZbV1aKsjGHYWTNbQQZZW5ei+dLeq/eh3ZK6pz8vMn+YLaCgBWrrtmT4h3WHTcJc1cKtR3/leTw2fGet6IBzsBQNNUXUPFO/U1xKkXeZ6/tZYe7OLD892Ukstr7g3FesZNx+GvtYpmkPd8NlfuqQ5syApRQxJJfssU/zsLa89popmLcUN9kiRqBIkQBLLzVttMR3mKRt73CZdFWJD3fsy5/+n0jOUa+PDvu/XAxTPC6FBRw/91ZDcmgJ6pOaOFOx+yL9wY/w4Lh6DsIp+3APW/EFnimza/V8wmAGDo/HPWaACwKKxK35rDl78mSHlzot8BPvRZV2UN8cozmbMneDF/tQ5F4Y4H7bfey+o/j884p0USteNvcNtusQHAH/+9d3hA6rw0Pe0qr8L/5t/9lbXWcVlBWtrJf/pK4It/FTEsTSgGH/8j9757crX/4OuJ6dQzuI7sVy4Idz1sB4Bte20NLURf17T3BorCPY86/s8/eKdTXyMuf0Nl826HtwbDKUnMZuIjved/JWRjAIAgaEnNOn/1KpujjCBtopCKjl8evPyCIgsAwLoqVu76gwuvf3XJxsdQFO8+/XMMIxtXP6zIXOfJn6ZjObskgmLVS/YGqtdQjFsS0uHR84MdL6rK9J/QuvEx0LTu0z+vW363r2IFhlN8Jnz1+A+4dHjONsyHpjXvYuyB3nO/bFhxv8Nbq8hiePTcwKXnzG1YYCOrW28pqV1P0k4UxRl7YOsD/6bnOvvqf2STuYNAcdJWs/Q2X8UygmT5bCw4cHys5w3zIGuWKuZzqee8UI2rHmJd5d1nnmhYfq/DX68qUio6OHDxGf1PMJilP8A8LhQABLsOI2jhN6tB3pMmKdzvnrYCAJZF73nEfs8jdlHQ+rqkkUEplVRRBLx+bOlKSj/wAAB+9dPCDlnf/Wpi0y4GxxGvH/ve0xXnT/FDvRJOINV1RPsqEsORKxeESEjRlVoxDr6YbV1B7r2L3brHdu4EHxyTGRZdvYEOlOVqf/6X6TdfLbATUOfcCb6sCr/W7C/9OvPxz3lcHpSxIT94tuK157MDvZIia+XV+KYdTHkVns2o3/ta4hN/7LZknJOSmrXNax7ls9HRnjdELk7ZPC5/o8jnXFg0TS2r38RnY6PdB2Qx6/I3ljdsBUD6zv9KT4CgWP2K+0a7DlQ07Whc9YAs8UMdL1a27Kpffs/FN/6fnqR142PuQPNY75tcKmhzlpU3bGPdlZfe/KZ5CkMyrtZNH1IkbrDjBRTFXCXNwtSO/znbMB9YV3nblo+FR86Hhk47fLXlDVtJ2nn1+A+n4hfayPDohWS4HwCa171bFrP9F57W5UImN8vBcGrFjs+QjGus5xCfjTq8NXXL7mRd5V2nHtcT6MxSxZyXej4XyuYsW7b1E4lwb9/5X1OMu7J559LNHz376r8b7l2z94d5XihnaZNuw5qFPIU1Ej7TUL5jKHRcVub7FvqtQJgaVZEU0rqcbF0+faSUjqrAEz9IfuUL03NhMx3nhX/84/Bf/5ufpBAUhdUb6NUbpr29Os4Lf/aJ0L2POmZXWC/9Jv3f/yr967dLahuJTTut1qjnf5n+wp/PZtTjstofvj94rdlTSfXPPxn6t2+XOFwoQSL6HmmD0Lj8V5+d7L0qfeyP8s63mhMMpxpW3M9lwudf+09FyY03hyFn7tU5f/ArRjg0dJqyeXwVy8zPQHj0/ET/MQRBG1Y+0Hnyx+GR8wTtqGzeqcf6KpZ5y9quHv9hZOyiLhG4RMOK+7xlbdHxy0YhDm/tSNeBwcvP6z/H+/L8v+dsw5xgOD3Y8eJ472EACA2d0lS1vGEL667MxEdhMRrJpUJcKgQAqiLJEp8I9xpROpXNOxlHycVD/50M9wFAaPCkkInWtt8ZGjodD3UZyWapAua61DCPC4XhVHDwhKFPFZmvX36vw1OTjPTrsbP3h/leKH/ttSmsmpINDOluqthtSPaf/gdT/G8r//Of8bPH+a17bEtXkOXVuMuNURSiKFoqqQ72SeeO8y/+KjPYV2BsZbD/6cyls8LDjznXbaUrqnGaQeIRta9L3P905oVfZRRZKzg0M3PxtBAOKR+4c0w/cbSmYfrE0d/8LF3wkFIzLg862CddR/ZzJ/j37Bt99MPOzbuZyhoCJyAZV4f7pcOvcb/8UUrf7tPXJTa1WpX4LLgDzRhBj116zuidc5JJjLsCTcZ52QDAp8MAIHAJANCnP7KYwXBKX8DyVS5XFNHcm/Xn0xVoNAsBYKzndfPPWZjZhvkQGbtkhCeHz5Q3bHEHmnIK6wY00oK3fBmXCunaSme8/2ht+53+yhVmhQWzVjH7pbYkhiIXKth/3Ajrc0ma9eoKa87+MM8Ldc02rKMd3zT/XAgIhuOsQ0rGSI9fzqRUUdCF9oalwuSYGC8wHCiIUY414ho5c0K+cFmTpuwC84QureKDI3p4bFguNgQDgNeez2yqs9rjAeDNV7Ob6gaMn6KgPfG95BPfS+I4ooF5++oc4AQCpuzW6FkJh5SvfzH29S8WvYbvv33MKjLxva/Gv/fVuFlC230AkE3NtoZt91SV1W9xeKoJ2qF/mc2SQP8kuL67TQ/rPsD6PhuG9WMYueX+L+blAcCJvGGsIguSUOCy68zZhnmgSSZbuMDFAYBkXPrPRWnk7NCs16ytAECReFnM0qw/TzhrFbNfapjfheKz051fPw0Gmfoa1pz9YZ4X6pptWLLpuFEAcLGVicwoAJTsvDt66nU5k6q8+32jz/7EnKYYKEHoisbRvDzVc1mMhgBAUxVQFXtTe/TUG9YMU5TsvBujaATDIydfF8LjRjnWdNdIsXKcS1Ymuy4W2xTqXbt97Pk8Y8HsbN3NHDnIbd3DdJwX00nVF8BoG+J0oVcuiC4vOjmhAMD2WxgcRy6fF1ZvoA++lHU40UxaRVFEVTUuW+B1pzOXD/9bwCyn+3tKW5du/nAmPjrSdYBLhWSJq2rZXVq30ZpuFhBEEjK955+yiA0jrs7MLXIGi9AGAADE/Gci+g5xQ7DgRs6PGfd+Rm9YSBXzvFAWA/lMZukP87xQBM2Wt+5GMSwydD422mGOMiigSg2WVN12ovO7FiHGsP6NewBBYuePKdm0d802lKK50YHMUI8RTvVe9q7dIcYmufEhAPAs34AQZOz8UWFyXEolCI8fAFCS9m/ai2BY4vIpPpT3hp88/JIicJV3vnf0uZ8Y5aAUXbL9DtC0+KVTciruXb8Lo23RM4coXynh8hIOd+z8UXNYTieNdkqJiFGOs3UV6fYRTk/y6jlF5H0bdpGeQHaklw+NG+2RUonA1tvktHXRbU4qa/EPfMoZDiof+0PXuZOCIGh8VlVVeP8nnRXV+Jf/MZZJq/GoWlWLh8YVTYP7HrVns1pZBZaMq33d0qkj17kxaOEgCKZpiv7/zCgAzTw74DNRAGAcgVR0wBCaqWjarqnKpTe/aaw0ofg1TDkBgM9EWFdFbLxDf5lfBwtvgw7FuPSBFQBQNjeYvsK58EbOCZ+J0PnnBeMEgxMMb/rS8AJZ+IWasz/M80KVNG7qP/mkpqm1a+6Nj10tOHNHAcBhK9N/uO015n8kYTfSBbbdUbb3fpSkvWu3x84dCb3+rH/DbgTDSG8geODpZNcFc1hTlOTVs4TTo+dN9V0JHnzat3aHURoAuJdvkNOJzECXf9MtZrnO1GbO6XIw2oZRTPj4a3xwRM6mY2cPZ4d7HU3LCKeHG+nXyzeHze00l0M4Pdz48MRrv3G1r+MnRoTJiciJ17Ij/eb2uNvXJS6djJ49XHBsPAtuL8ZltNJKnOe1gR6puZUYHpArqvHguHLoFU7/lieGgdePtS4nG1oIRQWnG6UZFBDo6ig8/58TFMVpyo2iOEU6WabE7ajR/8dxmmUCGEZRpANFMBvtxzGKptx6ruqyTZWl60iCZZkARTqbavbZaH9TzT6KdLBMAEFQhvZiGIWiBEXaS33L9DL1vInJHkUWKhq3F7s+CIrJEm88ADhpcwda8pPMQXj0AoKg5Y1brREzhxtFWHgbdHyVy41woHoNAMRD3frPhTdyTsIj5xlHicvfaEjK6jdDvmVtgSz8Qs3ZH+Z9oTSS9RCUHcPIYuM1HACWVN16quuHALCu5bEsPz1TpUmnEZ588wV9SogSpCIKmqrqB7BKqelhiDlsRhUFTVb09AYYRYuJqKbI4WOvmuU6KElZ9t9IiWjojef9G/eke69grB1nnWIkiKCopoAqS0b5RtjSTjNyJqXJ0tS4OnddzO2xN7YpoqCKYkEdPwvf+lIcYNqU2XNVVFV45om0qgKK5v6gcyeF86cETYOrF0WAafl1E/AuVVXZbitlKPdkrFNRBIp0AGiapjnY8hJvmyRnNQAMJUQpo6giL8QBQFa4VGbCRvtpypXMjKWzQQRB0tmgoogeZ73bUZPMjLkd1YKYTmeDGmh6mXqNssT1X3ymafVDK3f/0eTQaYFLkLTTXdLce+5X+ps/Huxy+RsbVtwfC16hGE9F8w5JSBJU3hrl7ERGL0ZGL9Qtu8vmLEuG+wFBGLvfW95+6c1vilzhbmZh4W0AAFWRqlr2UjZPJj7m8NaW1W+KjF3MJHITgoU3ck7Geg/5K1cs3fzhsZ5DfCbi8NaW1W8Mj16IBa37cK+bhV+oOfvDPC/UaMeBspZtGE6Odx4yTbzzwAFA11YAkOaCx65824jbtPQTRtggfuF4yfY7VElMdp63xk1Bevzu5RupQLl9chwAXG1rPSs2Jbsukt4S97L1hMcvRkLxSycDW28T4xF+YtiSPbD1dgTHJ4/sN5cjJWLOJSsQFNdHXqTbjxKkrhg8KzYBQLLrIunxG2ExGjLaaWmPGW5ipGTXPanO8+b2pLouBLbsE6OTqjTHvL0gxrtB10Tm/3XML48FaisAyHLhgKeVE+LpbDCdDXqd9dFEn9fVwItJlglk+aggJm2MT9OUDBcKeFono1cAgCbdOMbEU4MsE4gl+0UpLUoZUUqTpINlAhwfZSgPgmAeZ52qynamZDx91uOsNyoNDhwXsrHK5l1VS/agKCGJmVR0UJayeuxoz+s4yQSqVpfVb+Kz0bGeN7LJ4PIdv2dknwfa1ZM/Lo9sLa1d769cpWmykI1HxztkMVfFnCxGG0AD7fLhb9WvuLesbpOiiON9RwYuPWuOX2Aj50RVpItvfqN26W2ldRsIkhW42GDHS6NdB6zpFsCiXKjZ+8N8LlTT5vcCAEZQiiRUtu/tOfpTI6ooAVfeUHBZ3f3mnyYQKHLicjHMB+abmXNRwAyCYUY5xrjJt2E36S3R5eawnmo+7URM49jp9iDojPHqW8C2vbZjA3XHBup+9EKFNc6Ebgye+b9BeWBVVdkGArdZ5LOAICjklzP/vL8bNK1518yFrXe4odStuc8qyidvzjmZ6DL/nHnUzBRFD2MoxsyDDXWuaXXDfLqDERZjk6oo6OWbw3qq+bTT7Fww3Z5rnAy+teiL0zP/NxifPGf+OR/06bC5HEuZ7/AOiwhBOwAAxUk9YPYmMWN9Z9pon9/ZBACRZG+GX7SViLcDKIaqioriKGigXuNBNO/wv5CmNe8qqVl35Nd/bo14hxtAzcq7zD/n5TgacDW31d4bTfUDQEPZ9o6hZ0PxRbPtLZBlH1iWHEqmJ9JchJOzMsESQkKgXJSUkRRRQVBEEZWanTWZYEbKSlJWktIS5aKEpEA5KSkrMT4m0B4YOzEGAGVrygYPDFIuKju5aLaGd3iH3xZQFCcou+GrsegY5TM2nyikdPd3FMU9gSXZ1ASXLew0XkxDWchTWM2Vt5zs/J5+vIyN8q5qfPeiKCyStNfX7FYVqbv/RWtcPmRteeDTj+IBD985EPqvn2jC9Eo/7aGljBRYHkgMJJw1zsxExlZis/lt4Y4wF+HGjo8BgLvB7Wn0oDiaGkvRbnri7ETV1qpIZ0TsF31LfLaArXp7de8LvZqmLXv/MnuF/cSXT0iZ2czqs7Tn7QaCorklUU0rNgGfncCnH2G3rAIANZ0d+vTnrdH/++g584ueM7+wSn/7QTGCpBy6wgqUrwhPXJplNbx+yR2jA2+KQqp11buvnvuZNboQRvm+svZI8AqXmQQAVVM0TfWWLh3tf9Oa4VrIU1g4RhuHYWWFKI4VPtrNded2z3vu0MPjf/t1Qf9ATnEURRwbP+V21QIgMKsdxHXndqKyBACY5c3sujbzN3ViPTFXrUtTNMpJpcfT6dE0SqCRK5HUaKpiY4X8ugwAmYlMejxdtqaMclJiRgxfDrtqXOHLYVety1XvUkWVdJCOSoe7wZ0eS8d6YzI3mxsbzNqexcW2ZGm26yq7ZCk/MqzyHGZ3oCSJMjZhdBizsXIyAQBs2zI5EVcFQRMEhecxm03lsihjU0UBtzuo6lqupwsAmIbG9KULRq4F4l6yJt55xiotgqtlFUbRyZ6LMpexldVmJwatKeZiZi7S6RWTuT5pcE2tMigpWY5j9GS4Q5IyTmd1Mmldnp6Tmblo2sPzMbMEAEpLVgZDRdfQFwEEqWu+FcWIRKQ3GR+uqt+Ok7axgcM2eynNuCnGPT50XBTShjyTDhrpo+GuyrptXGYyFR+2uyqr6rczNn8i2sc6y0OjZ2WZr27cPdxbeBWSINnqhl2AwPjQCUnMVNRuxgk6GRuKR3qNcCTUYZQPAGXV6zGMGB86nklNiHyCYX0AgOF0TeMuBMWCo2cySevC/ezkKSxeTPicjZFkLwD4nU28uAg9HgAInEFQbHjsmDViBmYTueW8497ne/UAgiL6sfZjJ8YQFClfX64PrwCg94VeAAieCxppdEliMHH2G2eNvLGemLmcWZilPYsL4fN7duyWk0nv3lu5gT5NkjVJ0FTNs2M37vGGn/2NKvBkaRlVVg4oJsciqM3OD/RSrW3C2IgYClKVVbjTyS5tS509rWl5uaw1zQ/3ktUoSfORcdIT8C7fzEcmQFNpXzk3OUq5AyhJ8ZEJTRZt5fXc5KjxzRXC4YmcfT2w/pbY5eNMaVV2YpApraZ9pdnxQQDEXtPEhUZJpzdXssOjB0DT9JLlTFLP5V6yJleFIvlWbg+fPohgqF4XgEb7KwjWkd/eeUFT7uGRw7U1u8YnTjkclcnksMNRybIlug7yuBtT6TGG9mA4nclM0JRbD2iaZmfLUukxUUzpuUpLVmI4lckEVVWuqtw8NHwIRTCXqyaVHgfQ7Gw5SU57XNsYn9fbkkgOKYqgV2FnS3GcEcRkNjOp50IQlGG82cykJGf1NLMrU29gCZcNB0dO6z/Hho66PPW+0nZVlRKxwfTA4ab2+7suPmnIKcZtTj85fs5X2g4A6cRoJhUc7juoaaqqyiWVq5PxIXXGBuballtVRcQwqqJ2y9jQUYGLNy97cKDrJZs9oI+5SMphhMFUPgBEQ1dS8WG9PUaBZVXrBD7BZ6M1jXuunJ3XVj+DvFX/q8MvLKu7f2v7Z7a2f7a97t4rw8+bY68bScq6nDVlJausETNIPn9IGg1popQ5diF7Mm+/u4FZy2iqNnZ8TFdAZoppIkteU0xh5tOeOXHds6v0zz7Mbl5pjTCB2VhVFHG3W5NEKRSiysulcJjw+qR4PHPlsr51XI7Hsn09oCooY1MFnh8eUkWBHx7CnS4iUIqgKMrYcK+PLCmTk0kj1/VBODzRi0fZygbQ1OjFo7ayaltFXfTSMXt1M+n26RJXy2pF5Gyl1eaMmqoCaFI6kfM70TSMsqmSgJK0lE6ylQ1GyUbAKNnIZVTBT47x4VE+Mm7UxVY2RC8cUeUCE/n5XGdNUwE0QUhOfflZI3BGUUQcowUx5XbV0bR7bOyE21VvBNyu2rHxk15Po5GLYbxjYyecjqp0ejydHs9kgiUly2WZdzoq3a760bHj5g0ogcCykdGjqdSoUQWC4ooiYChp5KIpVzw+kEgOGWmM7AXBcVoSc1udSypXB8pXyDKvu6GoqqSqCoJiZrk5/QxyT0EqMcI6KwJly0NjZ/MTwGDX/t6OZxRFwHBSkQVNU3XvH/34Bx1z2IyiiHp7zEIMpxRZVFXJGMqxnsrGTe9u3Pho85b3N21+b8OGd5nTm8kbYSWz429e+qqLrdBAS2bGFLVAt7gOcJyx20rD0avG7vBiiEPjo//3P63St45FaY/jlo241yV0DlgjTERfeREADB95YWIMNE06dRw0zRCmzp4GAH6g3yIRJ0PRl18wskcnxs1FXR8oSXvaN8jZNEbRukROp9xL10npBG7L+UDzk2MYTWfGBoxcuI31rdrOhUYobwkdqGRKqhAUlbkMW9mIs05FyGqailGsXjLp8usBTZb1ko1cqpRTtZqq4jYn5S0x6qL9ZZ629ShOGJUazHmdCYKtqtycSo/ZbAG7vdzhqEAQVJKyblcdSTpkmQPQMIwuL1srimmG8eoBVZXLSlcLQtLIZRyiomkqSdpttkA6PYHjdCIxxLKl5WVr0KljDAAgk52sqd4WTwy4nLV6FaBp+r4TI5fN5tfLdLmm0sxKNHS1adkDTndNKjGiqSpj82MYqduhyqo3QDWEJy6hKG7IzemzqWBZ1QabozSTmoiGrqYSow2td05OXEzGBlOxQYenViru9ToxfLKu5TZVEcPjF6xxUzA2n1E+AJRUrC6r3hCeuMSwgdLKtQzry6ZDodEzNc238NloOjGi58rERnuP/ayybc9E9xFVFiva9xYzH1ndGmjS5WarACCeGSk2JbxWGxaK4s31d0hytm/wVWvc7zpERaDyi58DgPiTL8d/k3ufvD0xG92z33ojfO6QVeXNUILzOVtKXw0AyGX3r96hl2wEjKj8fFNMRU3XVSjxdV9no1gEQTRNq67aMjJ61Bwwoqw5AcAUZSknP83cUSaJNU0xjJ3qyNSHnasadkSCV/hsJFdd/gefC+5sBwAUxfUhYWnlWlFIxcJ5zpgzQBAEmfOmm5n5N07Jre2pX/dAqO+UKvOV7ft6j/2sYK68EVa5d8XSmrtS3AQC0Mbce2XoufFoUVU6f3CcVlVJEAt7gv1uwyxrsop+G5j6TEs+MyQFu5SF6SVLTQNTyXlVzCh5mqmo6boKJb7u62wUq6uJYOiCJWBEFcSUJq8cM/OJMkmsaYphPO2GVuIyYVWZ3gBr8couqK1g6nCrQPkKknYER3N2ruJo82+hzsy/UWdme4YvvhSoW4fi5OjlV4vlylNYTZW7T1z9nzQ/CQB2OrC6+b2LorAAgOOj4v9KhUW3X+eD9NYiZ9MIimja7DP460HOpi2BRWGxrrMo5lplBH6LiAQ7rKJ5M1l8lnfTIBm33V871vEqxXq4ZOHjAPOM7qqq6NoKANL8ZDEldx2wbKnbWWuV/q6D0iS9tMEqfbtifnGiFOHaupSq8FJVPoTAyBIXShG4m8VsFOFz6P+jJE547RhLU1U+lCEJr4Ou9rNLq80SBMeoSi9C5NlcF53fruv8DsUI1K+d7DuJEQzrrSq2yzhvhDUWOVvpXz0evYgiaLl35VhkcXxJpvyw6mCGIa3kc++3rWkzSwxGPvdvcjhmlZqg6ivL//EzABD+xi/Sh8/iAY/n3XcwbY2apgrdQ/EnXxaHJwAAEMSxZ4Nz32a8xKukMty5q/EnX1FShRdNFtIeAEBpil5aT1SXkTXlZE05UeaDqcMh3Q/vcz+8Lz95jqGP/73KW9eS80AQ25qlttWtVHMN5nQgNKlmODkc46/0ZQ6fE0cKv4tmQjXX2LetplsbMI8TQRE5lhK6BtJvnuWv9AEAyNNDdPeuZShFaCrYWsqZhjJVlKVQ3HvbajGUUDMC5rIpiSxKE3KKz1waZBrLXVuWKilOiqZUXtJU1ZCApiEUEXn2pFGyGdzvZjeuoJc2EJUlqN2GkrgqSmqGk4MRcWiC7+jlLvdqYoGVnxt0nTEHy25eyaxoJipLMAcLCKIk0uLwBHeuM3P03Ox5dSr/9Y+Jcj8ADH/2n5VECgAARZkVzfbta8iqUszjAgRREik5FOUv9WTPdMzyOWHMZbetXkq11pE15bjHhTAUyLLKCdJEWBwYyxy/IPTM5vpghqwtt29fS7XU4n43amMQbLYTAQY+8JdWkcEi9cNiqKpC2X2qLNB2X7FdxnkKq9K/xkZ522vv1X+qqmx8kGIhX6PQDwLkhcT8DYrXBFFVgnmcZX/9Cdzr0iW2NUvppQ3j//Df0mjI99g9jls26XLc63Ls2Ui3Noz/3f9T+etf9S8G1VJb8sePWaULg15S5/3gvWR1mVmIueyYy041Vrvu2pE5diHy/d+o2dlcrhCS8H/0Ad2mbkCU+Ygyn33H2syxC5Hv/VrJTC8PaYqKsTThZulqf+J4p3NtExlwqoKM4BhmpxEUxey0wom4g8acDF3tF8ajUiSlZgW6rlQKJw0JVeHTZGWm5z2CYZ533+7Yt8lyWhlKUyhN4T433dbovH2ryguxx19IvXbCnAZuxHVGEPe9u5x370DpPGdpPODBAx7bmqXuh2+JPfFS+vU5TTw5MK9TSaTwEm/J77+XrKswR6G0jyj1McubEZqMP1VgGYpua3DdsZ1Z2WJo4RwYiVEk5nbQrfXO27dy5zrD33qy2KtXB6VJ74fus29dbY24dhalH87OWMdrgYb1JOsZubTfGjdFnsI6fvU75p+LBS/Ey0vXqKo8c46Zeu2E2DeKOljMYUPtNqIigPs9ljRzQlSWeh69Hfe6crMaBAEAlKG8774j+cqxnLbSz9DT01cEHPs2J545mMtvYoHtUbO8aF4zRVGytlwPKrGkEi9sxZvFI4zdssr/8YcQ3PRUa5qmqNMSBGE3ryTrKyc+/+3cK30GCEmU/umH6NZ6s1BTpo9UZDetwNwOvqPXiI29ch4QBDQtc2UYALieCQANNHDvaI8f6nBvb4sf6gAt53LBdU87K2e7x0HTJn58UP9JeB0oTWJ2RklxRhpAkMAfvNe2Zum0BEBTVNBUBM/rkChNScECY5DFvc4ISQQ++x7b6tY8qaoCghgqA3Pa/R97iKwpj/74ubzJcxFwj1PNcOV/+ynMNe1EaoE712kVAQCAbfVSZtUSi1CTFQRDzSqMWbWk9E8/NP4P3zCfYmIGwbCSzz1Gt+Umy0oyzV/tV5MZ1Mbooy0jJX+1X+wflUJRudDVhkXqh3Nic5dPdB4CAIe/TsgUns3k9Q9Jzs7HreFa0TR1bOKUVQoAANz5Lu789DKq8/at3vflbdqeD8yyJgTHYj97Ibn/KIJjvo89yG5YDgDMyhaiqlTN8uFvPZk9exVzsCV//AGqoQoA2I3LCyqsBbZH6Bka+9uvGz9RG13zzb/Vw6lXj1/TcjsA0K31gU8+rOtZORJPPPsGd6FLnoyBpqEMRTXVOG/bwqxcAgBEmb/kj94/8flvFey77oduMbSVksrEn3wle/qykkgjGEZUlrBbVzlv3Uy31utXZhrzYzkVjr9x2fjfLJ8mXxJ7rYAp17a2zdBWfEdv4vlDQu+Ims4CAEISRLmfaqiilzXbVrbI8RTf0ZeXGQAW+zr7Pny/oa3kUDT+9EHuQpeu9XCfi1m5xHXPLtznAgDnrVvUVDb+69fM2QtClPk9j96GueyaKKUPneEudMuhiMqLmJMla8qZlS1kfWUxf6Dki4cd+zYjKMJf6c+evSJ0D0mjQZUXAUFwv9u2ts193x7UzgAAWV9p37l25ghUx3HrZkNbJV94M/bEfk2e8mhFEOdtW4y+LY2Hoz8t6iW+WP1wdhAEdZY0pMODAOCtWZGJjhQ8AP5muDUAAI5RiiIu/poTAAAgBJ49dTnx3CEA0CQ58t1f21YvRQhcv8GR7/4qe7oDAJREKv7ky6V/9mEAIGvKEByfvn9vPxCS8H/6Eb2XCL3DwS9+V+Wm57AqJ3AXu7mL3Z733OG6czsAUE3V9h1rUges1iKi1Oe6faseVhKp8b//hmGJ0xRFHBoXh8a5852lf/phhCzgjXkjMLSDNB4O/uv3zHueNFESB8fFwfHUgZMIReJ+dwGduKjY1i+zb8vNmPiO3uB//NBsNZPD8dSrxzNHzpX+2YepphoAcD+4l7vYLfTOYT9yP7wPIXChdyT0Xz9WYklDLodjQt9I6uBJfZu6Kcc0ciQe/sYTQs+QHI7nRWiaPBlLvniYv9RT/k+f0Uej7MblxRSW87YteoC/2m/VR5qWfPEwWVNu374GAOzbVscef97cwQwWqx/Oibd6uaeynWJ9AFoxbQWWVULdreFk5/dOdH7vxNX/aarMGbAWCEU6mxvu9Ptab9yRlZkTl4ywmuGEniE9rMmKecfydD9DEPOQ+G2Ifdsa3SSnycrk139WsDMBQPwX+43nwXn7tvxIAAD7rnXGXDj60xcKrhvwHX3J/Ues0hsG6sj5yiux5Cw7NDVBlEZDVuli4753lx5QM9zk135W0MavcsLkVx/PGd0RxP3AHmuKGSAELodjwX/7nllbmZl9DJI5dsGqrUyII8HsVIcn6yrzI3MQZT7c59bD6TcKm94MOULgVGN1fmSOxeqHcxIZOt9/6qm+E0/0nfhFsOeoNXqKPIV1g9waJDnLCzEcp2/QCAv+//beO0yOq0rcPpWrOueZ6clB0ijnnJ2F5YSNcSbjZUkf7C4s7LIm7bLwIyxmFwPGgAEbGwecEw6SZeU4Go0ma/L0TE/nWLm+P6pVU13T3RpJM4Jd9D7z9HPr3FA13bdOnXvuubcAhPwZCjEYyclHxvVdUM6wipDT3Kgpt+jkrxPr9tVqItvSKU4U0DIqiihlzrpCCL9X66MappUL1YScyqQPFLWXU7vO8Ugstsn1BaApTWpOjXEcemkhq8s1j3hy95ESDmwxEk/vO66mmaXz1BFiaWLPvCmndZ67GUWbkkNN9NTXrAAA7p70vQqjuZvagBCYlBfz1c5UP5wOGEE3rv1g47o7GtfdYcw7S14vVMMaUBTHMbLau3qmwhpslsp4YghBsNmzsMT855j2HBDDMb0cADT9dclGQBcAylCaF5nrHsjPNKLvRkRVmS4HUIYiyt1qOnv6TIk3XgiBkBQvHCqJUjRus1uXrMStNoQgcKsNpSjcakNwHLedvW9RlHC5UZLELFb1T81FCBK3O1S51mB6X65fIQRe/tWPO2+7GnNM5l5K6Pk51x4AZI+163IKkDkyGZZJNzfocgqgSLLe6p9xtOcuABQOc9MJFV3Aip48K6/QA2mm+uE0cdcs7TvybO+BJ3oPPGHMO8ulCGsQxCxF2aKx3tmzsIyPsrPzQXJ6yiSr5jgwzBn/NUHW+rXLc96xw3nHjvz8omC23GhLhSj3aO2cc3glBCYKTmk5Vm+QuCxutZuJRShJSpk06fYJ8Shhs2NW28Srz8sca1++hh0ZQl20fdU6PhggnB4ExxGC4McD2aF+hTHbV60LvvSM2iDXMxh/+V379VsAAKFI+03bbTu3Zls60/tOZI53FByUzRKEbpI+F7VXHH5wsgBZXwl7cwZXQYTR4MX/I5jTxixqIqvL8XKPOm2NkARKEghJIETenTsVSTeixN12fiC3BZMevRVWcGp1pvrhNOHTUau3TsgmASATL/xzXIqwBkniMZQo9y3rH9w1KzpLlov5L/+a3eoluLDfGwAQIs9sRE2MlpaLj3dU5EyR8QuGYbRJiIbFRJyqqMQYkxCLCNEwgmHsyJC6iY0iioTThdsdisCLyaSiAG61cb3DKEWzw4OOdZsVIS/qMvrEa8LQuPPO6zC7FQAQDDWtmG9aMV/OcukDJ5NvH+T7C9xgMw521pumiNI5A4ikxKQFillNupwCyMmiex5MB7q53vH+K+nm+gt+rApjISmZVv9B06qFmUL2o2nVglxKUdiufn2Wykz1w2nCpiImRyU4AKapsAQxAwDqxjoqM+LG4oUUihKhcMesaCvQLa+dyqyccNZBmEn/miKIJYZyBgyuXIQmtbTM56mMqShsYYtAiISTp46rj4RMbxec3SxBn060HAEUBUXJe3KczY0dfG/qEyW193j68CnLlpW2q9cTfq8qRBnKun21dftqtq038odX+IHJCK/ZQPt+pmUNKYoiiKppo/+BClLap14a521X22/KjWxUxImoEJiQEmk5lVF4QeYFek6NGklQDEWUkm8ddNx8BQBYNi1n28+k9hzTF2AWNdl3blHTqX0n1LASAzPVD6dJePCEmnD45+dl6MhTWH73kubqHTiWu8oMF33v1IP6AhcGjtMOe63N4k/2zW7/+z+DfvP40C+eLuEsL43+Pjz3Qw8t/DBPtuZ19DzVo09P7c1a7hRtpaLwQvLNA8k3D1BNNZbNK8xrF6PmnElIL2z0f/PTkcdeTrxRdMLo4lHO+jqn5dBEUW0gpmTPYY5dMNYr1mjaSs6w8RfeSe1rKTDVeMPW0goLAOIv7jYtaybr/IAgnk/eZr1qHXu6V0qmUYam59bS8xtU800MRqKPv2qsDAAz1w/PCWVyEIyNtrhJsxMAbL6G2GgBkxAMCquhYtvBjkcW1OxsOfNUtXeVpMzMeEp1utOUA6asJbxMQaTE5PDtYhzS+lEeZjnHKAY9V4HZg+sZ5HoGI7970bR6ke26jbmpQxR13XuDEIwUiwi/eLTvGcEx1ESXHhXqHXzSxY34ioFgqOPWq9S0zPKBb/xMGC3seSw4M2hA4YXxHzzquf8D6t47VEPV1DlZtqMv9NAf9aNdPTPVD8+JwKYkkXP4m8MDJwCAoIp2xbypARTB0mwIEODFdG9gd6V7mT73gglFuijSJkrZy9pqmghDY5pVUixAZjro19Zqw65iED6XUXRpUUQpvb8l8MBPw79+Xvv3HfmDo5mF75+MNSdrc/ENxSBrdB76Qj7si4esr8RsObWY2nW4mLaCfO1ZAimWDP/6OdVAU0RJZjlQFDnLCaPB1LtHx7/7q7F/f1iMxI3VzjJT/fCcyLIo8tmRtreyiWA2ERzvOWAscZY8C0uWBQJnFEUx0x5OSGLopAfkYnC75sgyry6B/ttCPxSaxiNRQ0qm+cExdUaZWToPZahiAXulkdNZYTxMlLkBgF7QqDmVpoLZLbh3cs7oL0vy7YN0c526OzvVUFXisnNc6PecbevV0qYV83O7VhRBv/iR7ejT5cwYmNOupUtPO1Dz6oyiQpA1FeX/8gnURIvByPgPfltCAxZkpvrhNKEtrorm7SiGhQdb2GTImA0ABgurb3wvgTED4/vXz79/25J/HIu26XMvmHCka2j0wN/g/sgyy2v3En6e9kvybCQnylCO9+eGCReAFl6E2S3m1QvzMyexbF55wRNSswGvD8I414Vd8PcsBiPsWZ1l2bJSnbIsCO6ymzcsV9Ps6TMlQigvCp2vGi0+EcksmWvYNaEwCOK5/zY1QDr44GPnq61UZqofTgdf47q+w0/37P+DraxJP/WnJ086Ejqe4SIT8a7drT/ae/p/uobf0Ode5rxRFGE8F3NvWjpPm0SfDqldh7WIcNt1G+03bS9x3yIYZlq1sGCwcnLXEe1mdt2zs2CINlFZZr9xm1E6OyAYatm6CtVNX04FwXHz6kVqWhgLFXDnG7iI7zn23Nvq94OaaO9n7kCoAheG0pT3M3dq1xx74Z38/BlDH3pezKdOVPo8999mlBYCd9vJmgoAUCTZsBRk+sxUP5weCml2EpQFw8hi+1AVDj8TxIwa4nBOCL/PKJqClEyXWBj1f5vs8XZixyYAQC1M2Zc/EvnDq3zvsMxygCAoQ2EOG2a3FByJKKIU/PFjFV+7X53Act52tWX90tS7R9meQTmeUmQZpSnMZScqvfScWnp+A2pmxr71i6lLBYXRYPKtg+oeO5jTVvGNT8eeeTNz9LSUSAGKEmUu0+pF9uu3oAwlpzKXwu+Oop6Pv1+5d2f2VE+2tZvvHxUCEzlvN4ribjvdXG/bsUmzIKa5BdUFf89sR1/8pd32G7YBAN1cX/mdz8df3JVt6VLXTuBOG7N0nv3GbdrK08Qb+zSjbMYRAiFhJJh7d++iJveHbow+86YWcIC77JYtK+07tyAUKSVSmrerKGfDpxEMdX/k5vire8WJyLQCOHTMVD+cDiOn3ymfuwnDyUDnnmL+7jyF1Vy9YyB4IMtFl9Tf6rHPPT344ljklL7AVDx/9wGjaAqp3UdCv3zWIERNtGXLStREowyNMjRqohATTZR5tAK+z90lJdNylpMzrJLl5CwrZ9jZW6M7S9cTf/U9y+aVuc1Aav3l//wxAFB4Qd1MAqDUe+H5/tHgD3/n/cydanWi0qe9rOi8iD75GllXSTVVAwBmt7g/erP7ozcrkoSgk/srZY61Z460eT45rUf3xYNQpGnlAtPKs4GLspzbXCn/6c229SZe36uXFONivufo02+iFpN1+xoAwL1O90dvATgbpZG/YCW9v6VYBMBMEfnDK2X/8CH1mq1XrbNeuVaMJORMFrOYMKdNLcMPjU38+LHK//fFEsYOAIiRONvZT8+rAwDL1lWWrasMBWSWlxMprn8kfaA1c6StmKNwpvrhOSEZG8nYUQxjbN5ie7rnKawy54Ku4TeclhqatB3q/OXShtvPqbAuGMxhLb3VFFlfaRQBnFNBXDCzdD1SNDH+g9/4Pne31ttgmlE/AACQbesZ/dpPXHdfb1q5oHTv5IfGxNiUaB0AAJBZfvy7v/J88lbT2XEW5M+Lp3YfDf/2BfXBPuvIihiKGkcNKGpYXK2IUvKN/dGnXi+xnYOei/qeZTn8q+f4/oDjtqsmh5P51yOns7Hn3k68Ni3teTFkW7pCDz/j/vBNuYtHENxtB91APnO8I/Tzp3LTKeWTD9SCTPzkcd8X7i02wYfSJEq7cJ/LvGYx1zMY/NHvi8U3zEg/PCe+xnX9R5+VJal+1S3RkdMFo9bzFJaiSLIi+d3LBoIHU9mJmZol/BuH6xka+fKPLJtXMsubyeoyNTZSTrNSIiUMjXO9g8YK+YihWPDHjxF+n3n1Qnp+A17uxiwmwHGF46VYQhid4HoGs609/GCpoFyZ5YIPPk4315s3LqOb6zGHDUFAjCa5zv7Uu0fVZRnCSBAUpXR3vHgUSRr+4veZhY30wkay1o97XZjNjJAEgiIyJ0iJlDAyzrb3pQ+2FoiWLMlFfs/Jtw+m958wb1hmWtZMVJdhVjMoipRM80Pj2ZNd6X0nSkdpzSCpPcfY9jPWK9cyC5vwMjdCkXImKydSbEd/+tApbWNYrnuwtMIyrVpov2Hr1NirglBNNb4v3hf4xkPF7KwZ6Yel4TMxs6tKfa03bXVLAs9PeaF0Xu9cN/8TI6ETdWUb9rb9twLK1sVf3HXy+/oCl7nM9DGvXpY+fMIoLQI9t4Ht6VcHYlR9DdeXp180Ce52imGjf+S8TvQ3gvsjN1mvWAsAcoZNvLY329YjRROgN1dxDLOaiKoy65XrqLOjh+CPH8scmZnYgAvAXbOMNDm0QzY1ER02XkyehdU++Epd2YbTgy/JimQz+cdjhaPjL3OZEphXL0NoShgdw8u8ls1rhdFxUGTCX84PjRI+D0JTwui4wgtUYy0/NMr19qu1yOpKrm9QkWXMYSdrK7m+QcvGNaiZkWIJtuuMKiFrq6zbNiT+/C6CYWp1AIWsrCgRjvC3iWXT8py2YvnA138qBArHNInBCNc7nN5/suqH/6RGojKLm/6CCiubGLeXz0UxLDLUGhku7IzKG6jH0yMtZ54KJ3oBIJEZbR98WZ/7fwAEwwmrEwBIhwclKE1oa1xM2nP7Rk3l0V+4oyNV6t+V28+x6nWWmOY1LF1MdJ6ouPaqogWK8cPvOqMj0xo7nBPM5UjtOUg11YMsp/YcpOqqqYa61HuH6OYm3OtWJebVS+UsS9YVOKMUiyMYDgAIgSksh1CkJuGHRoXhgDA6plWnmuqT7x6Qz3Pm6/881ivXqYnUu0eLaSsNhRe0va5mdf3NOVF9WD37n7CXz51WHJYBu7mAm/kvgn3O0qn/QMXGnbjJCgA1195tyCoGihOE2QoA9obFhCXnyFRkCWTJ1lA0qPKz/xBds3XsW981DqcvJed1DTg+i36o/+/TVp+vVDQ5SlOWDavkZEpbOivFE+Z1K6RYXJPwQ6MoTXG9uftExbJpDdVUR5T7iGo/WVMJsqLIMiiKTiJjditR7tOqy8mUZf1KdJrO9b8ZtFVE0/QoaYu65ezkaueLB8WQ8/KIqj4ss9MPALTVTTIFYgbzhoQG5lVde6jzV0bptMEoumz9DlCUaPsRyuHJjA3yiYhv1ZV8IkxYXaTVET61n3aVaWkxnfCuugIAiZw6IGZTniWbUIrOBPr5RMS7Yhvl8KZHetOjfcbTAAAAzpgL1k0N92jpRF+bZ/kWLjqRGRsEANfCNShOhk/tZ0MBIRUnHR4AwEjau+pKBMOi7UfYUG5tRCIpJ5Jyb6+oP+MlZprX0NIqzFs2rT56YVit6L98yf76W2wwOBmTbUBKpVP7j2q+28RbewAAdMtrchIU1UeE5oQAABD+zZMAwA9OLvRTJQAQ/dOroCjCWFCtzvcP6Vu+TI6zX0jpAF0VlKGouXVqWnvN1w0fcgmccuDPSYsDGx/inV48HpEYM8qzMmPBsimJsWDJmGSxoRyrOL14eExgLKjFhllsWHdr1ubCU3Fp7ZXW1oPp6IS4epvlyO7U6u3WrpPZdEJyenHahGolw2M5A5lLRy3uOgBgUxGHfyGbmuCHjU9oHACspvJkZgwAHJYafd5Frv7DKBNGMmN7XxLSCUvVHJQYBwDK5VNkORPoC50Yqtx+KxcJamkhFQ+f3Ccko5VXfGBs3yuU0zv4+mNqU2x4bOLo21P3vSpfv0MWeZSk3Us3F6yLm6z6dmKdx+2Ni9V0oq89MzZQuf3W4TdzNwMAOBesEdJxPhbyrblq8JXfavLLqGzbTOW/ObAAmUMnCmiQqZIpv+a00NrRqk9t+VyQduaKFz7x2tYHjRkAALD6R+/v/J89iZ5c0Hn5tjkNd620Nnr23/+kJrwYCAt15cv3Fzv7jCCMhdS13JbNK5JvHiyxOxVKk96/vwNlcu4RbVvnVFzua2cr60mvn2hYQAucPD4sXHeHMzgipJOS3YXHIyLNoMm41How07SQ3nidLRmTwuMCl5Fv/aSnrIo4086iZzcsKq8lb73fExkX7/qc99ThjMDJbEZRZEUt+fC3xzIpGQCyiXHa6kFQVFGUkVN/VusaQAFgXtU16sGqufctqNmp/dHkZEjLBcAnImP7X/GuusJaMw9ARlAUQVEExQBAFgXtRZ5aGiVImecUWVblQkqnXIt0yrH9r47ufk7m2RJ189rRIQuc/mWiKhhJyzyrSOLE4bf08tK4nOj3/8PRfqxivL/yyHvln/97q9Zq32n/Fz6b8wt8/V/s0ZGqO27LRZP/4ieuF57y5spdNA9+36k5uW6/tUDAem0N/shDro7jFZHhXLHoSNXpoxVaAUmCuXOIpx/zjHRX9rT6//AbT2P9pHJ64Kv2w3vKf/NzNwDse6tMa8Ggv1AM5FThWJ7/LRz+wrN6xTS2q3vfJ59gw2ldkb92Uu8dVxNkrb/8qx+nFzQaX0+PomR1uf2Grf7//IL20tbUnmPCSC5c0+cnFq8zZTNydRMV6OfrmumFq01cVsYJxGLDUAwsNkzgFasdszmw6iYqNCaM9nPRCbGsmpwICAffSnIZxWzLndTuxNm07PUTXFYe7uXqmunRAV4rmc3knj3lczdx6Ug6Mlzi5Q84ABzpypkSqez4gfaHtbx18z+ppS8A2l1hb1qCoDggSDow4FtzNRsZkwUeAFwL18FCiPe0UnaPluaiwfINO2SBj3e3GJrKBocrNt0Q627JBPoNWSqRtoPF6mqQDo9r0VraXWELBwDAMW+la+G6eE8r5fQ5568mHR4uEoy2Hy5bdy0XD2fHh4z1i2A2I6/+yeuvwB/6ZXJgUFq1gnzgq/YFzcT9n4sAQGubsLA552FZvYJMJuVVK8gnns4AwMIFxFu7Ziy056tfj/3koeSWTfT3/8NhzAOgKOSZxz2ioHz6C9FIVP7grab7P2b55n/Gf/mbyftQkpXnn/S8+x73pX+NVfqxz/6d9cnfedZvGxdEBQCeezHz1jvsTTuZj3/Y8pkvRgcGc4NT/cObZpCNV5q62ngUhdEh0e3FYhHJZEY5VjFZkExKMVmQRExWxxFuLzYxJpksiMWG2uzYmS5ek8QjcnkVPjYiCryyfrvpwK7MhitM7S1cMiG7vRhtQmx2rP0k53ChE2NFbYe/ZZJ/3m9auUB9ey41t7b8Kx9TRFEMxRWOAwxDaQpz2gwqLNvSFfntC9rhkz/Nqewzp1kA6GnLggKKAltvsL/7cnzL9fZ3X44rMiAoKDJ0t2a1it2tWU2ufgLA7/8rCDqvQF8Hq8jwxlO8vgwAiFwmGTzjqllGMFYExRS5wI+b93zsHd2tP0xlL2R5twYbDnCxICiKOpQbfPV3iiwDKN4V20Mn3uXjIUWW9WkAGH7raQRB1AjXwN6XtKbCrfsQDFekPA+OVkAd8RWsK2aSWpqPhQJ7XlTT0HcaABAUVc87+u5zOTnA0J+fKPZlFeSzf2edO4e4/taJfQc4AHjsyfTAkPjAV+xPPpN5ezfb0spfsZUGAByH5UvJJ57OrFxOAgCBI02N+A8enLHprVRK6U6JZb7CDS5bQjTW4/d+PKyqyBMn+VtuYJYsIpPJpFaGJJDnXsx+5YGYephMyf/xdceqleT+gxwAtLQKALB4EQEAx1r49o4CJ7rmZgvNIMopmLeImrOA5DklMCzeeKd1bERMJ2SHG4uFJdqEJmLS8YPsvEXUth14PCqFghKbUWQJNAkoQDHo048mAKCyFr/77+yhcekjn3e0HGJ5TslmFUWGu++3V1ThD34rkk7l+nv9HStMfrt7dU1wbx/OEN71dS3fej1yfNg2z7fgc1vpMquQ5Lp+sXdifz8AyILUcM/qyuvmoyTW/cv9o290AIB3Q33Th9daG9yHv/CnaGvOg1kQU6VjwRe2masciiT3P3Vi8LmTxhIAAEDamXUPfWD4pbbKHQtQEut+5IB6IkWU6+9YUXX9QsJKDb/c1vXwfgCYep2EhdrwyJ0Dz7RU37BIX/KcZ1ckefx7v3bdfb11+2o1ZB/Bce39SQakWDL2/DvJtw+VGKRrOmX3i3HtUy/XUCX6z8mss8OkYmUCnbsFNiWwST4TK3YD5imsiXiX/vBU/3P6wwtAP3jWroCLTcgCp2oKfVotVWyVtkFbFaJo3WJMdYqpFPuyCrJzB9PVLajaSuVXj6Yf+Ir9pp3M27vZllbh/o9ZCBxZuIBAEHjqT5l77vRQFNLUgJME0nJyJidlSmCzogDAcrnvR1FA95qoSX7z2KTBdewEDwA11dj+g5MFSiOJYLGhLg9W20Ts+XNm/XbG58fZrEIQiNWOoRhY7VgmLdscmN2J1TYRw/1CaFxKJ+XG+WQwIGqS6npCFBRZUgDA4cSiYanMj7NZZaBX2HS16bVnU6s2MuOjYm8Hr40mVEgHs/fDj13x/CdOfOPVWFvAf/W8eMf4yu/c0PqdP4cOD5oqHWv/+7ZDn3taSHAogQnx7J57fmupc6176PZIywg7npzY1zexr2/Tb84x6YygyLJv7jj1vbcSnUHCSm145K5EVzB2esxYDgAATJUOPpbdc+/vtBNJaR7BUZTE9tz7O8pt3vy7e0de72AnUlOvk49mmXIbRuP6kpnh2HTOrghi+DfPx19617x2Md1cT/i9qNWMUoQiyQrHS6mMEAgJI+PZ1m6us3+a659mG5KxqwqrxOQiDgAeW5NRfJZQoscoumgSZ3KOPUP6fyl1NfhenbYCgERSjsbk+jocAFpaeQJHGhvx1SvJU+3CiZM8iiBLFhF1tXgyKZ/pL6Q2ZoF9B7mJkPzlL9oiETkSlW9/v6nSj/3rNzKGYoNDk9ejvrOCIot2nam8/FRSnfo7eYQFgK5TnKKAosDVN1reeil15U7LWy+lZDk3PdhxcvJL62jlZBke/kFUPfSUYYwJtTnQeFT+5Y+ioBtN9Hbwsgwv/zGptaMn1R+ROJGLZhJdE9ZGD26m7PPKxDQfOjwIAJmRWPjokGdNbeDNLgAYfbNTrZLsCTkXVgTGJ43N0jDlNmuDZ8V/7NQkpirHVJWhEXirC3QnCh0aAICBZ1oAgAunMyMx2muhXOap1zn6esfUkoooT//sYigaf/nd+MvvGjP+KvHWrxLYpNM/H0Gx+Fh30bWETZVXAIBqodjM/iwbUUAxUe5Qons2FNZfIQiCKoqMIBiAUvBrKs3U54Em6T0jptPK3CZ81XLy2HE+m1U6uoSVy8kyH3bylHCeFuGFk04rt9wx8eLT3tef9wmC0nNG/NTnI8+9NOl6UMlmL/aC9BpES//5hZT2qZdrGCSvPmN02xvmBvWfeuSzbwxVRBlyv0LR/2jyMY7Aedvmkrz7A79Wzu7fUppJb5HuRGL6rHF91urNHU5hSsnzO/v/JhCkeun7hk6+5mtYAwhS8CvBAeBA+y/Ug4W1N3YOvRZLDwOAzVRR5V2lL/pXAoriJGXluSRBmjGCxglGFLI4wWSS4yRl5dg4hlMCn6YZF88lCYJhs1EAcJcv5LJxSeQkkRPFLEGaRT6DkyZJ5EjKanVUx0I9AGB3N4QCrQRp5tjcKP2cnOkX62ryRtZ2G+qwo339IgDIMpw6LTTU4YsXEj/87yQAHD3OL11M2m3IidZLNB5UufUmUygkr9gwFotPudGnzXne13954h1BzER41tSGDg2YKh2eVdW9vz2kZvmvaR587qSlzmVt9BSzUAqSHUtkhmP1d6088/sjAGBt8qQHorJQ1I0wnROVuE4D53v2/0UMnXwNp0x8JhYZOlnMLZN3p7ls9W0DuZmCRCbgtjbocy8BlsVLy+75kFF6luATjyWPH3WXL5JlwWctpxlnONguiRxF2xRFURTZYq/0VCwW+DQAoBghcClJ4lWFZbaWm63lCIKx2QhBmuPhMy5fcyo+khGyFnslSdtcZfODw8cURalq3Eozzt7TL0nitKbw/vRi5t/+2b5pPfXe/twY56MfMgPAi6/m7JeWVn7eXGJOE3HkGA8AR4/zn/iIhcDh2ReMBs6ssmUzNTQiitJFqZxwRAaAch9W0Ok+4yAIqihKCevjnEiscOyfX5z/+W2LvnSlmOLafvBOejBK2plUX5iwUVseuw/B0dM/2sWOJwFg8Veutja4TVWOxV+9mgtnOn+6J3Z6bNk3dpgqHbTbvOwbO7ho5vSPdiV7Q8e++lLzZzZve+ojCI6lByNHv/wiFFEZEicaTkRYckFPecUKXWfBkoqsTP/s9dc09L1xxrPQG2o77wiyqbUsFZZUIFUwy4Cz0eld7It0RzITmfprGtp+32osUQhJYCWBBQDS7JzWi1QliS93LlS3ci93LpTkS9Epz5dsKuguX8BmounkWCYxZvc0xkI9Dk8Tx8ZNFl82HeLZBGPxKLKUSQXdZfPDY20AwGaiXDZidzcShEkS2GRsiDF7k7EhxuI1WXyyLOIEQ5tcZmsZm4mkk2OSlNM+FImUlWFWC9LUSABA8xxibExKppTxoMRxCgA89HDq5p2mP/zG89Avk/0D0qqV5IfvNj/3UvbNt3P6rqVV+PYD9lhc7h8QAeDocf5738YVBabvcT/nNRA4UlaG2qxo8zwCABrr8UULiGRKCU5I2ijv0d+nH/y+c6izEgBkGcbGpT+9mPnmfyR44TzUwf6DHMsq3/mG/b9/jrGc4nSgD//aOHzzrryCi00IiYiYSUoChxGUyGZwxizxrCKKgCCKJNobl8R7T2IUg5usEpcFAEUScZMVQRCMMmWCQzhjltisrWFBarhXzEzLu9T3xDE18e6djwJA6NCA6i1KdE8c/MxT+pJ8PPvehx8DgN7fHtbLW7/zZ/2hyokHXjWKADKj8WNffckoLQRG4b2/Paw/kZDi9FGj+z75hJqYep3FSk7n7N4lPmeTi3EzJq/JPd8Taptwz/c46h0TpyYAgYpVFZHOiLnCQpqJ6JmouSyXABkcjY5IVyQbyqi16q9pIExErC8mcVLzB+a3PX6KT3CGLFmUHY1OiRX73jijnr1ibeWZV3vYKAuQe9x4F/nUlkkrZa2yJocSgcOT87AX+F7C0wMvLm64bWHdTQAgiNmTfU/rc0tDeLyWJUupqmqyrBwzmRGaBlmWeU5Op4VIWJiYYPv7sn1npFSpzidEo+nTbZjZjJnNmMmMMsxU/1AqMZpKBkBRVE9sdigCijI2dBgUpb/zdbUMSdswnOSy0YHuXPxncOQYAMQj/Zr/VpVkUxO5WggCipLuHNPSasXrdzCP/NSlpgHg2w/YAewA8OkvRB//YxoAWFa54baJr/6T7b67zC4XOjQsfft78Qd/OvlvnjjJOx3o62/m9FdHlyBJoCjQ2zddj/s5r2HjevJPT0zGoH7pC7YvfcEGAP/2rfhPfpYEgHvvNH/7Afv3f5xo7xAlSSEppHkO8flPW5NJ5bs/TGgVz8nwiHTvJ8L/+iX7977tkGXo6BamKiycMcs8ay6vZSPjlNMnJKOExY6bbNngkJBOpAa7FACUpABAUWTGV4WRNGn3xHtPkjaXmE2BonhXbCdtLjY0OvXXN0BVVmE2mxSPc6MjqsS30h88Oqp+5pfNw73QF24L1l7dOPDnXgAw+cw1Vzd2PGaMD/jrAccRUVTUz6lZypRZ9LJl5ad+e3LRfUsyExkURwFAkRXSSokZweQzZSYyvmVlgEDb71oX3bdEURQ1IYvy6cdPLbx3cdvvWtVa1irbyV+dmH/Hwo6n2iPdkVhvFAAMWXySlziJT04+gDufbm/Y0cinhIG3+lSJd4lPbVlIC54FHkVWQPewmP57CfMUViw9/N6pHzOkAwCyfHya7meyrNxzw83MnLnGDBTFcBwzmQmvD+bNt2/aAoqS7TsT2/1OpuO0sTAAAHDDg2OPPjJ5jKLem95vW7dhUqKiapOpn2cZHz6qP8yjmBtGL9eln30+8+zzxtk0A4mk/M//Fvvnf4sZMwAA4HSH4Kwc1g4lCSrn5O6uaXLOa9i1h9OfwgCBI9/9luPh36T+/Xt5umnrFmr92tyg44tfjn7xy1F97vEWvmCbb77NasZjQdhQgHL6FFnGaROfiPDxMIJimfEhPh621s5T54UxkrY3LeWi47SrLDsxAgCkxUG7yqLtQ+bKRiEVY8MBnDYTVoehcQNld95DeH2p40fHn3hMlbgXeGOdIfcCr8SJjgZXtDuM07il0pboj6EEqibS4ylXsyfcFrTW2Jtunh/rjYRacxHezrluz5KyaFc4dDInsVbbK9ZVhU4FhTRftqoy2hWy1ztJG5WdyCT6o2phFMu1zCVYtUz4VFCtXpAP/Z11oE8MDEvhCSmTls0WNB6VHS40lZR5DlAUeF6548MWjlN2v8HaHGg2I9/1Meuzj6fef5fl9w8nzRZ0sF/wV+GRkCRJ4HShy1ZTXacFqx1tOZIbGbCRbOP1czAKs9fZXXNdrnluFEe5OOtbXm7yMFySV2SFslFNO+ewkay1yqYmJF5q2NGUnchotYRMbpilSDLjZux1dgAwZPEp3lHnGOqOqIcAUL6qAkEQ0ko6GpzOOU7XXFc2lFFbtlbbel7srljt1woDgCyLMi+OtL2luq6m+15CAFAUJcPlddzSWJYu833w7um8hxYAAEGYhsbk0Tw7vBSyrIjTNUMuUwySAppGUqk8TW23oQ11+Du7S6meCyPacSSXOmuopoa6AEEs1XOSA51qTqhlj5oY268bcHWfAAAuHoKz5rPe1J0KbrcTXp9BSFjIsjWVhIX0LC7r/EPr/HuWZkPp4IlAajhRd12TmoCzNoLEST3Ptc+/d6mmsGquaoyfibjmezWFVbWtrv13LQDgmu/NhtLepeUSK4ppAWdwrTAfZ9WWtTKqwuLj2YJrBp1uLJ1SFi8n+3vF2np8bFTylmMeH9Z+kg8FpQN7WABIxOWudqGmAS/3Y+2tfHeHgCBId4eQSSsr1xHLVpPtJ/klK5jwhNzTKSgKeMsxvYHR81I3giLqTOLeb+a+7XBHWA25UrPmf3Bh7ys9+oSWpdWKdIYBoP2JNgA4/tDRgllLPrpseO9Q1ebq2Jmc6hjZN4ziqCzKAPDe198FgEhXRGsZAIItua9Xw2Qvr1x0lTqTOtxWYGyuYlRY5wXT2FR25716u11MJLiRITEWUwQeIUjMZCZ9PsLrQ84uOZM5Ln3yhFb+MpeAdFp5exf72b+zcJzS1i6QJNLUgN97l9nEIA89bBzQzST5RmtqsGvysATFDWcDBYx6AD7BDb3dZ66wsqFM3Y45mYk0goCYzT321ISt1uGY63bO82AUVr9zLhvN2hucjkaXc4471h0mrJSmrQAgMRCbd+fiUMuYZ0k5n+QUWVH/AEArbKu1qy17l+bKaNUL0t0u1Dbgkgh2Bzo6LI0MijiBtJ/khwfFdZtp9g0FAMorcZsdPX6Iq59DH9nPRUJSLCpFQpLHh9bPIYYHRH81jhPIinUUxykNc4mXnk6vXJfnpJ96GVqAqJrV90avIaFlFaRYVtvvW61Vtrbfn9ILVW2lp1h1lYrmrb0HnpAlEcOpulW39B7IOewMnMNHUAoEqfnHfyY8OdcJHxwPPf9strdnaidDcJyubzA3L7AsXZ5ub5t45o+GAiXw3HCzfdMWNa3OEubnX2Za2KzoP3zeunMH4y/HEBTGxqQDh/gHH0qeviSTfbNE2Z33WJatAAD9kFCP/pFejKllSkhKZJWQlEAf+4qisHojHZ6Qeqb3o6AYyJKxhamxaZeMiwxmrF9963DrG2q6avE1fYefqVzmLl/oGjkRGmuLasUu3MKia+s0bSUmEiMP/UTOFPazKKKY7e7KdneFXn4BJUlj9mVmn0RSfuDb8Qe+Pd3gsv8FIAjTNMcozGc6imNqmRKSElklJCUwxNke3HMeI3Q1UKlgpO4s4fEt4Ni4KKnBjCxBmEUhgxMmSeJI0mJ11MTCPQBgd9aHxk9pwYwub3NkotPtbU7Gh0SRJSkripEEwSTjw/qAR4lnK+blTBOJZwHAN8+RjXHlC13j7THtW70IhVVTq6UTB/cV01Z5yLLMnsdPcpnLFIOursEsVqP0MrOJyVputlYgCMpmowRpikX63N7mZGIkk85abJUUZXN5m4OjxwGU6vqtNOPs6XhJElnG5K5u2Mqzidqmq+LRPlkWJZE3lAGAwZaXDacbaQk3X1s90TWpreBiFBZmsWhpIVhqTuQvDmY2mxcuNs2bT5aXY2YLQhBSKilGo5mujlTrSWGiwMUjGFb/ze+orrfI669E335zSgmk/oFvowyjHoWeeza+/738EoBgWP23/lOdkQg+9UR9XZhPCR2vDW741KLho8HBQwXOOyOQZeWmec1MQxPh8aBqdIgkyiwnRCPCxAQ72J/t6RZCBQL/9APw8cd/l2o5np9vpP4b/4HSNAAoonjmX75kzM4Ht9vNi5cy9Y25X4GiQJJkjhPjMWEiyA4OZHu6+fExY7WzkGXlZIWf8vvJcj/l92NWm5ZlWb7SsnylrmwefV/7isznLfacygX0EBUERRu+830AYAcHRv7nxwBA19S6rn0fVVUtcxw70B9541WtOmY2O6++zty8ALNaxWgk1XIiuustRTjXABBBmKY55vkL6foG3GpDTSaZZaVkgu3vS7e3ZTo7pjphpqKFZEupZP+3HtDkhNdnW72WaWwi3B6EouRMRkom+GAw09WR6eyQknnTylw2ymajDlcjTjCiyCXjQyazJxkfMpm9JotPkSWCYGiTy2QpY7PRdDKgBjMShInnUxTjkCQhk55w+xaMjxxzuptYNqaVKYgsyu/+uNVVn/dYunCFpf+i1V77VwiC446tVzi2bkepPH8k7nDiDidd3+C6ZkfyyKHway9L+dvOKZLEjwWoqmoAIMvzpmBVSF+Zpq0AgKqpgf26bAAAIHxl2vwpNzLs2uoDgI7XBqtXeaODSQBwVFu88xzDh4PZOG8tYxAEKVvgDJ9JRPqTAGArN5Utco2eCKVDrHeuIzqQFDnJ7KExAk0ECtuzVFWN65prTfPmGzNQEiNIzGqla2qtK1cBQHz/e6HnnjUWmx1QknTt2Glbu944m4yiGEFgFgtVWaV6o/jx8chrL6dP57lvAQBB0eovnkMhXhgX3EMMkL4yAGAamio+fr/6b6I0bVmy1NTcPPI/D/JjAcxirfz05wiXWy1PeH3Oq65h5s4b/fn/lJgKp+vqPTfcRFXV6IVqoCJZXmFbt4EbGQ49/yw70K8vUALMbFF3VUIwzLVjp2PTFv2kGWaxYBYLWeG3LF2WOLBv4k95kZjjo8cBIB7t12ZvVUkmPdHf/QYA5IIZk3nBjP096pQfAqAAgBpEGRg5XHoW2O43r75vbrAzbvbQe35ySjOy0PxiYDdX+t1LAABFMAwlDLl6hEhESzNNBeZr/uKgDOP/+N+5rrnO0BfzQBDr6rVVn/2C2uH0cCPDaoIsr8jPAQCga+vyDnUDZA3Kn9N0iiAI42MIiiAYYnJR2TgPAN65jg1/v4hPCdd+cw1hwmvWll39tVVcWrzqX1eSZsLmN2/+/BIuwV/79dWUhXA32OZdWw0Aqz/STDCFHzP2jZsrP/25AtqqENnubqNodkBp2v+pz9o3bDJqq0KQZWUl9vOdcS6yh+hBaZpwu3133mP4N1GS8n3wLgAou+NuTVtp0DW19o2bDUIN2+q1lfd/2qCtDFCVVf77P62q+2mBIJjFgmBY+X0fdWzeqtdWBtJFgiUBoJiWMcwLT6YBVG0FcFZ+rlng+Gj62BO9x5/oeffHrUWHhNXe1XXlG1EEHQ2fNNOeedXXHel6VF9AT25CEEEAwLJkaXx/A9t3xljoLweC4/5PfIqqrNIk2e6udMdpMRJRJBGzWpn6JvPiJWpPxR3Oyk99dvgnPxIiYa08NzwEa9cDAOH1IjhueAzStfVqQg3gIDxe1GQyOPLIiko1wQVG1b23sjGufmPFWGsYAJq2+0880TPaEnI32qpWeAGg4/XBwYPjtevKrOWmmjU+ykrMubKKcVC+Zmf3W8M7v7e+/eUBR5UlfKZAbLrzqmtcV1+nl4jxONvXK4TDcjYDGI477FRFJVVdg2CYlExm2tv0hWcPz86bKH/ue1AEPnXyJDvQJ8ZjiiiiFI07HGR5BdPQqE7giNFIpqsjrz4AACiy3P/Nr+klTOOcsrvvU9Op1pZQvi2gp9h48OJ7iAHvrR/Erdb4/r2Zjnbcbndd+z7MbAYAyl/puvpaZs5cKZ2K7XqbHx+j6xqc269U7x3b2vWx3e8Y2wKwrlrtve2D2iEfHE+fbOHGRmWWxRiGqqq2LFuB2x0AgGBY2R13S8lEtrdHK18CzGZ3Xn2dqXk+ACiiyA70cUNDUjoNCII7nXR1DVVZpUhStmdarc0e46ejAFA23zHeHtOEeQqrtmzdgdM/27Dw7wEgmR030x59rgExFk13nDbPXwgAgCAVH/lE6PlnkscmX5fyl8X9vhu0viilU+O/fzR7pldfIHnkMPbaS77b7zLNnQcAqMlUdve9Iz/9ifaE1ywsBEVJX5m2+EOFrqsDACmdzvb2WJYsBQC6ujbT2a4vo1lY3PCQmhg7FVn3yQX7H2ozeWg+JVJWAgAoC8GnBZOLkvjcNA+CgJARO14fOv1ivyoBgPCZxPK75pzZE9AkGqZ5811XXasdCuFw+JUX022tU38LhCBNzc0IhhfbvHBmQRnGsmKVmpaSyZGfPljshidcbsuy5WIiMfWaVaR0Wn8oc7rZG1E05E6Hi+8hBpjGpuibb0T+/Jp6KEajFR/7pJp2XnWtIkmjv3iIHwsAQKazA7fZratWAwDh9uB2hxiP5VoBAADC4/XcdGvuQJbDr7wYe+9d/TeTOtkSeeM17y23WVetAQBAkLI77xn8/n9OZ1LLsXmrapElDh2IvPGqpNt1VgWz2ujaOkXgDfJLScViV/l8J0qgvmbHq1+bDDXPGxIigArS5D98zmCK8AvPaV8QSlG+2++q+uwXLEuWIahxpHmJITxe+4ZNalqRpMAvf27oiypSMjn26CPs4IB6SFXV2Nau13L5sYDWNcmKvFEhZjKrFgE/OqIpI7rGaLprzi9uJFdmvC2CoojISwBw6oW+hTfUbf+n5bYK88iJkFZLpeO1wYbNFVd+ZcW131iNkSgAnHzmzJoPN3e+NmgoCQjiufFmzbbnhodG/vu/0qdOFrzzFYFPt55MnThmzJgdyLJybYiUOHSgmLYCACESjr79ZvLIIWPG7DAjPcSAIkmx93Zrh5muDjEa1Q5TJ46p2ip32NqipQmfMV7fff2NWgBQ+PVXYnt2T/01FVEMPv0k29+nHmJWm23thvwihVG1VfjlFyae+eNUbQUAUjKRPnXSKL20BFoj3btGjz7WffBXeRZ3nmbJcGGbqQIAEASpL9+UzBR4mOsRIuHArx+Ws1lNQlVWld19X+1X/82tGwhcevSD8/i+9wzGkR5FFPWjCfvmbeoe2AA5v7uaNrixNAcWNzKsKSwq342F2+3qiAAAuOFhAHjn/x3PxvnH73tr5Hio/eUBLim89OX9ex48+frXD4MCbS/0d7w2CAB7fnwy1BMXOemlL+1/90ctb3zjiGp5KbJy5r0AlzJOKlkWLdEC4mSOG/v9o1LmvM2NWQIhSrlB/4LMSA8xwI+P6e8FAGCHJp8uButbCI5raXVkp0G4Peb5C9S0EA7H3t2lz81DUSJvvq4daSr4nKTb20o1e/6U+ZYaRcWxmMv9/jU2WxVF2Wuqi7rwyuY7Vt0zZ/611Xph3pCwffCVpQ0fIAnLlcv/JcOGj/c+oc8tCNvfN/yTH3pv/SDT2KQJMavNsXmrY/NWPjCaPHo4ceSQ4YecbcyLJ7++xMH9upwCcKMj3PCg6tokXC6mrl572HLDQ+qowTBRqI4HAYAbHeZGhlRfHl1dC7pZD7JC87jzvK53GhC5wuMLFYHN5TZfVzPnyqrdP5p8LGuYlyzT0snDB8Xo5GTIXxx98IR11Zr4/vcKPtIvPTPVQ/RMjX7QD/T4QN7jX/9QMbj8LctXaMo0eeRg6XjQbE+3zPOqOYY7HITbI4SN1vpUom+pM3cXS5lvCYbT6fSYyeTx+9ek0+OKIlvM5cnUqInxYDiVTo/LkmC31yRTgXg8Z6i6XE2BseOCMPkN2GzVai0CZxjGncmGotHe3t0BAFh0Q61+8YDBwoocaP/Fe6d+sq/tf/af/ll2equghXB49Bc/HXv0EW7YOFohK/zunTfVfuXf3NffgJpMhtxZgvSVaaaNEIlM7UZTyXRMPv3o+kYtPWk95Q8JqUkLa0RmWbWLoAyjWToAQJ1VWNzoaOk+Nx06Xht88Z/2JUYLmE5MfYOWPo+F5ZcEMRrVxlO43V79//2jbd0GbWHpX4oZ7CF6psY9KDp/v5iI63LyooIQPM8OZeomf9Bz+9EVRQhOBq8VnK02ICWTnM70uxho2jE6eshhr1cUeXT0kM1a5bDXjgYOu5yNDONSJT7fYlFkbdbJ8dbwyAGvZ4HPu1iT6Gq5bdYqhnYBQOPWipV3z1Egb/FAnsJCEEQBJctFM1xUOc9tHtOn24Z/8l/DD/4wvu89w5AEpSjHlu01//iV85h8vQhI3VCUHxvV5RSF0z39qOpJE1Tzu2NWm9bFERSlq6oBQOY5VVUVdGNpl6Hlzga43Y5ZrWpaEXhO5yX5KyH0/LPaBCtmsXpvua3uX77u3nmTZoFeemawh+iRs1OC4zTHk6IY3eF6n1R+bAFVPdmL+GkoU0k3N611hhJoHtWLB8OoivKVPJ+SpJyHnuOS5WXLOS6hSVKpMQyj4vFJFel0NgKC4DhtNpdZLOUWS4VWiyQtgbGjFGUDAILBcRJ11lhW3j3H5MoZoXnPug0LPr237b+1w/Xz79/f/nNd/rnhRoa5keHwS8+b5s23rV1nmjdf+zEws7nszntwhzO26638SjOMPgRfSiR0OUWRdE8/zDxZXfW7q25jsrxCfdyR/iqEIAGAHx1Vux03PKTqYqq6Nnn0iFp30sKauf4xFf3VCuHwxZtyMw43PDT6i5+W3XkP7nSpEtRk0jwGicMHk8eOXGKPwQz2ED3FZg+hZJYBBMf1Ydj1D3xbl3luUFPusVoCKVXATr8wBCE9Nn5Me7PG0PBeUO0eowTVz+CFw50IgimKBACn258CgFQqoK8Vi/cDAGUhDv66c9ENtW0vDxYeEhog8AscxCmSlD59KvDrXw5+798Thw7oZ9Dd172v4K4gMwimC0DPm/wujr6YZkmBwe9+VgFpDizNpaolNIMcIQhteKh63GcJfbS98Rn+VwM70D/4g+9FXn/FEHxAVvg9N95S9y9f99x4i8HxPKvMYA/RU0IrTT+IBGUu8KZTmU50riwUDky7AMaDJ6e+cKiQxPjvq9oqX2KsFeqOr/3IPMPuFzkLq8w5nyGdBM7UlW1QJQzlEKSLfe4JkcjEM39M7N9b/qGP4g4nAACCuK7ZMdLdZSw6c+T/53nGdnF0xfK/uEm/+9lAZ7qmLpc12J9LjAwrsoygKFnhRwhCEQSyrEI1LWW+lMd9BtDPWE35yWcddJpfLygCH337zdied60rVtrWrFPXPKkgBGHfuNm6em30jVdje3brKs0WM9tDJikiPi8Mb5D/K4fnjW67GWSkJTzSEjYIcworw0UtTBmKYBYmFxIiSuzJM09PFrwIuNGRwK9/WfX5f1Djs+iaWtxmE6dnil8A+nDzUksudOiL6T0CoHqg1q4HncLSXBjsQM6drAgCHxilKqsQFKUq/OzggBa3xY+OFO3f0wDBMEVRSgz09IOpS72iE0FQIhcrNE0UgU8c3J84uJ+s8NtWrbGsWImdHcKgJOneeRPhKzuv7dIujJntITOL/toUUQw88gtd5rkR41Gj6P8WOYWVzIwlM2N2c+XFv56+IPxYgO3rZRrnqIdkuX/2FJb+PRfTHGjgDoeWltJ5Dw3N765G96EMo64IE2Mx/aQ1NzSoGmJUZTU7OKBpN254CMFxzGaVEknUYkYZGjUxciaLmhghMI7ZrFIsjlCUnE7jbpcUT6ImRoxEAYBZsgDBMK5/kJ7TkDl+CjUxMsuqvgCFy7kzAUDWzW/gTpc+rmK2KfiKkGnCB0ZDLz4XfvUl68rVziuu1r5/25p12e6u1CzvSTuzPWRmkXleEQQ1fg3BcXawv8TS6L8gKIKRqImVziNIBUUwWZFQBPNStUkxnBHzpk2nSZ7T/fTAi/rDmUUIhTSFNau2ADs4OR9hiFAvhj4u1DCpp/ndMbMFM5k1TxZ7djyoHaovy8ht8HA2dpkbGTYtW6SIIuEvx93O7MnTMsdjDhIUBWSZrKnEly+W0xlQFIQkpWRK4XlVYcmpNO51S9E4yIpl4xqF4zCXU05nhMA42zk51S1EozLLqt8nStOk13cxI1D9WOmcyxVKLwaeDoooJg7uTx0/5rvzbvOCRarQvmnLbCusme0hMw43MkzX1atpsrxitk93YWAITmE5hVXONI1ne0vEFdgIb71lRVZKxvjABNsvg+yj6vrFFmO5fDxNtlBPwlVvjfRNqsW8TsnyeVaP3Tw5+3vx5BnV57/ya/qIsagWPIk7nAX3WjBgal6gpdm+Pl1Ont+d8Hi01WeGDT20e4CqqgIAncd9SBgPEpUVUjSWPXmaHx3DPS5xIoR7XJjdRpT7pFhcmAgBiiqSKATGicqzV4uimM1K1lQR/jJQZNRsQkkCEOCH86fhFUVbnAEAlmXLdXnnjcxODjD1U2kFMexXccHIPBd84jGZy3mC9e6tUugNyfM09Ga2h8w42d5uLW2a16zLmUkQQOZY1zXbNvnoehJl5to2LHRstxLuCmZOvWXFAvsWK+HWy/XlUQSrNS81YXYAsBG+OvPyestKJ1lRY16MoyQANFhW6s9lJTxj2Z6uxL4g26eAwkk5E5VE6Xm2jc22jWbcWWNe5CArKk3zvXQdjZnV7WVW3j1n0Y11iM5VWiqEb17VtYc6f2WUXhgoSjc0aUfTCca9GJJHDzvPLga2rV0fev7Z/Pw8qMoqTQ2J8RjbfyY/f9LvjjtdpLae+Ww8pIoQmpCzWZRh1DduqFP4Ms/xE0FQFH548kWKqVAEFCW19xAoSuyF19XqmN2GUpQYicZfeVOVcD19XG8/KAo/OAwAJcZ66bZWdeU9ANjWbYzve29qBOM00Yehn0NxIIi1+J5554vMcUI4pK7lQlBU3bDJWCgfTcGBOjg9T2a2h8wsqRPHnVdcrWph+/pN8T27ZX7SCTBTeOjajBQbyeRW6g2mW12k30c3yIoY4wMDQnCBfeup2NuanMas+vKBbHcZ3QAACSGYEsN9qWMKyLIi+Zl5MX5MUvKGsYFsV6NllY+u600dzYgxTV5jXjqUbs1KqYWObbycxRACRXATZguxA+yocuyJ3onOmJz/rnIUAKymcvXAYanR/5FEqWesfsvHc+K66lrclivPjQyLsdl1Dcb37dUiiW3rNpTYUQjBcc/Nt2qH8b17pk5Oa24s3OmiyisAQBFFTZhDUdihAQBAMIxpmqvOLvMjZz3uxT7Pkj5wNLl7nzo2nJQWS+eTPHZE2xkSM5vL7rxXDRO7APQB0OaFi0rsQWxdtWZakZ/Ts31QkiI8HjUtpZLn1FYAIMYnPSBUdc35Rs/PbA+ZWfjgePpUq5rGrFbvB+4otnrRyPS+bRUcIXk5F6vhZ+ZVME2CwiGAAICkiKqzSS/Xly9GXAhaCU850zSa7dTLZUXqTh7sSOxtsq7Wy3EEFxVBARlFMEkRARBFURSQ1dElhqMGbQWqwppXdY16sGrufQtqdmp/NFlKJdV++av+T37KtnY94c51tYIQLpfvg3c5r7xak8Temd3AUQCQ0qnwqy+paQRF/R/7ZMEXFmAWa/l9H9WCp/jx8fi+vflFAHQ+C9LjUV+Exw0PTe213NlRobZy1ajUZgdFFLV/FgCYpjmVf/9ZRmfPGiDcHseW7QWj4bjAqLbBAEKQZXffV9DbaF252nvLbUZpIby33Ob7wB1MQ1MJjxhKUb477lLfBQ0Aad0imBKIsagYi6lpzGTWzKVpMrM9ZMYJv/KiNv9rWbLM//H7ybKcVTEV3OG0rV1f+fef06/nPScTXL+fmTvHutZH1ysgmzC7nfCpmqLKtHCBfdt4tlcv15c34fYq0wIXVeml6wAgLgTn2TY4yAoAiPFjBEoL+arNR9fPta1vsq6eYAfMuNNvmu+mqj1UzXDm9BzbumbbprFsj+qDz0gxzU/lbrA6qy1mT14PxAHgSNdv1YNUdvxA+8Na3rr5n9TSBUBQpnGO6kcXEwlhfIyfCErplMJxAIBQFOF0kf5Kw54NyeNH9RtrlAbBMP2TEyGI6b/JKL53D9PQaF60BABQk8n/iU9le7vTp9vESEQRRcxqoesbLYuXajekzPPjj/+24B5Amt/dNH+hej0Gj7uKamEBgHpSAGAvlbs0efQIXVOnvSKb8lf67/97ITSRPdMrxmMyyyI4gZnNhMdLVVWrpu7EM3+c9FdpKErs3Xc8N71fPWIaGmv+6SuJw4e44UGZ4zCaIcrKLYsWq7aVEAkrgkiWlXK9oyRpWb7SumqNzLLZvl5+dFSYCErZrCIICEngNjtVXWNZtEQb0ymCENv1dn4bRUkcPui6OqennNuvpKuqky3HVeMdJSnMbMasVpQxhV96Pq/aWWawh8w4QiQ8/vhvyz/yCVXRM41zqr/4JW54iB3ol5IJWRBQkkQZE+HxkuXlkxuZno+FJcp8S/QNLQZ9nD0jKxIA1FuWD6RbMmJcgTw5AOjLdyYmFfdQ+pQ6AwgAAMp4tlfLUgmyfSFuUFFyplNHfI+W1RZ7BwEk32Gfm1OKDaUrlrgA4PTLk4Z/niHdO7pbf5jKBvWHJcBtNtxmK/jQ1pM4dMCwS7Qe3wfvwixWlKYxhkFpBqVpw+Yk3ltv9956u8xzMsvJbFZmWZnNSvF48Okn9cU0xh//ne8Dd2ivJ9DU61SkdCrwq1/qtyvSo/rdqcoqzQ+tRWDp0SwsrdilnN+ZeP5ZmeMcW7drEsLj1S/Gnibx/XtNzfO1fZYxi9W5/cr8IgAAMseN/eYR+4ZNpRWWBkrT5vkLc9s9FkGRpOCTjxd8O0ZB4nt2WZYs0y6AmTN3ag+UMuliCgtmrofMBpmuzsAvf1Z294e0wHqqqvocjsXzR4tB17RSWoxJCq9qK71cZWrMuoparJxpolCT5ufSY2hHT7HpRSErWrxMKpj3YM0z1CfiXfrD0jFZma6O6fgaVLjRkcAjP5945o8l7CPzoiWmufPomlrC68Os1mJbKaEkhdtspK+Mrqk1zW02LcxNh09FkaTxJx+fePapUk5oRUm1nBh+8EdTt5rQY1A9Bff8lzJp/WSCzHHTv/dmAFkOv/Ji4FcPT0dLKoIg5r8QZRJFGfvtrxOHDpTwmnEjwyP/81/8+Ng5QyjYgQG9d7wE7ODAyEM/mb71DQAyxwUe+Zl+kvR8mcEeMhtke3uGH/xB8vDBc95oiiynT58SJmagvwXZPla6wEn8sWzPmdQxo/RC8TU7Dv2mE0GRorOEbluD/hAAwokzBonG2KO/wswWprGJqqklfT7c4cQsVoQgUBxXZFnmWDmT4cfHuNGRdNupS/loykNREgf3p04cMy9aYl6wkKzwYxYrgmFSKiXGopnuzvSp1ulcm94bJUajhtcfaXCDA5pHjxsdLnHPzxKZzvZMZztdV2+aO4+ub8AdLsxkQklSFkU5mxWjEX58LHumN9NxusTCQ0UUJ575Y3zPbuuqNXR9A+FyowyjCIKUTHAjw6mWE5mO0+otdE6FFd//XvLYYWbOPKa+gSwrx10uzGRGCALBMJnn5WxWmAhyI0OpU60XtuGJGI+P/Oy/TfOaLUuW0zU1mNWGkqTM83I2I8bjXGCUOztOL8oM9ZBZQozFgk8/GXnzDfPCRUzTHNJXhpktKEWpP6gQCQnj49kzvdmerlkNFZoKSmCE0yIms4okoySOUoSU5TGGFJNZzEJLaQ63MZiJxC10sm0YAByrG2NHeh1rmtJdASnFEk4LShO4lU53BXCbiQ9PTk9rhHriq+6dmw5l9WsJ8wa9mtMKxygT5ZqIdU5nD7/LnC8YBrJ86bUZAIDF31S96VbS6pw49d7owUlXvUr5imsQDA0cfs0gn8qyT36/4+kfsJG/2J1cAtecld7FWzuf/aEmmf7/pXK+5S8NKI7Koqx+Ts1SFFAko3z2cG+dLwsSRhNCNG1dUsNPJAi7SYhnMJoUk1ncbkq2DmJmSpEhcaIfAMpvWolSBB9OWeb7k61DsiDJLK/IYJ3vp8rtAz9/W8oYLfHKpe6qFZ5MhGt9vl8T5llYB9onFy65rHXlrqKjrZkCwXHMahGjMWPGeXJh7ZDVlfzQiFF6lmJtFpNPpWD7DIPsuJo5eYpHUWRgUPT5sFBYslrQLKtYzUgyrVjNSDQm221ollXKfNjomGg1o3Y76rCj7Z2CJglH5JpqbGhY4niFYRCnHU2lFUFQGAbxuDEUBYcdPd7Cu13o6Nik+yA12tP+x+/Wbr9Td0WTjB17wyg6f1CCqt74/oFdfzBm/OUo+H+VuM6C5S8elMBot4mPs4qsoCSG0biYEXATISQ4wkIKaZ600biZJC1UuDUAAA23LZZ5KbCnj7TRYlZovH1J//On625a0PNEC2EmU0MxU4WNi2YUSSEdtHtJRbw7RFppte5skx2OONc18cGEdUkNgqG4lQYMxa20lOFxKyNluFRngCp32JfVqoMR3GYSYmnKZ5NZQa0beqvNvqyWCyUz/RNStsBUhqfJfvDXnYtvqtNv2JCnsPREkv0La280Si8a543XowyN4Hji7d18YAwhCcxmm87NX5pi7ZiXL023tBZznNm2bg79ftKEpGqqqca6xDu5KYxiberl59W+yu3vN5kYVJZh+VJi8UKC45SBIeTDd1uGhsV4QvG40VBYNpuQaEx+7wC3dDFx4/uYSFQeG5fSGUWSFU2iKGBikJ//Oqm1KYpKd684OCQuXUyEwrIsw+c+Za2pxr/6jVgyWfgKZwNrZRNhcRilf31c+uv0b22QOBE3EWw441nuzwbTlIPhYlmcwfkER9rpcMsoYaa0m1NIcvGesKXawZRZYp0Tid4wgiKJ3rCYFTzL/a4lFbGOoGtRPRvOJM9EQAHGa9GPnmaVTO945kwQFAUQxL11fnh3u/qpStThAzcWC76eC5cb/t0eADj7NlVQ6wZfj+vLG+DSwpoPz6Ms+Io7m9pfHcxEOCihsJyWGgTBjNKZIPbqG3I267nnjtBv/2DbtlkITnADgyhDO66/DhQldeiIFIvbtm9Fzabk7veI8jLc5cScjtTeA/q0lEjYrtqOIEhy7wExHNHaMa9YhntcuNOZPtYis6ztiq2418P1nuFHAvarr0BwLHXoqBiLOd93rRiP5768QiAYprVp27IR93rESBSl6fgbb2lysrrqAtqXRLDbEJ8XmzeHePn17DVX0JV+LJNVCAJxOBAMA4cDTaVkpwN1OdF5c4gzfeLomJRMyosWEKMBTJM0NeC8kIsGk0RwOtBoTN60nnqTVebNIY6dSG9aT42MSqc7hHT63NrK5K2p3X4naXFEuo8N7XlKk+O0uWbrBym7l7S6UAzPRkZ7X31YSCcAwFbd3Hjdx3DanA4ODrzzuJCO47S5/poPM24/ipOL7/sGAARP7h4/8bbWWkHczWt9i7eQVpcsCeMn3gm2vAMAOG2p2niztXKuIovhziNjR19TvWbLPvH/Bt553L/mev15AYAw2Wq2fdBcVs8nI4nBdq3xgv9XiessWB7O/3pw2lyz9XZzeQOK4Wx8YnDXE9nwaHIgWrGpLjOe8iz3ozhGWikEQ0grJWZ40kaJaT56OmiqsHlXVcFRAACmzEpYqXBLwFrnDB0b4SJZLpblIlnabbLWOdMjCVOFDcFRz3K/zEvWeufgq52e5ZVq3UvB2RDo8K7TAKB+TsqnpkF3Q5ytO/k5hWQgY68wxYbS+iFhHtesfED7u2LZVypcS4wlLhrnjddjNisAeD96LwAQZT771VcAAO52ee69A7Pb1GK402FetcJx7VX2K7dRDXUIgXvuul2fdrzvWtzjRlDUc9ft+nbsV25j5s1BCMJz9wcBwHPX7Woki23bZuuWjcyCZu9H7rVt30LVVKMM7f3wPbnLAgAAqqbatn2zdqi16b7jVrK60rp5g/PmnXo5nGf7GvogShTNRc/cdrMJRXOfhjIqBsmdt5k//iGLy5mTbttM+7yYoWXt00Dt9jv9a3capQBVG26u3vwBvaR68201W24HANLiXPrx71G2XMjPsk9+f86Nn8EZC4qTje/7hL6Wd9Gmpp2f0g5L45yzctE9XzeX1QKCEGab1n7Tzk9VbXo/ihM4Y51z42cqVuXirYqdt+Haj9ZdeQ+KE6TVueCOr857/xdVucrU/wtKXufU8ud7Pf6119ddeS+CYgiKWSoaUTy39kCd8EJQpOqqOdqnJteXmQ4XU3c6MPPm6fdcJjye6i9/WZc/uyy9tQEA1CGhJszrzm+f+O7Zv/98+8R3ApGT+twZBKUoyLddxXAk9tJr9qu2M81zLatXmlcsU1gWMBQAFEFQRAkwTJ9GKVJhOUWWVbkeKZFUBEFVA9r2AyhNKyynCEL8z2+hJCmzrMzxUCSoxIAiiCBKCi8gUwLzLqx9/QhS874//VxGlnOfhjIqBskfnk7/8tFUJJqT7trDBickQ8va5wXDuP3JQC8A8KmokIxQ9snArmDL22I2JYt8vO8U7Soah10az/x1wZPvpMcHQFGEdIJLhAGAtDitlXMCh16RRUHMJsePv+lZkIuJhULnRVDUVrtg/MTbsijwyWi486BWeEY43+sBAD4ZNZfV2usWAUAq0CuLOR+NOmRTZGX4zW7tU5Pry0yHi6k7HewbN17AOs2ZQh0SOqrNK+5sKrynu8OcW+E5lVAiF3568Tjedw2CE7HX/kx4PZb1a8iKcn40IEWipmVLEAwDBFEkCfe6EZJUlZp1/VoAyLS0El6PlhaCE46d1yk8nzneom/HcC5+aNh588708ZOpQ0ccO64RQ2FuaDjd0urYcbUwPiHzudVkGqYli3GXi+sb4IeGC7apP1e2rf182/9fBxcPmX010e6jhMlKmO1sbDKWmE/F1IQsiyVW3pSGtDi5RMQgJMx2WeAkPhd4wadiOGNFUEyRJfVQlWvnxWkzgqDqQBUAhEwuMVOc7/UAQOj0PonL+JZsrd50a/Dk7mDLO8VCLmeJ6i9/eei73zUvXuz9wO39D/ybeeFCqrom8uorpuZm53U7EBTlg8HQM0+rC4A8t7yfGx2xLF+Bmc2pE8djb71FeDyunTuZpjm+u+9WBCF5+Ejy4AEAAAT1fvAO0l+BIGjw8cf4sTHDeWcQISvKoiyLytHHJrevyFNY1d5VHsfcLBtRQDFR7kRmFEHO/gAzpLCiL7ycd/jc5My6EJwARVFdA5mWVtU9Y79yW2LXHjEUVmRZnwaA8JPPAIKoJoTWTrYt579Qvd3J9/YjOK5ugRZ67EkEw9RmJ373BCiKYfDMDQ6N/fin2qGhTT6Q+2301zyd9unmRrajV/3UKk6Faqjhzgya1y5LHzwBAJjTbl67LPHabmO5IqjVAQD3OMVQ1Jh9oYweenneLZ+3Vs5VFHl433N8clK5TN2EO0cRcUH4dJy0Oo3CVAwlKIykVR1BWhxiNqlqByh0XpFNK4pMmKwimwIAnM6tNDgHxmaKcr7XoxLtPRHtPcG4/fXXfETMJsOdh4wlZhMxEsXtdrqujgsECI+X9Pu54SHMYvHcdtvIj38sJZP2zVvcO2+YeOqPannL8hVjjzyiCLy6bl8IhcZ/85uqL/5D8LHHhODkU4rweCaefILt67Nt2Gjftn3iiQJzrDNFwfcS5iksTkgd7vhVLD0MADZTRZV3Vekt/dSFRapSK/EA0YpNLaOvq19OrKWFiQmZ51UNpU8DwFSNUxD9ho2Tp7jIkRIAoKh6Aedsn2yo5gdHyYZqRRCIynJ+cBSlSNznFkaDCI6pCTESI+squTODeLnHum0tPzzG9QyotxRZ46eaavmhANfdrzZINdWSVeVylpU5PnuinVk2nx8YVauTdZXWKzckXtuDYKih1oVh8lRxiXDPSz/T7s9zImTitMOLUYzEZTUzpBiRzkPlK69Nj53JTIzgtIkw27PhUSEdSwy1+9fuHNn/PEpQZcuvCrWXGuUpspwYaPctu2Jo95MYbXLPXSVPWZo+lelf5/leDwBYK+ewsaCQjvPJqMSmEdTouJhtuJFh0u8n/f708WN0bS3p9ycPH6Zqa7mhYXUTodTxY5VfmPT0ZU6dUpdJTl3Vr0eMx9XtwPjAqHnx7IY9NW6tcFRZ2ASvH+fmKSy3rfH0YM58SGQCbmuDz9zEiklJ5kWFFyWewGhBZgmUlmSBxE0Oyh/O9gOAk6keT3WRGMOKKQCota+QFXE83UNgtCQLdY6VQ/GWavvSvtgRHCUzfJQh7LyUURSZwExOpjLJBQmUjrLGkCUAyJxsK5guBrOkOdvaySxp5vuG5AyL2a0IRaJmhu8bRq1mKRoHAOtVGxVByB4/jZoZcSKK2a1SMoXSlCKICE0pLIfQlJzOoAytCCJmt0jRBEJTqInR2pHTGdOyBWznGSleIELXAMrQ9IImlKGpptrE63tsO7ZKsQTbeUYMhs3rl6sJgNz7ThReSO46aHvfNq5nQK1uXrOUHxkj66omFdbc+sQru2zv24YJYhaA8HmyJ9pzG9oMBoTBgDAy5rxth6GWSt2V95i81YTZDoriqF+cCpwZ3P0kAFRv+YDV30SYbIAg1sqmbHi078+PAgCAYi6rX/KRfwcAiefGj785cSoX9lGM+ECbo2Hpwru+Jot84PCr4Y5S93a44xCKk7VX3ENaHGr72fAoAPS/9VjVxlsW3v01RRIj3cfGjr5urJnP0J6narbdsei+b/LJyETbXnfzOlVe/P8qfJ3Fyp/v9ZjL6muvuBsjaVngYmdOXmLzCgC44WGyvAJkhR0YsK1bh1ttYjRaYntVeXqLuvWvhoXpvr/jAon0p8ZPx6pWevTCPIUlyXy5c+FYtA0Ayp0LJZm3kh4r5UUAzYpxEmUi7LCXakxw42k+bKPKKNziNTeOJk+DotQ71zC4vSP0tijzgswmuQkz4aIJa4IbT3IhQJAkF5Jk3sVUO+mqBDfmoP2clE5xIVAUCrdOx1aaDrjPrWoE+41Xcd19iiDKHA+KYtuxFfc4o0+8JGdZOZ3hhwJ4mQd3O8gavyKIYihq2bJGDEeVLItaLXIyhVCknMqynWfI2kp85WI5lRFjCYXn1Xb4ocD0V8bL6UzmSCvucUqxpHnDCimaAAS0fdnVBFHhJWr8ZG0lQhKWTavkRIqoLCOrKsgaPz8UQE0019M/2WAiZdm4EqVIIZa0bFyJMrRWnR8YwexWosI7tZZK/1u/N0hUht6dnMLXYNz+qk23tT32DSGTBADGVTHv1i+GTu9VZPnEL/5RKxbpPBzpPKwdKrJc7CyFUCZO7ZmqBCUuM/D2YwYhABQ7r5BJ9L7yCy0rdHqfmij4f6kUvM5i5c/3esaOvTFL0afThBsetm/Zwp7p48fHCV+Z+uIMrn/Ac/MtmM0mJRKW5SuyXV3GavnIHItZLPoh4aXEv8RF28hslEMxRNsYK09hnR54cXHDbQvrbgIAQcye7HvahFizQsJlqiZQWpT5OBswE844GzCTLgvhlkEiUNqEOyykJyvGk9yEJAsAQOM2AqWj7LCFcEeyg5yUFqQsJ6Up3GIh3BkxxuB2BMFcdLUsSxbSM5JsczHVkNVfywWCWUxSIoW7HAovCIEJZtmC9L5j9IImKRIThgMyywEA7naiZhPX1UdU+DLHTzNLmjGXQ+EFBMcREwMogpoYmeVQC4NaTESFTwyGxWhCybJEdYXaDmoxYy678dxFSLz2rvZpiJFL7z+uJoTARPiRPwIAPzCilQn98kkA4AdHDZvqpN47AghivWpjet9RrbBaHQCiz7wGiiIEJqa/FU8xcMYKiqwOrxAUs/ibhHR8ckh+mb9ixEiE8Ppib78DsgwIwo+OAoCUSU889VT5Rz6KYKgQjoSeLqydNWLv7PJ+4HY5m43vfS919Kgxe5YJ9yYURUGxvG38jGYCgiAM6QCALB/Xu5ym7FlTQF6szFTUkhdWd1poekFN6D+notpKimJeuyx9qMW8Zmn6UEvh8tNp7VKB2SxSImWUzjCIf+37nE0rEBQHRc5MDI0eeoWNzuLE0GUuc5nLXOYyl7nMZS5zmUvL/w8dSxfZqsg1AwAAAABJRU5ErkJggg==",
         "type": "image",
         "xaxis": "x",
         "yaxis": "y"
        }
       ],
       "layout": {
        "margin": {
         "t": 60
        },
        "template": {
         "data": {
          "bar": [
           {
            "error_x": {
             "color": "#f2f5fa"
            },
            "error_y": {
             "color": "#f2f5fa"
            },
            "marker": {
             "line": {
              "color": "rgb(17,17,17)",
              "width": 0.5
             },
             "pattern": {
              "fillmode": "overlay",
              "size": 10,
              "solidity": 0.2
             }
            },
            "type": "bar"
           }
          ],
          "barpolar": [
           {
            "marker": {
             "line": {
              "color": "rgb(17,17,17)",
              "width": 0.5
             },
             "pattern": {
              "fillmode": "overlay",
              "size": 10,
              "solidity": 0.2
             }
            },
            "type": "barpolar"
           }
          ],
          "carpet": [
           {
            "aaxis": {
             "endlinecolor": "#A2B1C6",
             "gridcolor": "#506784",
             "linecolor": "#506784",
             "minorgridcolor": "#506784",
             "startlinecolor": "#A2B1C6"
            },
            "baxis": {
             "endlinecolor": "#A2B1C6",
             "gridcolor": "#506784",
             "linecolor": "#506784",
             "minorgridcolor": "#506784",
             "startlinecolor": "#A2B1C6"
            },
            "type": "carpet"
           }
          ],
          "choropleth": [
           {
            "colorbar": {
             "outlinewidth": 0,
             "ticks": ""
            },
            "type": "choropleth"
           }
          ],
          "contour": [
           {
            "colorbar": {
             "outlinewidth": 0,
             "ticks": ""
            },
            "colorscale": [
             [
              0,
              "#0d0887"
             ],
             [
              0.1111111111111111,
              "#46039f"
             ],
             [
              0.2222222222222222,
              "#7201a8"
             ],
             [
              0.3333333333333333,
              "#9c179e"
             ],
             [
              0.4444444444444444,
              "#bd3786"
             ],
             [
              0.5555555555555556,
              "#d8576b"
             ],
             [
              0.6666666666666666,
              "#ed7953"
             ],
             [
              0.7777777777777778,
              "#fb9f3a"
             ],
             [
              0.8888888888888888,
              "#fdca26"
             ],
             [
              1,
              "#f0f921"
             ]
            ],
            "type": "contour"
           }
          ],
          "contourcarpet": [
           {
            "colorbar": {
             "outlinewidth": 0,
             "ticks": ""
            },
            "type": "contourcarpet"
           }
          ],
          "heatmap": [
           {
            "colorbar": {
             "outlinewidth": 0,
             "ticks": ""
            },
            "colorscale": [
             [
              0,
              "#0d0887"
             ],
             [
              0.1111111111111111,
              "#46039f"
             ],
             [
              0.2222222222222222,
              "#7201a8"
             ],
             [
              0.3333333333333333,
              "#9c179e"
             ],
             [
              0.4444444444444444,
              "#bd3786"
             ],
             [
              0.5555555555555556,
              "#d8576b"
             ],
             [
              0.6666666666666666,
              "#ed7953"
             ],
             [
              0.7777777777777778,
              "#fb9f3a"
             ],
             [
              0.8888888888888888,
              "#fdca26"
             ],
             [
              1,
              "#f0f921"
             ]
            ],
            "type": "heatmap"
           }
          ],
          "heatmapgl": [
           {
            "colorbar": {
             "outlinewidth": 0,
             "ticks": ""
            },
            "colorscale": [
             [
              0,
              "#0d0887"
             ],
             [
              0.1111111111111111,
              "#46039f"
             ],
             [
              0.2222222222222222,
              "#7201a8"
             ],
             [
              0.3333333333333333,
              "#9c179e"
             ],
             [
              0.4444444444444444,
              "#bd3786"
             ],
             [
              0.5555555555555556,
              "#d8576b"
             ],
             [
              0.6666666666666666,
              "#ed7953"
             ],
             [
              0.7777777777777778,
              "#fb9f3a"
             ],
             [
              0.8888888888888888,
              "#fdca26"
             ],
             [
              1,
              "#f0f921"
             ]
            ],
            "type": "heatmapgl"
           }
          ],
          "histogram": [
           {
            "marker": {
             "pattern": {
              "fillmode": "overlay",
              "size": 10,
              "solidity": 0.2
             }
            },
            "type": "histogram"
           }
          ],
          "histogram2d": [
           {
            "colorbar": {
             "outlinewidth": 0,
             "ticks": ""
            },
            "colorscale": [
             [
              0,
              "#0d0887"
             ],
             [
              0.1111111111111111,
              "#46039f"
             ],
             [
              0.2222222222222222,
              "#7201a8"
             ],
             [
              0.3333333333333333,
              "#9c179e"
             ],
             [
              0.4444444444444444,
              "#bd3786"
             ],
             [
              0.5555555555555556,
              "#d8576b"
             ],
             [
              0.6666666666666666,
              "#ed7953"
             ],
             [
              0.7777777777777778,
              "#fb9f3a"
             ],
             [
              0.8888888888888888,
              "#fdca26"
             ],
             [
              1,
              "#f0f921"
             ]
            ],
            "type": "histogram2d"
           }
          ],
          "histogram2dcontour": [
           {
            "colorbar": {
             "outlinewidth": 0,
             "ticks": ""
            },
            "colorscale": [
             [
              0,
              "#0d0887"
             ],
             [
              0.1111111111111111,
              "#46039f"
             ],
             [
              0.2222222222222222,
              "#7201a8"
             ],
             [
              0.3333333333333333,
              "#9c179e"
             ],
             [
              0.4444444444444444,
              "#bd3786"
             ],
             [
              0.5555555555555556,
              "#d8576b"
             ],
             [
              0.6666666666666666,
              "#ed7953"
             ],
             [
              0.7777777777777778,
              "#fb9f3a"
             ],
             [
              0.8888888888888888,
              "#fdca26"
             ],
             [
              1,
              "#f0f921"
             ]
            ],
            "type": "histogram2dcontour"
           }
          ],
          "mesh3d": [
           {
            "colorbar": {
             "outlinewidth": 0,
             "ticks": ""
            },
            "type": "mesh3d"
           }
          ],
          "parcoords": [
           {
            "line": {
             "colorbar": {
              "outlinewidth": 0,
              "ticks": ""
             }
            },
            "type": "parcoords"
           }
          ],
          "pie": [
           {
            "automargin": true,
            "type": "pie"
           }
          ],
          "scatter": [
           {
            "marker": {
             "line": {
              "color": "#283442"
             }
            },
            "type": "scatter"
           }
          ],
          "scatter3d": [
           {
            "line": {
             "colorbar": {
              "outlinewidth": 0,
              "ticks": ""
             }
            },
            "marker": {
             "colorbar": {
              "outlinewidth": 0,
              "ticks": ""
             }
            },
            "type": "scatter3d"
           }
          ],
          "scattercarpet": [
           {
            "marker": {
             "colorbar": {
              "outlinewidth": 0,
              "ticks": ""
             }
            },
            "type": "scattercarpet"
           }
          ],
          "scattergeo": [
           {
            "marker": {
             "colorbar": {
              "outlinewidth": 0,
              "ticks": ""
             }
            },
            "type": "scattergeo"
           }
          ],
          "scattergl": [
           {
            "marker": {
             "line": {
              "color": "#283442"
             }
            },
            "type": "scattergl"
           }
          ],
          "scattermapbox": [
           {
            "marker": {
             "colorbar": {
              "outlinewidth": 0,
              "ticks": ""
             }
            },
            "type": "scattermapbox"
           }
          ],
          "scatterpolar": [
           {
            "marker": {
             "colorbar": {
              "outlinewidth": 0,
              "ticks": ""
             }
            },
            "type": "scatterpolar"
           }
          ],
          "scatterpolargl": [
           {
            "marker": {
             "colorbar": {
              "outlinewidth": 0,
              "ticks": ""
             }
            },
            "type": "scatterpolargl"
           }
          ],
          "scatterternary": [
           {
            "marker": {
             "colorbar": {
              "outlinewidth": 0,
              "ticks": ""
             }
            },
            "type": "scatterternary"
           }
          ],
          "surface": [
           {
            "colorbar": {
             "outlinewidth": 0,
             "ticks": ""
            },
            "colorscale": [
             [
              0,
              "#0d0887"
             ],
             [
              0.1111111111111111,
              "#46039f"
             ],
             [
              0.2222222222222222,
              "#7201a8"
             ],
             [
              0.3333333333333333,
              "#9c179e"
             ],
             [
              0.4444444444444444,
              "#bd3786"
             ],
             [
              0.5555555555555556,
              "#d8576b"
             ],
             [
              0.6666666666666666,
              "#ed7953"
             ],
             [
              0.7777777777777778,
              "#fb9f3a"
             ],
             [
              0.8888888888888888,
              "#fdca26"
             ],
             [
              1,
              "#f0f921"
             ]
            ],
            "type": "surface"
           }
          ],
          "table": [
           {
            "cells": {
             "fill": {
              "color": "#506784"
             },
             "line": {
              "color": "rgb(17,17,17)"
             }
            },
            "header": {
             "fill": {
              "color": "#2a3f5f"
             },
             "line": {
              "color": "rgb(17,17,17)"
             }
            },
            "type": "table"
           }
          ]
         },
         "layout": {
          "annotationdefaults": {
           "arrowcolor": "#f2f5fa",
           "arrowhead": 0,
           "arrowwidth": 1
          },
          "autotypenumbers": "strict",
          "coloraxis": {
           "colorbar": {
            "outlinewidth": 0,
            "ticks": ""
           }
          },
          "colorscale": {
           "diverging": [
            [
             0,
             "#8e0152"
            ],
            [
             0.1,
             "#c51b7d"
            ],
            [
             0.2,
             "#de77ae"
            ],
            [
             0.3,
             "#f1b6da"
            ],
            [
             0.4,
             "#fde0ef"
            ],
            [
             0.5,
             "#f7f7f7"
            ],
            [
             0.6,
             "#e6f5d0"
            ],
            [
             0.7,
             "#b8e186"
            ],
            [
             0.8,
             "#7fbc41"
            ],
            [
             0.9,
             "#4d9221"
            ],
            [
             1,
             "#276419"
            ]
           ],
           "sequential": [
            [
             0,
             "#0d0887"
            ],
            [
             0.1111111111111111,
             "#46039f"
            ],
            [
             0.2222222222222222,
             "#7201a8"
            ],
            [
             0.3333333333333333,
             "#9c179e"
            ],
            [
             0.4444444444444444,
             "#bd3786"
            ],
            [
             0.5555555555555556,
             "#d8576b"
            ],
            [
             0.6666666666666666,
             "#ed7953"
            ],
            [
             0.7777777777777778,
             "#fb9f3a"
            ],
            [
             0.8888888888888888,
             "#fdca26"
            ],
            [
             1,
             "#f0f921"
            ]
           ],
           "sequentialminus": [
            [
             0,
             "#0d0887"
            ],
            [
             0.1111111111111111,
             "#46039f"
            ],
            [
             0.2222222222222222,
             "#7201a8"
            ],
            [
             0.3333333333333333,
             "#9c179e"
            ],
            [
             0.4444444444444444,
             "#bd3786"
            ],
            [
             0.5555555555555556,
             "#d8576b"
            ],
            [
             0.6666666666666666,
             "#ed7953"
            ],
            [
             0.7777777777777778,
             "#fb9f3a"
            ],
            [
             0.8888888888888888,
             "#fdca26"
            ],
            [
             1,
             "#f0f921"
            ]
           ]
          },
          "colorway": [
           "#636efa",
           "#EF553B",
           "#00cc96",
           "#ab63fa",
           "#FFA15A",
           "#19d3f3",
           "#FF6692",
           "#B6E880",
           "#FF97FF",
           "#FECB52"
          ],
          "font": {
           "color": "#f2f5fa"
          },
          "geo": {
           "bgcolor": "rgb(17,17,17)",
           "lakecolor": "rgb(17,17,17)",
           "landcolor": "rgb(17,17,17)",
           "showlakes": true,
           "showland": true,
           "subunitcolor": "#506784"
          },
          "hoverlabel": {
           "align": "left"
          },
          "hovermode": "closest",
          "mapbox": {
           "style": "dark"
          },
          "paper_bgcolor": "rgb(17,17,17)",
          "plot_bgcolor": "rgb(17,17,17)",
          "polar": {
           "angularaxis": {
            "gridcolor": "#506784",
            "linecolor": "#506784",
            "ticks": ""
           },
           "bgcolor": "rgb(17,17,17)",
           "radialaxis": {
            "gridcolor": "#506784",
            "linecolor": "#506784",
            "ticks": ""
           }
          },
          "scene": {
           "xaxis": {
            "backgroundcolor": "rgb(17,17,17)",
            "gridcolor": "#506784",
            "gridwidth": 2,
            "linecolor": "#506784",
            "showbackground": true,
            "ticks": "",
            "zerolinecolor": "#C8D4E3"
           },
           "yaxis": {
            "backgroundcolor": "rgb(17,17,17)",
            "gridcolor": "#506784",
            "gridwidth": 2,
            "linecolor": "#506784",
            "showbackground": true,
            "ticks": "",
            "zerolinecolor": "#C8D4E3"
           },
           "zaxis": {
            "backgroundcolor": "rgb(17,17,17)",
            "gridcolor": "#506784",
            "gridwidth": 2,
            "linecolor": "#506784",
            "showbackground": true,
            "ticks": "",
            "zerolinecolor": "#C8D4E3"
           }
          },
          "shapedefaults": {
           "line": {
            "color": "#f2f5fa"
           }
          },
          "sliderdefaults": {
           "bgcolor": "#C8D4E3",
           "bordercolor": "rgb(17,17,17)",
           "borderwidth": 1,
           "tickwidth": 0
          },
          "ternary": {
           "aaxis": {
            "gridcolor": "#506784",
            "linecolor": "#506784",
            "ticks": ""
           },
           "baxis": {
            "gridcolor": "#506784",
            "linecolor": "#506784",
            "ticks": ""
           },
           "bgcolor": "rgb(17,17,17)",
           "caxis": {
            "gridcolor": "#506784",
            "linecolor": "#506784",
            "ticks": ""
           }
          },
          "title": {
           "x": 0.05
          },
          "updatemenudefaults": {
           "bgcolor": "#506784",
           "borderwidth": 0
          },
          "xaxis": {
           "automargin": true,
           "gridcolor": "#283442",
           "linecolor": "#506784",
           "ticks": "",
           "title": {
            "standoff": 15
           },
           "zerolinecolor": "#283442",
           "zerolinewidth": 2
          },
          "yaxis": {
           "automargin": true,
           "gridcolor": "#283442",
           "linecolor": "#506784",
           "ticks": "",
           "title": {
            "standoff": 15
           },
           "zerolinecolor": "#283442",
           "zerolinewidth": 2
          }
         }
        },
        "xaxis": {
         "anchor": "y",
         "domain": [
          0,
          1
         ],
         "visible": false
        },
        "yaxis": {
         "anchor": "x",
         "domain": [
          0,
          1
         ],
         "visible": false
        }
       }
      }
     },
     "metadata": {},
     "output_type": "display_data"
    }
   ],
   "source": [
    "negetive_word_cloud = WordCloud(stopwords=STOPWORDS).generate(neg_review_text)\n",
    "fig2 = ex.imshow(negetive_word_cloud,template='plotly_dark')\n",
    "fig2.update_layout(xaxis_visible = False, yaxis_visible = False)\n",
    "fig2.show()"
   ]
  },
  {
   "cell_type": "code",
   "execution_count": 78,
   "metadata": {},
   "outputs": [
    {
     "data": {
      "application/vnd.plotly.v1+json": {
       "config": {
        "plotlyServerURL": "https://plot.ly"
       },
       "data": [
        {
         "hovertemplate": "x: %{x}<br>y: %{y}<br>color: [%{z[0]}, %{z[1]}, %{z[2]}]<extra></extra>",
         "name": "0",
         "source": "data:image/png;base64,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",
         "type": "image",
         "xaxis": "x",
         "yaxis": "y"
        }
       ],
       "layout": {
        "margin": {
         "t": 60
        },
        "template": {
         "data": {
          "bar": [
           {
            "error_x": {
             "color": "#f2f5fa"
            },
            "error_y": {
             "color": "#f2f5fa"
            },
            "marker": {
             "line": {
              "color": "rgb(17,17,17)",
              "width": 0.5
             },
             "pattern": {
              "fillmode": "overlay",
              "size": 10,
              "solidity": 0.2
             }
            },
            "type": "bar"
           }
          ],
          "barpolar": [
           {
            "marker": {
             "line": {
              "color": "rgb(17,17,17)",
              "width": 0.5
             },
             "pattern": {
              "fillmode": "overlay",
              "size": 10,
              "solidity": 0.2
             }
            },
            "type": "barpolar"
           }
          ],
          "carpet": [
           {
            "aaxis": {
             "endlinecolor": "#A2B1C6",
             "gridcolor": "#506784",
             "linecolor": "#506784",
             "minorgridcolor": "#506784",
             "startlinecolor": "#A2B1C6"
            },
            "baxis": {
             "endlinecolor": "#A2B1C6",
             "gridcolor": "#506784",
             "linecolor": "#506784",
             "minorgridcolor": "#506784",
             "startlinecolor": "#A2B1C6"
            },
            "type": "carpet"
           }
          ],
          "choropleth": [
           {
            "colorbar": {
             "outlinewidth": 0,
             "ticks": ""
            },
            "type": "choropleth"
           }
          ],
          "contour": [
           {
            "colorbar": {
             "outlinewidth": 0,
             "ticks": ""
            },
            "colorscale": [
             [
              0,
              "#0d0887"
             ],
             [
              0.1111111111111111,
              "#46039f"
             ],
             [
              0.2222222222222222,
              "#7201a8"
             ],
             [
              0.3333333333333333,
              "#9c179e"
             ],
             [
              0.4444444444444444,
              "#bd3786"
             ],
             [
              0.5555555555555556,
              "#d8576b"
             ],
             [
              0.6666666666666666,
              "#ed7953"
             ],
             [
              0.7777777777777778,
              "#fb9f3a"
             ],
             [
              0.8888888888888888,
              "#fdca26"
             ],
             [
              1,
              "#f0f921"
             ]
            ],
            "type": "contour"
           }
          ],
          "contourcarpet": [
           {
            "colorbar": {
             "outlinewidth": 0,
             "ticks": ""
            },
            "type": "contourcarpet"
           }
          ],
          "heatmap": [
           {
            "colorbar": {
             "outlinewidth": 0,
             "ticks": ""
            },
            "colorscale": [
             [
              0,
              "#0d0887"
             ],
             [
              0.1111111111111111,
              "#46039f"
             ],
             [
              0.2222222222222222,
              "#7201a8"
             ],
             [
              0.3333333333333333,
              "#9c179e"
             ],
             [
              0.4444444444444444,
              "#bd3786"
             ],
             [
              0.5555555555555556,
              "#d8576b"
             ],
             [
              0.6666666666666666,
              "#ed7953"
             ],
             [
              0.7777777777777778,
              "#fb9f3a"
             ],
             [
              0.8888888888888888,
              "#fdca26"
             ],
             [
              1,
              "#f0f921"
             ]
            ],
            "type": "heatmap"
           }
          ],
          "heatmapgl": [
           {
            "colorbar": {
             "outlinewidth": 0,
             "ticks": ""
            },
            "colorscale": [
             [
              0,
              "#0d0887"
             ],
             [
              0.1111111111111111,
              "#46039f"
             ],
             [
              0.2222222222222222,
              "#7201a8"
             ],
             [
              0.3333333333333333,
              "#9c179e"
             ],
             [
              0.4444444444444444,
              "#bd3786"
             ],
             [
              0.5555555555555556,
              "#d8576b"
             ],
             [
              0.6666666666666666,
              "#ed7953"
             ],
             [
              0.7777777777777778,
              "#fb9f3a"
             ],
             [
              0.8888888888888888,
              "#fdca26"
             ],
             [
              1,
              "#f0f921"
             ]
            ],
            "type": "heatmapgl"
           }
          ],
          "histogram": [
           {
            "marker": {
             "pattern": {
              "fillmode": "overlay",
              "size": 10,
              "solidity": 0.2
             }
            },
            "type": "histogram"
           }
          ],
          "histogram2d": [
           {
            "colorbar": {
             "outlinewidth": 0,
             "ticks": ""
            },
            "colorscale": [
             [
              0,
              "#0d0887"
             ],
             [
              0.1111111111111111,
              "#46039f"
             ],
             [
              0.2222222222222222,
              "#7201a8"
             ],
             [
              0.3333333333333333,
              "#9c179e"
             ],
             [
              0.4444444444444444,
              "#bd3786"
             ],
             [
              0.5555555555555556,
              "#d8576b"
             ],
             [
              0.6666666666666666,
              "#ed7953"
             ],
             [
              0.7777777777777778,
              "#fb9f3a"
             ],
             [
              0.8888888888888888,
              "#fdca26"
             ],
             [
              1,
              "#f0f921"
             ]
            ],
            "type": "histogram2d"
           }
          ],
          "histogram2dcontour": [
           {
            "colorbar": {
             "outlinewidth": 0,
             "ticks": ""
            },
            "colorscale": [
             [
              0,
              "#0d0887"
             ],
             [
              0.1111111111111111,
              "#46039f"
             ],
             [
              0.2222222222222222,
              "#7201a8"
             ],
             [
              0.3333333333333333,
              "#9c179e"
             ],
             [
              0.4444444444444444,
              "#bd3786"
             ],
             [
              0.5555555555555556,
              "#d8576b"
             ],
             [
              0.6666666666666666,
              "#ed7953"
             ],
             [
              0.7777777777777778,
              "#fb9f3a"
             ],
             [
              0.8888888888888888,
              "#fdca26"
             ],
             [
              1,
              "#f0f921"
             ]
            ],
            "type": "histogram2dcontour"
           }
          ],
          "mesh3d": [
           {
            "colorbar": {
             "outlinewidth": 0,
             "ticks": ""
            },
            "type": "mesh3d"
           }
          ],
          "parcoords": [
           {
            "line": {
             "colorbar": {
              "outlinewidth": 0,
              "ticks": ""
             }
            },
            "type": "parcoords"
           }
          ],
          "pie": [
           {
            "automargin": true,
            "type": "pie"
           }
          ],
          "scatter": [
           {
            "marker": {
             "line": {
              "color": "#283442"
             }
            },
            "type": "scatter"
           }
          ],
          "scatter3d": [
           {
            "line": {
             "colorbar": {
              "outlinewidth": 0,
              "ticks": ""
             }
            },
            "marker": {
             "colorbar": {
              "outlinewidth": 0,
              "ticks": ""
             }
            },
            "type": "scatter3d"
           }
          ],
          "scattercarpet": [
           {
            "marker": {
             "colorbar": {
              "outlinewidth": 0,
              "ticks": ""
             }
            },
            "type": "scattercarpet"
           }
          ],
          "scattergeo": [
           {
            "marker": {
             "colorbar": {
              "outlinewidth": 0,
              "ticks": ""
             }
            },
            "type": "scattergeo"
           }
          ],
          "scattergl": [
           {
            "marker": {
             "line": {
              "color": "#283442"
             }
            },
            "type": "scattergl"
           }
          ],
          "scattermapbox": [
           {
            "marker": {
             "colorbar": {
              "outlinewidth": 0,
              "ticks": ""
             }
            },
            "type": "scattermapbox"
           }
          ],
          "scatterpolar": [
           {
            "marker": {
             "colorbar": {
              "outlinewidth": 0,
              "ticks": ""
             }
            },
            "type": "scatterpolar"
           }
          ],
          "scatterpolargl": [
           {
            "marker": {
             "colorbar": {
              "outlinewidth": 0,
              "ticks": ""
             }
            },
            "type": "scatterpolargl"
           }
          ],
          "scatterternary": [
           {
            "marker": {
             "colorbar": {
              "outlinewidth": 0,
              "ticks": ""
             }
            },
            "type": "scatterternary"
           }
          ],
          "surface": [
           {
            "colorbar": {
             "outlinewidth": 0,
             "ticks": ""
            },
            "colorscale": [
             [
              0,
              "#0d0887"
             ],
             [
              0.1111111111111111,
              "#46039f"
             ],
             [
              0.2222222222222222,
              "#7201a8"
             ],
             [
              0.3333333333333333,
              "#9c179e"
             ],
             [
              0.4444444444444444,
              "#bd3786"
             ],
             [
              0.5555555555555556,
              "#d8576b"
             ],
             [
              0.6666666666666666,
              "#ed7953"
             ],
             [
              0.7777777777777778,
              "#fb9f3a"
             ],
             [
              0.8888888888888888,
              "#fdca26"
             ],
             [
              1,
              "#f0f921"
             ]
            ],
            "type": "surface"
           }
          ],
          "table": [
           {
            "cells": {
             "fill": {
              "color": "#506784"
             },
             "line": {
              "color": "rgb(17,17,17)"
             }
            },
            "header": {
             "fill": {
              "color": "#2a3f5f"
             },
             "line": {
              "color": "rgb(17,17,17)"
             }
            },
            "type": "table"
           }
          ]
         },
         "layout": {
          "annotationdefaults": {
           "arrowcolor": "#f2f5fa",
           "arrowhead": 0,
           "arrowwidth": 1
          },
          "autotypenumbers": "strict",
          "coloraxis": {
           "colorbar": {
            "outlinewidth": 0,
            "ticks": ""
           }
          },
          "colorscale": {
           "diverging": [
            [
             0,
             "#8e0152"
            ],
            [
             0.1,
             "#c51b7d"
            ],
            [
             0.2,
             "#de77ae"
            ],
            [
             0.3,
             "#f1b6da"
            ],
            [
             0.4,
             "#fde0ef"
            ],
            [
             0.5,
             "#f7f7f7"
            ],
            [
             0.6,
             "#e6f5d0"
            ],
            [
             0.7,
             "#b8e186"
            ],
            [
             0.8,
             "#7fbc41"
            ],
            [
             0.9,
             "#4d9221"
            ],
            [
             1,
             "#276419"
            ]
           ],
           "sequential": [
            [
             0,
             "#0d0887"
            ],
            [
             0.1111111111111111,
             "#46039f"
            ],
            [
             0.2222222222222222,
             "#7201a8"
            ],
            [
             0.3333333333333333,
             "#9c179e"
            ],
            [
             0.4444444444444444,
             "#bd3786"
            ],
            [
             0.5555555555555556,
             "#d8576b"
            ],
            [
             0.6666666666666666,
             "#ed7953"
            ],
            [
             0.7777777777777778,
             "#fb9f3a"
            ],
            [
             0.8888888888888888,
             "#fdca26"
            ],
            [
             1,
             "#f0f921"
            ]
           ],
           "sequentialminus": [
            [
             0,
             "#0d0887"
            ],
            [
             0.1111111111111111,
             "#46039f"
            ],
            [
             0.2222222222222222,
             "#7201a8"
            ],
            [
             0.3333333333333333,
             "#9c179e"
            ],
            [
             0.4444444444444444,
             "#bd3786"
            ],
            [
             0.5555555555555556,
             "#d8576b"
            ],
            [
             0.6666666666666666,
             "#ed7953"
            ],
            [
             0.7777777777777778,
             "#fb9f3a"
            ],
            [
             0.8888888888888888,
             "#fdca26"
            ],
            [
             1,
             "#f0f921"
            ]
           ]
          },
          "colorway": [
           "#636efa",
           "#EF553B",
           "#00cc96",
           "#ab63fa",
           "#FFA15A",
           "#19d3f3",
           "#FF6692",
           "#B6E880",
           "#FF97FF",
           "#FECB52"
          ],
          "font": {
           "color": "#f2f5fa"
          },
          "geo": {
           "bgcolor": "rgb(17,17,17)",
           "lakecolor": "rgb(17,17,17)",
           "landcolor": "rgb(17,17,17)",
           "showlakes": true,
           "showland": true,
           "subunitcolor": "#506784"
          },
          "hoverlabel": {
           "align": "left"
          },
          "hovermode": "closest",
          "mapbox": {
           "style": "dark"
          },
          "paper_bgcolor": "rgb(17,17,17)",
          "plot_bgcolor": "rgb(17,17,17)",
          "polar": {
           "angularaxis": {
            "gridcolor": "#506784",
            "linecolor": "#506784",
            "ticks": ""
           },
           "bgcolor": "rgb(17,17,17)",
           "radialaxis": {
            "gridcolor": "#506784",
            "linecolor": "#506784",
            "ticks": ""
           }
          },
          "scene": {
           "xaxis": {
            "backgroundcolor": "rgb(17,17,17)",
            "gridcolor": "#506784",
            "gridwidth": 2,
            "linecolor": "#506784",
            "showbackground": true,
            "ticks": "",
            "zerolinecolor": "#C8D4E3"
           },
           "yaxis": {
            "backgroundcolor": "rgb(17,17,17)",
            "gridcolor": "#506784",
            "gridwidth": 2,
            "linecolor": "#506784",
            "showbackground": true,
            "ticks": "",
            "zerolinecolor": "#C8D4E3"
           },
           "zaxis": {
            "backgroundcolor": "rgb(17,17,17)",
            "gridcolor": "#506784",
            "gridwidth": 2,
            "linecolor": "#506784",
            "showbackground": true,
            "ticks": "",
            "zerolinecolor": "#C8D4E3"
           }
          },
          "shapedefaults": {
           "line": {
            "color": "#f2f5fa"
           }
          },
          "sliderdefaults": {
           "bgcolor": "#C8D4E3",
           "bordercolor": "rgb(17,17,17)",
           "borderwidth": 1,
           "tickwidth": 0
          },
          "ternary": {
           "aaxis": {
            "gridcolor": "#506784",
            "linecolor": "#506784",
            "ticks": ""
           },
           "baxis": {
            "gridcolor": "#506784",
            "linecolor": "#506784",
            "ticks": ""
           },
           "bgcolor": "rgb(17,17,17)",
           "caxis": {
            "gridcolor": "#506784",
            "linecolor": "#506784",
            "ticks": ""
           }
          },
          "title": {
           "x": 0.05
          },
          "updatemenudefaults": {
           "bgcolor": "#506784",
           "borderwidth": 0
          },
          "xaxis": {
           "automargin": true,
           "gridcolor": "#283442",
           "linecolor": "#506784",
           "ticks": "",
           "title": {
            "standoff": 15
           },
           "zerolinecolor": "#283442",
           "zerolinewidth": 2
          },
          "yaxis": {
           "automargin": true,
           "gridcolor": "#283442",
           "linecolor": "#506784",
           "ticks": "",
           "title": {
            "standoff": 15
           },
           "zerolinecolor": "#283442",
           "zerolinewidth": 2
          }
         }
        },
        "xaxis": {
         "anchor": "y",
         "domain": [
          0,
          1
         ],
         "visible": false
        },
        "yaxis": {
         "anchor": "x",
         "domain": [
          0,
          1
         ],
         "visible": false
        }
       }
      }
     },
     "metadata": {},
     "output_type": "display_data"
    }
   ],
   "source": [
    "neutral_worldcloud = WordCloud(stopwords=STOPWORDS).generate(neutral_review_text)\n",
    "fig3 = ex.imshow(neutral_worldcloud,template='plotly_dark')\n",
    "fig3.update_layout( xaxis_visible = False , yaxis_visible = False)\n",
    "fig3.show()"
   ]
  },
  {
   "cell_type": "code",
   "execution_count": 77,
   "metadata": {},
   "outputs": [
    {
     "data": {
      "application/vnd.plotly.v1+json": {
       "config": {
        "plotlyServerURL": "https://plot.ly"
       },
       "data": [
        {
         "hovertemplate": "x: %{x}<br>y: %{y}<br>color: [%{z[0]}, %{z[1]}, %{z[2]}]<extra></extra>",
         "name": "0",
         "source": "data:image/png;base64,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",
         "type": "image",
         "xaxis": "x",
         "yaxis": "y"
        }
       ],
       "layout": {
        "margin": {
         "t": 60
        },
        "template": {
         "data": {
          "bar": [
           {
            "error_x": {
             "color": "#f2f5fa"
            },
            "error_y": {
             "color": "#f2f5fa"
            },
            "marker": {
             "line": {
              "color": "rgb(17,17,17)",
              "width": 0.5
             },
             "pattern": {
              "fillmode": "overlay",
              "size": 10,
              "solidity": 0.2
             }
            },
            "type": "bar"
           }
          ],
          "barpolar": [
           {
            "marker": {
             "line": {
              "color": "rgb(17,17,17)",
              "width": 0.5
             },
             "pattern": {
              "fillmode": "overlay",
              "size": 10,
              "solidity": 0.2
             }
            },
            "type": "barpolar"
           }
          ],
          "carpet": [
           {
            "aaxis": {
             "endlinecolor": "#A2B1C6",
             "gridcolor": "#506784",
             "linecolor": "#506784",
             "minorgridcolor": "#506784",
             "startlinecolor": "#A2B1C6"
            },
            "baxis": {
             "endlinecolor": "#A2B1C6",
             "gridcolor": "#506784",
             "linecolor": "#506784",
             "minorgridcolor": "#506784",
             "startlinecolor": "#A2B1C6"
            },
            "type": "carpet"
           }
          ],
          "choropleth": [
           {
            "colorbar": {
             "outlinewidth": 0,
             "ticks": ""
            },
            "type": "choropleth"
           }
          ],
          "contour": [
           {
            "colorbar": {
             "outlinewidth": 0,
             "ticks": ""
            },
            "colorscale": [
             [
              0,
              "#0d0887"
             ],
             [
              0.1111111111111111,
              "#46039f"
             ],
             [
              0.2222222222222222,
              "#7201a8"
             ],
             [
              0.3333333333333333,
              "#9c179e"
             ],
             [
              0.4444444444444444,
              "#bd3786"
             ],
             [
              0.5555555555555556,
              "#d8576b"
             ],
             [
              0.6666666666666666,
              "#ed7953"
             ],
             [
              0.7777777777777778,
              "#fb9f3a"
             ],
             [
              0.8888888888888888,
              "#fdca26"
             ],
             [
              1,
              "#f0f921"
             ]
            ],
            "type": "contour"
           }
          ],
          "contourcarpet": [
           {
            "colorbar": {
             "outlinewidth": 0,
             "ticks": ""
            },
            "type": "contourcarpet"
           }
          ],
          "heatmap": [
           {
            "colorbar": {
             "outlinewidth": 0,
             "ticks": ""
            },
            "colorscale": [
             [
              0,
              "#0d0887"
             ],
             [
              0.1111111111111111,
              "#46039f"
             ],
             [
              0.2222222222222222,
              "#7201a8"
             ],
             [
              0.3333333333333333,
              "#9c179e"
             ],
             [
              0.4444444444444444,
              "#bd3786"
             ],
             [
              0.5555555555555556,
              "#d8576b"
             ],
             [
              0.6666666666666666,
              "#ed7953"
             ],
             [
              0.7777777777777778,
              "#fb9f3a"
             ],
             [
              0.8888888888888888,
              "#fdca26"
             ],
             [
              1,
              "#f0f921"
             ]
            ],
            "type": "heatmap"
           }
          ],
          "heatmapgl": [
           {
            "colorbar": {
             "outlinewidth": 0,
             "ticks": ""
            },
            "colorscale": [
             [
              0,
              "#0d0887"
             ],
             [
              0.1111111111111111,
              "#46039f"
             ],
             [
              0.2222222222222222,
              "#7201a8"
             ],
             [
              0.3333333333333333,
              "#9c179e"
             ],
             [
              0.4444444444444444,
              "#bd3786"
             ],
             [
              0.5555555555555556,
              "#d8576b"
             ],
             [
              0.6666666666666666,
              "#ed7953"
             ],
             [
              0.7777777777777778,
              "#fb9f3a"
             ],
             [
              0.8888888888888888,
              "#fdca26"
             ],
             [
              1,
              "#f0f921"
             ]
            ],
            "type": "heatmapgl"
           }
          ],
          "histogram": [
           {
            "marker": {
             "pattern": {
              "fillmode": "overlay",
              "size": 10,
              "solidity": 0.2
             }
            },
            "type": "histogram"
           }
          ],
          "histogram2d": [
           {
            "colorbar": {
             "outlinewidth": 0,
             "ticks": ""
            },
            "colorscale": [
             [
              0,
              "#0d0887"
             ],
             [
              0.1111111111111111,
              "#46039f"
             ],
             [
              0.2222222222222222,
              "#7201a8"
             ],
             [
              0.3333333333333333,
              "#9c179e"
             ],
             [
              0.4444444444444444,
              "#bd3786"
             ],
             [
              0.5555555555555556,
              "#d8576b"
             ],
             [
              0.6666666666666666,
              "#ed7953"
             ],
             [
              0.7777777777777778,
              "#fb9f3a"
             ],
             [
              0.8888888888888888,
              "#fdca26"
             ],
             [
              1,
              "#f0f921"
             ]
            ],
            "type": "histogram2d"
           }
          ],
          "histogram2dcontour": [
           {
            "colorbar": {
             "outlinewidth": 0,
             "ticks": ""
            },
            "colorscale": [
             [
              0,
              "#0d0887"
             ],
             [
              0.1111111111111111,
              "#46039f"
             ],
             [
              0.2222222222222222,
              "#7201a8"
             ],
             [
              0.3333333333333333,
              "#9c179e"
             ],
             [
              0.4444444444444444,
              "#bd3786"
             ],
             [
              0.5555555555555556,
              "#d8576b"
             ],
             [
              0.6666666666666666,
              "#ed7953"
             ],
             [
              0.7777777777777778,
              "#fb9f3a"
             ],
             [
              0.8888888888888888,
              "#fdca26"
             ],
             [
              1,
              "#f0f921"
             ]
            ],
            "type": "histogram2dcontour"
           }
          ],
          "mesh3d": [
           {
            "colorbar": {
             "outlinewidth": 0,
             "ticks": ""
            },
            "type": "mesh3d"
           }
          ],
          "parcoords": [
           {
            "line": {
             "colorbar": {
              "outlinewidth": 0,
              "ticks": ""
             }
            },
            "type": "parcoords"
           }
          ],
          "pie": [
           {
            "automargin": true,
            "type": "pie"
           }
          ],
          "scatter": [
           {
            "marker": {
             "line": {
              "color": "#283442"
             }
            },
            "type": "scatter"
           }
          ],
          "scatter3d": [
           {
            "line": {
             "colorbar": {
              "outlinewidth": 0,
              "ticks": ""
             }
            },
            "marker": {
             "colorbar": {
              "outlinewidth": 0,
              "ticks": ""
             }
            },
            "type": "scatter3d"
           }
          ],
          "scattercarpet": [
           {
            "marker": {
             "colorbar": {
              "outlinewidth": 0,
              "ticks": ""
             }
            },
            "type": "scattercarpet"
           }
          ],
          "scattergeo": [
           {
            "marker": {
             "colorbar": {
              "outlinewidth": 0,
              "ticks": ""
             }
            },
            "type": "scattergeo"
           }
          ],
          "scattergl": [
           {
            "marker": {
             "line": {
              "color": "#283442"
             }
            },
            "type": "scattergl"
           }
          ],
          "scattermapbox": [
           {
            "marker": {
             "colorbar": {
              "outlinewidth": 0,
              "ticks": ""
             }
            },
            "type": "scattermapbox"
           }
          ],
          "scatterpolar": [
           {
            "marker": {
             "colorbar": {
              "outlinewidth": 0,
              "ticks": ""
             }
            },
            "type": "scatterpolar"
           }
          ],
          "scatterpolargl": [
           {
            "marker": {
             "colorbar": {
              "outlinewidth": 0,
              "ticks": ""
             }
            },
            "type": "scatterpolargl"
           }
          ],
          "scatterternary": [
           {
            "marker": {
             "colorbar": {
              "outlinewidth": 0,
              "ticks": ""
             }
            },
            "type": "scatterternary"
           }
          ],
          "surface": [
           {
            "colorbar": {
             "outlinewidth": 0,
             "ticks": ""
            },
            "colorscale": [
             [
              0,
              "#0d0887"
             ],
             [
              0.1111111111111111,
              "#46039f"
             ],
             [
              0.2222222222222222,
              "#7201a8"
             ],
             [
              0.3333333333333333,
              "#9c179e"
             ],
             [
              0.4444444444444444,
              "#bd3786"
             ],
             [
              0.5555555555555556,
              "#d8576b"
             ],
             [
              0.6666666666666666,
              "#ed7953"
             ],
             [
              0.7777777777777778,
              "#fb9f3a"
             ],
             [
              0.8888888888888888,
              "#fdca26"
             ],
             [
              1,
              "#f0f921"
             ]
            ],
            "type": "surface"
           }
          ],
          "table": [
           {
            "cells": {
             "fill": {
              "color": "#506784"
             },
             "line": {
              "color": "rgb(17,17,17)"
             }
            },
            "header": {
             "fill": {
              "color": "#2a3f5f"
             },
             "line": {
              "color": "rgb(17,17,17)"
             }
            },
            "type": "table"
           }
          ]
         },
         "layout": {
          "annotationdefaults": {
           "arrowcolor": "#f2f5fa",
           "arrowhead": 0,
           "arrowwidth": 1
          },
          "autotypenumbers": "strict",
          "coloraxis": {
           "colorbar": {
            "outlinewidth": 0,
            "ticks": ""
           }
          },
          "colorscale": {
           "diverging": [
            [
             0,
             "#8e0152"
            ],
            [
             0.1,
             "#c51b7d"
            ],
            [
             0.2,
             "#de77ae"
            ],
            [
             0.3,
             "#f1b6da"
            ],
            [
             0.4,
             "#fde0ef"
            ],
            [
             0.5,
             "#f7f7f7"
            ],
            [
             0.6,
             "#e6f5d0"
            ],
            [
             0.7,
             "#b8e186"
            ],
            [
             0.8,
             "#7fbc41"
            ],
            [
             0.9,
             "#4d9221"
            ],
            [
             1,
             "#276419"
            ]
           ],
           "sequential": [
            [
             0,
             "#0d0887"
            ],
            [
             0.1111111111111111,
             "#46039f"
            ],
            [
             0.2222222222222222,
             "#7201a8"
            ],
            [
             0.3333333333333333,
             "#9c179e"
            ],
            [
             0.4444444444444444,
             "#bd3786"
            ],
            [
             0.5555555555555556,
             "#d8576b"
            ],
            [
             0.6666666666666666,
             "#ed7953"
            ],
            [
             0.7777777777777778,
             "#fb9f3a"
            ],
            [
             0.8888888888888888,
             "#fdca26"
            ],
            [
             1,
             "#f0f921"
            ]
           ],
           "sequentialminus": [
            [
             0,
             "#0d0887"
            ],
            [
             0.1111111111111111,
             "#46039f"
            ],
            [
             0.2222222222222222,
             "#7201a8"
            ],
            [
             0.3333333333333333,
             "#9c179e"
            ],
            [
             0.4444444444444444,
             "#bd3786"
            ],
            [
             0.5555555555555556,
             "#d8576b"
            ],
            [
             0.6666666666666666,
             "#ed7953"
            ],
            [
             0.7777777777777778,
             "#fb9f3a"
            ],
            [
             0.8888888888888888,
             "#fdca26"
            ],
            [
             1,
             "#f0f921"
            ]
           ]
          },
          "colorway": [
           "#636efa",
           "#EF553B",
           "#00cc96",
           "#ab63fa",
           "#FFA15A",
           "#19d3f3",
           "#FF6692",
           "#B6E880",
           "#FF97FF",
           "#FECB52"
          ],
          "font": {
           "color": "#f2f5fa"
          },
          "geo": {
           "bgcolor": "rgb(17,17,17)",
           "lakecolor": "rgb(17,17,17)",
           "landcolor": "rgb(17,17,17)",
           "showlakes": true,
           "showland": true,
           "subunitcolor": "#506784"
          },
          "hoverlabel": {
           "align": "left"
          },
          "hovermode": "closest",
          "mapbox": {
           "style": "dark"
          },
          "paper_bgcolor": "rgb(17,17,17)",
          "plot_bgcolor": "rgb(17,17,17)",
          "polar": {
           "angularaxis": {
            "gridcolor": "#506784",
            "linecolor": "#506784",
            "ticks": ""
           },
           "bgcolor": "rgb(17,17,17)",
           "radialaxis": {
            "gridcolor": "#506784",
            "linecolor": "#506784",
            "ticks": ""
           }
          },
          "scene": {
           "xaxis": {
            "backgroundcolor": "rgb(17,17,17)",
            "gridcolor": "#506784",
            "gridwidth": 2,
            "linecolor": "#506784",
            "showbackground": true,
            "ticks": "",
            "zerolinecolor": "#C8D4E3"
           },
           "yaxis": {
            "backgroundcolor": "rgb(17,17,17)",
            "gridcolor": "#506784",
            "gridwidth": 2,
            "linecolor": "#506784",
            "showbackground": true,
            "ticks": "",
            "zerolinecolor": "#C8D4E3"
           },
           "zaxis": {
            "backgroundcolor": "rgb(17,17,17)",
            "gridcolor": "#506784",
            "gridwidth": 2,
            "linecolor": "#506784",
            "showbackground": true,
            "ticks": "",
            "zerolinecolor": "#C8D4E3"
           }
          },
          "shapedefaults": {
           "line": {
            "color": "#f2f5fa"
           }
          },
          "sliderdefaults": {
           "bgcolor": "#C8D4E3",
           "bordercolor": "rgb(17,17,17)",
           "borderwidth": 1,
           "tickwidth": 0
          },
          "ternary": {
           "aaxis": {
            "gridcolor": "#506784",
            "linecolor": "#506784",
            "ticks": ""
           },
           "baxis": {
            "gridcolor": "#506784",
            "linecolor": "#506784",
            "ticks": ""
           },
           "bgcolor": "rgb(17,17,17)",
           "caxis": {
            "gridcolor": "#506784",
            "linecolor": "#506784",
            "ticks": ""
           }
          },
          "title": {
           "x": 0.05
          },
          "updatemenudefaults": {
           "bgcolor": "#506784",
           "borderwidth": 0
          },
          "xaxis": {
           "automargin": true,
           "gridcolor": "#283442",
           "linecolor": "#506784",
           "ticks": "",
           "title": {
            "standoff": 15
           },
           "zerolinecolor": "#283442",
           "zerolinewidth": 2
          },
          "yaxis": {
           "automargin": true,
           "gridcolor": "#283442",
           "linecolor": "#506784",
           "ticks": "",
           "title": {
            "standoff": 15
           },
           "zerolinecolor": "#283442",
           "zerolinewidth": 2
          }
         }
        },
        "xaxis": {
         "anchor": "y",
         "domain": [
          0,
          1
         ],
         "visible": false
        },
        "yaxis": {
         "anchor": "x",
         "domain": [
          0,
          1
         ],
         "visible": false
        }
       }
      }
     },
     "metadata": {},
     "output_type": "display_data"
    }
   ],
   "source": [
    "mix_worldcloud = WordCloud(stopwords=STOPWORDS).generate(neg_review_text + \" \"+ positive_review_text + \" \"+ neutral_review_text)\n",
    "fig4 = ex.imshow(mix_worldcloud,template='plotly_dark')\n",
    "fig4.update_layout(xaxis_visible=False,yaxis_visible=False)\n",
    "fig4.show()"
   ]
  },
  {
   "cell_type": "code",
   "execution_count": null,
   "metadata": {},
   "outputs": [],
   "source": []
  }
 ],
 "metadata": {
  "kernelspec": {
   "display_name": "Python 3",
   "language": "python",
   "name": "python3"
  },
  "language_info": {
   "codemirror_mode": {
    "name": "ipython",
    "version": 3
   },
   "file_extension": ".py",
   "mimetype": "text/x-python",
   "name": "python",
   "nbconvert_exporter": "python",
   "pygments_lexer": "ipython3",
   "version": "3.11.5"
  }
 },
 "nbformat": 4,
 "nbformat_minor": 2
}
