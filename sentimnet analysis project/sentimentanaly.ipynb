{
 "cells": [
  {
   "cell_type": "markdown",
   "metadata": {},
   "source": [
    "# Sentiment analysis full project"
   ]
  },
  {
   "cell_type": "markdown",
   "metadata": {},
   "source": [
    "### step 1. import Libraries and files\n",
    "### step 2. Identify Polarity\n",
    "### step 3. Sentiment classification\n",
    "### step 4. word cloud \n",
    "### step 5. "
   ]
  },
  {
   "cell_type": "code",
   "execution_count": 9,
   "metadata": {},
   "outputs": [],
   "source": [
    "import numpy as np\n",
    "import pandas as pd\n",
    "import seaborn as sns\n",
    "import matplotlib.pyplot as plt\n",
    "import plotly.express as ex\n",
    "from textblob import TextBlob\n",
    "from wordcloud import WordCloud,STOPWORDS\n"
   ]
  },
  {
   "cell_type": "markdown",
   "metadata": {},
   "source": [
    "## import dataset "
   ]
  },
  {
   "cell_type": "code",
   "execution_count": 31,
   "metadata": {},
   "outputs": [
    {
     "data": {
      "text/html": [
       "<div>\n",
       "<style scoped>\n",
       "    .dataframe tbody tr th:only-of-type {\n",
       "        vertical-align: middle;\n",
       "    }\n",
       "\n",
       "    .dataframe tbody tr th {\n",
       "        vertical-align: top;\n",
       "    }\n",
       "\n",
       "    .dataframe thead th {\n",
       "        text-align: right;\n",
       "    }\n",
       "</style>\n",
       "<table border=\"1\" class=\"dataframe\">\n",
       "  <thead>\n",
       "    <tr style=\"text-align: right;\">\n",
       "      <th></th>\n",
       "      <th>Time of Review</th>\n",
       "      <th>User ID</th>\n",
       "      <th>Brief Review</th>\n",
       "    </tr>\n",
       "  </thead>\n",
       "  <tbody>\n",
       "    <tr>\n",
       "      <th>0</th>\n",
       "      <td>8/22/2022 14:16</td>\n",
       "      <td>User1</td>\n",
       "      <td>extremely satisfied with my new mobile phone</td>\n",
       "    </tr>\n",
       "    <tr>\n",
       "      <th>1</th>\n",
       "      <td>7/7/2023 14:16</td>\n",
       "      <td>User2</td>\n",
       "      <td>Nice design and sleek look.</td>\n",
       "    </tr>\n",
       "    <tr>\n",
       "      <th>2</th>\n",
       "      <td>2/26/2023 14:16</td>\n",
       "      <td>User3</td>\n",
       "      <td>Nice design and sleek look.</td>\n",
       "    </tr>\n",
       "    <tr>\n",
       "      <th>3</th>\n",
       "      <td>4/13/2023 14:16</td>\n",
       "      <td>User4</td>\n",
       "      <td>Good value for money.</td>\n",
       "    </tr>\n",
       "    <tr>\n",
       "      <th>4</th>\n",
       "      <td>5/25/2023 14:16</td>\n",
       "      <td>User5</td>\n",
       "      <td>Disappointed</td>\n",
       "    </tr>\n",
       "  </tbody>\n",
       "</table>\n",
       "</div>"
      ],
      "text/plain": [
       "    Time of Review User ID                                  Brief Review\n",
       "0  8/22/2022 14:16   User1  extremely satisfied with my new mobile phone\n",
       "1   7/7/2023 14:16   User2                   Nice design and sleek look.\n",
       "2  2/26/2023 14:16   User3                   Nice design and sleek look.\n",
       "3  4/13/2023 14:16   User4                         Good value for money.\n",
       "4  5/25/2023 14:16   User5                                  Disappointed"
      ]
     },
     "execution_count": 31,
     "metadata": {},
     "output_type": "execute_result"
    }
   ],
   "source": [
    "df = pd.read_csv('F:/new projects/sentimet analysis proejct/Sentiment_Analysis_Project/DataSet/mobile.csv')\n",
    "\n",
    "pd.set_option('display.max_columns',200)\n",
    "df.head()\n",
    "# df.shape"
   ]
  },
  {
   "cell_type": "markdown",
   "metadata": {},
   "source": []
  },
  {
   "cell_type": "markdown",
   "metadata": {},
   "source": [
    "### Task 1. Deriving the polarity of data"
   ]
  },
  {
   "cell_type": "code",
   "execution_count": 32,
   "metadata": {},
   "outputs": [
    {
     "data": {
      "text/html": [
       "<div>\n",
       "<style scoped>\n",
       "    .dataframe tbody tr th:only-of-type {\n",
       "        vertical-align: middle;\n",
       "    }\n",
       "\n",
       "    .dataframe tbody tr th {\n",
       "        vertical-align: top;\n",
       "    }\n",
       "\n",
       "    .dataframe thead th {\n",
       "        text-align: right;\n",
       "    }\n",
       "</style>\n",
       "<table border=\"1\" class=\"dataframe\">\n",
       "  <thead>\n",
       "    <tr style=\"text-align: right;\">\n",
       "      <th></th>\n",
       "      <th>Time of Review</th>\n",
       "      <th>User ID</th>\n",
       "      <th>Brief Review</th>\n",
       "      <th>Polarity</th>\n",
       "    </tr>\n",
       "  </thead>\n",
       "  <tbody>\n",
       "    <tr>\n",
       "      <th>0</th>\n",
       "      <td>8/22/2022 14:16</td>\n",
       "      <td>User1</td>\n",
       "      <td>extremely satisfied with my new mobile phone</td>\n",
       "      <td>0.318182</td>\n",
       "    </tr>\n",
       "    <tr>\n",
       "      <th>1</th>\n",
       "      <td>7/7/2023 14:16</td>\n",
       "      <td>User2</td>\n",
       "      <td>Nice design and sleek look.</td>\n",
       "      <td>0.600000</td>\n",
       "    </tr>\n",
       "    <tr>\n",
       "      <th>2</th>\n",
       "      <td>2/26/2023 14:16</td>\n",
       "      <td>User3</td>\n",
       "      <td>Nice design and sleek look.</td>\n",
       "      <td>0.600000</td>\n",
       "    </tr>\n",
       "    <tr>\n",
       "      <th>3</th>\n",
       "      <td>4/13/2023 14:16</td>\n",
       "      <td>User4</td>\n",
       "      <td>Good value for money.</td>\n",
       "      <td>0.700000</td>\n",
       "    </tr>\n",
       "    <tr>\n",
       "      <th>4</th>\n",
       "      <td>5/25/2023 14:16</td>\n",
       "      <td>User5</td>\n",
       "      <td>Disappointed</td>\n",
       "      <td>-0.750000</td>\n",
       "    </tr>\n",
       "    <tr>\n",
       "      <th>...</th>\n",
       "      <td>...</td>\n",
       "      <td>...</td>\n",
       "      <td>...</td>\n",
       "      <td>...</td>\n",
       "    </tr>\n",
       "    <tr>\n",
       "      <th>99995</th>\n",
       "      <td>9/13/2022 14:16</td>\n",
       "      <td>User99996</td>\n",
       "      <td>Awesome</td>\n",
       "      <td>1.000000</td>\n",
       "    </tr>\n",
       "    <tr>\n",
       "      <th>99996</th>\n",
       "      <td>6/23/2023 14:16</td>\n",
       "      <td>User99997</td>\n",
       "      <td>Awesome</td>\n",
       "      <td>1.000000</td>\n",
       "    </tr>\n",
       "    <tr>\n",
       "      <th>99997</th>\n",
       "      <td>12/4/2022 14:16</td>\n",
       "      <td>User99998</td>\n",
       "      <td>Awesome</td>\n",
       "      <td>1.000000</td>\n",
       "    </tr>\n",
       "    <tr>\n",
       "      <th>99998</th>\n",
       "      <td>5/6/2023 14:16</td>\n",
       "      <td>User99999</td>\n",
       "      <td>Easy to use and user-friendly interface.</td>\n",
       "      <td>0.433333</td>\n",
       "    </tr>\n",
       "    <tr>\n",
       "      <th>99999</th>\n",
       "      <td>2/17/2023 14:16</td>\n",
       "      <td>User100000</td>\n",
       "      <td>Slow customer support.</td>\n",
       "      <td>-0.300000</td>\n",
       "    </tr>\n",
       "  </tbody>\n",
       "</table>\n",
       "<p>100000 rows × 4 columns</p>\n",
       "</div>"
      ],
      "text/plain": [
       "        Time of Review     User ID  \\\n",
       "0      8/22/2022 14:16       User1   \n",
       "1       7/7/2023 14:16       User2   \n",
       "2      2/26/2023 14:16       User3   \n",
       "3      4/13/2023 14:16       User4   \n",
       "4      5/25/2023 14:16       User5   \n",
       "...                ...         ...   \n",
       "99995  9/13/2022 14:16   User99996   \n",
       "99996  6/23/2023 14:16   User99997   \n",
       "99997  12/4/2022 14:16   User99998   \n",
       "99998   5/6/2023 14:16   User99999   \n",
       "99999  2/17/2023 14:16  User100000   \n",
       "\n",
       "                                       Brief Review  Polarity  \n",
       "0      extremely satisfied with my new mobile phone  0.318182  \n",
       "1                       Nice design and sleek look.  0.600000  \n",
       "2                       Nice design and sleek look.  0.600000  \n",
       "3                             Good value for money.  0.700000  \n",
       "4                                      Disappointed -0.750000  \n",
       "...                                             ...       ...  \n",
       "99995                                       Awesome  1.000000  \n",
       "99996                                       Awesome  1.000000  \n",
       "99997                                       Awesome  1.000000  \n",
       "99998      Easy to use and user-friendly interface.  0.433333  \n",
       "99999                        Slow customer support. -0.300000  \n",
       "\n",
       "[100000 rows x 4 columns]"
      ]
     },
     "execution_count": 32,
     "metadata": {},
     "output_type": "execute_result"
    }
   ],
   "source": [
    "# df['Sentiment'] = [  TextBlob(x).sentiment for x in df['Brief Review']]\n",
    "# df\n",
    "\n",
    "def calculate_polarity(text):\n",
    "    return TextBlob(text).sentiment.polarity\n",
    "\n",
    "def calculate_subjectivity(text):\n",
    "    return TextBlob(text).sentiment.subjectivity\n",
    "\n",
    "def calculate_polarity_and_subjectivity(text):\n",
    "    sentiment_and_subjectivity = TextBlob(text).sentiment\n",
    "    sentiment_and_subjectivity = [sentiment_and_subjectivity.polarity,sentiment_and_subjectivity.subjectivity]\n",
    "    return sentiment_and_subjectivity\n",
    "\n",
    "df['Polarity'] = df['Brief Review'].apply(calculate_polarity)\n",
    "df"
   ]
  },
  {
   "cell_type": "markdown",
   "metadata": {},
   "source": []
  },
  {
   "cell_type": "code",
   "execution_count": null,
   "metadata": {},
   "outputs": [
    {
     "data": {
      "text/html": [
       "<div>\n",
       "<style scoped>\n",
       "    .dataframe tbody tr th:only-of-type {\n",
       "        vertical-align: middle;\n",
       "    }\n",
       "\n",
       "    .dataframe tbody tr th {\n",
       "        vertical-align: top;\n",
       "    }\n",
       "\n",
       "    .dataframe thead th {\n",
       "        text-align: right;\n",
       "    }\n",
       "</style>\n",
       "<table border=\"1\" class=\"dataframe\">\n",
       "  <thead>\n",
       "    <tr style=\"text-align: right;\">\n",
       "      <th></th>\n",
       "      <th>Time of Review</th>\n",
       "      <th>User ID</th>\n",
       "      <th>Brief Review</th>\n",
       "      <th>Polarity</th>\n",
       "      <th>Polarity Type</th>\n",
       "    </tr>\n",
       "  </thead>\n",
       "  <tbody>\n",
       "    <tr>\n",
       "      <th>0</th>\n",
       "      <td>8/22/2022 14:16</td>\n",
       "      <td>User1</td>\n",
       "      <td>extremely satisfied with my new mobile phone</td>\n",
       "      <td>0.318182</td>\n",
       "      <td>Positive</td>\n",
       "    </tr>\n",
       "    <tr>\n",
       "      <th>1</th>\n",
       "      <td>7/7/2023 14:16</td>\n",
       "      <td>User2</td>\n",
       "      <td>Nice design and sleek look.</td>\n",
       "      <td>0.600000</td>\n",
       "      <td>Positive</td>\n",
       "    </tr>\n",
       "    <tr>\n",
       "      <th>2</th>\n",
       "      <td>2/26/2023 14:16</td>\n",
       "      <td>User3</td>\n",
       "      <td>Nice design and sleek look.</td>\n",
       "      <td>0.600000</td>\n",
       "      <td>Positive</td>\n",
       "    </tr>\n",
       "    <tr>\n",
       "      <th>3</th>\n",
       "      <td>4/13/2023 14:16</td>\n",
       "      <td>User4</td>\n",
       "      <td>Good value for money.</td>\n",
       "      <td>0.700000</td>\n",
       "      <td>Positive</td>\n",
       "    </tr>\n",
       "    <tr>\n",
       "      <th>4</th>\n",
       "      <td>5/25/2023 14:16</td>\n",
       "      <td>User5</td>\n",
       "      <td>Disappointed</td>\n",
       "      <td>-0.750000</td>\n",
       "      <td>Negetive</td>\n",
       "    </tr>\n",
       "    <tr>\n",
       "      <th>...</th>\n",
       "      <td>...</td>\n",
       "      <td>...</td>\n",
       "      <td>...</td>\n",
       "      <td>...</td>\n",
       "      <td>...</td>\n",
       "    </tr>\n",
       "    <tr>\n",
       "      <th>99995</th>\n",
       "      <td>9/13/2022 14:16</td>\n",
       "      <td>User99996</td>\n",
       "      <td>Awesome</td>\n",
       "      <td>1.000000</td>\n",
       "      <td>Positive</td>\n",
       "    </tr>\n",
       "    <tr>\n",
       "      <th>99996</th>\n",
       "      <td>6/23/2023 14:16</td>\n",
       "      <td>User99997</td>\n",
       "      <td>Awesome</td>\n",
       "      <td>1.000000</td>\n",
       "      <td>Positive</td>\n",
       "    </tr>\n",
       "    <tr>\n",
       "      <th>99997</th>\n",
       "      <td>12/4/2022 14:16</td>\n",
       "      <td>User99998</td>\n",
       "      <td>Awesome</td>\n",
       "      <td>1.000000</td>\n",
       "      <td>Positive</td>\n",
       "    </tr>\n",
       "    <tr>\n",
       "      <th>99998</th>\n",
       "      <td>5/6/2023 14:16</td>\n",
       "      <td>User99999</td>\n",
       "      <td>Easy to use and user-friendly interface.</td>\n",
       "      <td>0.433333</td>\n",
       "      <td>Positive</td>\n",
       "    </tr>\n",
       "    <tr>\n",
       "      <th>99999</th>\n",
       "      <td>2/17/2023 14:16</td>\n",
       "      <td>User100000</td>\n",
       "      <td>Slow customer support.</td>\n",
       "      <td>-0.300000</td>\n",
       "      <td>Negetive</td>\n",
       "    </tr>\n",
       "  </tbody>\n",
       "</table>\n",
       "<p>100000 rows × 5 columns</p>\n",
       "</div>"
      ],
      "text/plain": [
       "        Time of Review     User ID  \\\n",
       "0      8/22/2022 14:16       User1   \n",
       "1       7/7/2023 14:16       User2   \n",
       "2      2/26/2023 14:16       User3   \n",
       "3      4/13/2023 14:16       User4   \n",
       "4      5/25/2023 14:16       User5   \n",
       "...                ...         ...   \n",
       "99995  9/13/2022 14:16   User99996   \n",
       "99996  6/23/2023 14:16   User99997   \n",
       "99997  12/4/2022 14:16   User99998   \n",
       "99998   5/6/2023 14:16   User99999   \n",
       "99999  2/17/2023 14:16  User100000   \n",
       "\n",
       "                                       Brief Review  Polarity Polarity Type  \n",
       "0      extremely satisfied with my new mobile phone  0.318182      Positive  \n",
       "1                       Nice design and sleek look.  0.600000      Positive  \n",
       "2                       Nice design and sleek look.  0.600000      Positive  \n",
       "3                             Good value for money.  0.700000      Positive  \n",
       "4                                      Disappointed -0.750000      Negetive  \n",
       "...                                             ...       ...           ...  \n",
       "99995                                       Awesome  1.000000      Positive  \n",
       "99996                                       Awesome  1.000000      Positive  \n",
       "99997                                       Awesome  1.000000      Positive  \n",
       "99998      Easy to use and user-friendly interface.  0.433333      Positive  \n",
       "99999                        Slow customer support. -0.300000      Negetive  \n",
       "\n",
       "[100000 rows x 5 columns]"
      ]
     },
     "execution_count": 33,
     "metadata": {},
     "output_type": "execute_result"
    }
   ],
   "source": [
    "def review_type(pol):\n",
    "    if pol < 0 :\n",
    "        return 'Negetive'\n",
    "    elif pol > 0 :\n",
    "        return 'Positive'\n",
    "    else :\n",
    "        return 'Neutral'\n",
    "\n",
    "\n",
    "df['Polarity Type'] = df['Polarity'].apply(review_type)\n",
    "\n",
    "df\n"
   ]
  },
  {
   "cell_type": "markdown",
   "metadata": {},
   "source": []
  },
  {
   "cell_type": "code",
   "execution_count": null,
   "metadata": {},
   "outputs": [
    {
     "data": {
      "text/html": [
       "<div>\n",
       "<style scoped>\n",
       "    .dataframe tbody tr th:only-of-type {\n",
       "        vertical-align: middle;\n",
       "    }\n",
       "\n",
       "    .dataframe tbody tr th {\n",
       "        vertical-align: top;\n",
       "    }\n",
       "\n",
       "    .dataframe thead th {\n",
       "        text-align: right;\n",
       "    }\n",
       "</style>\n",
       "<table border=\"1\" class=\"dataframe\">\n",
       "  <thead>\n",
       "    <tr style=\"text-align: right;\">\n",
       "      <th></th>\n",
       "      <th>Polarity Type</th>\n",
       "      <th>Count of Users</th>\n",
       "    </tr>\n",
       "  </thead>\n",
       "  <tbody>\n",
       "    <tr>\n",
       "      <th>0</th>\n",
       "      <td>Negetive</td>\n",
       "      <td>16111</td>\n",
       "    </tr>\n",
       "    <tr>\n",
       "      <th>1</th>\n",
       "      <td>Neutral</td>\n",
       "      <td>10330</td>\n",
       "    </tr>\n",
       "    <tr>\n",
       "      <th>2</th>\n",
       "      <td>Positive</td>\n",
       "      <td>73559</td>\n",
       "    </tr>\n",
       "  </tbody>\n",
       "</table>\n",
       "</div>"
      ],
      "text/plain": [
       "  Polarity Type  Count of Users\n",
       "0      Negetive           16111\n",
       "1       Neutral           10330\n",
       "2      Positive           73559"
      ]
     },
     "execution_count": 46,
     "metadata": {},
     "output_type": "execute_result"
    }
   ],
   "source": [
    "count_review = df.groupby('Polarity Type',as_index= False)['User ID'].count()\n",
    "count_review.rename(columns={'User ID':'Count of Users'},inplace=True)\n",
    "count_review\n",
    "\n"
   ]
  },
  {
   "cell_type": "markdown",
   "metadata": {},
   "source": []
  },
  {
   "cell_type": "markdown",
   "metadata": {},
   "source": [
    "### Plotting the Bar Chart "
   ]
  },
  {
   "cell_type": "code",
   "execution_count": 56,
   "metadata": {},
   "outputs": [
    {
     "data": {
      "application/vnd.plotly.v1+json": {
       "config": {
        "plotlyServerURL": "https://plot.ly"
       },
       "data": [
        {
         "alignmentgroup": "True",
         "hovertemplate": "Polarity Type=%{x}<br>Count of Users=%{y}<extra></extra>",
         "legendgroup": "Negetive",
         "marker": {
          "color": "Red",
          "pattern": {
           "shape": ""
          }
         },
         "name": "Negetive",
         "offsetgroup": "Negetive",
         "orientation": "v",
         "showlegend": true,
         "textposition": "auto",
         "type": "bar",
         "x": [
          "Negetive"
         ],
         "xaxis": "x",
         "y": [
          16111
         ],
         "yaxis": "y"
        },
        {
         "alignmentgroup": "True",
         "hovertemplate": "Polarity Type=%{x}<br>Count of Users=%{y}<extra></extra>",
         "legendgroup": "Neutral",
         "marker": {
          "color": "Blue",
          "pattern": {
           "shape": ""
          }
         },
         "name": "Neutral",
         "offsetgroup": "Neutral",
         "orientation": "v",
         "showlegend": true,
         "textposition": "auto",
         "type": "bar",
         "x": [
          "Neutral"
         ],
         "xaxis": "x",
         "y": [
          10330
         ],
         "yaxis": "y"
        },
        {
         "alignmentgroup": "True",
         "hovertemplate": "Polarity Type=%{x}<br>Count of Users=%{y}<extra></extra>",
         "legendgroup": "Positive",
         "marker": {
          "color": "Green",
          "pattern": {
           "shape": ""
          }
         },
         "name": "Positive",
         "offsetgroup": "Positive",
         "orientation": "v",
         "showlegend": true,
         "textposition": "auto",
         "type": "bar",
         "x": [
          "Positive"
         ],
         "xaxis": "x",
         "y": [
          73559
         ],
         "yaxis": "y"
        }
       ],
       "layout": {
        "barmode": "relative",
        "legend": {
         "title": {
          "text": "Polarity Type"
         },
         "tracegroupgap": 0
        },
        "margin": {
         "t": 60
        },
        "template": {
         "data": {
          "bar": [
           {
            "error_x": {
             "color": "#f2f5fa"
            },
            "error_y": {
             "color": "#f2f5fa"
            },
            "marker": {
             "line": {
              "color": "rgb(17,17,17)",
              "width": 0.5
             },
             "pattern": {
              "fillmode": "overlay",
              "size": 10,
              "solidity": 0.2
             }
            },
            "type": "bar"
           }
          ],
          "barpolar": [
           {
            "marker": {
             "line": {
              "color": "rgb(17,17,17)",
              "width": 0.5
             },
             "pattern": {
              "fillmode": "overlay",
              "size": 10,
              "solidity": 0.2
             }
            },
            "type": "barpolar"
           }
          ],
          "carpet": [
           {
            "aaxis": {
             "endlinecolor": "#A2B1C6",
             "gridcolor": "#506784",
             "linecolor": "#506784",
             "minorgridcolor": "#506784",
             "startlinecolor": "#A2B1C6"
            },
            "baxis": {
             "endlinecolor": "#A2B1C6",
             "gridcolor": "#506784",
             "linecolor": "#506784",
             "minorgridcolor": "#506784",
             "startlinecolor": "#A2B1C6"
            },
            "type": "carpet"
           }
          ],
          "choropleth": [
           {
            "colorbar": {
             "outlinewidth": 0,
             "ticks": ""
            },
            "type": "choropleth"
           }
          ],
          "contour": [
           {
            "colorbar": {
             "outlinewidth": 0,
             "ticks": ""
            },
            "colorscale": [
             [
              0,
              "#0d0887"
             ],
             [
              0.1111111111111111,
              "#46039f"
             ],
             [
              0.2222222222222222,
              "#7201a8"
             ],
             [
              0.3333333333333333,
              "#9c179e"
             ],
             [
              0.4444444444444444,
              "#bd3786"
             ],
             [
              0.5555555555555556,
              "#d8576b"
             ],
             [
              0.6666666666666666,
              "#ed7953"
             ],
             [
              0.7777777777777778,
              "#fb9f3a"
             ],
             [
              0.8888888888888888,
              "#fdca26"
             ],
             [
              1,
              "#f0f921"
             ]
            ],
            "type": "contour"
           }
          ],
          "contourcarpet": [
           {
            "colorbar": {
             "outlinewidth": 0,
             "ticks": ""
            },
            "type": "contourcarpet"
           }
          ],
          "heatmap": [
           {
            "colorbar": {
             "outlinewidth": 0,
             "ticks": ""
            },
            "colorscale": [
             [
              0,
              "#0d0887"
             ],
             [
              0.1111111111111111,
              "#46039f"
             ],
             [
              0.2222222222222222,
              "#7201a8"
             ],
             [
              0.3333333333333333,
              "#9c179e"
             ],
             [
              0.4444444444444444,
              "#bd3786"
             ],
             [
              0.5555555555555556,
              "#d8576b"
             ],
             [
              0.6666666666666666,
              "#ed7953"
             ],
             [
              0.7777777777777778,
              "#fb9f3a"
             ],
             [
              0.8888888888888888,
              "#fdca26"
             ],
             [
              1,
              "#f0f921"
             ]
            ],
            "type": "heatmap"
           }
          ],
          "heatmapgl": [
           {
            "colorbar": {
             "outlinewidth": 0,
             "ticks": ""
            },
            "colorscale": [
             [
              0,
              "#0d0887"
             ],
             [
              0.1111111111111111,
              "#46039f"
             ],
             [
              0.2222222222222222,
              "#7201a8"
             ],
             [
              0.3333333333333333,
              "#9c179e"
             ],
             [
              0.4444444444444444,
              "#bd3786"
             ],
             [
              0.5555555555555556,
              "#d8576b"
             ],
             [
              0.6666666666666666,
              "#ed7953"
             ],
             [
              0.7777777777777778,
              "#fb9f3a"
             ],
             [
              0.8888888888888888,
              "#fdca26"
             ],
             [
              1,
              "#f0f921"
             ]
            ],
            "type": "heatmapgl"
           }
          ],
          "histogram": [
           {
            "marker": {
             "pattern": {
              "fillmode": "overlay",
              "size": 10,
              "solidity": 0.2
             }
            },
            "type": "histogram"
           }
          ],
          "histogram2d": [
           {
            "colorbar": {
             "outlinewidth": 0,
             "ticks": ""
            },
            "colorscale": [
             [
              0,
              "#0d0887"
             ],
             [
              0.1111111111111111,
              "#46039f"
             ],
             [
              0.2222222222222222,
              "#7201a8"
             ],
             [
              0.3333333333333333,
              "#9c179e"
             ],
             [
              0.4444444444444444,
              "#bd3786"
             ],
             [
              0.5555555555555556,
              "#d8576b"
             ],
             [
              0.6666666666666666,
              "#ed7953"
             ],
             [
              0.7777777777777778,
              "#fb9f3a"
             ],
             [
              0.8888888888888888,
              "#fdca26"
             ],
             [
              1,
              "#f0f921"
             ]
            ],
            "type": "histogram2d"
           }
          ],
          "histogram2dcontour": [
           {
            "colorbar": {
             "outlinewidth": 0,
             "ticks": ""
            },
            "colorscale": [
             [
              0,
              "#0d0887"
             ],
             [
              0.1111111111111111,
              "#46039f"
             ],
             [
              0.2222222222222222,
              "#7201a8"
             ],
             [
              0.3333333333333333,
              "#9c179e"
             ],
             [
              0.4444444444444444,
              "#bd3786"
             ],
             [
              0.5555555555555556,
              "#d8576b"
             ],
             [
              0.6666666666666666,
              "#ed7953"
             ],
             [
              0.7777777777777778,
              "#fb9f3a"
             ],
             [
              0.8888888888888888,
              "#fdca26"
             ],
             [
              1,
              "#f0f921"
             ]
            ],
            "type": "histogram2dcontour"
           }
          ],
          "mesh3d": [
           {
            "colorbar": {
             "outlinewidth": 0,
             "ticks": ""
            },
            "type": "mesh3d"
           }
          ],
          "parcoords": [
           {
            "line": {
             "colorbar": {
              "outlinewidth": 0,
              "ticks": ""
             }
            },
            "type": "parcoords"
           }
          ],
          "pie": [
           {
            "automargin": true,
            "type": "pie"
           }
          ],
          "scatter": [
           {
            "marker": {
             "line": {
              "color": "#283442"
             }
            },
            "type": "scatter"
           }
          ],
          "scatter3d": [
           {
            "line": {
             "colorbar": {
              "outlinewidth": 0,
              "ticks": ""
             }
            },
            "marker": {
             "colorbar": {
              "outlinewidth": 0,
              "ticks": ""
             }
            },
            "type": "scatter3d"
           }
          ],
          "scattercarpet": [
           {
            "marker": {
             "colorbar": {
              "outlinewidth": 0,
              "ticks": ""
             }
            },
            "type": "scattercarpet"
           }
          ],
          "scattergeo": [
           {
            "marker": {
             "colorbar": {
              "outlinewidth": 0,
              "ticks": ""
             }
            },
            "type": "scattergeo"
           }
          ],
          "scattergl": [
           {
            "marker": {
             "line": {
              "color": "#283442"
             }
            },
            "type": "scattergl"
           }
          ],
          "scattermapbox": [
           {
            "marker": {
             "colorbar": {
              "outlinewidth": 0,
              "ticks": ""
             }
            },
            "type": "scattermapbox"
           }
          ],
          "scatterpolar": [
           {
            "marker": {
             "colorbar": {
              "outlinewidth": 0,
              "ticks": ""
             }
            },
            "type": "scatterpolar"
           }
          ],
          "scatterpolargl": [
           {
            "marker": {
             "colorbar": {
              "outlinewidth": 0,
              "ticks": ""
             }
            },
            "type": "scatterpolargl"
           }
          ],
          "scatterternary": [
           {
            "marker": {
             "colorbar": {
              "outlinewidth": 0,
              "ticks": ""
             }
            },
            "type": "scatterternary"
           }
          ],
          "surface": [
           {
            "colorbar": {
             "outlinewidth": 0,
             "ticks": ""
            },
            "colorscale": [
             [
              0,
              "#0d0887"
             ],
             [
              0.1111111111111111,
              "#46039f"
             ],
             [
              0.2222222222222222,
              "#7201a8"
             ],
             [
              0.3333333333333333,
              "#9c179e"
             ],
             [
              0.4444444444444444,
              "#bd3786"
             ],
             [
              0.5555555555555556,
              "#d8576b"
             ],
             [
              0.6666666666666666,
              "#ed7953"
             ],
             [
              0.7777777777777778,
              "#fb9f3a"
             ],
             [
              0.8888888888888888,
              "#fdca26"
             ],
             [
              1,
              "#f0f921"
             ]
            ],
            "type": "surface"
           }
          ],
          "table": [
           {
            "cells": {
             "fill": {
              "color": "#506784"
             },
             "line": {
              "color": "rgb(17,17,17)"
             }
            },
            "header": {
             "fill": {
              "color": "#2a3f5f"
             },
             "line": {
              "color": "rgb(17,17,17)"
             }
            },
            "type": "table"
           }
          ]
         },
         "layout": {
          "annotationdefaults": {
           "arrowcolor": "#f2f5fa",
           "arrowhead": 0,
           "arrowwidth": 1
          },
          "autotypenumbers": "strict",
          "coloraxis": {
           "colorbar": {
            "outlinewidth": 0,
            "ticks": ""
           }
          },
          "colorscale": {
           "diverging": [
            [
             0,
             "#8e0152"
            ],
            [
             0.1,
             "#c51b7d"
            ],
            [
             0.2,
             "#de77ae"
            ],
            [
             0.3,
             "#f1b6da"
            ],
            [
             0.4,
             "#fde0ef"
            ],
            [
             0.5,
             "#f7f7f7"
            ],
            [
             0.6,
             "#e6f5d0"
            ],
            [
             0.7,
             "#b8e186"
            ],
            [
             0.8,
             "#7fbc41"
            ],
            [
             0.9,
             "#4d9221"
            ],
            [
             1,
             "#276419"
            ]
           ],
           "sequential": [
            [
             0,
             "#0d0887"
            ],
            [
             0.1111111111111111,
             "#46039f"
            ],
            [
             0.2222222222222222,
             "#7201a8"
            ],
            [
             0.3333333333333333,
             "#9c179e"
            ],
            [
             0.4444444444444444,
             "#bd3786"
            ],
            [
             0.5555555555555556,
             "#d8576b"
            ],
            [
             0.6666666666666666,
             "#ed7953"
            ],
            [
             0.7777777777777778,
             "#fb9f3a"
            ],
            [
             0.8888888888888888,
             "#fdca26"
            ],
            [
             1,
             "#f0f921"
            ]
           ],
           "sequentialminus": [
            [
             0,
             "#0d0887"
            ],
            [
             0.1111111111111111,
             "#46039f"
            ],
            [
             0.2222222222222222,
             "#7201a8"
            ],
            [
             0.3333333333333333,
             "#9c179e"
            ],
            [
             0.4444444444444444,
             "#bd3786"
            ],
            [
             0.5555555555555556,
             "#d8576b"
            ],
            [
             0.6666666666666666,
             "#ed7953"
            ],
            [
             0.7777777777777778,
             "#fb9f3a"
            ],
            [
             0.8888888888888888,
             "#fdca26"
            ],
            [
             1,
             "#f0f921"
            ]
           ]
          },
          "colorway": [
           "#636efa",
           "#EF553B",
           "#00cc96",
           "#ab63fa",
           "#FFA15A",
           "#19d3f3",
           "#FF6692",
           "#B6E880",
           "#FF97FF",
           "#FECB52"
          ],
          "font": {
           "color": "#f2f5fa"
          },
          "geo": {
           "bgcolor": "rgb(17,17,17)",
           "lakecolor": "rgb(17,17,17)",
           "landcolor": "rgb(17,17,17)",
           "showlakes": true,
           "showland": true,
           "subunitcolor": "#506784"
          },
          "hoverlabel": {
           "align": "left"
          },
          "hovermode": "closest",
          "mapbox": {
           "style": "dark"
          },
          "paper_bgcolor": "rgb(17,17,17)",
          "plot_bgcolor": "rgb(17,17,17)",
          "polar": {
           "angularaxis": {
            "gridcolor": "#506784",
            "linecolor": "#506784",
            "ticks": ""
           },
           "bgcolor": "rgb(17,17,17)",
           "radialaxis": {
            "gridcolor": "#506784",
            "linecolor": "#506784",
            "ticks": ""
           }
          },
          "scene": {
           "xaxis": {
            "backgroundcolor": "rgb(17,17,17)",
            "gridcolor": "#506784",
            "gridwidth": 2,
            "linecolor": "#506784",
            "showbackground": true,
            "ticks": "",
            "zerolinecolor": "#C8D4E3"
           },
           "yaxis": {
            "backgroundcolor": "rgb(17,17,17)",
            "gridcolor": "#506784",
            "gridwidth": 2,
            "linecolor": "#506784",
            "showbackground": true,
            "ticks": "",
            "zerolinecolor": "#C8D4E3"
           },
           "zaxis": {
            "backgroundcolor": "rgb(17,17,17)",
            "gridcolor": "#506784",
            "gridwidth": 2,
            "linecolor": "#506784",
            "showbackground": true,
            "ticks": "",
            "zerolinecolor": "#C8D4E3"
           }
          },
          "shapedefaults": {
           "line": {
            "color": "#f2f5fa"
           }
          },
          "sliderdefaults": {
           "bgcolor": "#C8D4E3",
           "bordercolor": "rgb(17,17,17)",
           "borderwidth": 1,
           "tickwidth": 0
          },
          "ternary": {
           "aaxis": {
            "gridcolor": "#506784",
            "linecolor": "#506784",
            "ticks": ""
           },
           "baxis": {
            "gridcolor": "#506784",
            "linecolor": "#506784",
            "ticks": ""
           },
           "bgcolor": "rgb(17,17,17)",
           "caxis": {
            "gridcolor": "#506784",
            "linecolor": "#506784",
            "ticks": ""
           }
          },
          "title": {
           "x": 0.05
          },
          "updatemenudefaults": {
           "bgcolor": "#506784",
           "borderwidth": 0
          },
          "xaxis": {
           "automargin": true,
           "gridcolor": "#283442",
           "linecolor": "#506784",
           "ticks": "",
           "title": {
            "standoff": 15
           },
           "zerolinecolor": "#283442",
           "zerolinewidth": 2
          },
          "yaxis": {
           "automargin": true,
           "gridcolor": "#283442",
           "linecolor": "#506784",
           "ticks": "",
           "title": {
            "standoff": 15
           },
           "zerolinecolor": "#283442",
           "zerolinewidth": 2
          }
         }
        },
        "title": {
         "text": "Sentiment Analysis of users",
         "x": 0.5
        },
        "width": 600,
        "xaxis": {
         "anchor": "y",
         "categoryarray": [
          "Negetive",
          "Neutral",
          "Positive"
         ],
         "categoryorder": "array",
         "domain": [
          0,
          1
         ],
         "title": {
          "text": "Polarity Type"
         }
        },
        "yaxis": {
         "anchor": "x",
         "domain": [
          0,
          1
         ],
         "title": {
          "text": "Count of Users"
         }
        }
       }
      }
     },
     "metadata": {},
     "output_type": "display_data"
    }
   ],
   "source": [
    "fig = ex.bar(count_review, x= 'Polarity Type' , y ='Count of Users',color='Polarity Type',template='plotly_dark',color_discrete_sequence=['Red','Blue','Green'])\n",
    "\n",
    "fig.update_layout(width = 600,title=dict(text= 'Sentiment Analysis of users',x=0.5))\n",
    "fig.show()\n",
    "\n"
   ]
  },
  {
   "cell_type": "markdown",
   "metadata": {},
   "source": []
  },
  {
   "cell_type": "markdown",
   "metadata": {},
   "source": [
    "## Creating word cloud\n",
    "\n",
    "- #### Total Review\n",
    "- #### Positive Reviews Word cloud\n",
    "- #### Negetive Reviews word cloud"
   ]
  },
  {
   "cell_type": "markdown",
   "metadata": {},
   "source": []
  },
  {
   "cell_type": "code",
   "execution_count": 58,
   "metadata": {},
   "outputs": [
    {
     "data": {
      "text/html": [
       "<div>\n",
       "<style scoped>\n",
       "    .dataframe tbody tr th:only-of-type {\n",
       "        vertical-align: middle;\n",
       "    }\n",
       "\n",
       "    .dataframe tbody tr th {\n",
       "        vertical-align: top;\n",
       "    }\n",
       "\n",
       "    .dataframe thead th {\n",
       "        text-align: right;\n",
       "    }\n",
       "</style>\n",
       "<table border=\"1\" class=\"dataframe\">\n",
       "  <thead>\n",
       "    <tr style=\"text-align: right;\">\n",
       "      <th></th>\n",
       "      <th>Time of Review</th>\n",
       "      <th>User ID</th>\n",
       "      <th>Brief Review</th>\n",
       "      <th>Polarity</th>\n",
       "      <th>Polarity Type</th>\n",
       "    </tr>\n",
       "  </thead>\n",
       "  <tbody>\n",
       "    <tr>\n",
       "      <th>0</th>\n",
       "      <td>8/22/2022 14:16</td>\n",
       "      <td>User1</td>\n",
       "      <td>extremely satisfied with my new mobile phone</td>\n",
       "      <td>0.318182</td>\n",
       "      <td>Positive</td>\n",
       "    </tr>\n",
       "    <tr>\n",
       "      <th>1</th>\n",
       "      <td>7/7/2023 14:16</td>\n",
       "      <td>User2</td>\n",
       "      <td>Nice design and sleek look.</td>\n",
       "      <td>0.600000</td>\n",
       "      <td>Positive</td>\n",
       "    </tr>\n",
       "    <tr>\n",
       "      <th>2</th>\n",
       "      <td>2/26/2023 14:16</td>\n",
       "      <td>User3</td>\n",
       "      <td>Nice design and sleek look.</td>\n",
       "      <td>0.600000</td>\n",
       "      <td>Positive</td>\n",
       "    </tr>\n",
       "    <tr>\n",
       "      <th>3</th>\n",
       "      <td>4/13/2023 14:16</td>\n",
       "      <td>User4</td>\n",
       "      <td>Good value for money.</td>\n",
       "      <td>0.700000</td>\n",
       "      <td>Positive</td>\n",
       "    </tr>\n",
       "    <tr>\n",
       "      <th>5</th>\n",
       "      <td>2/12/2023 14:16</td>\n",
       "      <td>User6</td>\n",
       "      <td>The Best Mobile</td>\n",
       "      <td>1.000000</td>\n",
       "      <td>Positive</td>\n",
       "    </tr>\n",
       "    <tr>\n",
       "      <th>...</th>\n",
       "      <td>...</td>\n",
       "      <td>...</td>\n",
       "      <td>...</td>\n",
       "      <td>...</td>\n",
       "      <td>...</td>\n",
       "    </tr>\n",
       "    <tr>\n",
       "      <th>99992</th>\n",
       "      <td>12/12/2022 14:16</td>\n",
       "      <td>User99993</td>\n",
       "      <td>Nice design and sleek look.</td>\n",
       "      <td>0.600000</td>\n",
       "      <td>Positive</td>\n",
       "    </tr>\n",
       "    <tr>\n",
       "      <th>99995</th>\n",
       "      <td>9/13/2022 14:16</td>\n",
       "      <td>User99996</td>\n",
       "      <td>Awesome</td>\n",
       "      <td>1.000000</td>\n",
       "      <td>Positive</td>\n",
       "    </tr>\n",
       "    <tr>\n",
       "      <th>99996</th>\n",
       "      <td>6/23/2023 14:16</td>\n",
       "      <td>User99997</td>\n",
       "      <td>Awesome</td>\n",
       "      <td>1.000000</td>\n",
       "      <td>Positive</td>\n",
       "    </tr>\n",
       "    <tr>\n",
       "      <th>99997</th>\n",
       "      <td>12/4/2022 14:16</td>\n",
       "      <td>User99998</td>\n",
       "      <td>Awesome</td>\n",
       "      <td>1.000000</td>\n",
       "      <td>Positive</td>\n",
       "    </tr>\n",
       "    <tr>\n",
       "      <th>99998</th>\n",
       "      <td>5/6/2023 14:16</td>\n",
       "      <td>User99999</td>\n",
       "      <td>Easy to use and user-friendly interface.</td>\n",
       "      <td>0.433333</td>\n",
       "      <td>Positive</td>\n",
       "    </tr>\n",
       "  </tbody>\n",
       "</table>\n",
       "<p>73559 rows × 5 columns</p>\n",
       "</div>"
      ],
      "text/plain": [
       "         Time of Review    User ID  \\\n",
       "0       8/22/2022 14:16      User1   \n",
       "1        7/7/2023 14:16      User2   \n",
       "2       2/26/2023 14:16      User3   \n",
       "3       4/13/2023 14:16      User4   \n",
       "5       2/12/2023 14:16      User6   \n",
       "...                 ...        ...   \n",
       "99992  12/12/2022 14:16  User99993   \n",
       "99995   9/13/2022 14:16  User99996   \n",
       "99996   6/23/2023 14:16  User99997   \n",
       "99997   12/4/2022 14:16  User99998   \n",
       "99998    5/6/2023 14:16  User99999   \n",
       "\n",
       "                                       Brief Review  Polarity Polarity Type  \n",
       "0      extremely satisfied with my new mobile phone  0.318182      Positive  \n",
       "1                       Nice design and sleek look.  0.600000      Positive  \n",
       "2                       Nice design and sleek look.  0.600000      Positive  \n",
       "3                             Good value for money.  0.700000      Positive  \n",
       "5                                   The Best Mobile  1.000000      Positive  \n",
       "...                                             ...       ...           ...  \n",
       "99992                   Nice design and sleek look.  0.600000      Positive  \n",
       "99995                                       Awesome  1.000000      Positive  \n",
       "99996                                       Awesome  1.000000      Positive  \n",
       "99997                                       Awesome  1.000000      Positive  \n",
       "99998      Easy to use and user-friendly interface.  0.433333      Positive  \n",
       "\n",
       "[73559 rows x 5 columns]"
      ]
     },
     "execution_count": 58,
     "metadata": {},
     "output_type": "execute_result"
    }
   ],
   "source": [
    "negetive_review_df = df[df['Polarity Type'] == 'Negetive']\n",
    "positive_review_df = df[df['Polarity Type'] == 'Positive']\n",
    "neutral_review_df = df[df['Polarity Type'] == 'Neutral']\n",
    "\n",
    "positive_review_df"
   ]
  },
  {
   "cell_type": "markdown",
   "metadata": {},
   "source": []
  },
  {
   "cell_type": "code",
   "execution_count": null,
   "metadata": {},
   "outputs": [
    {
     "data": {
      "text/plain": [
       "73559"
      ]
     },
     "execution_count": 61,
     "metadata": {},
     "output_type": "execute_result"
    }
   ],
   "source": [
    "### concatinating the elements \n",
    "neg_review_text = ' '.join(negetive_review_df['Brief Review'])\n",
    "\n",
    "positive_review_text = ' '.join(positive_review_df['Brief Review'])\n",
    "\n",
    "neutral_review_text = ' '.join(neutral_review_df['Brief Review'])\n",
    "\n",
    "len(positive_review_df)\n",
    "\n",
    " \n"
   ]
  },
  {
   "cell_type": "markdown",
   "metadata": {},
   "source": [
    "## Plotting WordCloud"
   ]
  },
  {
   "cell_type": "code",
   "execution_count": 70,
   "metadata": {},
   "outputs": [
    {
     "data": {
      "application/vnd.plotly.v1+json": {
       "config": {
        "plotlyServerURL": "https://plot.ly"
       },
       "data": [
        {
         "hovertemplate": "x: %{x}<br>y: %{y}<br>color: [%{z[0]}, %{z[1]}, %{z[2]}]<extra></extra>",
         "name": "0",
         "source": "data:image/png;base64,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",
         "type": "image",
         "xaxis": "x",
         "yaxis": "y"
        }
       ],
       "layout": {
        "margin": {
         "t": 60
        },
        "template": {
         "data": {
          "bar": [
           {
            "error_x": {
             "color": "#f2f5fa"
            },
            "error_y": {
             "color": "#f2f5fa"
            },
            "marker": {
             "line": {
              "color": "rgb(17,17,17)",
              "width": 0.5
             },
             "pattern": {
              "fillmode": "overlay",
              "size": 10,
              "solidity": 0.2
             }
            },
            "type": "bar"
           }
          ],
          "barpolar": [
           {
            "marker": {
             "line": {
              "color": "rgb(17,17,17)",
              "width": 0.5
             },
             "pattern": {
              "fillmode": "overlay",
              "size": 10,
              "solidity": 0.2
             }
            },
            "type": "barpolar"
           }
          ],
          "carpet": [
           {
            "aaxis": {
             "endlinecolor": "#A2B1C6",
             "gridcolor": "#506784",
             "linecolor": "#506784",
             "minorgridcolor": "#506784",
             "startlinecolor": "#A2B1C6"
            },
            "baxis": {
             "endlinecolor": "#A2B1C6",
             "gridcolor": "#506784",
             "linecolor": "#506784",
             "minorgridcolor": "#506784",
             "startlinecolor": "#A2B1C6"
            },
            "type": "carpet"
           }
          ],
          "choropleth": [
           {
            "colorbar": {
             "outlinewidth": 0,
             "ticks": ""
            },
            "type": "choropleth"
           }
          ],
          "contour": [
           {
            "colorbar": {
             "outlinewidth": 0,
             "ticks": ""
            },
            "colorscale": [
             [
              0,
              "#0d0887"
             ],
             [
              0.1111111111111111,
              "#46039f"
             ],
             [
              0.2222222222222222,
              "#7201a8"
             ],
             [
              0.3333333333333333,
              "#9c179e"
             ],
             [
              0.4444444444444444,
              "#bd3786"
             ],
             [
              0.5555555555555556,
              "#d8576b"
             ],
             [
              0.6666666666666666,
              "#ed7953"
             ],
             [
              0.7777777777777778,
              "#fb9f3a"
             ],
             [
              0.8888888888888888,
              "#fdca26"
             ],
             [
              1,
              "#f0f921"
             ]
            ],
            "type": "contour"
           }
          ],
          "contourcarpet": [
           {
            "colorbar": {
             "outlinewidth": 0,
             "ticks": ""
            },
            "type": "contourcarpet"
           }
          ],
          "heatmap": [
           {
            "colorbar": {
             "outlinewidth": 0,
             "ticks": ""
            },
            "colorscale": [
             [
              0,
              "#0d0887"
             ],
             [
              0.1111111111111111,
              "#46039f"
             ],
             [
              0.2222222222222222,
              "#7201a8"
             ],
             [
              0.3333333333333333,
              "#9c179e"
             ],
             [
              0.4444444444444444,
              "#bd3786"
             ],
             [
              0.5555555555555556,
              "#d8576b"
             ],
             [
              0.6666666666666666,
              "#ed7953"
             ],
             [
              0.7777777777777778,
              "#fb9f3a"
             ],
             [
              0.8888888888888888,
              "#fdca26"
             ],
             [
              1,
              "#f0f921"
             ]
            ],
            "type": "heatmap"
           }
          ],
          "heatmapgl": [
           {
            "colorbar": {
             "outlinewidth": 0,
             "ticks": ""
            },
            "colorscale": [
             [
              0,
              "#0d0887"
             ],
             [
              0.1111111111111111,
              "#46039f"
             ],
             [
              0.2222222222222222,
              "#7201a8"
             ],
             [
              0.3333333333333333,
              "#9c179e"
             ],
             [
              0.4444444444444444,
              "#bd3786"
             ],
             [
              0.5555555555555556,
              "#d8576b"
             ],
             [
              0.6666666666666666,
              "#ed7953"
             ],
             [
              0.7777777777777778,
              "#fb9f3a"
             ],
             [
              0.8888888888888888,
              "#fdca26"
             ],
             [
              1,
              "#f0f921"
             ]
            ],
            "type": "heatmapgl"
           }
          ],
          "histogram": [
           {
            "marker": {
             "pattern": {
              "fillmode": "overlay",
              "size": 10,
              "solidity": 0.2
             }
            },
            "type": "histogram"
           }
          ],
          "histogram2d": [
           {
            "colorbar": {
             "outlinewidth": 0,
             "ticks": ""
            },
            "colorscale": [
             [
              0,
              "#0d0887"
             ],
             [
              0.1111111111111111,
              "#46039f"
             ],
             [
              0.2222222222222222,
              "#7201a8"
             ],
             [
              0.3333333333333333,
              "#9c179e"
             ],
             [
              0.4444444444444444,
              "#bd3786"
             ],
             [
              0.5555555555555556,
              "#d8576b"
             ],
             [
              0.6666666666666666,
              "#ed7953"
             ],
             [
              0.7777777777777778,
              "#fb9f3a"
             ],
             [
              0.8888888888888888,
              "#fdca26"
             ],
             [
              1,
              "#f0f921"
             ]
            ],
            "type": "histogram2d"
           }
          ],
          "histogram2dcontour": [
           {
            "colorbar": {
             "outlinewidth": 0,
             "ticks": ""
            },
            "colorscale": [
             [
              0,
              "#0d0887"
             ],
             [
              0.1111111111111111,
              "#46039f"
             ],
             [
              0.2222222222222222,
              "#7201a8"
             ],
             [
              0.3333333333333333,
              "#9c179e"
             ],
             [
              0.4444444444444444,
              "#bd3786"
             ],
             [
              0.5555555555555556,
              "#d8576b"
             ],
             [
              0.6666666666666666,
              "#ed7953"
             ],
             [
              0.7777777777777778,
              "#fb9f3a"
             ],
             [
              0.8888888888888888,
              "#fdca26"
             ],
             [
              1,
              "#f0f921"
             ]
            ],
            "type": "histogram2dcontour"
           }
          ],
          "mesh3d": [
           {
            "colorbar": {
             "outlinewidth": 0,
             "ticks": ""
            },
            "type": "mesh3d"
           }
          ],
          "parcoords": [
           {
            "line": {
             "colorbar": {
              "outlinewidth": 0,
              "ticks": ""
             }
            },
            "type": "parcoords"
           }
          ],
          "pie": [
           {
            "automargin": true,
            "type": "pie"
           }
          ],
          "scatter": [
           {
            "marker": {
             "line": {
              "color": "#283442"
             }
            },
            "type": "scatter"
           }
          ],
          "scatter3d": [
           {
            "line": {
             "colorbar": {
              "outlinewidth": 0,
              "ticks": ""
             }
            },
            "marker": {
             "colorbar": {
              "outlinewidth": 0,
              "ticks": ""
             }
            },
            "type": "scatter3d"
           }
          ],
          "scattercarpet": [
           {
            "marker": {
             "colorbar": {
              "outlinewidth": 0,
              "ticks": ""
             }
            },
            "type": "scattercarpet"
           }
          ],
          "scattergeo": [
           {
            "marker": {
             "colorbar": {
              "outlinewidth": 0,
              "ticks": ""
             }
            },
            "type": "scattergeo"
           }
          ],
          "scattergl": [
           {
            "marker": {
             "line": {
              "color": "#283442"
             }
            },
            "type": "scattergl"
           }
          ],
          "scattermapbox": [
           {
            "marker": {
             "colorbar": {
              "outlinewidth": 0,
              "ticks": ""
             }
            },
            "type": "scattermapbox"
           }
          ],
          "scatterpolar": [
           {
            "marker": {
             "colorbar": {
              "outlinewidth": 0,
              "ticks": ""
             }
            },
            "type": "scatterpolar"
           }
          ],
          "scatterpolargl": [
           {
            "marker": {
             "colorbar": {
              "outlinewidth": 0,
              "ticks": ""
             }
            },
            "type": "scatterpolargl"
           }
          ],
          "scatterternary": [
           {
            "marker": {
             "colorbar": {
              "outlinewidth": 0,
              "ticks": ""
             }
            },
            "type": "scatterternary"
           }
          ],
          "surface": [
           {
            "colorbar": {
             "outlinewidth": 0,
             "ticks": ""
            },
            "colorscale": [
             [
              0,
              "#0d0887"
             ],
             [
              0.1111111111111111,
              "#46039f"
             ],
             [
              0.2222222222222222,
              "#7201a8"
             ],
             [
              0.3333333333333333,
              "#9c179e"
             ],
             [
              0.4444444444444444,
              "#bd3786"
             ],
             [
              0.5555555555555556,
              "#d8576b"
             ],
             [
              0.6666666666666666,
              "#ed7953"
             ],
             [
              0.7777777777777778,
              "#fb9f3a"
             ],
             [
              0.8888888888888888,
              "#fdca26"
             ],
             [
              1,
              "#f0f921"
             ]
            ],
            "type": "surface"
           }
          ],
          "table": [
           {
            "cells": {
             "fill": {
              "color": "#506784"
             },
             "line": {
              "color": "rgb(17,17,17)"
             }
            },
            "header": {
             "fill": {
              "color": "#2a3f5f"
             },
             "line": {
              "color": "rgb(17,17,17)"
             }
            },
            "type": "table"
           }
          ]
         },
         "layout": {
          "annotationdefaults": {
           "arrowcolor": "#f2f5fa",
           "arrowhead": 0,
           "arrowwidth": 1
          },
          "autotypenumbers": "strict",
          "coloraxis": {
           "colorbar": {
            "outlinewidth": 0,
            "ticks": ""
           }
          },
          "colorscale": {
           "diverging": [
            [
             0,
             "#8e0152"
            ],
            [
             0.1,
             "#c51b7d"
            ],
            [
             0.2,
             "#de77ae"
            ],
            [
             0.3,
             "#f1b6da"
            ],
            [
             0.4,
             "#fde0ef"
            ],
            [
             0.5,
             "#f7f7f7"
            ],
            [
             0.6,
             "#e6f5d0"
            ],
            [
             0.7,
             "#b8e186"
            ],
            [
             0.8,
             "#7fbc41"
            ],
            [
             0.9,
             "#4d9221"
            ],
            [
             1,
             "#276419"
            ]
           ],
           "sequential": [
            [
             0,
             "#0d0887"
            ],
            [
             0.1111111111111111,
             "#46039f"
            ],
            [
             0.2222222222222222,
             "#7201a8"
            ],
            [
             0.3333333333333333,
             "#9c179e"
            ],
            [
             0.4444444444444444,
             "#bd3786"
            ],
            [
             0.5555555555555556,
             "#d8576b"
            ],
            [
             0.6666666666666666,
             "#ed7953"
            ],
            [
             0.7777777777777778,
             "#fb9f3a"
            ],
            [
             0.8888888888888888,
             "#fdca26"
            ],
            [
             1,
             "#f0f921"
            ]
           ],
           "sequentialminus": [
            [
             0,
             "#0d0887"
            ],
            [
             0.1111111111111111,
             "#46039f"
            ],
            [
             0.2222222222222222,
             "#7201a8"
            ],
            [
             0.3333333333333333,
             "#9c179e"
            ],
            [
             0.4444444444444444,
             "#bd3786"
            ],
            [
             0.5555555555555556,
             "#d8576b"
            ],
            [
             0.6666666666666666,
             "#ed7953"
            ],
            [
             0.7777777777777778,
             "#fb9f3a"
            ],
            [
             0.8888888888888888,
             "#fdca26"
            ],
            [
             1,
             "#f0f921"
            ]
           ]
          },
          "colorway": [
           "#636efa",
           "#EF553B",
           "#00cc96",
           "#ab63fa",
           "#FFA15A",
           "#19d3f3",
           "#FF6692",
           "#B6E880",
           "#FF97FF",
           "#FECB52"
          ],
          "font": {
           "color": "#f2f5fa"
          },
          "geo": {
           "bgcolor": "rgb(17,17,17)",
           "lakecolor": "rgb(17,17,17)",
           "landcolor": "rgb(17,17,17)",
           "showlakes": true,
           "showland": true,
           "subunitcolor": "#506784"
          },
          "hoverlabel": {
           "align": "left"
          },
          "hovermode": "closest",
          "mapbox": {
           "style": "dark"
          },
          "paper_bgcolor": "rgb(17,17,17)",
          "plot_bgcolor": "rgb(17,17,17)",
          "polar": {
           "angularaxis": {
            "gridcolor": "#506784",
            "linecolor": "#506784",
            "ticks": ""
           },
           "bgcolor": "rgb(17,17,17)",
           "radialaxis": {
            "gridcolor": "#506784",
            "linecolor": "#506784",
            "ticks": ""
           }
          },
          "scene": {
           "xaxis": {
            "backgroundcolor": "rgb(17,17,17)",
            "gridcolor": "#506784",
            "gridwidth": 2,
            "linecolor": "#506784",
            "showbackground": true,
            "ticks": "",
            "zerolinecolor": "#C8D4E3"
           },
           "yaxis": {
            "backgroundcolor": "rgb(17,17,17)",
            "gridcolor": "#506784",
            "gridwidth": 2,
            "linecolor": "#506784",
            "showbackground": true,
            "ticks": "",
            "zerolinecolor": "#C8D4E3"
           },
           "zaxis": {
            "backgroundcolor": "rgb(17,17,17)",
            "gridcolor": "#506784",
            "gridwidth": 2,
            "linecolor": "#506784",
            "showbackground": true,
            "ticks": "",
            "zerolinecolor": "#C8D4E3"
           }
          },
          "shapedefaults": {
           "line": {
            "color": "#f2f5fa"
           }
          },
          "sliderdefaults": {
           "bgcolor": "#C8D4E3",
           "bordercolor": "rgb(17,17,17)",
           "borderwidth": 1,
           "tickwidth": 0
          },
          "ternary": {
           "aaxis": {
            "gridcolor": "#506784",
            "linecolor": "#506784",
            "ticks": ""
           },
           "baxis": {
            "gridcolor": "#506784",
            "linecolor": "#506784",
            "ticks": ""
           },
           "bgcolor": "rgb(17,17,17)",
           "caxis": {
            "gridcolor": "#506784",
            "linecolor": "#506784",
            "ticks": ""
           }
          },
          "title": {
           "x": 0.05
          },
          "updatemenudefaults": {
           "bgcolor": "#506784",
           "borderwidth": 0
          },
          "xaxis": {
           "automargin": true,
           "gridcolor": "#283442",
           "linecolor": "#506784",
           "ticks": "",
           "title": {
            "standoff": 15
           },
           "zerolinecolor": "#283442",
           "zerolinewidth": 2
          },
          "yaxis": {
           "automargin": true,
           "gridcolor": "#283442",
           "linecolor": "#506784",
           "ticks": "",
           "title": {
            "standoff": 15
           },
           "zerolinecolor": "#283442",
           "zerolinewidth": 2
          }
         }
        },
        "xaxis": {
         "anchor": "y",
         "domain": [
          0,
          1
         ]
        },
        "yaxis": {
         "anchor": "x",
         "domain": [
          0,
          1
         ]
        }
       }
      }
     },
     "metadata": {},
     "output_type": "display_data"
    }
   ],
   "source": [
    "positive_word_cloud = WordCloud(stopwords=STOPWORDS).generate(positive_review_text)\n",
    "fig = ex.imshow(positive_word_cloud, template='plotly_dark')\n",
    "fig.show()"
   ]
  },
  {
   "cell_type": "code",
   "execution_count": null,
   "metadata": {},
   "outputs": [
    {
     "data": {
      "application/vnd.plotly.v1+json": {
       "config": {
        "plotlyServerURL": "https://plot.ly"
       },
       "data": [
        {
         "hovertemplate": "x: %{x}<br>y: %{y}<br>color: [%{z[0]}, %{z[1]}, %{z[2]}]<extra></extra>",
         "name": "0",
         "source": "data:image/png;base64,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",
         "type": "image",
         "xaxis": "x",
         "yaxis": "y"
        }
       ],
       "layout": {
        "margin": {
         "t": 60
        },
        "template": {
         "data": {
          "bar": [
           {
            "error_x": {
             "color": "#f2f5fa"
            },
            "error_y": {
             "color": "#f2f5fa"
            },
            "marker": {
             "line": {
              "color": "rgb(17,17,17)",
              "width": 0.5
             },
             "pattern": {
              "fillmode": "overlay",
              "size": 10,
              "solidity": 0.2
             }
            },
            "type": "bar"
           }
          ],
          "barpolar": [
           {
            "marker": {
             "line": {
              "color": "rgb(17,17,17)",
              "width": 0.5
             },
             "pattern": {
              "fillmode": "overlay",
              "size": 10,
              "solidity": 0.2
             }
            },
            "type": "barpolar"
           }
          ],
          "carpet": [
           {
            "aaxis": {
             "endlinecolor": "#A2B1C6",
             "gridcolor": "#506784",
             "linecolor": "#506784",
             "minorgridcolor": "#506784",
             "startlinecolor": "#A2B1C6"
            },
            "baxis": {
             "endlinecolor": "#A2B1C6",
             "gridcolor": "#506784",
             "linecolor": "#506784",
             "minorgridcolor": "#506784",
             "startlinecolor": "#A2B1C6"
            },
            "type": "carpet"
           }
          ],
          "choropleth": [
           {
            "colorbar": {
             "outlinewidth": 0,
             "ticks": ""
            },
            "type": "choropleth"
           }
          ],
          "contour": [
           {
            "colorbar": {
             "outlinewidth": 0,
             "ticks": ""
            },
            "colorscale": [
             [
              0,
              "#0d0887"
             ],
             [
              0.1111111111111111,
              "#46039f"
             ],
             [
              0.2222222222222222,
              "#7201a8"
             ],
             [
              0.3333333333333333,
              "#9c179e"
             ],
             [
              0.4444444444444444,
              "#bd3786"
             ],
             [
              0.5555555555555556,
              "#d8576b"
             ],
             [
              0.6666666666666666,
              "#ed7953"
             ],
             [
              0.7777777777777778,
              "#fb9f3a"
             ],
             [
              0.8888888888888888,
              "#fdca26"
             ],
             [
              1,
              "#f0f921"
             ]
            ],
            "type": "contour"
           }
          ],
          "contourcarpet": [
           {
            "colorbar": {
             "outlinewidth": 0,
             "ticks": ""
            },
            "type": "contourcarpet"
           }
          ],
          "heatmap": [
           {
            "colorbar": {
             "outlinewidth": 0,
             "ticks": ""
            },
            "colorscale": [
             [
              0,
              "#0d0887"
             ],
             [
              0.1111111111111111,
              "#46039f"
             ],
             [
              0.2222222222222222,
              "#7201a8"
             ],
             [
              0.3333333333333333,
              "#9c179e"
             ],
             [
              0.4444444444444444,
              "#bd3786"
             ],
             [
              0.5555555555555556,
              "#d8576b"
             ],
             [
              0.6666666666666666,
              "#ed7953"
             ],
             [
              0.7777777777777778,
              "#fb9f3a"
             ],
             [
              0.8888888888888888,
              "#fdca26"
             ],
             [
              1,
              "#f0f921"
             ]
            ],
            "type": "heatmap"
           }
          ],
          "heatmapgl": [
           {
            "colorbar": {
             "outlinewidth": 0,
             "ticks": ""
            },
            "colorscale": [
             [
              0,
              "#0d0887"
             ],
             [
              0.1111111111111111,
              "#46039f"
             ],
             [
              0.2222222222222222,
              "#7201a8"
             ],
             [
              0.3333333333333333,
              "#9c179e"
             ],
             [
              0.4444444444444444,
              "#bd3786"
             ],
             [
              0.5555555555555556,
              "#d8576b"
             ],
             [
              0.6666666666666666,
              "#ed7953"
             ],
             [
              0.7777777777777778,
              "#fb9f3a"
             ],
             [
              0.8888888888888888,
              "#fdca26"
             ],
             [
              1,
              "#f0f921"
             ]
            ],
            "type": "heatmapgl"
           }
          ],
          "histogram": [
           {
            "marker": {
             "pattern": {
              "fillmode": "overlay",
              "size": 10,
              "solidity": 0.2
             }
            },
            "type": "histogram"
           }
          ],
          "histogram2d": [
           {
            "colorbar": {
             "outlinewidth": 0,
             "ticks": ""
            },
            "colorscale": [
             [
              0,
              "#0d0887"
             ],
             [
              0.1111111111111111,
              "#46039f"
             ],
             [
              0.2222222222222222,
              "#7201a8"
             ],
             [
              0.3333333333333333,
              "#9c179e"
             ],
             [
              0.4444444444444444,
              "#bd3786"
             ],
             [
              0.5555555555555556,
              "#d8576b"
             ],
             [
              0.6666666666666666,
              "#ed7953"
             ],
             [
              0.7777777777777778,
              "#fb9f3a"
             ],
             [
              0.8888888888888888,
              "#fdca26"
             ],
             [
              1,
              "#f0f921"
             ]
            ],
            "type": "histogram2d"
           }
          ],
          "histogram2dcontour": [
           {
            "colorbar": {
             "outlinewidth": 0,
             "ticks": ""
            },
            "colorscale": [
             [
              0,
              "#0d0887"
             ],
             [
              0.1111111111111111,
              "#46039f"
             ],
             [
              0.2222222222222222,
              "#7201a8"
             ],
             [
              0.3333333333333333,
              "#9c179e"
             ],
             [
              0.4444444444444444,
              "#bd3786"
             ],
             [
              0.5555555555555556,
              "#d8576b"
             ],
             [
              0.6666666666666666,
              "#ed7953"
             ],
             [
              0.7777777777777778,
              "#fb9f3a"
             ],
             [
              0.8888888888888888,
              "#fdca26"
             ],
             [
              1,
              "#f0f921"
             ]
            ],
            "type": "histogram2dcontour"
           }
          ],
          "mesh3d": [
           {
            "colorbar": {
             "outlinewidth": 0,
             "ticks": ""
            },
            "type": "mesh3d"
           }
          ],
          "parcoords": [
           {
            "line": {
             "colorbar": {
              "outlinewidth": 0,
              "ticks": ""
             }
            },
            "type": "parcoords"
           }
          ],
          "pie": [
           {
            "automargin": true,
            "type": "pie"
           }
          ],
          "scatter": [
           {
            "marker": {
             "line": {
              "color": "#283442"
             }
            },
            "type": "scatter"
           }
          ],
          "scatter3d": [
           {
            "line": {
             "colorbar": {
              "outlinewidth": 0,
              "ticks": ""
             }
            },
            "marker": {
             "colorbar": {
              "outlinewidth": 0,
              "ticks": ""
             }
            },
            "type": "scatter3d"
           }
          ],
          "scattercarpet": [
           {
            "marker": {
             "colorbar": {
              "outlinewidth": 0,
              "ticks": ""
             }
            },
            "type": "scattercarpet"
           }
          ],
          "scattergeo": [
           {
            "marker": {
             "colorbar": {
              "outlinewidth": 0,
              "ticks": ""
             }
            },
            "type": "scattergeo"
           }
          ],
          "scattergl": [
           {
            "marker": {
             "line": {
              "color": "#283442"
             }
            },
            "type": "scattergl"
           }
          ],
          "scattermapbox": [
           {
            "marker": {
             "colorbar": {
              "outlinewidth": 0,
              "ticks": ""
             }
            },
            "type": "scattermapbox"
           }
          ],
          "scatterpolar": [
           {
            "marker": {
             "colorbar": {
              "outlinewidth": 0,
              "ticks": ""
             }
            },
            "type": "scatterpolar"
           }
          ],
          "scatterpolargl": [
           {
            "marker": {
             "colorbar": {
              "outlinewidth": 0,
              "ticks": ""
             }
            },
            "type": "scatterpolargl"
           }
          ],
          "scatterternary": [
           {
            "marker": {
             "colorbar": {
              "outlinewidth": 0,
              "ticks": ""
             }
            },
            "type": "scatterternary"
           }
          ],
          "surface": [
           {
            "colorbar": {
             "outlinewidth": 0,
             "ticks": ""
            },
            "colorscale": [
             [
              0,
              "#0d0887"
             ],
             [
              0.1111111111111111,
              "#46039f"
             ],
             [
              0.2222222222222222,
              "#7201a8"
             ],
             [
              0.3333333333333333,
              "#9c179e"
             ],
             [
              0.4444444444444444,
              "#bd3786"
             ],
             [
              0.5555555555555556,
              "#d8576b"
             ],
             [
              0.6666666666666666,
              "#ed7953"
             ],
             [
              0.7777777777777778,
              "#fb9f3a"
             ],
             [
              0.8888888888888888,
              "#fdca26"
             ],
             [
              1,
              "#f0f921"
             ]
            ],
            "type": "surface"
           }
          ],
          "table": [
           {
            "cells": {
             "fill": {
              "color": "#506784"
             },
             "line": {
              "color": "rgb(17,17,17)"
             }
            },
            "header": {
             "fill": {
              "color": "#2a3f5f"
             },
             "line": {
              "color": "rgb(17,17,17)"
             }
            },
            "type": "table"
           }
          ]
         },
         "layout": {
          "annotationdefaults": {
           "arrowcolor": "#f2f5fa",
           "arrowhead": 0,
           "arrowwidth": 1
          },
          "autotypenumbers": "strict",
          "coloraxis": {
           "colorbar": {
            "outlinewidth": 0,
            "ticks": ""
           }
          },
          "colorscale": {
           "diverging": [
            [
             0,
             "#8e0152"
            ],
            [
             0.1,
             "#c51b7d"
            ],
            [
             0.2,
             "#de77ae"
            ],
            [
             0.3,
             "#f1b6da"
            ],
            [
             0.4,
             "#fde0ef"
            ],
            [
             0.5,
             "#f7f7f7"
            ],
            [
             0.6,
             "#e6f5d0"
            ],
            [
             0.7,
             "#b8e186"
            ],
            [
             0.8,
             "#7fbc41"
            ],
            [
             0.9,
             "#4d9221"
            ],
            [
             1,
             "#276419"
            ]
           ],
           "sequential": [
            [
             0,
             "#0d0887"
            ],
            [
             0.1111111111111111,
             "#46039f"
            ],
            [
             0.2222222222222222,
             "#7201a8"
            ],
            [
             0.3333333333333333,
             "#9c179e"
            ],
            [
             0.4444444444444444,
             "#bd3786"
            ],
            [
             0.5555555555555556,
             "#d8576b"
            ],
            [
             0.6666666666666666,
             "#ed7953"
            ],
            [
             0.7777777777777778,
             "#fb9f3a"
            ],
            [
             0.8888888888888888,
             "#fdca26"
            ],
            [
             1,
             "#f0f921"
            ]
           ],
           "sequentialminus": [
            [
             0,
             "#0d0887"
            ],
            [
             0.1111111111111111,
             "#46039f"
            ],
            [
             0.2222222222222222,
             "#7201a8"
            ],
            [
             0.3333333333333333,
             "#9c179e"
            ],
            [
             0.4444444444444444,
             "#bd3786"
            ],
            [
             0.5555555555555556,
             "#d8576b"
            ],
            [
             0.6666666666666666,
             "#ed7953"
            ],
            [
             0.7777777777777778,
             "#fb9f3a"
            ],
            [
             0.8888888888888888,
             "#fdca26"
            ],
            [
             1,
             "#f0f921"
            ]
           ]
          },
          "colorway": [
           "#636efa",
           "#EF553B",
           "#00cc96",
           "#ab63fa",
           "#FFA15A",
           "#19d3f3",
           "#FF6692",
           "#B6E880",
           "#FF97FF",
           "#FECB52"
          ],
          "font": {
           "color": "#f2f5fa"
          },
          "geo": {
           "bgcolor": "rgb(17,17,17)",
           "lakecolor": "rgb(17,17,17)",
           "landcolor": "rgb(17,17,17)",
           "showlakes": true,
           "showland": true,
           "subunitcolor": "#506784"
          },
          "hoverlabel": {
           "align": "left"
          },
          "hovermode": "closest",
          "mapbox": {
           "style": "dark"
          },
          "paper_bgcolor": "rgb(17,17,17)",
          "plot_bgcolor": "rgb(17,17,17)",
          "polar": {
           "angularaxis": {
            "gridcolor": "#506784",
            "linecolor": "#506784",
            "ticks": ""
           },
           "bgcolor": "rgb(17,17,17)",
           "radialaxis": {
            "gridcolor": "#506784",
            "linecolor": "#506784",
            "ticks": ""
           }
          },
          "scene": {
           "xaxis": {
            "backgroundcolor": "rgb(17,17,17)",
            "gridcolor": "#506784",
            "gridwidth": 2,
            "linecolor": "#506784",
            "showbackground": true,
            "ticks": "",
            "zerolinecolor": "#C8D4E3"
           },
           "yaxis": {
            "backgroundcolor": "rgb(17,17,17)",
            "gridcolor": "#506784",
            "gridwidth": 2,
            "linecolor": "#506784",
            "showbackground": true,
            "ticks": "",
            "zerolinecolor": "#C8D4E3"
           },
           "zaxis": {
            "backgroundcolor": "rgb(17,17,17)",
            "gridcolor": "#506784",
            "gridwidth": 2,
            "linecolor": "#506784",
            "showbackground": true,
            "ticks": "",
            "zerolinecolor": "#C8D4E3"
           }
          },
          "shapedefaults": {
           "line": {
            "color": "#f2f5fa"
           }
          },
          "sliderdefaults": {
           "bgcolor": "#C8D4E3",
           "bordercolor": "rgb(17,17,17)",
           "borderwidth": 1,
           "tickwidth": 0
          },
          "ternary": {
           "aaxis": {
            "gridcolor": "#506784",
            "linecolor": "#506784",
            "ticks": ""
           },
           "baxis": {
            "gridcolor": "#506784",
            "linecolor": "#506784",
            "ticks": ""
           },
           "bgcolor": "rgb(17,17,17)",
           "caxis": {
            "gridcolor": "#506784",
            "linecolor": "#506784",
            "ticks": ""
           }
          },
          "title": {
           "x": 0.05
          },
          "updatemenudefaults": {
           "bgcolor": "#506784",
           "borderwidth": 0
          },
          "xaxis": {
           "automargin": true,
           "gridcolor": "#283442",
           "linecolor": "#506784",
           "ticks": "",
           "title": {
            "standoff": 15
           },
           "zerolinecolor": "#283442",
           "zerolinewidth": 2
          },
          "yaxis": {
           "automargin": true,
           "gridcolor": "#283442",
           "linecolor": "#506784",
           "ticks": "",
           "title": {
            "standoff": 15
           },
           "zerolinecolor": "#283442",
           "zerolinewidth": 2
          }
         }
        },
        "xaxis": {
         "anchor": "y",
         "domain": [
          0,
          1
         ]
        },
        "yaxis": {
         "anchor": "x",
         "domain": [
          0,
          1
         ]
        }
       }
      }
     },
     "metadata": {},
     "output_type": "display_data"
    }
   ],
   "source": [
    "negetive_word_cloud = WordCloud(stopwords=STOPWORDS).generate(neg_review_text)\n",
    "fig2 = ex.imshow(negetive_word_cloud,template='plotly_dark')\n",
    "fig2.show()"
   ]
  },
  {
   "cell_type": "code",
   "execution_count": 74,
   "metadata": {},
   "outputs": [
    {
     "data": {
      "application/vnd.plotly.v1+json": {
       "config": {
        "plotlyServerURL": "https://plot.ly"
       },
       "data": [
        {
         "hovertemplate": "x: %{x}<br>y: %{y}<br>color: [%{z[0]}, %{z[1]}, %{z[2]}]<extra></extra>",
         "name": "0",
         "source": "data:image/png;base64,iVBORw0KGgoAAAANSUhEUgAAAZAAAADICAIAAABJdyC1AAC7NklEQVR4XuyddXQk15Xwb2Ezk9RilkbSgDQMnjGPGWI7MSVx2A7uBjaw4c1mv2ST3WTDYDuxHcd2HDPbY3uYRzPSiJlaUjN3F35/VKtUqgbxeGzP7+joVN/7oPDWe/fd9wrgAhe4wAUucIELLB0UxZWkQS7NBWIxVBp1RbLtbOVkk88PBEEwuWzhzH8f9Jp8ueh9Bi4XvEPo6vILb9vQ8f1n5YolUPvv144/fSrUNiZXZMGytUJdbB35+xG5IieWwtU1mz8sl07Tc/RR9/AJuXQhEEpd9aY7deaSeMTde/Tv0eC4PMV7GgwlFKQ2QQXliizYTDValW3S1y7bzlZONrkUh7l+yt/B85xUqFPnlRfspJm4O9Dt9ndKVQtlPvsgUJS3+WzfU3JpFjZc+11CqRO2Dz35Ndn+n7cU6Btd4Q6OZ+QKADh/DNb5gPdgn/dgn1z6TuOs2mmwVQKAxuAsbryqY/+f5Sneu6AIVpy3ORr3BiNjeZYGlcKkVBgmvWdDUVdl4SU88C5Pi1ppCUbG4kl/qXOHN9DjtK6hmKiSNGAoIW4nkgGxHASQisJLUBT3hwe9gV5RjmOKUucOFMFcntMalVWsi2GTJflb1UqLPzwYCA+L+1bo2NAx+DxFRxsrb1WSBpenhWGTZc4dI5NHxXISVLDIsRHHlIHICIqgStKoVOhHp04kqZAo9/i7Mu6bPzQoKSdUUXhxkgoBz0tOzwqSr6p2xbvl0izkqSoJRDGZ6KO4hJF0BKhJeQoAJabNV1UPRE7KFWmoccPGgg/54sPDwZYEE5Jpl8FgGdYUlXxkG89ymJJo/drjbJyu/9HNgVPD+oYC0qxp+/o/2BhV+aXLVYUmTEn4jw8OPXgAAIru2GRsKkFQJDEe6P7vVwCAMKrrvnM9adEkJ8OdP34eeMi7ZrXt4loERYNnRrLlSqf4w1vNG8qS7jBhUgsSWTl5V69W2HVCgaWf2JEYC0y81Oq8YZ3jyvrAyeGBP+0VcqUfV/r+AEAy6veNnyUUGpzUEAoNTqoAEEG1LCi15plt9cz2ItAYC0iVgYoHooF3RzON49kJb6vNVAcACtIQjI4NTRyuK70mngzguKJn5PUkFTbpyzF0CgA0Kuvg+D5PsDcadwuWRbotlmMxVsUS3nFPi1CFKHfa1iWpUCzpK3PuCEbHxbrO9j8diU8NuvbLWigErqLoKAAgCBKJTzrM9eGYi+VoaTmdQy+plda2vicBoCR/WyAyHJocry29pnfkDVEOWfatOG/zzP5ERsfdp2IJX13ZteIOLJp8VRWOkGHGR6LKqcSAXVnGcJQaN0QYH8UlbIriADWhwY1F6npBYlEUhGgPz3NawhygJjCEMJJ5Ydrjp1xCgSpMNxg5Xa5rHou16wl7gJo0EHYhsZ6wCXUFKBcADwAa3CQUSKKqqcSAQ1k+meiX7l6Pb3+Pb79RmV9qbAaAyUiPPzEqapdqsBAUqfnaVS1f/BvliUjlHMV0fO8Z8Wffr/bwDIugyIZHPjX0lwPAg+Py+s4fPR/pnQIk9Xgr7fq2rz3B0ezq//mQusTKUYz90rozX34MeGj86W26mrxw10R6LhmqIrNlc/mpzz6CIND853sAQOk0yspx7+lY+5u7hv96EBDEuq3q5GceAoDxZ04x0aSm1CqUk35c6eWEuyYAIOIf6Tz4QKp6AARBy9bdlFe+RZQskUTEK27HwhneXfOnetOdKp3dPXyy5+jf5Lp3AxQV4TgaECSe9PeO7CnN3+4JdAPwCIIiCIoiqDxDJnBMQTExuRQAxxTxZJDjmIHxfWZDhVgXAGRs19BMjCQ0FB0FnveHhpzla9VK86DrYJFjg1gOACSpmTYCx9Ecx6IIJpOLSPdNuj82Uw3LUixH8Zn2ZKEoMd1A5GS5tonjWQBQ4waKjfuosRgTLNc29UdOAoBVWTISO1uqWeOnXAk2aiKd3uQIjigYni5Qr4rQXj1hFw0WAPDAAUCCjaKAAgAPvJBYrCswnRhHCKHAKOM3k04k01VDAMFRJYEpaTZRbFxnZyq7PG8JqqUaLNKipUNxmbUCAKnnCCXxis9egqoInmJwrRJBUZ7l2r/7TOFtG5T5htHHj/mO9ANApHeKo1kAoAMxTEUo8w0qp6nxJ7cJhWBqEgDSc8lQOY3Rfg/wPM9DdMgLAOoSi6wcNkEHW0bMmysARfwnhrgkPasIAMh0XOnliCopPM/xbObu9+IY79mrNRfpzCXRwNjgmefl6nlDqgwqnV0uPb9RK80FtiatyhExzrLUWpXdbl6FIhgAEgiPlBfsjMTdLJvhOgpIy/EEeurKrjFoC0PRsWjcLcrHPacrCnbFk/5gVO70DEVdVcVXTPnOBsIjonBk8lhNydUMm3B5zwDwsYRPQWhpJiYtJ0nPei4KbM0FNpjytUuF2fZNWs6kr72sYGcs4eG4rMc4f3CELFDXJbk4AF+grsURkoI4y9EAEGH8pdq1fsrFcpSQ2KRw0lySBw5BUJpLmElnmPYQKCkaIAAgUVWJZnWIntLgJh1h0xM2MbFYlxY36wirnrCKBboTg03ma075XxLLEag0b7Opy6ZifV2etyg2DgCbC++SpVk8CI5u/NunSLNm+jcAQP2PbhabKgBg3lRe953rAQDXKbe98EUEQwEAwTFBsumJ+wBAV5df993rhfR1371eV5evdBrX/PIOBEUAAMFR4V0ny5WOutiy7jd3AYIAgjT/6aP6hoKM5WhKrat+cOOq79+oluyn/bJVZZ+4SNhOP66M5WSkbM0NW2/5b+HPVtwsV79D2Es3CLtUtfEOue5dCIpg4ssZQbDUnTdvso3uZZOjaMZXO5KxgQCZyinJ36ZRWrOllyLNK24jCLrQY9xw7XfF+1Bab4lmDTJdlLghkkOCwPQJT0uTjpBYWpdEhQCABjcVaxplKgAo0DcIjdAZia5e3M54GRYAz3A9P3+17rvXcxSL4Gj7d55mwglZmnCnq+iOzfU/upnyRaP9HgAABFn9sw9yNIOgiOuZU7L0AonxwMTzpxt/ehvP8YDA2W89xVHMnLliw17/8aG1v7wjMRGMjwchYzlJOjrowZQEz0Ns0AMACIZWf3W3utiCaUiFXT/00MH4iE92XBnLkVd/HmO0V8tF72aE7owAL9meJ9myZJNzXMZWM5+tj5ZeTizhZThqPkN10rzi9nwyzhNXvJuH1G6LGyI5JEK/TyrJgZBYWpdExQMAxzMj0TaZCgDGQm2QMtAAADzPjYXPilq58bvA0ilbc0N+1Q5he+lhDcsEsuHa7wiD3O9eH9YFFsS7NKyhyry9QN9AoApAkHDSfXj0Eal27gbqBd4D6MzF4r17gQucz1jVpW8P/t4V6Xpr8HcRyivTLrVLOCd6a7m1eJ3eWk4q9SiGU/FgNOjyDJ/0udp5jgUAvbWsYddnhcTp7wFpa6X7yMOekRapNp1NN/wHRigBgOOYw//8ulwtgVTpTfn1OkuJxuAkVXqcUPE8xzJJKh6MBsYDk92+8TYuux93hVDp7Ouu/JpcOs1Y15tDrS/IpZlQ6/PUxnyNwakx5KuNTlKpF1W24iZbcZMk7SyOPP0tlkmKP3FStf6a76AYAQAskzz+/PdZJuWOzU3VxttF/13fyScn+w/N1i8b4h3iHT3TdfivglCls1mLmox5NQqVgVBoOZamEuGIf8TvaveOnllIWwMxOqpM+av01nJSqcNJNUMn6GQ45Bnwj7f7Jzohrb+Tk+UsLe3JCsVCE56RFt94K8cysMBeJKkyWApXG6wVKr2DUGoxXMFzLMskk7FAIuIOe4eCU72x0IQ82wrA8jQPPIbgNJtQ4NNO5GlW0GARSl3Fug+YCxqkQqXWqtRaLQWN0cBY99G/xUOT53joCkFQc0FjfuV2vbVU1iNGAEMxglBoNcYCe+kGhor1tzzlGc7sLDufQRB07RVfkUsXBUPFPSMt9tINAIDhCmvRusmBuWcCYDhpdjYK2xzLeOd6zSwLKr0dABAUK66/qqB6p3RUBEMxFaFU6Wy24qZEvafr8F/nE4mms5SWrb1BayqSCgmFhlBo1Pq8vPItEf/oQMtTYe+QNEE2lrG0LE+WRam1mJ318bC799ijYd8wQ8VIlUGaJiMYThY3XJNXvhlBZ7m6EQwVHgetqdBatA4AYqHJ4bYXfeMzHqWVIEr5UQRjeGpt3vUEqpBpV6pLSCh1DTvvk51TKRpjwepLvqA25Kv0DrluJdGYCms23623ls3pv8NJdfXGO/MqtsoVKwlLJ3xjbSHPQDw0SScjC3pJrhDSxpGjfLNEkxVzQSOGp8I+fONtDB2frV8RVFobgmI1mz9cULMrxxiuUmttvPjzasMck/IcZRsbdt0nsy8ytKbChp33CQ9zbpaxtDmfLJXOVr/rPoOtkk7Kg43SwQhlw67P5lduk1mrjKj1DqFXtKKcdb/K8WyHe89YqO2k6ymZdmVaWAhSu/Uelc4mCoLuXu/omWTUj6CoQmM25dUZHdUYrqjb9nGGikpyrjgR33DIM6C3lgEAz7EhT3/YNxIPTdBUDAEg1SZTXq05f5V4x5etucHvak/GAtJCVg4qEeo89KBEgOSVby5v+oBEMjc8zx177rtSicFWWb35bmHbO3qm/9STUq0UaX9QIOwbjgbGNMYCANCaijRG55zNE2kwh3vouESzgiAoVr3pTrOzHgA4jvGNtQWneqh4CBBQaq2WgtXCRQcAFCOqN93Z8urPsnXB7KUbKppTAXcAEA9NekbPxIIulklghEprKrQVNwmNFwTFqjfeQSfCQXfvTP7ZLGdp83uyUBSv3frR+RissjXXC1cWADiW9o6eDnmHqFiA4xgMVyjURrUh32CrUGqtAJCM+vyTXbPyrxgcz7hj/SpcDzDrbbciBiuvfIvOXCxs8zzXe+wx2UiZq2ef0VFds+UjCrVRoTZKVeeAsa49CHLZRP8h33gbS8uDMCb7DxlslXXbPy44bhAUy6vYNk/P0QrAZxlQnwM6Oes1wEjMEMcxMu2cTPQdrGi+Vdh2lG3uP/XP2fpZkCq90V4lbFOJUGByvlPSlo6lYDUARANjXYf/Kp0hAACunn15FdvK190k/FTr80x5tf6JDmkaAaXWWrY2lYznuaHWF8Z79oIkfME7enqk/ZXydR8QesqAIFWb7jj1yk/S7yVY7tLm/2RhhFJw5uYAJ1Tiq4VOhFvf/FUiKndyCyg1FmvxOioelO75OaDactHpyVnB0ivQJUSQgppLxF8jZ1/OOK4fmOzuOTJrwPKc4Xd1tL75f+6h4xnvCQAIunuH2l4UfxqmH7/3LZ6RU+K5shU3CaY8G7biJrF96h46cY57tclY4Oze38uslcBE3wHpoI3JuWpGJ6F09XVif3a47aXx7rfTn1KOZXpPPB7yDAg/SaU+22Ss5SxtuZ8sld4h9gQnB45ks1YAkIh6Rztenxo8JlcsKxXmLbI/nULu4F5+g2WwVYqNJioRGu/ZO0stwedqFy/S+cbUwFHxSZO2wN+fsAwlPhsYocztZ3lH+oMiQ63PM1RMLp1G6o8TmypSlFqrOT9lyBIR73j327P1Enh+tOM18VdexTaJLsXylrbsT1buF8+5x6Gppti49C89/jaXwcIW1V805dWK297R1AhrNryjp+Wi8wOWSSajPmEbwxXzcUm+t5nom5frXWNwiv7siH8kFlrSbO2FwlAx71irXCoh7BsWtwmFVqJJYSteJzYPp4aO5W4eBqZ6xCAPhdooOHqkLG9py/5kJSIecdteuuEdj9QbD7eNBFukf2FqZg8FUADAMCgqwVVqJM+JqdSIxYqSJOIswK69UW13YCSJOPIwQSLLnBGNqVDcDmXzHU4zn0Hcdwrp2FaWqWTvI2KhCfGlrTMXZxtls5XMNK9WugeRTtDdm3sYi2NpMbYOI1SzlQAAOkvKMQ8AwakeiSYTPB+XrJ+hM5dIdADLXdqyP1nJmD/sSyUjVYa1l/1rXsVWdHHtlOVgMCDv4Z51z7Q6BXAAuOk2ddsZeusOdXsbbTSht9yuPnmUSib5vHzs4suV9jzUZsdOHadCQW58LNfdIKCWhCnEw1MSTQbmTPAOkm2a2PuWif6D4kCbo2zzQMtTs/WAIKi1ONVb5DhmzijfZScWnDuykedYSA2nZOheSPuJ8bBbosmMtPtJKOVNtuUtbSWerIFTTzfs+qxgpAilrnzdzcX1u6eGjk8NHosFZ9ZjOMdoSLOaMMboQJRK9XJEcACgknxhERaPca0t1J33aBJxvr+Pufhy5egw45niCAI/e4aeGGd3XqZ845XMXmopuOTFRSVCEk0GWCbJc+w71eFSqI16a4XakKfS2XBSg5NqDFegGI6iOIoR79Renbd4R8/Qa24QelK2kqah1udlMwEM9koxpN4/3p7Dl7RC0ImwXLQQUBSXjqxtvP4HEuXc4KRG+nN5S4OVebIi/pGze39XvfEOhcYsSHBS7ay6yFl1UTQ4PjVw1D18gqHORRidSJV5u1VTFkl6dAqbO9rf49sv1eIA8Ow/4xgGLAsA8LcHo0LDoruD5jgAgEP7kygKHAed7bPuzoygGC49R/OZxsEyFE5maJyvIAhiLVzjrN6ZO5DvAjJ4jp0aPFZQczEA4ITKWrhmarZP3VayXtyWqc4N6UFkCwIn1XLRQkBnW4flLW3lnqywd/DUqz91Vu/Mr9xBKGaspMbgLFt7Y0njNZMDR8a63qTiQUmmFcSiLjk88jAPPALIpsI7MxgsgJS1ApgZchWslXRbKslOysWYYh69Kn5RcUZZyR7iLEAotDVbPiJ2bUR4nmOoGEPFWSbJsTTHJHXWMgyXzwx4nzPZf7igZpdwlR3lm6VWCcMVZmeDsE0nwoGJTlF1zsjt1Z6TjJ3ERbO8pa3ok8Wx9GjH6+Pdb9tKmh1lm6QvchQj8iu320s3jrS/kmuUc/mIS9ZxX5E13aVwLC1tiKI4mS3WSQSdjlJZDhAx5iUjKIrXX/RpicOY97s6vWNnwt7BRNQn89euveIran2eVHKBRNQbmOgy5tUCgM5SqtbniRNipdNx3MMnl2g73hGkfViOZTr2/1GinJtkPCD9ubylnYMni2Ppyf7Dk/2H1YZ8R+lGW0mz2EjEcLJ09XUqnb3vxBOzMy0/KIJtK/5olPJpSAvNJdbkXQcApyeeE7TLbLAAgKHj4oAxqdTFc55WBMWWsRUz5wcgnNU7RWvF0onOgw9mnQMBkLuo9y0T/YcEgwUAjrJNA6efEbalK0C8I/3BpcMyFMfSQnQSiuFh31Du0IHcLG9pcA6frFjQNXD6maG2F2wl6wtrLxODvxxlm4KT3Z55BEwshUF/rptneVutALNHQ+ZciSE92ESG9EWdvuysjDmrkzpZhlpfyGmtBPN3ATl+V4c4s9JavE545xNKncFeKQijgbF3cIBpiUT8o+K2Wp85dGP+LG9py/tkzQnHMpP9h1te/al0eQZxraeVw58YTf8TtctvsKKSiyR8UC8HWmOhXDQblpl5jUg9ghnRW0vlIgkIiql0M1cx94sCJ9Wk4h2Oo1tOpHZ/aS1HnufEFWYIhdboqAEAa+FqcU3bcx9+tYxI45uMeTUSzWJY3tKW98maJyyT7Dn6N3E04xyMUzXYdyOA2DTll5TdV2HeItMuv8EKSOZzWwpX5x5YtRQ2ykWzoSQD1Vpz7pOFWLOvSwcAGE7O9PJ4Pvegu7Vo7Zz++3cR0uEzbMktx6mBI2LL11q4BgDMBanryHOsZ+SUmPJdh3ukBaaXcMiv2JbbJTony1va8j5Z84dlkuLcTARF5/MdjaWgJow88GXGjfuG77eo5NGzy193YLJbDBIhVQZn9jakxlhgzq+XS2cTkcylMDsbcswesJdu0BiccqkEhk7MdDARRAw8SYdUGYrqLpdL381Ix6R15uIlBu5TiZBvvE3YNuXX4YRKPx3S7Xd1LHQpiPOKeGhSnNxDKHUV6z847+czw+tteUtb3icLADLWkg6GK5Rai7BNJcIrP5zC6xX2OB2g2YRo7kXmefoWAM9z411viT+LG67OuCCv2pBfu/WeOVsx0aArGfML2yhG1Gy6K+OiGfaS9RVzLhrF8xHfiPirUDLxXYrakF9/0WdyWMZ3I8lYQHQ84aS6cNUVs9QLR5xaiJPqPMnyb1ND7+L+oMDQmRfEUElr4ZpVOz6VY7BYoTY6yrc0Xvx50YUnYxlLW94nCwAqmm6uXP9Bg60ihxnFcEXVxttF/73fteLRKp7Y0BrHdQOBYyiCyb73BSsxSggArt79tpJmYWEwBEGrNt5hL93oHTuTjPoAQUiV0WivMhc0IAhKJUJ0IiwuIZYBnh/vfktcUUhvq2i68t8mB49F/MMsncRJlVqfZy5oENpWiaiXYxnpDAYZU4NHdJZUI9NRvplQ6ib7D8dCExzHEKRabXCaCxosBY0IgnIsHfYOLmJhGQTFEMlsLBTDEQRd9EsJQVDplHoUxREUyz1dLhtTg0eLpu1UYe0lWlOhZ6RFeBlguIJQaAilDidUg2dS48e5CU71xsNuYR0LcVFWOhnxvxPhV8tLIurtPvJQ3fZPCI+xwV659oqvRPwjYe8QnQixLI1hJE6qlVqr2pCn1KSaHtlY3tIW9GQxyWi2KZ8CKK6wFTfZSzewdCLo6Y8FxuNhN0PHOJZGMZJUGbSmIktBozj6xLH0ePebs8tYfvr9h/v9h4XtI6OPzlaujMHiea7jwP0Nu+4TL4DBXpn+0uBYuvPA/SWN18jkMlx9B415deJUdUKpK6zN0DhimWTngQfyKrflNFjHrcVNosPS7KwXFqiUwbF058EHMFwxp8Gq2nA7odRhhBInlDihwgilbMmOiuZbK5pvZZkkSydZOs4wCZZOUPFg7/HHpckEilZdqTUX4YQSI1Q4ocQIpWxkOr9qR37VDo6lWTrB0AmWSbB0gqHjvccfnzMqZ7z7bUvhGvHkGB3VRkf17CTAULF5GiwAfnLgcOnq6wBAnI7jGT61OGN6vhGY7G7f+4fqzXeL4zxaU9Gi/c3LWNqCnixbcXNugyWCEUpz/ipxJZyM8Bzbc+zR+cyIXEbUpEk2nTBrU3CJUPFg21u/8bva5YppYqGJ1j3/F/GP4nON/QHPdx18cHLgSHqHViQaGGvd88tYaCKecz0Tnuc6DzzgHT0jV0iIh91tb/06MNk9n/nu5oJGo6NaZy5W6eyEUpdtgSEMV5AqvUrv0JlLjI4aMSJchtFRZcqr1VlK1XoHqTJki6NBMYJQ6lQ6m9ZUZLBXWQpWZ6tXCssk2/f9YT7LJM2TqcFjssCi90B/UCTo7j3zxv9MDc4si5YNnud842cTkVxP8jKWNp8n68yeX0b8ozHJ2g8ZCXuH5jmZKewbbn3r17kfnJWg0pRqvIusSAtLgIoHOw7cb7BVWIvW6a1lpMqAoDiVCMaCE56RU76xNmHxX+mUzmxwHNN34onxnr32kg16W5lSY8EJFcfSVCIUDYx5Rlr8rg7hVphzkjrLJLsO/1VvLbOVrNdZShUqA4YrWJam4sFocNw31uYdPS0URSVCyZhfoTbJi3jXItzrprxaa9EarbmYVOpRnOQYiqFiVCIUDYxLl4uaE4aKeUZb7NOhbdHg+Jxrvb+7SMYCvccfH2l/1exsMNir1HoHTmowQsGxDEvHE1FvLDQZcvcFp3rmM86wjKVNP1mV1uJ1ekspqTIgKDb9ma9T3rFWoZ2b++UNABN9B9xDx42Oar21XKV3KDVmnNSgOIEiGMtSDBVPRNwR34h3vE069rVylJs29fuPVFsuEiUGpdzfN7dnbqV5l36f9gIAUNF8q6Nsk7A9cPoZV8++2foLXGAB2DWVU9HeLUV3D00vjFVqXH9w5K/SNCvYwrrAexsExYSPPgAAz3Pvxg84yrBpK+sclylwTYwOHOy/n8/ugnhvUGHdhiJYj3uvXDFvzOqSVXlXqgj9kP9E99RS/fFT0V4AGAu1jYdTHV6rOhUuI3LBYF1gkZjy68TxI7+rYz4flTrPWZV3RZ/nwGjgNIGpFm2tcJSsy7u8dfwFueKcoyZNF1V8BgBYngknpga8hyfDM6GnANDnOSD9uQh8saH9/X9odF4rVyyB4eDMm6916iWJBuCCwbrAorEXp7xXADA1eFSieVeCAKIiDIH4KADQbCpyahGYNSVKPDVsej7wRvf/YChh01Q0Oq8hJ1UjgRZ5ivMJFa7P09YocG2cCU1EOpOM3J33HjFYNm1lpW07wyb7PPt9sZno0NyY1cW+2LnwJoqsKbhx2H/cHxuVK7Jg11VpSWu/NxWlef6g0JjFz2QlYwG/q2O2/t0EAsjm0o8ocC0AbCy5G3jOFeromHwNADCUqLVfatdVASATofauqTc5ngUAm7ai0rpDozBzPOuO9J11vcTxLImp1hberFPYMZS4pOoLADDoO9rvPQwAV9Z9/UD/nyNJNwAUGFYXmdYdHvwLAOTpax26Wm90oNK6ncBUg76jQgctW70kpqrPv9qsLkIQLEb5Wl0vhBNzjDJxPEfT4ZFAC4Kg1fZdo8EzPM8ZVPmN+depCN148OzZiZfFxNnKv7Lu62fGnqu278RRcjLc3T7xKsfnWnki4/mxasobnde81fMrofWqJPQXVXzmrd5fU9NWyawqarDvHg+3RyivmjBsLrizZfK5YMIlLfk9YrAKDI2dE6/74/M1BAJVtp1Hhh6SS88npsI9U9Ajl54HlDRcLYZHj/e8vbihEsuuVd63sg7Py7BcVItplL4DXUwoa/NHWqC21hnpHCetOsuuVa5/HBElAKBwGJKTM3OVeOAPDT4IALvrvnFk8KEolZo3BwB1jstxVLG37/cogjYV3lJh3SYYlBgVaJ98NZSYUGCazaUfztevGgu2Umz86NAjxaZmh6762LA84jEbFk1pnA7u6/8DAEJiqS52tnpLLZs4ntnT80sAMKkKYlRqEsh8mAx3rcq7UqewhxITwbhrf/8f6hyXocgsC5CtfASQPH3t/v4/YQi+vviDZZZNubuTGc+PJ9rPcrRVW+GO9AKAU1/vjvSJ1goAqszbj48/EaMDwk9XuLPWdsmxscfEBPAeMFhq0lRlu8isLlLgWoZLnBl/jmYTRca1+YZVAKg/Nixc6fq83RqFGUMIT3Sgx71Xq7BVWLfoVXnNRbcCwMmRfxhUzjLLplOj/wSAdYU3D3iPBOJjzUW3eqNDJnWhAtceH/47w1HpJZdbt1o1pQBIjPK3uV6ctXPTVFq3W7XlCTqswFNBZ7JyioxrlYReKLDavitG+UcDp4tNzQXGRm90SHRnmtXFlbaLeJ7DUOLY8KNspv05Bzird1qL1grbyVhA+rE/EcvOOkyjiA+6cb3Kf7jXtLmSjVIKpzE+7GVCMeP68nDHmLLQbL96bXzIQwdjhrUl0d5JnuNUxdZIxzimJLSrCmL9U+GzqZcQaTdMPHXM+cEtsf5JeYHhuJA9VeCgOzkZ0lTmRTrHKU84ld2iEySaqjzH9c2uJ48q843+Qz2mrdX+g90z+y0BQdACQ+OBgT+zHMUCjARaKqxbhZMsGrUEE/bGhtTk4mNfEEB6pt4SGh1xjoKc9cbpYL6+zqGrngr3zL8nIUAxMQAgsAwz20RylD/kO8ZyFAvUsP9kiWl9boOV7fwM+08VGlcLBivfUN899dZ0DgAAFMVFawUAYcqNo/Lp4u96gxWj/KfHnmkqvKXPc0BoPapJU76h/ujQIwCwofh2gyo/GHd1TL7G8SwCyM7Kz/a490aS7jPjz19UUXhi5Al5ibPheEawYpCl5AJDw+mxZ0KJyWzLtmhIi01XeXjgLwCwveKTkKmc8dDZLaX39Lr3AYI4dNUHBx4AgGH/CYZLahU2oRwEkEbntUcGH0owqYcwvZxgfFb7eVmwFTdzLMUySRTFFVqLrbhJGqXdf/LJjOvSkXaD64nDzts2czQLAAqniQnEwq0jiXG/87bN448fBgBjc/nUiy15N20Inx2lvBFdQ1GoZQjXKrkEZbtydXzQranKEw0WAPAsBzyvyDfJCtRU5wvZuSQz9WKL87bN4fbDCDFrGhrlDQuSWP9UrH8qPuhW5hl1jUUIlmonpqPAtQiCbin9qChhOErYMKkKy61blLieB15F6If9CxghRWbP8ksyEZmDP0e9I/5TDJsoNW9c5bhy0Hd0wHt4/oMDCkIHANIWTTo5yqfY1OomSSZCTr93s5Ht/IwFT1fatpGYmsQ1JKbyRPqkuVS4bpXtMplE+hPeAwYrHS1pVZOmDcW3Cz9xlEQRvC7vchwlWI4hMMU8JvfN3FJSf1N6yQBwavTJMvNmFWkc8B4RXh0y1KQpknALFz6S9ECmcliO9sWGbLpKBBBvdJDlaGkJAgpCR7Nx0VpBpnJE1TJSWHdZtm9fj3W96Z/I7L3C1KTtitV0IMZznPXyRlytYAIxNk4BQHzEm3/zxvDZETaROkxdQyEbTgDHIxjChOK6hqJY/xSuVYTbx8QCCYMq74bmaO8kblDJChSzo2pCqFRVZNGU2zWVeRzNqMts6goHTzGCJNo7QZg0qiJL4Ghv9Xc/0PMfT4lVyEgyEZ7nDgz8WdbzQhF8ffGHzk68PB5sA4C1BamJrjngeRad7kELzrIcZKtXwBXqcIU6dAr7uqIPJNnoWOCMPEUWnPr6JBMV7sAcZCtfgWuFvApcm2Qis/LMJsf5odnEZKjLaagnMfVYsFVmbTvce6Q/ASDdyfMeNFgRypOgQ8eH/84DjyAo8LxVW06gypaxpwhMla9PuYqB5zGEQAARzhrDJUlMDQAIguqmGzUAID2n6SUDQIwKtLpeIDDVjvJPCp1/GXHar1XahPaXhrRAlnKG/SerbTt54Hvcb8tKEEgyERJTK3CNOHSSsZxzBT/auWe4bcZfK4MJxtyvtaZ2CUGk++Y/1IOgCM/xkS4XAEw8dUyaJto7ybMcAAhpxFzDf35L3JYVOPHPYzOS6Y2+n70gaPt++nxqY1oy8sDbwPOqIkvgWL/QAMwIz3OjwTPVtl1nJ16m2biKMCpwTSA+hqE4hhIxygcABpXToimVzndLMmENaSEwJc0mUAQTnOWRpDdPvyqcmFKRxgJDI5VzFDJbvQBg0ZRGk94EE04wIZqJofOYWocimII05elqKmzbz7pezN0iy1F+qXlDMO5CEazY1CwLj5CR+/wM+U/U5V1OoMqTo0/O5AEAAFdk7pnz70GDFaP8I/5TG0ru4HkOQZATI08E4+MV1q3NRbclmUg4mRpV4YGfCHdsKftonA6eGv1nJOlJMOFNpXcn6Ui2t1B6yRzHbCy5g+NZAGTIf0KeAQAAIkmvNzKwqfTDcTogvDPTy2E5OpJ0YygBwAu1IwjamH+NVmHFUVJF6Hvd+6OUt8314trCmzmORRH05Og/MpYjr37JCMtmkkodipMcSydjgZC7b6LvoPj5iYx432qfsSlpllRqiaZFKYlgrSBjGpG0AnPUlQGeBwAuyUy+cEqumk3nxGuVth1by+4hMVWCifR5DgTiYzSb6Jra01R4Cw/gj40M+o6gCCFmmYr05ulrd1bex3J0j3vvaOA0ALRPvFyff1WJqTlK+QZ8RwoMqYDbbGSsFwCMqoLVzutwVMFy1ES4azQ4d/Pq0uovMRwVSrhOjT7pifQLwvr8q8zqYiWuBUAsmpJQYqpl7CnIWb470r+l7CMkpp4Mdw94jwjCNQU3GJR5ClwHwDt01f7YSJvrxdznJ5SYQAAoNi5YtAtc4AIXWGZ2131D6BwsC5tLP1JgaJRL58fcTcoLXOACF1gu8vWrlLjOFZpvOIuMzF3ChkuseRXa1/84KFcskPpd1t2fLYuHmVd+M9B3PJBRMp+65pMmncqNpt6jfrl0mqarHTd9s9o/nmAo7sVf9PceS6VcRF07P1y08ab806+6X/3tgFx3gQtcAAAAHLqaRue1SSbcMvaU4No777jnfxvLmoy5JSvHFx5uloskNF3tuOXbNQBgLVb9+ytbzc5c8Slzsu1DBVfcK5+oeYEZEES1ukpZXSyXv9MQDguqnBldRQgctxiFDfX6VYTDLJNfQIQ0WlFiZsk2BMMJvUnY0Fc2ksZUF1KULwsZWljb7yjcdFN+92H/cz/rBYDSNYbLPlXKsZzOQvrGEw9/7SzPw+WfLq3eYkZQ8A7HH/33jtI1hos/VvzAF1sB4J5fNL55/3DET139hYry9UadlUxEmIe+elZjImSSeJiR1QUAlRtNV32+nGN4Uo395p6TyRibnmbrbQXrrnagGNJ7zP/SL/vT9zCvUnvZp0qK6vWf+t0aAPjjfWdyeHA9w/Hjz02s3W3fc/9wel2yIy1vNl58TzFDcSansuug76VfpryYMm77Xq2tVK1QYR0HvC/9sn/jTfmWQtVL/9cPAFd9odw3Gj/yz+UPmDqfUTfVkgX26NE2uUKCZlND9Fg7cLkjTubA/KErUbUScCz04gFqdI4FoQBAvX5V7GQH50oNsyAkgRm1jDfAMyywnGpdLf3yQakclmk/z0McO67FFEoEw70n3k545r4/9ZWN4f6zSV9qFAslCFyto0N+nmN5jtVV1HtP7JXKAcBQvSbU0zpXUBFoSasYoxNIzFpkLYPB2v+30USEya+aiRZx1mr/86pDDMV94eFmR4Vmoje64Yb8v365bbQjjKCZoyU9w/G/fqXt479a/ervBkfaQgAQDzMyCaTVhWLIHT9e9Ys7jgcnZxZClKWxFquarnX8+iMneR7ue2BdcaMe0vbQ1RN55OvtZa8a//CZ02I5OQhMJPIqNZBWFwCkH6m1WPWTG48CwL8+tv7k85OT/Rki8Z78UTdLcyiGfOf1bS//X/+J5ye/+HDzy78e4Dm+dpvlVx/OPJ74XoUsydduX8eFo7jFyAYjhut3IjgW2dfCBkKGq7ejWlXolUMIjhuu3k7kWROdA5hJn+wbZdx+4/U7Q3uO6i/fjKqVyZ7heGuvmJfx+E23XAY8H953ihqcdU/7/7mHi8Ztn7kleuxsxnISnYNivQCg29WMkGR4z1Ha5THs3kq7PMm+UeB5xhfEHWYAQHBMlCvKCsT9JIvzIgdOc7GE8fqdgWczB6MsJwji2HYVghPRkd7Y+KBt4yUAiL/1sNLmJI0WQmcKdrVER/vENNGRPtvGSxEMC7Qfp8MBy9rtqEIZGx9EUHQm/UjqxSwwdegVNhkv3H1HqOdMfGKYCvpsGy/1nTkk5o2N9Vuad+FKtffUPgAwNWxEcNJ/5lDSP2Vpuojyu+MTw8DzdCRImqwAgGCYKFc5Cq3rd5EmW3S0T2lzBjtOsMmEbdOl7iNvSPdhjeNaJa4T41RPTTwj1WYwWOmMdYQZigOAsJdSanAA+PPnz1zysRJLoXLP/cPtb88KAkCxzCZsPuhtiliAllqrdBwVGlux+t771wk/FRqMjnPpe7ggrEUq/3jmNdHTj3RqICa011w9UUuRKt1gEQr0pm9WK9QYk+RUehxBEZbm2t7y1G4zx4J0zxEfnZzjDSOluPm6vLpdAND+8i8jniG5+h2lfMuHzKXrIp7Brjf+kGM1d2rIFT/TTY+7E11D+t1bWV+InvIZb9g59X9/D712RFlbom5eFXj6TWp0Mvj8Xp7lDNfsoEenAIBwWhEcJ/Jt7t88DgDSvL6/v4Kqlb7HXmX9qZefFJ5mAEFwizFjOQAg1svTTOxUV7Jv1PLR6zx/fCpy6Ixm/XSk3jQ8w4ry5MCYuJ88zWi3rUn0jHDJVCS6DHPxamv5erW5kFBoeACWiiXCHv9I20THYqybrqwu6XcHzh4DAPvW3b6Wg3TY77zs1qRvKj4x4j2xN//SD6AEKaaxNF1ER4JUwGPbdJnrzadIs230xUcAwLr+YjG9zGABAM8wgCCEzpT0TgKAwmxHMEzMCwC+0wc0BeW6ygaeYcL9HbGJIeclHxh79bFg5yl9pXzsj2dZUR6fHE14JjzH9vAcxzOMoa457hriaPmpUxL6I6N/kwlF5vVsc6y8P+UZjj/6rXa1gfjGC5u/vX1fIsroLCQAYDgibZ4slLAnqTEReisZ8lAAsvDAFJN9Ub8r8btPtHAsj+EIx0FJoz59D3keSAUqCz7MSH61tumavP+9/bhcAQBpRwoAeRUaFEN4HvKrM/vmqzaZNAbigS+1qg3EumscgvDA30dv+FpVLEC//deFTQE7j0Es5c0IguodlQqNKRGe9d7KBqpSMJ4AT9GBZ9/Wbl+LGXT0uDs1P0a8UDwHGIpgKGAYALC+YHpexu33P/Ga8dodsZbueKt8fjiqJIHjspUjrZengUtQPMMi+KypPLmY3s9k/5jukg2Y2RB8Yf+sBAAAULblg7aKjeJPBABV6QmVPuafu7eVEZRUsvHU2xElSI5K8hyHYBgAMNEwx9AIgkjTYKSSCvl4lnEffQMA6HDq8KXpRYkISihSpw5FERQFFANJXmNdM67RJ32TJIryAByd5BlW2If5kTp38ckR8+othNboOfHWLD0AxUTFgNt05AYLxZA7/nOVo0Kj1GKmfOXLv87go0FQ5HN/aWIoDkFh/yOjADDZFw1MJL/4SHPITU30ylsc2Uiva2og9ti3O+75RSND8RiB/Om+04kom57m4GNj992/juN4BEH+mKXTx3P8qZen/vXxDb6xuOBcS2fNlfbiRn0yyj74r60hdzJ9f9xDcdmRAkAsSH/4vxtMTmX7Xs/UQEyhxm77Xm1elRYnEEe5+oX/6RtqDV3+mbJP/X5tyJ0c74oIuaJ+OhagAQG/K3NT7l0I7+0/YS5dF3J1JSPzDQKM7DtlvPkSZsqfHBjjGZZwmBEFwXMcACQHxky3744dbUv0jBhvvJgem+Jnt1ykeUmWU2+sBxxLn8FpuvkShMT9T72JqpUZy5HVq922Frl4ffRYO+Gw6HY1k4UO9cgEPeHVXdSEO8z0uJuZ9Iny2Kmumf3sHk72jCiqirhIqv8iYnDWCtaKpROTnfuivjHgOVyhURkdvuHMd6OAuXg1RqrdvanvXEmJDLTnX3qLKr84PjHibz1i334VT1PB7tMKkz1zmvZj9i1XUkFvfGKEiWZoh6Zj37obxfCpw69iCpV98+UJ7wQ/uwXEcyxpsqIECRwPAIa6ZlPj5lBPK2m0mho3Ka35CY+LCnhMqzaQJmvSO0UFPKI83N8enxzNu+i6YPfp2PhgzDWozi8VzasIgqA7Sj4RSk4KrRVZlzDtal8gJ+XNxh13Fv7lX3M5j7Px4Z817P/baP+JgFyRk/O5S7hoEAzjWRYAEBzjmZl3KULgPM2kEnBchgb27LzA82JkfEaylSOvF0NzlyND3E/tjnVsIJLexCvf8iFrxQYA6N33kG+oRabNCoI03fpDnmNO/eN7ctU0kg9TIgiCZHRgSz9euegPWSIoxnOcpN07LZ8+/6mfKCrY/XmCYDjPMgBgXLWeiYUjg/JZPkalU/pzbqf7BZadDTfkb7+jsO94YKHW6r2KeMdLrQYIvidhQ/JIyMiWNyPZypHXuxBrBdP7qdnUgBl1kX2n5GoApSHlCgiMLuDdpjEX4aSKToTlCgkS68PzaYZYQGqhFmetIHtG2SldkLUCAMFaGarXEFp9oD2DHyZCecTVKdK5YLAWRv+JxRidY8+4jj2zSM/FBc5bokeyGiOMUAAAS8Uzrr2TDUN+tVz0HiXYndmTAwDrnbceHk05+NO5MDXnfCfLS/QC5y8IhiMoBgAZ+2vZQBDU4KyRS99/5F675lz7sFTVhaYbto3/dNayp4tAt73Rfs9uxhPkacbz6J7Y2UFBrt1QQxbafU/tm5U6J6Zrtxh2rQ0fbvf+YzGDzcuFxlKUV3uRzlFBKLVMMhbxDE31HAyOdxWuvcrZcBlk92EhKGYt32AuWa02OnGFmqUTscCEf/jMVO9hofktpXTjzfbqbQDQ9cbvg65umVak5pJPGpy1AHDmmR/Lhv/W3PTvCo1JKmHpxInHviWV5AAjlLaKjfr8arXJiSvUwPN0IkLHQ+Gp/qCrKzTRB2lOE1jgMS4LhErnqN5mcNYqdBYMI+lkNOIZ8vYf94+elScFAAB71WZTUSOh0pNqQ46PmUd9o2df/B+pxFaxUWsrUZucKmN+ji94u87uGTn1glwKAAs/OSUbbnbUbAu5ujvf+D2CYvbqrZaStUq9DSOUTDIW9Y26e4/4R3KNDKwopcb1HM/646OpJeSoWbffu7hLGDnUPvmnF4g8c9G37x753l9odwAAIse64JjcjZcb//OHeJrBdGq54hySV7eruOlamB5mJlQ6U1GDqahhsmt/MuKdnXYWSr2tetfHlPqZcSJcodE7KvSOirzai7re/FMiNCVJDu6+44LBspQ1ZzNYhFKrz68GgIh7MD1YgY6HCaUOxRZz51jKmko3fgAjZs2CUmjNCq1Zays1FNS1Pf/fUpXAQo9x6VjKmks3fQDDZ+adkGqDuXi1uXh10NXVu/evLC0f6tXZKwQTv1AK1uwm1Qa5dN4s+uQoDQ6cVNde9hm1uUAUEiqdsaDOWFDn6TvWf+jvkuTnDouqBABs6nLh5wnXk1LtAm47dX2p9UOX8CyHKomR7/2FS1CF37wz2jqgqi3GTdrRHz7ExZOOT19HOi2ogoy29Hr+vgcALB+4SL26HBCEnvRN/PoZAMANGudXPoibtLQn6PrfJ4HnjZev121vQFA0dnYwW65s0BO+0N4zuq31vmcOGK/aaLh4XexMv/vh1wStrBxVXbH5+m08zeA2Y+x0n1BXOrKjMFy8jnAYPX9/EwCsH7qEnvIH92Twsy4ac8ma4ubrAIDnOXfv0dBED8+zKkOevXKTo2Z7thsOABQa06orPocrtcDzvuEzwfFOOhklFBpTUYOxsF6hs9Rdfl/biz+j4zNO3Kh3OBGaUurtpuJG9OiTHJPBu2kuWSt8YMLTf0yuA2h/+RcAgOIkodDUXPop6aOSG0fN9pINNwnbibAnON6ZjPgRBCE1Rq21WGMpcvemVlmSsohjXCLW8ubyrbcDIBzLePqOhqcGOJYiNSZLaZPWWmzIr6m9/N6OV/5P5pwaOfX8+Nk3xJ/Vuz6u0JpZKt7+6q8kqYBj5QuWdb7+OwRNeWZqLvkkqTYyyWjHa7+ZnQqYhHz4H5Z2cki1ofrij6vNBbGAy9t/PBH24AqN3lFpKWsCAGvFhvBUv7vvqDzbyiOzUDLmbbBQNO/zNw1/88+Mb1ZAB08z4z+dscRTf36RZ1hA0Yrf/YvnsTeB5/W71oz//B/JAZfYfMCthpHv/5WnmeL/+Jii0MbRjG5H48h3HwSeL/reR5SVBYnesfRcOaC9IUWhDQACLx3loklF8cwjlF4OkWce/NffAEDJ//tUaN8ZakzegoC0owjtO1P8Hx/3PPYW8LxmbcXwtx+QZ1gCCIqVrL8RAIDnu9/8c3A8teiiH1onO/bWXn6vxlIkST6Lsq2340otz3M9bz8YkHRV3H1H82ovKl5/A6HSlay/sXffQ5JM4O47VrTuGgxXmArrvYMZLK+1vBkAOJbxDmX1jHIMlWSo+XuU1SZn8fobAIDnuaFjT0/1HJQ55wiVnqMzzHBY3DEuGlJjKt14CwAiWI14YGaRwsnO/UXrrs6vv0RjLixcd+3w8adnsgFQsSDEguJPnmMAgOc5aQkZkb6QhAG4+eQSWOLJ0dpKPf3HBg49Lvra3L1HQpO9ZZtvAwBH7fZ3xGABgEGRh6OkLz6CIjjLzzLx83W642YdG47LrBUAxDtmvCoIgds/cXX+lz6Qd+91qEYpTL4b+39/N129qegH92iaqoRkyYEJYVSYCUZRFakotJH55qLvfrjoex8BAFRFZsyVA8JhEvqD6aSXQ417gOeB55PDk0SeeXZygExHwTNs5HiXZm2Fsqow1jYgDr0vC6bCekKlBwDv4EnRWgmwTHLwyD+kEilaW5neUQEA7p5D0ptVYKJzbyzgAgBT8WpZj8M7cEIwFpayZqlcQKmzaizFABAYbWOpXCv5Lghnw6VCq2205cWp7gMyawUAdDzEMnKDtehjXDR5tTtQnASA4ZPPpVkNfuTUi1HfKAA4qrYQKt1s7blm6SeHigUHjzwpGxlw9x4V/ABqk1MY6zzHVJm3V1svKjdvBgRpdt4s087XYLH+CKZX40Zt6rfY8JHceerGMkyrdv3vk+6/vComoCd8E79+evwnf8+774ZUjtmBG8lRN+0OjvzgoZHv/WX0hw/H2gYz5sqGosSh394YPii/YALp5SgKbYCigCCKYgft8s1ODpDlKAKvHtNtb9Rvqw+8nKGXtBT0+amBIc/AydkaAICobzSbD8tSulbYcPdl3qXgWCcAIAiqz6uUyqlYMDTRAwAGZw2unL6g04hWzNN/fLZm8SAoZiysBwAmGZ3oXMB4yKKPcdGYS9YAAEsnM7Y9AXih34pguLl4tVx5bln6yfEOnEjvogLw8dTkIYRQLtYoIygsdkDPpCo6NvY4APA8l74C/Xy7hDzLTv7mGedXP8jTLIKjY//1KBuRv34TvWOWW3YWfusuxh9ODk0CACBI0Q/uEWaiBl7O3LykJ3zBV48Xfe8jwHGAIGP/+QhHMXPmAgDtllXKqgIuTo3//HHGH0YwNO9zN5IFNlStwG0G72NvUS5vejlsJO78l1sImyF6soca96BK0vHp6xTFdgTHyEKr55E3MhwFABuKceEYAEJ7Zpr9y4La5BQ2Yr7R2ZoUMb9LobXIpQBaWykA8DwX888KBRahYgFhQ5n2zRt3/3F9fjWCoJaStZNd+6UqwYVBx8PB8YWNXeRAbSoQxr9CE70Zx62ysZRjXASkSk+qjQAQ841m28+Ie1DY0NrKJrsOzNKdW5Z+cjIOOgMAFU91pITGJiAoaTAx0TCqUHJUEiUVTDRCGkx0JIipNFwijqnUbDKBEiQTCQEASpDaylXxsSGe57hkgmcYTKXGlKqkzyPmYiQTG9NINWgQQJC0FtV8DRYARE/3RU/3SSWj//mI9Ccbig1/809SCQDIJPHu0fh0TIMY3BB8qyX4VouYBtJypRPe3xreP2vklWc51y/+KZVApnIYb2j850+IP7kE5fqF3MmXngsAcJPOn916LhpCqQUAnufoRObwE3r67pEhPFoIgm644ydy3WwwUi2T+EdaWTqJEQprebPUYGmtxUqdFQC8gycWFEOUG7FLkgi7Z2vmYCnHuAiEvjlIHvV0qKhf2MjWzzpnLP3kULHMt5YEBACMqzcmJkaMFXUclSTNdjrkR1A0NjpgWdVEGswJjys+OmhoWM/GY8GzJzgqaahvQnDS1LQNV2niEyNMNBwfG1Q6ClWF5YmJESHXxJ5nuKR8pFXAFe7cWPAhNWHaVHjHSFDuRV2AwXrfot+11rR7Q6x9KN4xLNctGRQnAIBj0lvmKTI12gEAZMEBORAHoUQ4hvINn7ZVbNRYipU6qxi7MNMf7Fu2/iBIdpXN5FbPwVKOcRGI62dmO+cAwE6r3hH/jpSlnxyOpeSiTPAsQxjMPMdhKjUd9FEBr8JiJwxmJhxIul2oQhl3DZNmGxMNi2tI4EoVEwnGxwbZWESZV5RUqBRWB+X3iLk4KuudMBI67Y0PaUlLhPJKPwQtsACDZXGsUmvtI31vyRXnMUZLecDbL/6MdwzPx+jIcoXeagnNbgAuI4KpyhHWJMRMp8MxSRTDGSret/9huW42YqNAiqf/uLCcgKW8eez0KwCAIKi5ZC0AxHxjgr92ueCmvemCdZ4/SzzGhSIOU6IYOVszAzYd27lQ47vsnLOTE2w7DggKPAfityMHu2WS4NkTYvrAmaMpOYIAz8fGBgFgau9LACDLlREMJWN0QDBVBKqkuVkNsazPSTreyXbvZLtcen5TUn1l4NBv5dK5WFyuxcEkowqtGUExXKFhklG5GiBb2DQVD+EKDYaTIVf3Irpv4cn+ZMSn0JotpU2CwdLnVQn904zhV0tB7O0K/c35s8RjXChiT5DUGKVyKaQmNbKco9t4bjinJ0coX2pl0iVSBHm6NncuAADY4Lzt8GjKBDfl33Rk7FGpdr4Gy1myxVG4PuDpHeh6CQDK665BMdJgLPFMtlnzGvvan+U5trD8Io5jFCpTwNMz2P0qADSsvyfg7dWbSkmFrvXYn1kmWVx5qclaBQDeqfbR/r35RRsVKqOQuKzmqnjMMzFyLL94ky1/DYKgQV//YPer6XUFvH2yNHpjcVHFxTzPkQptIh7obPm7RucoqrhYpy9oWH8PALSdeDDjaSquuMRorUQQJB7zdp/5h0aXl55Lts+Q6biqGm5WaawYRvo93cLhlNdeo1SblCozTqp7zz7jm+qQ7bOwAzH/uBBppTEXBl0Z/NxqY75cBAAAkakBtTEfQTGtrSQ8NSBXzw3vHTjhbLxcqbNqLEVR74ipeDUA8DyXZYBs8UR9ozzHIiimd1QhCDr/p2vJx7gw6EQkEfYodVaNuRDFiIwdQ8HVDQARd2aP9VJIHxTLwTk+OecMaeAVN+2AF8ncuU1nfOjQ2OCs4aSAp2di7DgA0t/xvMlaDQBKtaWj5dGWQ78x2WrU2tTABMcx7Scfajn0G5ZJ6k2lelPJ6cO/P33490ZLpc5YPDXeYs1rRBAUQVBrXv3UeItKbbE715458sfTh3+nN5XoDIXpdWVMo9Hnd7Y82nLotwqlQa21R8MTXacfo6hI2/EH2o4/kNFaAYCjsKm/4/nTh3/f3fokAKTnSt9nIaP0uACgt/2ZM0f+0HLoN47C9QAIgmJme137yYfPHP0jQ8d9Ux0Z9xkAxPkxlrJ1woYUpc6qMubJpQAAIJoVYbWsReCebkmZi1cDgpgK6wEgONaRzf2/aDiGEg6TUOlsVZvl6uws/RgXinfgJACgOCmMlspBEHvlJgDgOXYlZtsJEw9whSabH0DKuT855wYEUCWuBQAFpkER+XmYr8FKh6aiLENRyTDH0oILJh51A88Dz8fCE0p1aiQ+6BsUs2i09khwFIAH4CPBMa0uj2WpgLfPbK+1OFb5PT0cS6u1dqXasnrTJ1Zv+iQACPO5ZHVlTBMNjXMcAwA0FcEls8Byc/bEX52l21Zv+rTZloqHkpG+z4JcelwoileuuqF27e1VjTfjhApBEJ5jA76+VU13VzfeMjZ4AAAy7jMA+EfbhPWPLGXNstVFEBQr3fgBqURKeKpfsAKmooaiddcKYZkySLUxxwS3ZNgbcQ8AgLGwXmstESIhlzH8Ssp42xsAPAAUN9+Q0RYgKJbellz6MS6Uya79Qse8qOlaMeJEpGjt1cLMO0//MUoS175cCFHvCILOJ8jr3J+cc0Ovb/+mwju3Fn14S9Fdfb6DMu18u4QZSGuzqLUOBEF54DW6/OEZ3/xMsmh4wprXKIyV6oyFPncnALiGD5dWXwnAD3S9AgCxyFQyHmg9+mee5xAE44Ez22tldaWn0RuK0jsaPPAYRuT28MVj3u4zT+CEev1FXz78xg8hLVfGfQYA6XEZLZUEqW4/+TBOqO35awUhSWoGul6OR1MD+en7LMh5lhk+/kzF9rsQBK2+5JPu3iOhiV6eY5R6m61io1Jvj/pGNeZUc0xG/4FHVl31JYXGlF9/saVsnX/kbDLi4TkOI1UKrVlrKVYZ8/wjbbIAeinuvuNaW5nK4LBVbgIAhoplW41ACoKgGKnCCMX0WAGi0FlYOsnSiezhSwNjZ14rWH0FiuEV2+7MX3VJ0NVFxwIIhhMqvVJn0zsqYv6x9ld+Jcu49GNcEEwy2n/w0apdH8NJdf3uL7r7j4cn+zgmSWpMlrImrbUEABKhqeHjz8pzLgfewVPCuEfZlg+qTQVR7zDPcxihIFT6iHswvd93jk/OucEXH9k7+AcFrk2y0fSHel4GC0HQmtW3qbV2DFcoVMahntflKQAAgKFjtWtvV6qMPnen+KBKCQWGA77+NZs/DQA+d1fIPwQA0fCEEFUYi0wCQDzmdY0cadz4SQAOAGk7/sDsMmCeaQAAeN7tOtO09fOJuK/9ZKaRFARZs+nTHMcgCDI+NG3LZ+fKuM8ywsGR4spLGjbcQyXCkbALUg0opKrhZgAOxciu04/Fox7ZPosuEu/gKVJjKlp7NYKg9qot9qotYsmus28GXZ21l90rSqTQiUj7y7+o2H6X3lFJqo2Omm3yFJB13UgB31BLyYabUAy3lq8HAN/gqRzpEQRde/N3MEKRiiecBiMUa274prDNcyxLxbvfflBou0kZO/MKQ8WK1l2DYoTalK82ydtTGVn6MS6UwFhHz1v3l2+7EydV9qrN9tl92PDUQM/eB9NnES0L/pE2T/8xa/kGFCPy6y+WqoaPP5NusM79yTk3aEgLjpJKXAdpSyQvMnw+HYOp1Fm6tePU3+SK9yUFZTt4jhkfOgQAZTW7Y1H35OjMuG9GtNZih7AelkIjrIc12X0g5OomVPp1H/guZF8PCwAM+dWW0iatvYxQ6VCMYOlkMuKN+UYDY52Bsfbct2zF9rsspSn3WfvLv4h4soZ9IAi64c6fyqWZ6Hzj96Gsa9fobFWbDXlVSoMdJ9UcS9OJCBULBMe7/COtiVCG95zAUo5xEeCk2lGz3Vi4SqmzojhJJyJRz7B38KRv+Iw8aSZWX/9vSr2dSUZPPvEduW4uLKVNtooNanMBRqo4hmaSkXhgwtX+VniqX550mgWdHGE9LABoff6nafMlASQJ2l74ecw/JlevMLm/S3jBYK0IKo21quFmlqUQBGWoWM/Zp1bonXyBC7zH2FR4R47vEl7gAhc4R2Akqs/PPEsmMwiUb3UUrjXLtrOVk03+7mJd3g3pg4MiGUYWLnCB5eK2GzXf+rLxy581fOvLRrnuPMbWuGPVXf+eY/rB4iCUmNYy3/FrAKjelZ9XZ4j5KNl2tnKyyaXUXVEgrPuUg/mkWTkQBN1R8ol1+Teuy7thXd4NMm2uS6Jat4p02oMvvCVXnMcoa8sTnVm7+lKs994Rfv1gsmdQrsjCO342EBQzVTf7Oo/KFecxjz8d/cSHdX/6a/iu27QoCgv8ItQ7Cg+AYpA26Lnoq4AR6IY7K31DkfE2/6orC42Fan2+uuOVsYmOwM7P1fEctD43bC7Wjrf5AmOxLR+r7j8w2XBtccyf1OerCBUmbgddMbEcBEUuuq8OV2LDx9z9B6dEuUKDb/l4DUYgrc+PWEt1Yl3JKL3pw1WmYu3ICc/IKa+4bwotIe4DICCm8Q6Et3ysGhBoeXIw5qeaP1iu0OFjp30jJ70b765UGcjjj/aF3Ymtn6ghVbinL3TmmSGx3qmuRYZ99PuPyEXvYfK++Rm5KAvWe+9QVJXKpecxmvzyVXd9Wy4979m8XvHlzxo+/EGtXPHuZClXwVKm2/KxagDY9JGqss12XIFd+/0mY4H6uv9o1tqUgtxWqQeA637YDABrby4tWpeKZ5Rui+VU7shrvD4VySyVb7izovlD5eXbHDf9dKO0LgC45ntNKCZvPUn3ASRpLrqvzlioQTHkmu81aazK6/9zvZhFn69uuKZo26dqqnbm1V5eULHdserKQmm9YspFYFTmF+lXy76oKpC1haW7dIt2e3Oivc//xEsAYPrgNYiCUFSWxE6c1Wxo9D3yLM+w+t07eIbFLcbE2Z7AU68BgP1LH0109CmqSjCDfupnf+YSScN1lyjrqwAg3tIRenmvdudG3GwQEhtv2c1MeSN7j2l3bdRsXAMomuzqDzz1WnpdiY4+WRpFRbHhml08x2F6HeP1e/7wGOG0G669mCwpsH/powAw9Yu/ZAy/MtxwmaqxmvUHMX3qEZKVnHEPZWcDAJS15YYbLweOQxTk5E/+yCcpWTlijcuFvuhdFgEogCCQSPJnu1IxHO92lusqRDwJJskiKBIYi739q/Yt91T37psAjkcxBMUQFJfblIwotHjcT8mlAAoNEXTF2CR78E9dpZvtYl0AkPHbq9J9GDg0JaYhVBgVZTiWxwgEAMKTcUHecE2Rxqr0DoRNGDp0zHP9j9aPtfpO/L1/412VYr1i4QulzLjBoi4JJicd2hpffKTff1iqzWqwwm8c4mIJsjBPlCTO9jITHlSt9P3tOVVDdaylg3BYx7/9vwCQ/53PRg+30C43APA04/5VKuhJUVWiqCqd/H9/AAD7v9yT7B6IHm7J/87nAs+8AQDq5nrXd3+J2y2azWsn/98fgecdX/0EWVaYXhfjDaSnIYrzx7/+M55h8r7xacJpp8cmPX98vOAnX5363weF2tMh8mzqtbWuH/waEMT5o38BgPTa0/cQ0s8Gilo+cevEj37L+kOCIL0camA0lXh+qCzOvI1XaRwlGKlk4pHoxOD4kReokBcAinbdpi9eRWj0ALD23p8L6SdPvO46+qKYN3/T1Zr8cgTFYlPDE8dejoz3TRcMNbd9JdBzKjTaVbjtRpWtiGdpT/sh1+EXAAAlFLbG7YbyNQqDFcHwZGDK3fKWr3sm2F1tK8rffK3aVogpVKJw8NW/BPpOAwChMTg3X6srrsUIRdznmjj6cmi4Q0wmsLqB9Pm5pjVkS2ty1jeDEcTWsN1cu1FhtAPwdCTg7Tgy1fImzLVXZbs/xiQioeHO/I1XKQxWKuSdOP6qv+ekoM2dFyBXvQBQcd29usIqYbvlt/86kyvnVSC1prq7vjV+8Fn3mb1ieq2zsvKG+/pf+nNo8CwAmIo1a28qsVXq3T2pe0bAVqmvvcyJESiCIKNnfNs+VevpD9HxrFEa0nJ6903u/tYa52qT62zA0x8S5a3PDe/4TK1/LOo6G5Bln2gPXPIvDZ2vj422+EShdB+kaU4/NbTzc6voONPx6qzgBo7hzcUaUoXxLE+ocbWZ1NqUhWsts+pdbJfQpqk8Oj3heVPB7fM1WOmw4SiqUfE0zdMMQuAAQLvcQiuGGp3E7RbBYEm9QoTTQQ2OptIMjhJF+cn+kURnn3pNLaBI4mwPT9GE007YrY6vfFzIgioVkFZXehqeoqmhcZ5hAIANRYVcc4I7LNTohDB/iB6bBIAMJScp2R7OKgIAAHCjjovERGsFmcoRVfMBwfCK6++Ne8ZH3n6CZxmF0aYvrmWnP5TibnnL03Ygf8Nulb2o/4U/CkJmevU1pSW/6qYvxH2u0b1P8ixtqm6uuO7egZf+FBqeiW/WFlaZazd4zh6cPPmGwmBl4hFBzrOMrqg2PNwx6RlDAGxrLy6+5Pa4zxX3jAEArtJWXPfpyHhfz1O/RHGi8KJbSJ2549Efs8k4AGAKddVNX+A5dvzQc2wyZqpsKr/6E/0v/lFaLwAcPpa85QZN61lK9tH44otvN9c0+zqPTp58g+cYtb2YjgQEVe69AgBDab3GUTJ16g2WSlrqNpVcdhcdC0fGeuaTN0e9ADDw4h8xlTav+XLLqpnwXYEcV4GK+EODZ631W6UGy1y7gY6FwtMW3D8cfePnbcJ2775U9NNz3z4BAL6hCM/xHMsDwNP/doxjOWEaRcs/B4Vk0m1pOQDwzDeOozjKMRwASOXPf/ekIO8/MClIhLpOPjGAkShLzfImuntD0n2QpnnpP04hCMJzPAC8+YvULIj2V0a79oyzNAcAl3218YkvHo4HqWu/3/z8d06I9c6UvgTSW4MLMFjpPSzCaQcUBZ4nC/NC095o6ZLt9OiEen0DIAgAkGVF8TOdABDec9j4gSuB5wP/fBUA6PEpxhuY/Nn9wHEIhvEcp1otn4uTnkZRXgScfH+A5xEi11wcxu0jC/OE/SHybJCpZEjbw3TYYATVajCDjg2GAQAQJGM584fQGHClxt99PDjQCgAw3CG99ROBKQBgkjGeZcUHTyR/49UcQ/U9+xthaa1A/5mqmz5fsP2m0N9+LKbROiu6HvupUI4UnmN7n/m1+DM2NbLq7m9rCyqFWrTOSkyhHjv4rNDQmzzxWtlVHyd15nhyDADsa3YRGkPnoz9OhrwAEBw4W2t25G28SmawTrdRp9uotY2zguPV9mJzzfrJE6+5jqa62MGBmYct914BAK7S9Tz962RgCgCCg22r7vxWXvPlvYLBypk3d70AwLEMFwkw8dSrQkruq+Bp2y+0zsKjPQCAEqSxfLW7bf987gThyRcQHnVN87roiVMzKXKC2+zK6sp4Vw89kbJNAtmshmitFCXFyaFUnLB0HwCApbjUPvCZe5Fi+tbnRjbdXcky/LG/pRr12eqdJ9744HrnLcHEhEGZ54kNyLRZDBaKWj9xK5FvR1UKzGIMPp15Lg4Xjds+cztmMcbPdNITbrkaINk3nOwccPzbpxAE4me6k73DAECPTaIKUmzjMFPeyFtHHF/9hLCme8YO3XzSAADwfOzYmfzvfI7x+N2/TnVLpdDjU/G2nrx/v49x+5gpL2Qqmado2R6mnw16wu178EnbZ+/iGQbB0Klf/jVjObLac0CFfJHxvsKLblHbi31dx2JTqdtoPugKqgL9p6Vrlgb6zxRsvYHUWwRDAwAJryvdWqVDRfwcQ4srcGGkAgDE6YGpgOnp21dXVJ3wjgvWStBHXAPW+i0ohouf/9rQpFi3miQJZHU9+akveaZTgq6oGgC8HbNa+9mQ7RUAMPGwYK0AAHg+PNJlrFwnaqXI8i6o3gURHu1J+Cct9dsEg2WsWIMSCl9HhgEvTdNaVKmkXBOYRh1ra1c3rOISSdxqoScnuUhUVVebHBwi7Dbd1s3UxAQXiSqrq6jRMeA4Is+RHBxCSFJRVkqNjSX7B4UC1WsaAy+/ZrjiMtpmjbWeVa9uYHx+IQ2CYkLJuMkkVIpgKQnjC5DFhcmhYcJmFSrlOU7IBTyQBfmYTjdrv7Mw2RmY7AzIpUugz3fIpCzQkha3r182LweyGiyO8/zhManA/9gLIOnuJXsGFVWljD/o+e2smNR0UxJ84c3gCykHgcjkT/8k/Rk5cCJy4IT4M72u9DTJvmHRJEltk+/hZ8XtjASefAWefEUqkZUsMGsP084GAMTbeuJtPVJJxnLmDd/33O8sdZus9dusDdvi3nHX4RfS/UHpIBiOEqTYxRNgYhEAwFVa0WDRWVfvRix1G42V65RGO6ZQIxguXU43NNzJMVT+xt2uIy8iGGFfe3Ey4E74U69xXKUldWbRmyOCkipu+sudx04mx8aZ8Qm2ppKQphG+1kNHs7k5cu0VADCJmOwnRioRDOdZJnfeuepdEp62AwXbbiQ0ejoaMtdsjIz3JYMzNloEN5uCr79puOxiwaGB26xcJJrs66fdHsNlFwdffxMAVHU14YOH9bt2JPsH2WBQWVEW7+5B1SoumdRv3ki7JhTFRaLBEvprADyC44rSEgTDNE1rhTRcNCaUrKwoFyplgyFBAgAIhgGAek2jUKnp+muEXAiOC4mF8tPBcYRhUu8tgkB4HsSfSwdDSX9izJ8YA1jaiqMXWFF4jvWcPeg5e1BtK8zbsLv8mk/0PPWr6IS8SSyDZxmOTuKzv5GHq7UAILNiGXFuuda2eufkiddch5+noyGOoRo/9iNRS0eDg6/8pezqj5uqN7BUPOrqH3nrD+LENDYRiydiYwflbwg2OWNNdmxRBkPc+ATb1TurvSmkwdV6qf9IJPdeAYB0BAAAcKWGTcaFlmDuvLnrXSK+rmPOzdeYazf5u49rneVDb8x6l4ugSoV28wY2EgGO125cjyqVXCTKJZMAQE9O6S/emewfEH4CgKKijIvFeY5HUIyNRJUV5dTYOKpSidYKALhwWLd9CxsIxtrO2j9xz9SfHgAUFdIQDrtQ1EylAIKEcNjJwgKyqECsVCyZcOZpN65HCOK+j+kTSf7pF6LxBI/jiEGP+gOsRoNecbFqz954LMY77Fg4wl20RfXyGzGHHUNRMBqwtg4qkeRRBJLUYqzY8qw4mk6yZ3D+UZcXmD8x9+jAKw+u+eT/0+SXSQ0WR1MoMcsTJBAa7tQX16I4KX533li+hgp5xeZVDvSl9dGJ/onjqSan2lYoOPhEzDUbQoNnB155MN0tGBrpstZvTfhcGb+iLlBfSzavJU+3UQDwqz/OtPLCY715G8Bcs2HyxGszqaeZc68ItV5ptAudXARBdUXVcc+ooMqdN3e98yHbVQAAjk76uo6bq9fzHMtSyWD/GXkKAABgI9HIkeOp8znb3xprPQsoChwnuJZCb+2TpqFGRlMesdkxuOFDR8Q0k7/9IwBET5xKlTM8IqSZVSkAANCTU56H/w4A1MjYTKViLgQBnvd/QNvaTn36o/ojJ5LrGsm9hxIWE/qxO3VjLvbqy9XPvhxb16j4+1MRjuNZDtY1KtxeluPghqvVwSD3xt5UDMRCyb3i6OIN1gWWEX1xrWXVltBwJx3xIxhuLF/DAx8Z65WmiU4OWhu2ObdeHx7uRAkFFfLGveMA4Dr6UvUHvlR5/b3u1v0cS5urmjSOkoFXHpTmzUbCO64rqjVWrqXCfpU5z9Z4kTACKKLJLwv0tiAIyvOphpXIVMubxsq1lTd81t26lwoHcKVG7Shmk7GJYzM97t89EFpdT545K48Virr6gwOt+Rt2ExpDeLQbOFZpygMUmTzxOsxjr9hkvOyaT06eeJ1NRi21m0idefjNVJ89d97c9QKCYKQSI1W4SgMASqOdpeIslZD6B7NdBQFP235rwzZL3WZ/z8lsX0KKnjg1YzjSXgNSS5RiOs2M/z57mhlmp5lVaTrpJfM8ABQX4CYD6vayO7YoJ93ssVPJ+z6mj8V5ADAZMJsFq6ki6mvJuhqytYOqqSKOtyR3bFEeOZG84mLVc6/M6rbPH2HF0QQTybji6KwX1wXeKRRGe+H2m1S2Qkyh4qhE3OuaOrUnzYeF5G+8ylyzHlfr2GRs/OBzYniR0uRwbr5WW1AJCBr3jE4cfzU80iVmq7ntK3Qk0P/iLL+hAKHWF170Aa2zEsHwuHt07MBT9qbLkv4pMcLLufV6+5pdwjbHMsnA1MTxV8W2A67U5G3YbSitx9V6NhmLe8enWt4Kj8waJawqJyJRbvtm5RPPzGqIIShqW7PLXL1eYbDyHEeFvVOn9/o6j8Bce1W2+2OERu8+szdv/RXCwII0Dit33tz1mqqbSy69M7V/0zCJaNsD35YIsl4Fgcrr79MWVHb94+dxd6rR9x5AbNKJLcJsE61QFC7erpp0s20d8rfUPDGrihodV9NsnMRUbVOveGKDUu0Fg3WBrBRfcofK6pw8+brgxUcJ0ly93lC++uxfvzcfB5nAnbdqjQbU62P/8WxsWVyzZbs/pjBYOh/7qVxxflBx3WdwpabriZ/JFReYNwggS1pxdIVQWtSbv3+pZZU9PBo8+oM3A71z+1wysvNS5dtvzBpKWBAEgdD0MjxIIoUXl2/90eVy6TRHvr9n6JVZw4vnJ4RGb65ZP/jqXwN9LTNSnjdWriU0hvkbrI5umuN46bjScnCevmiVRruuoGr4rcflitms9B2yXE/WOwUPfIJJDTTLmDVafI6p+dBqe5MTU+LGSkvjvRulquJSvGEtiaKg1iAWK7qmmUQxIAhk3QYyvyDVra2uI0rKcQBYu4EsLsVLK1LGt7aecOTL08gQ5WYL+sWv61c3pdyo9atJqw0DyFXvmmZydROp06Mwu65zTL6mRtw2KvIAQIlpy/TNMykyIc2VGyYeYeIR25qL9KX1aluR1llhW31R0c5bE/7JhNclT52dk6eTLa3Uslqr8w6MVOqL64wVa0qv/GjCP+Gf3Uk89+R4st7tZHiYlRb19c/dLZcCcDRHhRLJQCLujk6dGp86Pubv8kzHgCwGTcHMYLwmf2Z741ZF/Rqi/QzN81BZQ1z/AfWrL8R5Dsx2lCCQz39V/80v+bdepCirJHo66aF+BgBq64mtO5X//cPgrsuVHAdNG8lf/XdoVQMhTSMizUuQiN6AUkkeAG69UzPpYndfr/rzr8PFZXjGeq+5SR2PcZdcqfrhNwPX3qwW6wr4ZtqusYnw+L5B0qhSGJQKo5LUKZbeICjU1hOoMsFG40xQS1jClFuDm4p0jWHKk2DCetIRSE4k2FSrR0/ajYr8MOX2J1P+4HxNDY6QYdqjwU1F2sYI7eWBF8pRE0YcISO0l+UZaS6e43qf+23+ht1FO2/DlRqeY6iQz9/XMnXyjfSGejayBY6+x8DVupLL7kJQNOIaGN37jznXa16JO0RKtidrEZhqrCqrJjYVCfScF820DAYrGyiBKi1qpUVtqDDnbS4CgKgr3H7/icGXe3h2vnewlMjozDh3aNAvbtevIZ77R9zjTl31w/uTRw8mAWBVI+EsxHUGFACOH6bKq4jV68ijB5MIAq+9GDeaUL0BqWsgXGPs6DBDkog0jVi4LO+ki/V52c6zNAAUFuNPPBIllUhJOc7zmevt66avvVndeZZOJnhpXdLyfR3u/f82M1KGoEjTl7dX3LRKkmTBoAjO8BSO4EZF/mDoZJl+PcszI+HWcv36/uRxdPYnnvI01RHKoycdosFSYrqB0PFy/XoeuJFIa6l+HQAilIMiaF/waKl+HYlpZLkSXtfAyw/MlLtwsgWOLoWBl++Xi95pkgF36/3fkkuzsxJ3iJRsT9Yi2Py9S3UlxqFXeo58f49c906wpC6hJl+34Vu7dj9yq6HMJNfNg+6/n5k6Oc4mGM+ZidP/NzNbYt+e5Mc/p/3Ip7Q4jgAAN92IKyzG8WkDW1VL8DwUFKW6Y+KI7Z5XEkYTiiDgcbOyNCIyOY4jt9yhAYAjB5Of+Jxu/SZSsF8Z68UJxGRGGYYnSURaV0qdCZ7jOTpXgvnAA8/zPA+QZKNOTV2SjWAIXqCtT3JxDWHWETY9adcSFh1p1ZO2MOXGUTIwbXcAAEdJIbEY5CKWI0rScy0LRqP8/F9AxrLcIVKyPVkLRWXT6EqMcuk7SoaWqLRLyMSZM789ImwTakJhUKrztLZ1ToVROZMBgI5Sh779+sThVJTa0kEQQFBIb1lj+MwakAolkkxk6JCiGACfGnPNlkYmF/3u0vKliPJ/+YbhNz8PXXOzuqOV6mijpXXlYN2Xtlbd1ihsL92ligAifNNc3EhHpirRrRsOt8gSp2dPlyyRkiL8m/9qbG2nHHbsuz/2z3mi3rcs7x2yXJReU7PxW7sA4PxpYc3RJeQopvcfbXIpApZV9lUfa87fUiwICA2546e737zvWU/r5Oyki4TnIS1QEQBmWZOMlghglpnLlkYmF0cJM1orkMgf+2vk+lvUY6NsRxsNs+s6Z4g2JYdxkalcsa70xPORLJGhEeZ3D4Ra2+n3ttP9vUrehkK56J1mUV1CHrxnp/Z9+aUDX3+FTaQeZQRDN//gMtIwq+X13mN8jH3ikejBtxcfRfGOIH7l7dxDEMjnP6X/wqf1csUFznMQsK8vkAvfaRZlsKYZ2zv49hefF5e/UTu0az+/ZXaSC7zfWdNA9vTR/gA3e8GFC5zvWFY5lGaVXPpOM0eXcE48rZPt959o+NQG4WfxFZWtfzgan8owG1ZXYrzq0Q/KpdN0Ptxy5jcpZ9mCUNk0hReX29fl68vMSrMKV+EcwzExOjYZCY8EvW2TU8fHggN+ebZpNnxjZ9l1tQAw+ELX0R+9JQhN1daSq6rtzU61TYOpiIQ3Fh4KjL41MPx6LxPLPEFspVFZNc7tJZYGh7HKorJpCC3JsxwTo2PuaLDHO3F0dGzvIJvM3KEldYrrnr0LU+AAwMToZ6/7KxPPnFLGpu9eUnJllbB94if7+p5un62fF2/vT+h0aFkJPn8Hlm1tfvHllba1+UqrGiOxuDsa6PUNv9ozvn9IeDva1uRf/NvrhcRP7PijbJBa6g86/J03hl/vlWrTuenVewgtCQAczf5j55/kaglLuQorx3I9WYYyk6HKYqy0GCstxiqL0qIWVSVXVol3Qjr/vPR+Jj7zXKzo/bZUgwUAHQ+1VH6gXjg8FEerb2s8/avFD0zMH1yFr753U/mNq1B81rsbw1BMgStMKlOtrfjySgAIDfhbf3d0bN+gNJkMXakJADAFvvbzWypunjXArMnXafJ1eZuL6j/efOKn+8b3D0m1KwqCoYU7SytvbbCtzpcPkODTh1ltLb2mhgomTv7PgeFXMzycVDg58npf6TU1AICrieLLK/ufnTXdLyO4Ci+4qEzYZil2zsc+GzwP4y5mYnJed5rSom7+yvaCnal6BbSFBm2hoXBXmb/bc+R7e0KD/nM8dLUsV+E8B8HQKx+5TS5dFCt6vy1DM51nuf7nZnaoYEfpjE4CHaHG3h5wn3aFBv3JQGIpEacAQGjIi397Q+UtDTJrlRF9mYlj5nCP60uNKI7u+NlVMmslRWXTbPuvK0uvqpYrVgxTjXXLf1xuW5P2nKRBGpSbv3dp5c31cgUAAEhfVuU3ZD1AKQU7y3FVysqM7x2kI4ucy7qxWXHzdRoMAyFIJQdKi/riX18ns1ZSTNXWy/50k7HSoi81ynUryXJdhRVieZ+sZWHl7rd5vffmZHRP/6qPNgnb2iKD0qxK+OSr4SS8sQPfeHXmNwIVN65q/uqOGclCWPvFLaZqq7DNJpiRN/u9rZOxyQhHs7iaUDu0hgqzfZ1TW2QAgKgrPHFkdFb+NAgNufU/r7A3OQEg2O8bfXMg2O+jo5TCoLStyy+5ogpXEwCAoMiGb+0KDwe9Z5dnPDQ3vvYp92mXbU0+AHAM525x+dqnQgP+ZDCBIKB26PK2FDm3lYjf6V37xa3jB4Zik5FZpQB4z075uzymGisAmOtsxirLnIHLpbtnugCDL82s/bBQ5jmXEEGRbf91pa7YKEqmTo6P7umPusIojqrzdc6txY6Nhbia2P7T3cngOR30WK6rsEIsy5PFs9wzV/9FKrE3F2z54WXC9uib/Sd+uk+qlSLtDwqs3P22PAYrOOBnk4zQawUA6+r80bf6ZydJgweWmqPVkw1CS5ZcmWrmJLyxNz79THR8JrRXisapL76iMuGOzue149xeAjyc/vXh7r+fkaYffq23468tO36621BhBgAERZr/bcdrH31yPmUunc6HWlAM7XuqfWzvIB2Vv3b6nm63Nzl3/PdVmBIHAJRAKz9Qn9Fn0fdU+/qvXyRsV9yw6sR/Z73/AEBl1YgjRAlvbE5zn4NwmBOWlzl+atZ8AxkVN66y1NuFbZ7jj/7wTVksUs/jrY6Nhdv+8wq1Q6t2aKWqc8ByXYVzwWKfrGRg1mtAepgsxcq0c7JC99vc/an5wLNcsM8n/tTkr+z9ZCg3o0Rqz/uf68xmrQAgOh7qePDkwAtZDbaM3ifbuv52Ot0SxSbCe7/8ouhxN1Za8reVzE6yUrgODr/xqacHX+pOf04Epk6On/ndUfGnI8tQ9PBrPWIJxVdWCo9WNoqvrBTbC4MvdaefkPkzny4hgiK1d68Vf7b94VjGyMnJo6OHv/eGXHpOWK6r8P5hhe635TFYACBtpZP6lY3GwhQrMtuD5/izD5yUS6eJT0W7H28Vf5ZdM99lD84BA893itc4m0OaiTNDL6esAKEhiy+rnK2fRenuGT/d4EvdEs2C6eimDxxJ9A4wObqE9man2GhKeGPdfz8zWz/D+P4hz+kJufT8YD5X4f3DCt1vy2aw6PDMm4fUKySa5Sc8MtOkKrumRjr+uhTcLa6kX+56kyId/XFsKBDfCe84TIyOjqXOCa4isg1E9P3zrLhdfkOdRDMLY6VF6PwCgK/DHcoeFDIf5rO8TP7m1JQJABh9sz93j2ZkT59cdH4wz6vw/mEl7rdlO6fS8BOUXJEWkEhsIiz6vFU2zRV/uaXi5lXYkiv1d3nkotmEBv3iYAKuIgSP/nkCJRlVQYnMpyI44BebJ5Z6u7HSMlufokQyDDo47950RjY0KT71Ud3nPqm/7+O5It2NNVZxe+rkHLOvvcs0/WslmM9VeP+wEvfbshksIfROgA7lcq8uC6d+dkB8DyvNquav7Lju2bvXfmFLtpMyHyJjQbkoDeliHfpSk0TzDpOj2y+l9ynJS+/6WokmBYIiJVekWu8cnTUcZp4cO5l8/uXYr/4Y+tmvcp1b6WofoaHAjCIToeGAXHTeMM+r8P5hcfcbplMTeWbxT5o+lydsQRDamW5gMrziBsvX6X77889t+t6l4vpkpF5R/aHV1R9aHej1DjzXOfRyD7XA3ZD2arMh7TOSEht9DlA7tLa1+YYKs67YSBoUCr0SVxMYiaEkhpG4OAqRm9E3+5Nf2iYstlGyu/r0r4/IIrMd6wvELvb4/iFqae8eixn7yO06nodTrUnZpwmlSG+ehCcm0WSAidEczc3zeJedZbkK7x8Wd78R+RZldaGy3BnvGlE3lLl+9piYftkMlso240iiQgsbAV0cntbJl+98vPpDq6tva5Qud2OstKz7l22r79vU/2xn5yMtGecJZWQ+kyqkISfSRuXKgaBI0SUV1XesNtfa5LqFw9HcwPOdtXetBQBCSxZdWj744iwf56z2+WzVIrj+KvVP/y/IMPy9H9MDZPYPYiQmfc7Tg3rSYRI0Saysn1TG8l6F9w+Lu98S3SPA88xUIHK0AzfrEAwVZ18tj8EiNKS+ZKZVH+ydCXFYUdgE0/Hgye6/nym5sqr8hjrpzYQp8KpbG8qurW3707HuR7OOOkmZj5cUkXyVM8d33pYLhVG59cdXCCGLUniOp0JJKpRgYjSTZNg4Y12dJ4S2zknf0x21d64VgrbLb1glvYFwFSFOj0j44q4lL3AWCnOf+6QeAKyW7Od29kdS53NWOXre8xLnAYLNMXiyElfh/cPi7rdEz6jh0mbr3VfE2gakc0WXx2BZ6u3irAWOZn0d7lnqFYZNMP3PdPQ/02GstJReU1O6u0pc5QZX4Ws/v0VfYjz+X3tnZ8pA7lARAUw1cztmC8lZLlAC2/nLa2e8cjy4Dg2PvtnvaZ2MjofERTIErnzktnmu+xodD00cGREWubY2OgxlJnFyeOGuMnF6xNAri1z5WsqTz87dvGWTDMdw4tsCV+HZpmWIiDu5DCCAK3OZmBW6Cu8fFn2/RY52IATOBCJSYfb33kIQJjoK+Nrdy7ve6/wJ9HpbfnHwuRsePv7/9konRpRfX1d0aYUkYWYURpVclIbKOtPzXemxhZo7VovPCR2l3vr8c/u+8tLAC13h4YDsOQGYc5bbLPqempnqVXb9zHizdEb+4ItzjNcsI1ILNeeSJiiO4pLXxhKZ8wMQK3cV3j8s4n7DLXrL7Zfqdqw2Xb9V2gZfBoOlsmoKLy4Xfw69liFG+VzCUmz/Mx0v3/G4dHkGcb2RHOiK5w5TkE52Cy5tef85kc6yPvObI7nH+xcU+yad6VZyZZXQulFa1OL0CH+XRzp1YaUJDc2cSZ3Et5ARbeEcl4lnZ3qVc3b35hzqXbmr8P5hEfcbptfEO4Z4lkWVimU2WOu/fpHYnk8GEoMvLNVTuywwcfrI9/eIk2nMdXP7Si0NDrloNoYKs+jdZ2J0ZDQ4W7+coDiqKzKKP0feyBUtSRqUCtMcDRMpPMf3P9shbCuMyrxNRQBQeHH5zPSI5Wtebdmg+Nwn9YInKxsBSQScMP88B8KU2hxQkq76nKfF0pjroq/oVTjfkYRoSF23i2AR91tywAUIQlgNsTN90o8mLNVgrbqnKX9rsfiz5/HW+Yy1nRuYGB2ZjjxGMRTB5jhYQ7lZ2oBKp+SKmRbsxNGR5V4AfRa4ihA7GIJzd5Z6NsWXViw07L7/2U7RZVB0aTkAFO4qE35yDDf82pLCr6TU1ZC/+mPoV39MXYiMTByZ8bYWXVyeOzhA2pzPSMI7Exgxx4sKmdUrSWelr8L5DC1Zq5LQLbXluIj7Lbz3tPvBl5MDLqkw152RG5TA1n/9ooZPbhAl3rbJzodbZlKsHPO7K3AVoS1MvdgTvth8XMirs38mV+3QVt5SL/5c6YYkHaXEHUZQJMfnMFV2zaqPNculc5HwxsQuc/6WYkJLWlfnCT9dB4YWOjU/B5EI9/UvGXO3sCaOjIpWRmXX5Oi/m2qszu0lculsfO1T4nbBjtIcTrGya2pzRxqv9FU4n4m7ZwZMLKtsSwzcX9D9hmqUCIETdiNhNxp2z3okF2OwSL2i6rbGa568vVziP0sGEoe+/Xq6G3IlaP7qjg3f2mVvcuZoNOFqYtN3LxG9s66Dw7P1mSnYWbbuX7alXxu1Q7vjv68SS/N3e1yH5lXgouE5XjrYWvfhdRLlDMZKy65fXpfjmcxB3z9TrlDSoJQuhTiw5PArKUMjzH/9byB3C4vn+M5HTos/V9+7KWPDx1Bh3vZfV87Zign2+WITYWEbU+Jbfng5ockQMVd6dfWci0adg6tw3hKbjIiOJ9KgrP/4Us3x/O83Mt+irC7SX7Ze01yjKE3ZNYE5hodREq+8pQEAMAWm0CtJg9K8ymassMjaOAlvbO+/vLigFcsQFJEuuoASGIqj87R3uIooubKq7JoaOkq5T7kCvd7wUIAKJ9kkiytxlU1jrrMV7Cojp9uxbJLpfKRlVhGZCPR6jZWWqlsbnNtLRl7v83e5qQil0Cuta/NKd1eL8TU8x5/4yb75T8JAcVRqATEFjqDIfLL3P9cputXKb6hTmFX9T3cEB/wczZJ6hbHSUnBRaeGuMgRD2QTjaZ10bFjYkiaTJ8bCw0FhqKHqA6nGYzKQmFhWW1xbRXi8XCTGTU7lGjvueby15MoqwT+FoMim715Sdm3NyJv9MVcYEERt1zo2FBTsLENQJOGNxb0xcfnGdHiO7/zbmaZ/3Sb8tK3Lv+qxDw083+nrcDMxitAqDOWmgp1lQtsqOh5ik6w+eyzCSl8FWMIdkpGlPFkyBp7vrP/4emG77sPrzLW24df7YpNhAMBVhMKoVJrVpE7R8n+HZmXLwvzvt0TvGKogE90jPM2QZ2b5DTO8rKQfUp0PrkPDx/7zbanjIJ2GT6w31dkJLUlqSUJLEloy48g0m2ToCEVHKTpK0xGKjiaP/efb6VE50sXq54SjucPfe2P0zX65AgAkH6EAgFfufmLjv1+c26fLZ1pbTsqm71ysMKsJzcyRiusaSmHiNB2lUgcboeLu6LH/fFuWBkGRnb+8dk4nNJtgDnz9FVxNbP3PKwSJ7KMAOai+fbXsQ0fdj7W2/OKgVLJEdmxRFjpxAHj0yTneZyqb5pLfXq9x5uo8sglmz33Prr5vk7jgVPpHKAAAQZHtP70qf0uRTC6DidFvfPKpylsahM/EZ/wIxbJfhWW8Q2C5nywZuJq47I835bDmAEAFE09f9Re5NAvzvN8wg4YNxwEg/RvFGc7U/Jk6Mdb58GmpxzQb9vUFYpc1B5gCxxS4dLmYkz87kH5avW2TBTtK5xNS7D07dep/DkidGjnACOytzz/X9K/bSiSr80iJT0WP/2Rv7t6ldGnqHOAqAlcRKqtG+EkFE8dAfjvyHL//ay9v/NauHG7m8HDg8Pf2+Dvdi1tjZ/CFrsZPb5QudJE+XrNEGIY3m9DDx3O5qwXi7uiee59t/toOZ5bFEYMD/iPffSPQ65V9eDwdnuMPfP2Vpi9vK7+uLtNLGQDA3+U58oM9oQG/dEJ7Ost+FZbxDoHlfrJkMDH67S+9sOUHl1nXzF3FfJjn/aa/uCnePshTdHJwQqaa+8Sl4IGlGDpCxSYjwQG/t23SdWh4/tP0lpfeJ88OvtSdt7HQtjZfX2rSOHWkQYkrcaFZToWT4eGgv9M9+vbAPE2VAKlX0BHqyA/e7PnH2dLdVbYmp8qmwZV4whcPDfhH3xoYfq034ztz5WBi9MFvvWZdk1d6VY210aGya3AVwSbZuDsa6PGM7R0c2dMvtC8S3lhsIqzOy+oVzggVSo683ld6dcpAB3q9c669vVBWN5A+P9e0hmxpTbK5OoUAAHF3dP9XX7Y3OYsvr7SuyVNZNSiJJTzRYJ9v6LXesbcHhZjk+Uw752j2+H/t7f57a9k1Nda1eVqnntAq2CST8Mb83Z6R1/vGDw4Lp27O9SFW+iqcz8Td0T33PZO/ubjosgrLKrvSqsZVBBOjqXAy7o4Ger2+swt4xOZ5v8Vaekw3bOcZlg1GAMDz8GuiKsvb532DtEt44N9eyf0psAVhq9QXb7QPHZ7y9OfyN6fjbDSPt/rk0mlWXVXU/tLcTdr5s/7rF4mDJy2/ONj9WOts/VJZ00DecoOm9Sz1+NPL9nq7/rm7xcZCxi7hclG7TnXLJy3/cd+oXLFwPnivZdd1Bo7j3/hn8J/3Z72+y8Xmy3QlleRjv8tgDubkG78sePav/rPHczl5Fs087zfMqEVQhPGlBk9EZlpYiooCesLLRec7nk2W5KnXVIffOsGGotLtbOVkk0tBcIzP8j0uRVURM+Flw1lP4nzKnwMEAMBUrC3f5hg740MxxFZpmOwKmIu1pAb39IaivqSg4lm+YK1lqjOA4KipUOMdCBucaiHNaEvqFqm+tODA7zu2fLLWVKLteXO8+hJncDwmy6XPVyu0uLs3hE5LQq6YY5VpvNUn7oZYFw9grzJorHP0hhYESqBiT4dnuaEV+KAehiHf/pF//bqlBvLMYmlxjOeeuibVzmv1X7xpgOPg50+UnD4S6zu7hBt1Hhx+PXz4dbnwHWf+9xs7ewqhSMpgIQoSVZA8xQAAZtShShJQhB73AABZnMfTDO3y4BYD4w1ieg0XT6JqpfG6HaFXj7CROGbQitvScgCAyLOgWlWybwwhCalcUZrPhqKMLyStC9NrjDdcFDncluyRtyAUlYXKqqJYOMaGY2Je3GpkPAFUpQAU5Rk2Y73A82L62UVmpeaygsP3dwHAhrurjj3Us+meaoxAD/6hc/1dlTiJCaqdX2zw9Iby6k3xADVy0uMfjpRssglpRIPFCaM8PGAE6lxtRnG09spCWa7CJsuRB7o3f6wmPBkXJACAEYh0N8S6cAV2+P6uzR+bmba5dPK3lohjqa6Dw7lXiF4cm5oVJ08nt25UnDozd5dwGVm9WX33l2wsyytV6DfuGo7HuB/8uajlYLR+vdpsw7/5keF4lPvCf+QVlCmUauTE3uhf/8cNAB+6z7pumwZFYXyY+p9/cwGA0YJ969cFZjvhHqf/35fGeB6uvt2481oDikHrkVi2XDKatmvefj5EJXkA2PtCeMNObXWj0pZPCNnv+Zp9fJB65fFAesmyfS6vU37gE2aa4h0FxMn9qX1OP67r7jZdfoux5UD0/p+k+mvpZyO9rru+aF1/kdY9QZus8/YULZD532+k04KZ9arqItxumvrdM6J8es84TrW6knYHGLffsHtzctClXlPlfeglRWUhWWCjhidpl0d/5Sbf317VbKqPtfTwDMMzLEfRAAAoMrMtKUdVX66oKEj2j8vk2h1rgeN1l5b4H39dWheCY6hGxdPyQHndJeu5cFRR5oyd7JLm1W5fE95zXHvRusj+0zxFZ6xXmj5H60yKdyC84e6q0VPeqCdRf21xeCqhNqU8JqLK3R1U6IixFq+5VEfFGAAQ/kuJeZPrbi0PT8Z733bd/L9b/vmlQyiGyHIpNETjjaVRX1IswVKmc9QYHXXG9LqsVYaG60vwZf0Ah/RjcAPPZ3B/Lp3X3ox/+bOGrl76XForFIOv/NT5L7cOeidmXRcqyf/w3pn+3W++P8nQPIrBX/dVPvS/bp6Hy242/PiLY31nE8h0hJ/dSXzj7mGa4v/7sZLiSgWV5C++3vC1O4Z4Hv7r4eLq1aruM/H0XDL0RmywOzXsEPKz5XWKpx/0/fLp0od/6UYA2XaF7rPXDeQXk+klQ9o+O0vJe6/uB4BfPFX25rPBkT4qPc1zD/mjYa60OmUa0s9Gel2xCLvxEt0XbxpAEPjDKxViUcvL/O83hMAVJXkcRVMjUwhJ8IJ5EQ0WTzOMf7q7iCLRI2cxnRrVqBIdg2ShXVFVFD/bn5qJgiAAwPrDbChCDbpk2zzHieUoKgrCe08JTTtp+YoyJ+MJMFN+hMCldTFuv1iOFCLf4ttzHDPqZHkj+09rNjdgBg0bCANAxnpn1TU/et4cF6JgXG0+aTjM8Yd7AUCmcp1NDTAJWuG/wOl/DojZH793PwC0vzQiyxXzJ9ueHZJG3HgHwi98+zgATHYE0utaSnhOOpp8nXP6M92xycj4gaFZ6mXCZkWTFF9aPN/zvyxY7ETIz8qsFQBI/TKkAvnMd/JUGpRKcho9hqIIy/I/+MzoLZ8y5xWS//ij9+ibEQDoPZugKR4AAl5WpUXzizFnCfnjh4qFQtQaFADSc8kI+lm9KfWm0ZuwgJdNxLgzh2ObLtEhKJzcH03GuZIqMr1kmL3PADDaT/EcAMBQVzK/mBQMVm5/U/rZSK/LaMEGuxI8BzzAUM/cQ7qLYEH3W3JoEjPq4u2DimKHaK1ANFiE06asKUaVZOjVIwAgrqJGFjmA5wmbCQCooQnzBy/D8yyxU92p3GlIy4md6jbeuJPxBEMvHcIdZlEePdauaqzkE8nUSjeSFdsQDNNfuiH0xjFRAgCJtn7zBy8j8q3x1r5ZeTlOUZofO90D2euV1zU/RKOQbh1yqNJJTyOTtL80kp5GJL2uHIkXwep7NyHTUeOyb8cuI8JcQrl0hfG7Gb0ZM9lwv5sBAARJ3WXCoy6wZotGZ0R/9NkxnRHbdW0q+Gt8iPr511w6I/aHV8tv39gDaZFAQz3U1Dj9zY8McyzgOMJyfMZcMk7uj37+h3lP3e/jWNi+W/d/35kAgOcf9n/kyzaeh7/8zA1ZSobZ+wwAxZUkigHPQ2mt4rHfpeISZGlkpJ+N9LqKyhWlNUqhhVhYPvcg7CJY6P0WO90LANS4RypMGSx63D31y8eFbd/fXgWA0GtHAYBx+6nRKcHCRQ6eQTCMn27ZC8lk29JyqJFJ719eBAQBjpPKEx2Dia5h4HngeWldACB0DIVtkdjpnnhbnzASRE94xbwA4P7D00KabPVK60oVdz4R863Iq2w+VN++uuiyVMs/NhmRrli0vAhzCSNR7lyaLYbhf/EN17//ppCmOBxHvvep0UhQ3iPtOh2//XPWH95f5JtiBjqTAICg8JNHS+gkj6Lw3EN+WXoB1zD14qP+/3qohON4BEG+84kRKsnNmavzVHzfi+FfPFXGsfzrTwUFj/tgd1KpRnk+1aJJLzkZz2CHwkHuG78osDmJY29GRvtTBksKhiFf/ml+UaVCrUXtBcTDv3CP9lOys5Fe13Bv8uS+yP/8o3RyhHYNZSh2iSzofkM1Sp5icJMWALTbGv1P7RNV77LRlmVnVljD118Z2zs4S/1eoeTKKjbJ0DEaIzGNU19yZZV0GYN9X35p5aZGNq1R7NqmHJ9g/v7P5QtreP7D4sS9FQ1rON+oX6++/sOmH39hTK44z1ji/aasLEAUpHpNBesPK2uLJ/7nCVF1Tj0LF3inWHVPU7aVczofbsl99yyR1fXkz38TvOMWLYrKu1cXeK+yxPstx1zCLKMaF3g/wEPHX06d+e0RuXxZae+ivvBpPcPw7x9rZahbnoks6fSP4tLmVd7FVYXXNhAGFcyvUlVeylWXnrj4pjWmNQUZVQCQd+lyBNMs5H7jkpQQMECNZfJhXeC9jbCwr9KsxtUEm2Bik5GpU+N9T54VPwewcjAM/PL3oWUOHD2PUVi1+hp7sGOi4Jp6QqdMeiI8x+MaMjLgRTBUXWCMDvl4nteWWcO9bqVVM3Wg376jIj4RMjY4wz1uTYlJyBUZ8gkSpUOHq4nIgI+jmOKb1ww+djIykIr1U9p1Q/9oKbtz/diL7UKl+hqHttQcaJ/A1aSwgQCYm4pCPVM8wwnZ6XBSlhhT4Ppah791XNx5XZVNqB2A15VbSbNm9lHOwdLvN2V1kTCX0HD5+tCbp8R48sUbrErT1kJdI/Bcl3+/K9IhV5+v6El7vfVyHWmNM+FO35vHfvz2sR9nmFO6omzIu7XL93aImpIrFsJW513d/v2e+KBckYkTP5lxWy6IAl2DU7dKR1oJVMnxbJKNhZKT7Z7XKTbXOLqUlQgcffbav8pFK8MiDj/piaA4BgAogTExClMSuE4x+OiJsjvWJ9wR/+mx2Fig5LamocdPlt7enJgIGVbloTiad3F1ZMCrr7XzDCfkEiW4iux/6GjJLeuGnzod7vWI1kqAZzngZyoFnsd1CjZO4SpC2FBatUlPxLS6YOiJU2J2WeLYiD/c4w73ukWVWDtG4gN/O152x3pJnXOz6PtNAMEx7ZZ6TKtigxHAZs1+WaTBUuK6Un3z2yN/pLkEsnDPvZ60qwjDZDTDAPCKgiJYk+PGkfCZo67HLariNbZr947+OcfNt0Icm5hxIp7PNNiuLNQ3ij8xBFWjBgJT0GzWAOV03pHA0WVhcYevKTbpKm36ajtwvPA5DFxNFly1ivLHAICNUwCQ9EadV9QmPdGpA/3rfnTdqW89ByhKaBXBNpe+2i7kCvd5BImxwSmUzLMcaVZrik3R4VQ7hTSqi29eE+qZEitFMJQOJkyrC+KukLChsGjocJLneDE7AMgST+zpFgoUyxFr15ZZnLvrUHKRhmJx8Azrf3ofgmOMd5lGlk3Kgh2FH5NL502laWuZYWE2e1mwqkovLv6MaGGbHTe9I7uxLGxx3mVVlcqly4eWtO6u+Mruiq9sdH7IqHSSmEqJaw2KPKu6VJ50mmrLjt0VX8HQuZf9Of9ZxOFno/iWtWL8kchySdIRl+Gd2ZjOlZ49x5q9OXK9gyzYcOIo2eS4UYXrFZh2R+E9AHDM9USCjagJ4yrLpRrCxPPcYOjkcKgFAAp1jWWGDRiCczzbGzg0HmlX4roG6xVGRT7Hc4W6RgDYP/ogjpKXlnzu5YGfCVVsdd7V5d/njQ+VGdbjqEKNG0yqIgSQ/aN/obl4xooMirxVlssUmApBsIlod4d3z/T+zkJLWsKUm5/+ekSIcmsIs0NdVWZcf3j8UUFYb70syUR7A4cyVpS+SwgCm/PvGA23FujqUQTv8e8fj3RkTElzcZu6vNK4VUdaj0084U+kvKc4SlabdtjU5SiCMVzy8PijNJfIWLtR4ay3Xo6jpDc+BCv6DQwAiyoVBn3W/WqU9gnbCSZX/O2KGtBzzCIOPxsTb3SnB0kulyQdMchjZiN74HGOiJAcuc4BuNVgveMyVKMEgPEfPzIjn0kyPxiOOup63KQsaLBesW/0AUGIALLWfl2b59VQcpJAlVsL7g4lJwNJly8xMhntpbm4ljBvct4xHmlPMOHjE0822nZHKM9A8PjssjNQpFtzfOIfp90vkpiK5uLZKiozbBiLtA2HWlAEU2JaeSnTYAjBcDOxmgyX1JHWqVhvnfUSLWmJUF4MIfI0NQdG/5KtIkjbJRJTqQkjxcX2jT6gJSybnXf4EmMJJpSeEgDcsX53rH97wUfFfQCAGvNOHFXsH32Q5Wklrhd62em1B5MTa+zXdPn2TkS7jArnJueHpIUsOySmBgCe58THNTcEptIp7HLpu5aFHn4OhM7gBRYEYTUG95xUlOQhGIpgqGhYF2ywMqLC9TrS1uS4UZSoCVMg6dIQ5jLreiE8lUAVCILyuScRpOFLDAvOaYqNQ/aKRsOt9dbL9KR9LNLuT4yKWhksT+PozHAVjpIUG+OBHw23FulWd3jfzNPW+BKjCTaixg0ZK4K0XRJwRToBIEJ7w9SUSZHvYkLZUqZjV1ccn3iS5WkAECxdxsOkuDiJqSaiXQAQSI7H6ICoXQkwhAAAjp+v58mmKl2EN/O8ZaGHf4HlJdE7ihk0qEpBOMzSZuDyGCxAEJ7n3h7+g9jbAgASU62zX3dg7KEo7SMx9SXF90oyzELW4sTRmalMDDd7lkCmigDAEx/cN/qAXV1RbdqeYMOnp16QakUilLfMsAEBRMiuI22+xCgAjIZbtzrv7vLtLdI29gYOAWStCNJ3CQAAEASdToiIGTKmTCfDc56pdjVhnEkAkHbaMoMiWKF+dZ6mWktacZSkuUQgMT4SOu2JDcqTAqyyXqpT2JWYVoFrUQQDAAwldld8RZrmuOtJT2xA2MYQvNy0WUfa9Aq7EtcJwsvLvjiTGgAAXu3/X46Xz0MGALumokDXYFQ6SVTF8FQ46XZFOkfDrelvtW1FH9GRtmPjT3jjQ/nauiJ9o5a0EaiCYmOB5Phg4ITYv14KCz18gUJ9Y4Ptyqlo78mJpwGgQNdQqG/UEmYMJZJsNJiY6A8cDSUnpVkE5n/4IvPPQqCKS8s+LxPKWPp1EcBQoki/xqGp1BIWHFVwwFJMLEx5vPGhiUhXkl3MDAeeYRlvKN3pvjwGK04HY7S/zLixP3AEAHSkLUr7MITkAYTdLdatkaZnuKQKN0h/MhxlUhb6E6NmZZGaMEnSziJjRRzPGhSOEOWeiHZHaO/m/Dvk2abxJUZ4nis3bhoMHjerikzKwjbPKwCQYMKB5Hixfh2JqYVAgWwVzS5vBqd21XCoRUtYdKRNaIjNH3d8oNywodXzKsczSkxLcfGMtceZEM0m8jQ1E9EuvcKR4yyJqAlTc/7NGklKBaZxaKocmqrxSEfb1MuyIzKpCtW4EQB4nuMBQRAUAFhuZq68oBK3MZQsNTQL2xzPCg+5LD0ApNtWDMFXO65xaGYWGyEQpVlVZFYVFeobT7j+mXHoVktanLq6Al2DKFHgWgdebddUtU29MhZuk6RdDAs9fCkKXIsg6FrH9Q5NpShU4QaV1jCY5vpYxOEvNAuftuciKIIJh5bOQmsBABVh2Jh/m4qYeZwxQFWEQUUY7JoKDWlud78uST5fsq2HlfZunx8yHxYAqHFDreViPWlHEDRK+05MPMXydK15Z56mhuHpsXBbkW71vrEHhOutIcxr7dcSqJLi4gfHHgIAp7au2rSDA84bH1JgmqHQKcHpriHMbZ5XxVqyVVRvvcyhruJ4luHpPv8hV7RTmkXKdByWLc6EOrx7xDgmq6p0neP6Pv/h/uBRQZKxovRdIjHVzqJP9QeOFGhXIQgmdbqn73yjbbeOtGoJa4IJJ9lol+/tQNKFo4pa806rqgRBUIpNHHU9RnOJjLWblAX1lssxFPfEhxSYZjjUkiMOi0CV24o+rMT1NJfs8x9yR/tpLqHEdU7dqhJDEwLIeLj9zNSL8mzTVFsuKjduZDn6tYFfyHWZKDNuqLHsBIDXBn6R7VERWeu4Pk9bzfPcUPDkRLQ7TgeVuM6uqSgzbkQRLJAYPzL2qLR1KbSwKDZGYmpPbHAgcDRCeQlMaVGVVJm34yjJ8vRbQ3/IHXCwIOZ/+EILK8FEpqK9RYY14+Gzk9HeBBMmUIVOYbeoik+6npK10xd6+IvLkhECVWwpvFtNGCejvacmnpZpF1FLc/7NNnU5zSW6vG/746M0lyQxtZowWNVlDnXliYl/hpJT0vTzRFHiUDWUAwLAQ/C14+IKM4s0WBcQITHVJcX3iUOc5w911ktKDE08zx0ae0TWJSnSr6m3XQ4AJ1xPumd3cETm/8QKzN9g2dQVzfk3AcCZqRfHw7Nm7RfoGhrtu9NVgsECgMloz6mJmfctABTo6hvtVwFA29Qro+FWqWopzP/wBYMFADzwJ11PuWP98hSzWcThLyJLRhBAmvNvtqrLIpT38NgjMpfF4mq5vPyLGEJ0ed8eCByTypeOek2lsB5Wom+mv5+5ZXiBdzsogglRI+OR9nQHykjotDD4VTLdoTuXFBvWAkAoOZX+gI2HzwqdjnxtnUwl0OV9WyZxRTqFd76WtMhU55jRUOuc1goWdfiLyJKRKst2q7qM5pInJ55Kd7AurhaaTQKAXuGQyZdO7HQvTzNSawUXDNZ7Fb3CIQRwZnuEhIaVSVUoOJ7OGQiCmpWFAJBxMJcHXhj91GeKkIjR/vSxUY5nKSYKAJhkrOYdYSKS1REhsojDX0SWjORpq8uNm3jgT08+n34aF13LeKQdAPK1tRucty4iqjYbpNOiaigz33yR/TM3SOXL43R/P0Ox8fOwP6ieHtNIvzUFYrQfADAEV2DaOBOUq1cMBaYRLGmJoanE0CRXT0OgSrko+7FwwEHGwdZzS4ye+zQu4vAXkSUdLWlttF0FAD3efbJRToFF19LnO6jCdfnaOouqxKIqSTDh8XD7aLg128WaJ3Os6X6B9xhic4PlMoxbg2QISRpEcg6QxsHlIOMwlhCqdt6SMURAxiIOfxFZZBCosinvRgwlXJHO/kBqTEnGomtheeb05AtDwVNlxg12dYUS15WbNpWZNk5Fe7q8b8/HiGdkjjXdlwoC5uZSJk6Fzo7LVRd4JxAD+rPN7BMtGsPLfRkrCjvtOun27RsJtszSSZh7uOvdySIOfxFZpCCArHFcqyaMYcrdNvWKXD3NEmsJJMZPTTxDYmqnblWRfrWGMDs01RZVyZGxR8PUrAWt5k/GNd3l9nJxWLdUaqscdCDXoLJtZ/Wyz6JcxjINJuyNgWrh7+oPpvpT7xZ236p/8kTFM6crP/hpsyARG+TSICwpgpzjmeSi5sctmiQbFVoiSkxLc8lsf9IZVO8lFnH4i8gipdqyw6oupdj4SdfTOZqoS6xFgGJjg4Hj+4bvPz35PMszOKqos14qTzQPUI0SIXDCbiTsRsPujVLVMrSwtBV2++Wr6EBMaddR/mjx7RtRHJt8vT3pjRbd0ozrlWNPnUIJrPCW9aoCU/DMKGnVhjsnEhPB4g9tHH/hTMENa3GNItQ+7jsxJOZNTIRK79kGHD/xWnukZ2aQC9coRDmCgFhmbMRX9MGNCAKuF1upQEwsM9A6Ju4D5Y0W37EJUxHRQe/EK21iXZE+t+RoloRKYYwnA3JpTvKsjROerIPxBm1hMJLBCSrjk/9mM5oxAPj4Vy1P/tnPMHwoOUn///bOOz6O6lr8Z/rubC+SVr03y7JccMXdBhuwCabXkDyCCSkECCS0JDzyQnFowQ9CQuAREnhA6NXGNrj3JluWLVu97660ve+U3x+zGo1GuytZWudnePp+9Mfo3jt3zty5c+bcc8+9ywYJTJlGFwnLhmSY6UIAcIa6k0TDnhU8xCIqUQRnIeGLwfGsI9hppgvSVSUn+79JFIf5XWUMtz+GU0Qs6vJC/Sye545aP03uqRzPVYbT4zulJs3Fhjl6RaY8bxSQmSZxT3eqYMgOqClQWL4mm/NAS6Dd4a7ryr5yerjPF+p25d04u/73n3V9UqurzjbPK2l7c2+gta/jnQM8y+Vee0GgtR8A6DwjSmB0rvHkE18AgPTc5ld24Cqq+W87Iv1Dvv+4RiFNF+ssuHVe96dHwzZv2d3LW/5nl1gnAIgy+JrtnvpuNhTFaNKycrJUTuklpBi0BbTC6AvaOY7Rq/O8gR6e59R0OstFwxGvLIvjmFzL7LaeXb5ALFLOYqrGMcoXtBG40u5sSDOUM2xYOCsaDZj0pW5vB60w56Rf4AvaokzAoC3y+nt4nlPRaW5vB8tFtaost6/TYq7GUcoXtIlXl+k48SeBWCZ2zAPf5jlaYpibqa5ocx9xDw2+z9NNFSysdvcRafp4iDAB4UBLpvcH24ZmDqHVfchMFyhwTblx0an+b+TZACiCASCjcQl9GxnD7Y/hFADQkGnVaSsB4FT/VkewXZoVlzFcBUNwDri42o1AKRjrYswke7qnQGFJwWkyZPVwEbb9rf0ZyytJoyrQ7hD23BFfKp7jhRXYCI4CQNjuHX5uqNfd8trOvOtm9u9vcR5sjZ0JIEsX68QUBBuI8Cwn/EqYWKdUBtfR9ooHLvWe7On6+EjOVTPEaw3UHQcFqXN6WgMhR2neRb6ATavKZtggyzFRJjQ8q8O6zxvoFbUVACgoXWv3zoKsBcIzphWmSNQvnFWQtaC1ewcAmPUlnbaDeZlzXd72cMRj0OY73E0EpmS5SDjiRVAMAGjK2Ny1LS9zLsPEri5eQuCVp+xrH0xDEHjlqT6WjTVKi3NfhqpUQ5pnZl3d6Nxj9zdFubACV2epq/L10wHA5m9M4R6KwrInBEGr0i462bdFiG8mMCWF0f1D35a+QEun53iOtrpAP0NLpXd563wRBw8sjipUhMGgyE5TFe3rets3Vt/Hec4Ybn8MpxCoYprlCgwlurwn2tyHxfQkjOEqGiptumWN1X+mP9jui/RF2CCKYApcbVGV5+qmAkCPr0EsLPKDe0xaPfb2Xxy27sTfJAylpxRx/lDw5JCPX4oVlnVTff4tc0M9bu/pXo7hlFkGVEEIPz/gO2MtWrvQvv20p74n7+Y5gbZ+NjRk4CA9V8WazQtLEQKTOahUBUPSxTp7vjxe+B/z2VDUvv20tLxUBkxJEnolaVLpqrKl14IhGlwOw0YAwBvoxTGly9euILUqZZrP30vitCyL5zmKUKuUZn8w9kRxjMpKmxaJ+njgs9Km4hgVifqFs/xBe37mPJe3XYzfM2jyo0yQ5zkEwaKM36Ap8AZ6NHSmVpUplmHYsHB14V+Rje95Nr7nkSWyPHOw+1/TM9foKEuFaXGFabE01+ZvrLV+Lk0ZJyHG1+TaW2KYRxP6GZlXielxg8VP9G1i+Wi+brqwTk2W+51nDLd/tqfk66bThA4ALOpyi6pMng0AAId7P5LZwmd7FQAgMTpXW5OrrZFnADhDXaeHBfoazNjNPzchCGx8z5NIYaEK0vz9Fb7ddbhBY7phWf9bm8Ws1HisZSA4yjMcACD4kP2YUQLjomysAMvFnXKQngs8P3yDMVm6WCcggCBxfsldlKH4zsXtb+6LeoPl961s+OMGkFwLAHQG7IPDxcLxMw9Yv3hHPuBHEJTnuaLsRXbXaZOuRLCPpFkAIO4DIZBnmdvRu1dIkWWB5KzBlIEyw7ME4l49OQgg2drJWepKDZWOI2SEC7pC3V3eOps/qZ4+m7UpUizq8lxtjZZKx1GK5SIhxucO9xy3bZCXAwAADZmWp5tqUOQocS2K4gwXDkSdzlC31XdatvuCsDTH6j99pPcTabrAovy1Slzb6TleZ084C3a2jP72xaU537T++ax2Jhj97YuM/pRS4/xiwxxpynCG7zwhMPqroAhmUZen0UVaKp3C1BhK8DwXYQOesK3Xd0pchCBl2RXah56zAMBPLm9vOC4fKwgoJxXwDBs63QEAxisXOj7YLmadE4V1fqIuSU9bWMYzXN/uRl/j4MBNYESFJYCiOE0Z/aG+uApFBkmoItGz6MEjclZXn2CC85BfP225+CotJFVYZG66btkMYWSGELj91cGhQIqHhOczvkbbcD11tnAc4wuOtpLUais4y6tPMMF5yPQLaXnSMCIdNvvrX8pTASBVcVjfAeSW6wQTTJBqyqsVZsu4jKQ4J39+okRBox4nu2Z6EwAgKFx4kXrJak3pZIUpDUNQxONkT9eFdm/ybf7Iy0RHftMpJbL0cu2cJariSspgxhAEcTvZppPhA9v9X73nCQZGNbpJSSUXXqxeermmokZhTMPDQc7axez52vflOx5rVzQaHvlGBIorqSWrNVUzlDmFhEqD4QQE/bzDznS2RE4eCR3aEUhk6KaQv36RX1wZZy1F3cHgL67pkKdKqJlDP/u/OQBw7w2dtXsD5VMUax8wl9coPE521yb/G8/3e90sABjT8NvuN89eolLSSHND5N2/OnZskMeXbmosQzHo62Wum9sMABiGLF6lXvY9bWE5ZTBjfi/X3R7ds9n3xdtul2OEue0NDaUEiYhVAYBKgy6/QrvoMk1mLiHU1m9jGo6FDmzz797sT9LrsgvIpZdrLlhAZ+YSOiMW9HP9NrZ2X2DbF77avbHACxlimwDAo3d2D79TGZQCee9AMa1GAeCLd9zPPDAYJyhlDD02hU9HyhgkERi/KtAZsOnz6eJKSvgzZQwqnJc+yZMUHOTtlx2vPJVwgjiOD0uQEgCumtFEkMiDz2fWzFbKCwEAQGdL5Ld3dLedic1hxWXxZZo7H0lLpFbdTvbFx+xbPpLPcMkYfyXGNPyRFyw1c+KYo6EA9/Lj9k/fdG88XYoTCCT2Yak06L2PZyxepZFnDKWzJfKT77X7vQn7wfgZv8J64be2+iPB59/JFZ61QP3h0D3Xd6jU6PoPcrMLhqwxfOqXvV99MKSFBYUFAKurG7V67JH1mZVT5StjAcDrYp972Lbti1igSVwEhcWy/IqyMzwHc5aqfv20RWvA5OUAggFuzbSmaCTOu0EpkTsfTr/0ei0mn1uOcXBH4LmHrL2d8qBWBIF/bC3MzCMAYNcm32/XjrC8bMlqzSMvxOIh77q648ShOAs8xtZjU/h0RMYmicD4VcHyK7QPPjck8nNEkius+LchUDFVcfuv0wrKYk0TDHABL6c1YAQZ6xA5heS6N3LuuKwt0Sf0xp8Yb7vfLP7LMLzHyaIYotNjwiJKnQF76DlLVh7xjxf6xWIyxl+JzoA981ZOXsngMw6HeJ+H1eoxgkQUNHr3f2VgGOJ2sNIvgAyCRJ5+M6esevCdDId4r4vFCUStQ3F88CVx9bPnVFsBwKt/7MvOJ7RGTKvHdEZs6hxab4rzeichv4S86EqtgkbdTpZWocIznTRdcdEa7ZTZyuwCkmV5j5MzmGPVrn0w7ZvPvHE1RdUM5c//Mz07nwAAjgWPi8Uw0OhjJ2r02G/WZ2I4fP1JMp0FABiGGEz4pOmK372YJajC4RzeGYgrg86APfF6dvmUwafDRHm3k6XVqHLgnb9gAf3fH+Y9+MPOM3VD1pfwPHz1gefWu00AMHuJSmvAPM74/Vng4iu1wkFnSySuthp/j03V0xm/JAJjVgX9NubA9kFPrtaAlQ+8QfWHQ35fnHbuaI5pPUxDIwTOuHzADb5NCd9PAHj4T5m0Go1G+H/9zfnlu+7utigAYBgybZ7yzkfSBenNFvymnxlffCzO6pYlqzViYx3eFXjrJUfdwaDQpkoanbVYddv9JuFD8YN7TG1nItu/jNOhU1LJXY+li9qq7mDwr0/21R8O8jwgCJRVK278iXH+CvXPHk0fepKc1TfqRG31wf84P/6Hu7NloGUxJKeIqJlNz1qsmrmI/vTNONZZatn3zRB3/h9ezZ6zVCVNGZGV1+p4jv/VLZ2HdgY0euypN7KFnnTLXcb0TGLPFv+6+3s9TnbGfPqpv+cgKBjMWPVM5eFdcUZVv30xk1ahLQ3h157uP7TLHw7yAGDKwC+/WX/9jw04jiAo3PtERt3BYKK4G5Gpc5X3PWlBMWhpCH/0huv4gaDDxpIUkpGNT75AuegyzZ6v48xjICg8sj5T1Fa7N/veftlZfyQoTKVacomVV2uvXWukFIjBjD3+WvbaS9ucfUNela/e93z/FyYEARxHlqzWfPyGS5orxWDGZiyI2enDY98gRT02JU8nJZIIjFkVHNkdOLJ7UKrpF9J//Gds9P3fj9qSOE9wk9Z41aKo1QkIOD/eJcadDxqcw6HVKBPlH/xh16t/7BNEBACW5Q/uCNx9bUdfb6zzXXyVbtieE6A3Yvf8IbYJ4cf/cP3qls4juwe/jcEAt+0L752Xt4vv/J2PpAnDMSkpqWTSdIU4iDu6J/DLGzpPHArG1q/w0HAs9Lsfd3/4dxeCACI/dQhzlqmFg62feV98zC5eFABYlm87E/nkn65HftR19czmrZ8nfPDnD5QC+derzkM7AwDgdbGvPBkzwjOyiWCAe+KeHsHKOLQzcHigw0mtSym0Cm08Ef75lR27N/sEbQUA/Vbmf57pe/LeXuFfJY1KP/WJuH+dhVIib7/suP2Sts/ecrediXjdbL+NqT8SevcV50+vaP8y3lD98pv14tzTWy86fnN794lDMW0FAL0d0def67/vpo5QgAMAYxp+7xPy7TF7O6Oih0s0oOKy9PLYkJPnYPgoLCU9FlLxdFIlicB4VMHYwLSq4Mk2nmVRBSV9M0eo/p2/OKUKUsTrZj943SUcq7VoQancn3L5LXqVBgWA3s7oS7+3i2topPi93Kt/jD2J9Cx8/sUxjSCSkkouu14vHHAsPPuQjWHi1PLKk/Z+2wgff92AS6XPmqyk18XG9T6eh+zZNGitHN8fFMXe+7VfOqRtOBb7DFpy4u9UAwAvPmaL67v95lOvaAwuvESj1o7Q30gK+foT7ytP9cV91nFBMbj2doNw3HA89Nqz8d0f9YdDf38+NuqZt1w93AO44V8x7VNRo8gtitnjwxHV2cGdfvFFFUlJjxUY59NJoSQCY1YFYyPc0gMIQph1gWNN0iFhsg7EsfBRYtv4+P5B6dMy5UPLldfEnutX73uSvMD7twW4AdtctLRFUlLJ3OWxsVLtvkBXq9wpKBAO8du+8MlTh2Ltjn1YFl6iEX0H32paGwddOQzDi6/f6bohhro4ehLmxYZj72GO7Y/jyhH48t2YTURSyIz5I4xbORb+ti6+xknElFm0+K5+8JorSUTtp2+6RQPwsut1QzNh+wZvwB87+aI18Y2sgjKypCr2QooKTkpKeqzAOJ9OCiWB8amCMePdXmt/fUOwvlWaGL8LCjTWhxx2+TdExGEf9ALIvpwZ2URGdqwP1R9JOEwFgFCA87hi9eQVD/mspaoS0TI6sifO90Gk7kDCV07g649jA730LPzPn+avulFHKRKa0Oc/AT8nvr0CoolkH+ppioRi6Ynu91Rtsqcj/SyXVY/w+W04HrJ2yWfxkjNl1uC81b6tcTxcIsEAd2zg1ZoyRz7bFQ7y2z6LPeLlazRx/QOiIvN5uN2b5F+4lPRYgXE+nRRKIjBmVTBmxrKne+uwSUoprGRshQ7dRU/8CgHAk69nS3KSoTMOMVtSUklO4aCd3NGU7HYSGV8iWz/3LrhEvfgyDQCkWfB7/pCx9oG0LR97Nn/kjTtVdJ7j98hNEdHulk1xiumJ3BO9HclUjM/DufpZYRJTNhk/nKb6ZPvDxaWwPNZP+q2Md+DdS0RzQ2TmIhUAFJRSOIHITI8N73kuuU4HABnZxJTZtCxuC0Fh2RUxhfX1J57IsMC9lPRYgXE+nRRKIjBmVTBmEu3pnqAPAgBA8sndJIhGzVlBUkNuNSWVqLWDlbgTxF4I+IZ1keH81109f32yT/zWqTTo5TfrX3gv9/UtBdetNaTq2/LvYfgUuEg08QgiLj5PsoYFAPEbLnhVkjCGLqczxOpMFFsjxd0fMxMQJE4HqzsYFL9bF63RDM2EaXPptIFoprjzg8MrHA2yHiswzqeTQkkExvBcxkm4zRrptLs3Hgidah/tnu4yo3T0qCSvbl8vI+7QlBx7zxCbMyWVKOjBZxAOJatBmEJKDs/BO39xbHjXveaH+tU36sXQp9wicu2DaTffZXr/Vef//tmR/ELnCUnaM66DNgkSl2h8RGNEqRpBYcWdEkmOYqDO0TR7SFKGVqP9NkkeAABseM9z231mAFh0qWb972zSOsXxYNuZSNxRcEp6rECSc0fzdFIoicCYVcF4EPZ0l/0uYTKFNWakL/8Dt3a1nD5rOx9SVIm0oZN8QAAATRAePRy3k3392f5/vuCYu1y18hrdzEW0MM9Nq9Bb7jLNX6l+8NYu+7D5o+8wZALflohCGSsQHPBqp5DAwBApkYtNikI5+CYHfHGE2fS+5z/uNSMo0Gr0wovVYrArpUQWXBKbRNv4nnvwBAkp6bEp4fyRZMzgZp35xuWoSgEA3U+8KaaP8MUbG27HYHsZ08dinUKKKpEO+DW6ZJWodWfXFAzD79jge/i2ruvmNL/+bL9oMxeWUY++nBXXZftdJXnDAoB2IOr9XCwAcA+0/Ghi/Q0DZXh+cKAqxd7LHBoIv5TOFc6/WC1EzHMsbPowpsVkpKTHpoTzR5IxQ5j17q8PB441B0+0ClsWC5zdWzpKWhoGNXpFvPVloyEllXRKXOm5iSdBACAzN2GQUXKcfew/1vffsrhFCPMDgIoaxbR5CWeIv3tkFyRrOp0BE1cFiqsuUoi4zsaUjo/ouymsiHmjO5oiifxEogE1YwEt/LQHACy6LObS2r/Nn2i+LCU9NiWcP5KMmVBjZ7SnP2pz8tyQXTzPicLqaI6IY6JFl8qdl6MkJZX0tEeFBe4AMHWufCZbSkXNuJ6rz8P9/mc9orPgW9pLxkZFjSLRemMAmCbZ/+jM0BiilHBUEq0yO+n6JFqFVs+M9YFjiaNYdm70CTMwGIYsWqUBACWNzlwYqznReBBS1GNTwvkjiQypAw5L6o7iGZYLRiJtvf799dL0c6KwAGDDv2LPtbiSGnF7g0SkpBIx0nraPNqSwIxCUFiyeoz1i3jdrMMWU47/14aEYnTucMQQzXCIF43QFHKqNtR8KmZQXPVDQ6LYCwBYfdNg6NzGga41nEiY/+bT2KBPeNvnLFMJDlCPk929OVmoV0p6bEo4fySRIjocASB9IFIsLmSWOe3WlfTUUnpqqTQ98eMdH++/6hIDBX75REbybQZpFSoN/xNJSSVfvOMRDnAcuffxjLi2wHVrjUlWYwCASoNOmjaC0VRRoxDDfDuakoUmffe448G0uC6k5Vdoxae2/UvvufBhAcA/1zuEg5Iq6vZfpw3NjDFpuuL7vzAJx7V7A8nDKUUzaspMpdaAzV8Rc7dv+ST+rk8iKemxKeH8kURKd3tUXIoghDQmguc4/9Ez7k0H3V8dkKYnNcvGgdfNPn53zx/+li1MuKx7I2fbl96vP/aeORHyujicQFRaNCuPKKqgps6lp8+jTxwO3n9z57mopHZvYPdm37zlagCYMZ9++q2cV56ynzwSEqzTgjJyzQ8Mq27QMVEeQSGuOgMAvRFb/0Fee1Nkz2bf4V2BppNh6XJ/Sw4xf6X6lp/H3geXg923VR4G/d0mK5948aO8157u27PZLyxwMabh3/u+/oY7DUKBYIB77em+Ieekjm1feDd9qBJ85NetNeSXkG+95BB3a8jIJlZcrb3+DiOlRADA7+XW/co6tAI5J4+G2s5E8ktJBIXZi1WzFsXsR9FsSURKemxKOH8kkeJ1sycOBydfoASABSvVdz6S9taLDnHaBMcRUwYeDnHRghJlRR4AKIqzAKDvn5vEGs6VwgKAfd/41/2q997HMwgSQVBYfJkmuU6NS0oqef5hW0EplZVPAMCUWcr17+eFQ7zPzao0qLhB2rr7e6+7wzh8TayUvGIyr9go/Bx8OMj7PCzPg0aPSSfUGYZfd1/vuYtb0ZuwucvUKg1Kq1GVJvYnOuDyS8lH/5zl93IBH+v3cQEv5/dydYeCw3dWSyEv/qftxp+aLDnEQ89n8hy4XSyCgFaPieNinoNnH7SOuLfMeHjuYatWj81eogKAOUtVc5aqohHe42SVKlS6yM7v5X57R3fy0HyBje971j5gBoDr7jAINTSfCjeeGDk+ICU9NiWcP5JI+fvz/eveyBFG7lffZrj6NoPHyYbDPK1Chbji9b+zffRGg//waQAAnkewIZb7OVRYAPDV+56205GfPZo+aXqy8RQT5cVF58MZfyX9NubeGzp+sz6zakbM7qUUCKWI3XvAz63/rW3Lx965y+Is4hcIBXmvixU3pQMASolQSnnrdbZEnn3Ilmgr3pSQX0rd91SGPHUAjQ5bsDI2fhH527q+tjOxQdO5wO/j7rup45EXMgvLKQQFcWZNYDQ7jo6fcJB/5PauH9xtvuZ2g+BvIkhEth1j3cHgsw9ZR6m7N3/o+dH9ZhQbXPoTd7VzXMbfY1PF+SOJyOFdgWcesv7isXRx87+4W8sqirNRJRk43qy/bI7zsz1idLL8lUs5DcdDP7+qvWa2ct5ydfUsZVomrtVjPA9+H9fbEW1pCNfuDe7f6hfNwriMvxJ7D/OLazoWrNQsWa2pqFHoTVg4yFm7mT2bfZ+/7RZifJN05X4bc93c5tlL1FPnKgvLKUsOodahlALhOQj4OGsX01gf2rPZv+8b/xhitb/taHRY6+nIj1e1L1+jWbxKU1hG6U2Y38d1t0V3b/Z9/pY7yXNJIRwLrz3T9+lbrouv0s5apMrKJ7QGLOjj+m3s8QPBnRu9B3ecxYek38bs3+YXt0VkGD7RPsJxGX+PTRXnjyQiX77jPronsPom/dS5yqw8QqXGQiHO5+Z6O6ON9WFh5w/WF1BOLgh32HCzblTR/eOkOGNBiWWxPHWCkRh/uxnVBfPL71xe/UBZ5jJ5XkrZ1Fi2paVsS0vZ9T82yvMSY141Uz05X54KAABkhl6eNBL6BZNMK6bhWhoA6PKRV/mKlxheWBRseBYA6BdVyZMmOMfQ1UWGK+aTeenSxHNlYTVZd8iTvrvgKFmRvbKu4xN5xjBoyrig4qcAwHKML2Rtse2xuk9KC4y/3Ry+1p0Nf67OvVyecc4YfQyHsiiDLsv017criy2qypxgs5XxBNRTCoLNvTzDmVddYP9wL5mh9+w/o51VygUiZKYh3NHHRRmhMB9lqNy0QENnuCs2wiXStH0f70+/5kLHpqN0SWagoYsuzRTKYDQlHACCyC7B+kKywihFCIIRJo2QJUoIPK8oyCAMCeM2JjgnoGigriVwvFmeLPt/gjFgVBcoSK08NTFb6v6489SLnY6jk3NX55imy7O/uwSbrcGm3mCzVb9gEusPK0syMSXFOLzqqrxQizXUYg212alMAwBQWUYiTeuva/ef6hQL8xyPqRVccIjLnGc5AD7a70VwFADEMuLB8EsMLywKJmaJF1VV5fV/eYiLnMMZgwmGoyjJpicXylPPhYWlo7Oqc7+nILXdzrr6zs+FxDzzTBVlTtMWR9lwq213Zc4lDl/b0dZ/AcDFUx453vFRqWUpjpFW96mTnRs4ngGADF2lRV/Z720ptiwkMGWrfW9j71YAIHG6InuFSV3I8Wy341ijdRvPc2na0kk5l26r/5NwOQWpW1jxs631z0cYP4YS5VkXpWvLAEF6XfWnuzdzPJtEnrjlAeDiKQ8fb/+oNHMpgdPuQFdd+8ehqJfE6Zr8q7XKDBQlllTdCwCt9r0ttt2CGIngeS4U9XT2H0YAKbMs7XIc5XkubrsBAInTVTmrDKo8BMUC4f66jk+9QSskbrdEpGlLijMWqSgTx7N9njMnOj/neNasKZ6cu3rbyT/xPA8AClK3oOKn2+r/FGGShUeOn2CLFVMpAic7VVW5rC/EsxzPcrhBTeWYGG/IuGwKRlOMO8CGItLCCIaynoBqcp5r+wmhHlynMq+eGWzspXJMiiKLstgilon0OoUDwqiWXQIAZIXFCsV6xIsq8tOMy6agZOrflAmSELU5TdcsRmkF8Lxv/5BRyDmhInvFpJzLxH/zzDPnV/wEQ4m5ZT+aXngDhhJLqn6pJA0AsKLmN9MKrsVQksTpuWU/Ks5YIJySoatcUvXLssxlGEpgKKkkYwHTFxTfXJl9CYbiJK6aVXJriWURACAIsrjqHoMqTyhTmD5veuF1wnFV7qqa/KswlCQwxaySWwUPURJ54pYHgIunPDKr5FYSV2EoMaPoBtndXVB8s/hvEmjKuKLmNxgaC1KlcPWKmt9olZliAVm7AUBZ5tIp+VciCIogqEGVh6Gx+OBE7SZQnXu5zIelokw6OgtBUAWhWVR5V5axRkhfUPHTNG0smLgw/cJpBdcOnpMU0Yd1w52DPqyi7MXFuUslpRKCiDu9iUPK4QcDiIWl62ATIZYZLJyk5sQVxpHwO8fon9doyDTXzK7+sTx1TKAKUlGWK/wNSZf+c07xBHtZLuoN2pz+NpaLhqIeioj5Bdr69rFcJMIE2vsOZugqxVNQBD3T+zXLRVkuEoy4AUBB6kzqwjO9X7McE2H8zdaduaYZAMDzfI/zeKZhsnBipn5yl6MWABAEzTbUNFm3s1wkyoY6+w9b9LH648qTpDwAtNh2Rxg/y0Wt7ga1In5E9VkhGDIElmzKORhx6+nsdG05AojT385ygwOiRO0WF3+43x3o5nkuFPU6/G00aRDSO/oPZRunCseZhsmdjiPiKWOguWtrU8fX8tR48NzA1I84BzT8YACxsHQdbCLEMoOFk9ScuMI4Eg4Fx6iq4jXy1AQoKf20ipuXzvrN4gserCxcjaLnhck2+uf1b4ZnOdblFf6k6f++VmO5CADwwA28cjwy8LvTESY23xxhfOSAFgOAUNQrDFVEFISG4SIMG4vfC0U9JK5CEYzj2S5H7aziW092baApI0Vo7J4zAEARGgRB55TeJtbAcLFz48qTpDwAhCIe4YDnWTTJorVRQxEaGFBbiejoPxRlQwVpcyblXNJq39dq3y22SaJ2i4telVuUfqGC0PLAKwldR/8hIb3LcbQ4YyGJ0ySuJjG6z9s49LwJEmLQFioGDP/kIIBMLb85FHHvPfYShhJVJVeW5C473bZRXm6CAVCaoqeWIiiqqMzvfe5dMf3fp7CSQBFqX8gOABSuiUSTLWoJRTw4SuIYJegsBaGNMH7Bx+QL2QMRp1lTpKOze1x1QmI46uV5bnfDXwIRp6yquCQvz0P8Ly0kTB+BTEN1mPH5wnZ5xlB6XSd6XSc0ioxphddEGH+X46iQPvp2QxH8gqKb6js/73YeB4Ca/KvErCgbsrpPZhqqSZzuctbKvhCjR6vOnlx8pYLU9fTVnmz5VEjMtcxWKc1mfRnDhFq7d1YUrnJ6WmpPvw0Ay2c/Wtf0QWnucgyjbI76U62fcxwDABnGqnRTlcPdWJSzhMDptp5dgglAEqry/EuNuiKOZ3vsR5o6v+F5Ls1QXlG4asfhZ4VHoKB086fevf3wM5GoD0PJsvwVaYYKBEF6+4+fad/EcUwSeeKWB4Dls39X1/hBSd5yAqc9vq66pg/CEQ+B0zVl12toC4oRi2b8CgDaeva0diec4dVpclV02uFTb4QjHgA43bZhatmNTR1fG3VFZyU/JG6fs23PuM9LIDt9ep5lnoLScRzT2r2zrWcXJG4fitBMKr5Cr8kLhV12Z4O0nvHAuv3CKkKTQY1gGM/GwsRSYCaMn3zzbByjSJzONV9gdZ+SZ0sIRT193sayzGWCD6soY35n/xExt8txNENXma6rEMaDAMDzXJfjaFnWMgJTAoCS1OvpbLH8cM62vEA46lNRJmFkhyJxwnZloAhGk4bC9HnFGQsbujcn1xEmdaGC0ABAMOqOMEFEYtmNvt1QFMdQwh92AICOzjJriqS57X0HLbrKdG25qArHgMfXtbt2fZc9ZriJmHQle2pf5IHPTKvZcfgZg7ZASRkAAEHQDGPV7mP/vbv2BY0qsyBzvuSUIlph2n30hW2HnuqyHRYSq0uuibKBHUee3Xf8Zb22oCh7EQD0uc6gCGbQ5gtlLKYpfa5GQXeXF1xK4PSu2j/trl2vUWUVZi8cqDy+PInKAyA5lln76/66/dA6jmeF60aZwMH61xo7t7g8bdsOrdt2aF0SbQUAatoSCrsEbQUAHl8XhpEKSj8G+SFB+5xteyZ6XpnmKcU5y+qbP9564PG9x1+yOWK7uySSp7JoNcOEth1ad6ThzQxTzCczfnCzznzzReabLoq020RtBefCwqrKucygzlcQGgDEpC7wBHtr296XFxpKn7dpTul/kLjK6j7VYtsjzx7KsbaPKrJXLKz8BcczPc66Jut2MavHdaI4Y0GECXiDvWLiqe6NxRmL5pb9iMTpUNTbbN3hCnSJucM52/IAYPOcztBVLqy8i+Wijb1bR3QDLZ18H8NFPIHuo63v9nmbhMRE7aZX5VTnXYFjFMtFel0npTolbrtNyV+jU2ZRhAaAT9eVO/3tJzo+Y9hQQ/fm6YXX8cC7/B0t9j0YEnPeA4An2AOARNlgIOwQE0fkopLT8qR4ePzdLBfxBaz+YB/LRUJhN0mqg2EnALT37mXZCMtGOq37cy1zmru2CqcggDZ2bOF5DgBYNgIACkpn1BXVnv5fjotGuGhL17bJxVcKRlZPX63FVO30tAKAxVzd3LkVABAEy0qbuufYiywbYQG6rAcLsxcJlkVceUIRT6LyANDWvTMS9QOA3XEyM61GSDwrcIyMMoNrXxg2zANPEmp/0H628kO89hEYfXsmITv9graeXW5fBwCEIzH/USJ5EAQ168v2HX+Z46KhsKvbfjjdOGlIdWOF6XM73t+Om3XRnn5peuoV1gnJlLxIe98B4eBEx2fCwZ7TfxNz+73NYgERq/ukNKhSC4YA+BiIRtng8faPBstJYNjQ1vrnZYksx5zu2XK6Z4s0MYk8svLogBH61bH/Eg4AwOVoCTi6McBZYACA57lj7R+KucMxQ2Yf9ABAIOzYWPt78V4IoAqgogMaWWBOdH4upoPkuk3WHYmiSeO227G2+JK02ve02hN+DBAE6egbQc+ODZaNAgDP8wNOQx4ZuLVoNOa8C0d8FKEeOANCUY/wdokoSB3DhkXfZTjsIQl1zHdpOzyz6rZTrV/QCqOC1PY5GwCAItUIgs6uvkOsQXxR48qTpDwABMMu4YDjWWQUFvRwGDZM4INTKzhGIYAIltTZyg/x2kdg9O2ZBAWlEz4nUhLJQ+A0gqDhaEyviQpu/OBmnXHNglBTt2HVPOvLH4vzHqlXWGNihGljDHAMcA44ACBBQQCJAOIHDwEUDgQHbAgCQhklqDzg4IHXgiEEwQiEFEALuSigUYhoQB+BcBiC0np44MV0ChQY4ABIALwkUAVIuZXvdMMQ0yMbKbTynWVIzRn+GA5ECAIkUAxEEUBFGRBAtGAMQSAEAT1iCvA+qZzCvUQhzAErKL6h9zh4XZn8UjFGbLdRkqmfTBGaXlcsFunfBklqIGgDAIrUhCPJfHChsAvHKBxTMGwIAChKF4n6BDelP2gPhpwmXbFOndPTdyzmu4z4eJ7bc+ylYGhUNuNI5ROM2RMkD8cXsCooPUVqhFdaq85h2Ugo7IIUyS8w+vZMQjjiUZD6YYnx5YkyAZ7nSEItWKAjzvyMHpTEA7VN/kOnMbUSEERUWOeFD2tEeOBMSAYFCgAoRCpykWITWEyQkYuUqEBTgJTjQKhBW4RUYoDxwGdDEQmKfKSMANICeSRQOVCEApoJeSrQFiKVBFDSeqTpOUiJBvQFSBkOBAIoDqSgRIbKw7uh38p3GCAtBykGgHTIpkAplYEACgGkGImN6kU5pfciRZouvW4G5FCgEOSXnTJ+MnSVy6p/XWxZUNv6nvCq/DvJs8zBMYokVLkZs0RfSVxCEU+f60xp3nIUJUhCVZi9sMt2SMztsh9JN05KN1Z22w8LKTzPdtuPlOZdROBKAERJGXTqXLH8cM62vEA46qGVZgJXwki+S7e3wx+wTSr6Hq0wamhLWd6KTtsBMUJl/PILjL49k9BtP5KfNU+rygJACJzW0BZILA/Pc32u0wVZ81EUp0hNpnmqrLYxwwbCVEm26YalqFppvmGZsD0WnA8W1sba38uThsEBF+ZjLoAIH2aBcYKdBg0CSB/0EjxJgRIAHLzNATYAoBFVF9+M8igNml5oz4AcEqHCfEiDGEJ8IMj7UUCl9UjTEUCs0EnwJAFkEPwRCHvBJZFlEAKoCASF76wYoiHKoAWDElQECK6iQTn94BHvRYr0HsMQFK/bA22ZkC/ILy0/mnYbEav7pPV4asKIK4suN2oLKUIDCGLUFXn9vcfOvCMvNJR+d+OsyXeQhMrmqG/t2SnPHkpd43vlBZcumHYvx7O9fbWCr0egt/9YUfaiCOP3+iW+y9YvinOWzK6+k8TpcNTb3LlV8Msk4mzLA4Dd2ZBhrJo/7R6WizZ1bBH92cPhgT/a8GZF4eq5U37Kcoy1v66xY9BHkRL54SzbM9Hz6rIdQVFycsnVCkrLspHmru3eQC8kludk86dVxVcsmvHrYNjZYd2XnT5DdqGxwbp8/W9tlqd+W1CBphqZXQAVOBCFUJkHpRrQZ0BuCTI5H8omITNQQHVgTIMsobwJMgqhohyZigIGAJXIjHTIAQADmIuRqnwoRwCR1iNNL0GqASAHipSgAoAyZEo2DJlTA4ByZGohVAjWUwbkFiNV1chsJaikMuRBaT6UTUUuBIAimCTKKb0XFWirkTn5UIYBLk2HodctRaakw8iTld8uLprzmEpplqdOMFYm2vNbQAkyWTRtZCRJj5uVKB0k/u9EiF5kGdIKE1WeBOG6CCAlyOREl/j2MvGCpZb/I+35/39IOB76+J5EwZypSgeA4T4sGXyCAtI6k9SfCOG6Rsjo5lsTXWKCCSaYYIIJJphgggkmmGAc/D+pPqzOp3lrxAAAAABJRU5ErkJggg==",
         "type": "image",
         "xaxis": "x",
         "yaxis": "y"
        }
       ],
       "layout": {
        "margin": {
         "t": 60
        },
        "template": {
         "data": {
          "bar": [
           {
            "error_x": {
             "color": "#f2f5fa"
            },
            "error_y": {
             "color": "#f2f5fa"
            },
            "marker": {
             "line": {
              "color": "rgb(17,17,17)",
              "width": 0.5
             },
             "pattern": {
              "fillmode": "overlay",
              "size": 10,
              "solidity": 0.2
             }
            },
            "type": "bar"
           }
          ],
          "barpolar": [
           {
            "marker": {
             "line": {
              "color": "rgb(17,17,17)",
              "width": 0.5
             },
             "pattern": {
              "fillmode": "overlay",
              "size": 10,
              "solidity": 0.2
             }
            },
            "type": "barpolar"
           }
          ],
          "carpet": [
           {
            "aaxis": {
             "endlinecolor": "#A2B1C6",
             "gridcolor": "#506784",
             "linecolor": "#506784",
             "minorgridcolor": "#506784",
             "startlinecolor": "#A2B1C6"
            },
            "baxis": {
             "endlinecolor": "#A2B1C6",
             "gridcolor": "#506784",
             "linecolor": "#506784",
             "minorgridcolor": "#506784",
             "startlinecolor": "#A2B1C6"
            },
            "type": "carpet"
           }
          ],
          "choropleth": [
           {
            "colorbar": {
             "outlinewidth": 0,
             "ticks": ""
            },
            "type": "choropleth"
           }
          ],
          "contour": [
           {
            "colorbar": {
             "outlinewidth": 0,
             "ticks": ""
            },
            "colorscale": [
             [
              0,
              "#0d0887"
             ],
             [
              0.1111111111111111,
              "#46039f"
             ],
             [
              0.2222222222222222,
              "#7201a8"
             ],
             [
              0.3333333333333333,
              "#9c179e"
             ],
             [
              0.4444444444444444,
              "#bd3786"
             ],
             [
              0.5555555555555556,
              "#d8576b"
             ],
             [
              0.6666666666666666,
              "#ed7953"
             ],
             [
              0.7777777777777778,
              "#fb9f3a"
             ],
             [
              0.8888888888888888,
              "#fdca26"
             ],
             [
              1,
              "#f0f921"
             ]
            ],
            "type": "contour"
           }
          ],
          "contourcarpet": [
           {
            "colorbar": {
             "outlinewidth": 0,
             "ticks": ""
            },
            "type": "contourcarpet"
           }
          ],
          "heatmap": [
           {
            "colorbar": {
             "outlinewidth": 0,
             "ticks": ""
            },
            "colorscale": [
             [
              0,
              "#0d0887"
             ],
             [
              0.1111111111111111,
              "#46039f"
             ],
             [
              0.2222222222222222,
              "#7201a8"
             ],
             [
              0.3333333333333333,
              "#9c179e"
             ],
             [
              0.4444444444444444,
              "#bd3786"
             ],
             [
              0.5555555555555556,
              "#d8576b"
             ],
             [
              0.6666666666666666,
              "#ed7953"
             ],
             [
              0.7777777777777778,
              "#fb9f3a"
             ],
             [
              0.8888888888888888,
              "#fdca26"
             ],
             [
              1,
              "#f0f921"
             ]
            ],
            "type": "heatmap"
           }
          ],
          "heatmapgl": [
           {
            "colorbar": {
             "outlinewidth": 0,
             "ticks": ""
            },
            "colorscale": [
             [
              0,
              "#0d0887"
             ],
             [
              0.1111111111111111,
              "#46039f"
             ],
             [
              0.2222222222222222,
              "#7201a8"
             ],
             [
              0.3333333333333333,
              "#9c179e"
             ],
             [
              0.4444444444444444,
              "#bd3786"
             ],
             [
              0.5555555555555556,
              "#d8576b"
             ],
             [
              0.6666666666666666,
              "#ed7953"
             ],
             [
              0.7777777777777778,
              "#fb9f3a"
             ],
             [
              0.8888888888888888,
              "#fdca26"
             ],
             [
              1,
              "#f0f921"
             ]
            ],
            "type": "heatmapgl"
           }
          ],
          "histogram": [
           {
            "marker": {
             "pattern": {
              "fillmode": "overlay",
              "size": 10,
              "solidity": 0.2
             }
            },
            "type": "histogram"
           }
          ],
          "histogram2d": [
           {
            "colorbar": {
             "outlinewidth": 0,
             "ticks": ""
            },
            "colorscale": [
             [
              0,
              "#0d0887"
             ],
             [
              0.1111111111111111,
              "#46039f"
             ],
             [
              0.2222222222222222,
              "#7201a8"
             ],
             [
              0.3333333333333333,
              "#9c179e"
             ],
             [
              0.4444444444444444,
              "#bd3786"
             ],
             [
              0.5555555555555556,
              "#d8576b"
             ],
             [
              0.6666666666666666,
              "#ed7953"
             ],
             [
              0.7777777777777778,
              "#fb9f3a"
             ],
             [
              0.8888888888888888,
              "#fdca26"
             ],
             [
              1,
              "#f0f921"
             ]
            ],
            "type": "histogram2d"
           }
          ],
          "histogram2dcontour": [
           {
            "colorbar": {
             "outlinewidth": 0,
             "ticks": ""
            },
            "colorscale": [
             [
              0,
              "#0d0887"
             ],
             [
              0.1111111111111111,
              "#46039f"
             ],
             [
              0.2222222222222222,
              "#7201a8"
             ],
             [
              0.3333333333333333,
              "#9c179e"
             ],
             [
              0.4444444444444444,
              "#bd3786"
             ],
             [
              0.5555555555555556,
              "#d8576b"
             ],
             [
              0.6666666666666666,
              "#ed7953"
             ],
             [
              0.7777777777777778,
              "#fb9f3a"
             ],
             [
              0.8888888888888888,
              "#fdca26"
             ],
             [
              1,
              "#f0f921"
             ]
            ],
            "type": "histogram2dcontour"
           }
          ],
          "mesh3d": [
           {
            "colorbar": {
             "outlinewidth": 0,
             "ticks": ""
            },
            "type": "mesh3d"
           }
          ],
          "parcoords": [
           {
            "line": {
             "colorbar": {
              "outlinewidth": 0,
              "ticks": ""
             }
            },
            "type": "parcoords"
           }
          ],
          "pie": [
           {
            "automargin": true,
            "type": "pie"
           }
          ],
          "scatter": [
           {
            "marker": {
             "line": {
              "color": "#283442"
             }
            },
            "type": "scatter"
           }
          ],
          "scatter3d": [
           {
            "line": {
             "colorbar": {
              "outlinewidth": 0,
              "ticks": ""
             }
            },
            "marker": {
             "colorbar": {
              "outlinewidth": 0,
              "ticks": ""
             }
            },
            "type": "scatter3d"
           }
          ],
          "scattercarpet": [
           {
            "marker": {
             "colorbar": {
              "outlinewidth": 0,
              "ticks": ""
             }
            },
            "type": "scattercarpet"
           }
          ],
          "scattergeo": [
           {
            "marker": {
             "colorbar": {
              "outlinewidth": 0,
              "ticks": ""
             }
            },
            "type": "scattergeo"
           }
          ],
          "scattergl": [
           {
            "marker": {
             "line": {
              "color": "#283442"
             }
            },
            "type": "scattergl"
           }
          ],
          "scattermapbox": [
           {
            "marker": {
             "colorbar": {
              "outlinewidth": 0,
              "ticks": ""
             }
            },
            "type": "scattermapbox"
           }
          ],
          "scatterpolar": [
           {
            "marker": {
             "colorbar": {
              "outlinewidth": 0,
              "ticks": ""
             }
            },
            "type": "scatterpolar"
           }
          ],
          "scatterpolargl": [
           {
            "marker": {
             "colorbar": {
              "outlinewidth": 0,
              "ticks": ""
             }
            },
            "type": "scatterpolargl"
           }
          ],
          "scatterternary": [
           {
            "marker": {
             "colorbar": {
              "outlinewidth": 0,
              "ticks": ""
             }
            },
            "type": "scatterternary"
           }
          ],
          "surface": [
           {
            "colorbar": {
             "outlinewidth": 0,
             "ticks": ""
            },
            "colorscale": [
             [
              0,
              "#0d0887"
             ],
             [
              0.1111111111111111,
              "#46039f"
             ],
             [
              0.2222222222222222,
              "#7201a8"
             ],
             [
              0.3333333333333333,
              "#9c179e"
             ],
             [
              0.4444444444444444,
              "#bd3786"
             ],
             [
              0.5555555555555556,
              "#d8576b"
             ],
             [
              0.6666666666666666,
              "#ed7953"
             ],
             [
              0.7777777777777778,
              "#fb9f3a"
             ],
             [
              0.8888888888888888,
              "#fdca26"
             ],
             [
              1,
              "#f0f921"
             ]
            ],
            "type": "surface"
           }
          ],
          "table": [
           {
            "cells": {
             "fill": {
              "color": "#506784"
             },
             "line": {
              "color": "rgb(17,17,17)"
             }
            },
            "header": {
             "fill": {
              "color": "#2a3f5f"
             },
             "line": {
              "color": "rgb(17,17,17)"
             }
            },
            "type": "table"
           }
          ]
         },
         "layout": {
          "annotationdefaults": {
           "arrowcolor": "#f2f5fa",
           "arrowhead": 0,
           "arrowwidth": 1
          },
          "autotypenumbers": "strict",
          "coloraxis": {
           "colorbar": {
            "outlinewidth": 0,
            "ticks": ""
           }
          },
          "colorscale": {
           "diverging": [
            [
             0,
             "#8e0152"
            ],
            [
             0.1,
             "#c51b7d"
            ],
            [
             0.2,
             "#de77ae"
            ],
            [
             0.3,
             "#f1b6da"
            ],
            [
             0.4,
             "#fde0ef"
            ],
            [
             0.5,
             "#f7f7f7"
            ],
            [
             0.6,
             "#e6f5d0"
            ],
            [
             0.7,
             "#b8e186"
            ],
            [
             0.8,
             "#7fbc41"
            ],
            [
             0.9,
             "#4d9221"
            ],
            [
             1,
             "#276419"
            ]
           ],
           "sequential": [
            [
             0,
             "#0d0887"
            ],
            [
             0.1111111111111111,
             "#46039f"
            ],
            [
             0.2222222222222222,
             "#7201a8"
            ],
            [
             0.3333333333333333,
             "#9c179e"
            ],
            [
             0.4444444444444444,
             "#bd3786"
            ],
            [
             0.5555555555555556,
             "#d8576b"
            ],
            [
             0.6666666666666666,
             "#ed7953"
            ],
            [
             0.7777777777777778,
             "#fb9f3a"
            ],
            [
             0.8888888888888888,
             "#fdca26"
            ],
            [
             1,
             "#f0f921"
            ]
           ],
           "sequentialminus": [
            [
             0,
             "#0d0887"
            ],
            [
             0.1111111111111111,
             "#46039f"
            ],
            [
             0.2222222222222222,
             "#7201a8"
            ],
            [
             0.3333333333333333,
             "#9c179e"
            ],
            [
             0.4444444444444444,
             "#bd3786"
            ],
            [
             0.5555555555555556,
             "#d8576b"
            ],
            [
             0.6666666666666666,
             "#ed7953"
            ],
            [
             0.7777777777777778,
             "#fb9f3a"
            ],
            [
             0.8888888888888888,
             "#fdca26"
            ],
            [
             1,
             "#f0f921"
            ]
           ]
          },
          "colorway": [
           "#636efa",
           "#EF553B",
           "#00cc96",
           "#ab63fa",
           "#FFA15A",
           "#19d3f3",
           "#FF6692",
           "#B6E880",
           "#FF97FF",
           "#FECB52"
          ],
          "font": {
           "color": "#f2f5fa"
          },
          "geo": {
           "bgcolor": "rgb(17,17,17)",
           "lakecolor": "rgb(17,17,17)",
           "landcolor": "rgb(17,17,17)",
           "showlakes": true,
           "showland": true,
           "subunitcolor": "#506784"
          },
          "hoverlabel": {
           "align": "left"
          },
          "hovermode": "closest",
          "mapbox": {
           "style": "dark"
          },
          "paper_bgcolor": "rgb(17,17,17)",
          "plot_bgcolor": "rgb(17,17,17)",
          "polar": {
           "angularaxis": {
            "gridcolor": "#506784",
            "linecolor": "#506784",
            "ticks": ""
           },
           "bgcolor": "rgb(17,17,17)",
           "radialaxis": {
            "gridcolor": "#506784",
            "linecolor": "#506784",
            "ticks": ""
           }
          },
          "scene": {
           "xaxis": {
            "backgroundcolor": "rgb(17,17,17)",
            "gridcolor": "#506784",
            "gridwidth": 2,
            "linecolor": "#506784",
            "showbackground": true,
            "ticks": "",
            "zerolinecolor": "#C8D4E3"
           },
           "yaxis": {
            "backgroundcolor": "rgb(17,17,17)",
            "gridcolor": "#506784",
            "gridwidth": 2,
            "linecolor": "#506784",
            "showbackground": true,
            "ticks": "",
            "zerolinecolor": "#C8D4E3"
           },
           "zaxis": {
            "backgroundcolor": "rgb(17,17,17)",
            "gridcolor": "#506784",
            "gridwidth": 2,
            "linecolor": "#506784",
            "showbackground": true,
            "ticks": "",
            "zerolinecolor": "#C8D4E3"
           }
          },
          "shapedefaults": {
           "line": {
            "color": "#f2f5fa"
           }
          },
          "sliderdefaults": {
           "bgcolor": "#C8D4E3",
           "bordercolor": "rgb(17,17,17)",
           "borderwidth": 1,
           "tickwidth": 0
          },
          "ternary": {
           "aaxis": {
            "gridcolor": "#506784",
            "linecolor": "#506784",
            "ticks": ""
           },
           "baxis": {
            "gridcolor": "#506784",
            "linecolor": "#506784",
            "ticks": ""
           },
           "bgcolor": "rgb(17,17,17)",
           "caxis": {
            "gridcolor": "#506784",
            "linecolor": "#506784",
            "ticks": ""
           }
          },
          "title": {
           "x": 0.05
          },
          "updatemenudefaults": {
           "bgcolor": "#506784",
           "borderwidth": 0
          },
          "xaxis": {
           "automargin": true,
           "gridcolor": "#283442",
           "linecolor": "#506784",
           "ticks": "",
           "title": {
            "standoff": 15
           },
           "zerolinecolor": "#283442",
           "zerolinewidth": 2
          },
          "yaxis": {
           "automargin": true,
           "gridcolor": "#283442",
           "linecolor": "#506784",
           "ticks": "",
           "title": {
            "standoff": 15
           },
           "zerolinecolor": "#283442",
           "zerolinewidth": 2
          }
         }
        },
        "xaxis": {
         "anchor": "y",
         "domain": [
          0,
          1
         ]
        },
        "yaxis": {
         "anchor": "x",
         "domain": [
          0,
          1
         ]
        }
       }
      }
     },
     "metadata": {},
     "output_type": "display_data"
    }
   ],
   "source": [
    "neutral_worldcloud = WordCloud(stopwords=STOPWORDS).generate(neutral_review_text)\n",
    "fig3 = ex.imshow(neutral_worldcloud,template='plotly_dark')\n",
    "fig3.show()"
   ]
  },
  {
   "cell_type": "code",
   "execution_count": 76,
   "metadata": {},
   "outputs": [
    {
     "data": {
      "application/vnd.plotly.v1+json": {
       "config": {
        "plotlyServerURL": "https://plot.ly"
       },
       "data": [
        {
         "hovertemplate": "x: %{x}<br>y: %{y}<br>color: [%{z[0]}, %{z[1]}, %{z[2]}]<extra></extra>",
         "name": "0",
         "source": "data:image/png;base64,iVBORw0KGgoAAAANSUhEUgAAAZAAAADICAIAAABJdyC1AAD2tklEQVR4XuyddXgdx9Xwzyxf5itmsmVLZnbsxLHDzNBAU0zK/LZ9C1/KnFLapm2wEE7DaMd2zAyybIsZ7tVlXJzvj5WvVqsrWZJlp+2b32Pr2Z05MzuzcPbMmbNzAT7gAz7gAz7gAz7gA8ZiqKsmbWZ96v8NCLMx99v36hL/L5+QEe65w7xrU+5Tj7lff9578YUGfTYAAJSVUBPsTpsvfdZ6eEdeeelIbT/4jr2ibGT321+z/eNh97e/ZsukfMD/HbxfuJPO8+hT/w8zpROC9An/Ldxzh5mi4KFH4nk55F8fdF12vU8nkOMlv/QZ61e/Fcq6e4Y88gfX934SaeuQ9BkAALDl9Zy1lw7qU09H/YYvHnn7l9qU0nlXDrTuTMeHtIkZdLmc2ZWOB0aLjILmLBWLbzqx7a/6jDGctqoPAADjwlrbNRcCgRBJDj30jNDeQ+W4HLdcaphbJfYPYVGMv7c/vnkvABjqa+w3bACCEPv9wUdeUJJpAHDeeZXQ1W9aPo+wmJK7j0ReehcAbNdeaFpah2VFSaT8v/uHEkuoB7Jeeh6QBFtZnDp43P/bf2BJYiuL7TdfQrCskkwFHn5B8o17vUiH1Xnn1bTXCRQZ37I3+tp7kO1AdJ7Hec+1kj/EFOfJ0fjQH55Sjz5Wcrw6TSsXmC9YQntdPZ/7kXrorCfEtHKBob5q6I9PAwBh5PJ/+qXeL/wEi9kfpf8e7rnD/PEPmxGCC9Zwv/6JAyH406+dj/7R9eqz3poqem4t/fhDrr1bcv/wgPPKywy6XQD4zv/YHvmD66nH3LWzaAB4+nH3/3zR+qdfO++63fSpj1luvt4IADSF3nrRqzuuyiN/cGUsrM98wnJgW55aT00V/csfOdobCv7wgPO2G00w5kATUL/hi/qkSUNzlrIF1+hTR0NzllmrP6JPHcNkqvoAAMj99r1MaQEAIIZGJJlJz/v+Z7UGBWk1F/zqa6TNAgDWi1e57rlOTXfeeVXO1z+GGBoAMsVJmwUQAgD7TRdbL1mtJhb86muk1QwA3q/ew80uBwBEU3n3f4YwcgBgXFrn/fLdqmRWvF+9x7JhpbqtHg6yHYjO85Q8+gO15fbrNzjvuHI8SRinTlW48Ndfz+yq6E4IoqiCX32NMLAAYF67OHNCVM5oEEQDWwBl3dAiw7j6zwrONCQE4PUZZwYBhAKKPnU099xh3rDO4HQQ/3t/GGP4xOeCAHDlpYYrLzX8/DfR3/4xdvP1pi9/c9ik0u4uW8yazcSH7w1UlFHf+5b9tnuGykqo//l2WLWY7Dbidz93PvVc8rxV7CuvpzQHzM5v/xSrnT18zU42i1/8emjRfObezwch24FGlZyQ/Oq1ORUrTu54NBkZKF94nSSkDFavkIpSjLF599+1uSZ7fsHs9UZbbuWSW4J9x4K9R4vrLuNMToJiuo6+lowMVCy+iaRYSUjojwEAAGULrqVZE0EyvSc2KrI4uqqG8oXXUowRkXTn4ZfT8aFZqz8SD3ZzZldsqG2wbU/l0lsIgqI5c9uB51MxX+XimwEhe25NqK+xdd/TumboD/wfTmzjLs99t8R3Hoq/u0cOx/TZp2Aqi4T2XjkSA4DEjkN53/9sJiu5/xgWRADAsqymGOZVm1YuUNI87XEmDx5XExFFYUkCAJBkVXfQhbl0rjvnGx9XBSY4OpAEV1Pm+8Wj6p56OBjnQNJQSOz3A0DywHHXh68ZV3KcOicJlqTk7qPGZfXxzXtNy+dH/rVRm3tGCksEXgGZBEpVWFZwpCElQFq7bQarDCIAkkGSQTKDTQElCfozaAMXAE5ADAMmgTKAKQpBDNgCdgF4HlIEEFZwpiGZhiQDbCmqGcQ9EQjq6tHy8BPxhx6JG41o6xu56y4f/PkPHOGIkpdDNrWe5gxWV1IrlrKP/MEFAE3NIgCkUjgzvgtHlHBUcTmJS9Ybfv6bqLbgVBl7oMnT17TFaMsb3kFoqPtQ0dxL+pu2li64RpebCPf1N21xFy9sP/gCAFhcpSTFNu36G2d2l8y7su/kuwC4adcTNm9lXvXa4QpHQFZvRePmP4p8XN3XVuUsmCsJybYDz7MmZ9n8q09sf4QzuzoOvZgZh7bs+acq5iyoG+rcRzHGE9sfLqzdkIr6dM04uf2RU0ecCM7knrPinv3v/BQArK6y4lkbGrY/BACuvDlFNRsQQoggm/Y/GQ/3AIDFWVI65zKSZCUx1XLo2XRi3GHR2SCx/WDq0EnzeQtzv33v0INP8i1degkVBY9so1EuGt2jTue6bddt6P+fXylp3nb1OkQPP7zhZ97M/c590sCQHI6lj7cBACCQhkL9//sbbfGsINUppGkCjH8gIIjhDQSA8XiSWeucErFNu92fuDF18ATlsaebOrRZZ6SwtBRAOQ+pHFTUgU94oTCzDQAGMHvA1gEnXJBjAmsMwjqFlQvFMkheVHAcH7CALQ+V+HAvBpwHxRigALlb8TECCASoAs09hvcgIChgTmthqSAEFAWXbODaOsQf/zL6kTvN+XkkAAgiGI0j94d2t6lFOtwgfOqLI9oQjz77f3sycc0VRooCn3/41Tc9xh5o2khCEsuiJCT1GWMwWL0Wd1n18g8BQCo6yJlcqZgfANS/Y8Bt+5+tWHyTJCY7Dr0oCaMsSs7sSUYHAYBPBFmTEwAUScxoK5LmyhZcK4spmrOmYz4+GcFYqVh8E8WaBlt3OvJrtc3Q1DodCqsuaDn0bDzcQ5A0xgoAECRVUX9tw/Y/SWLKXVBfUX/NsZ2nd8/NIKTDKoei0Te2kXYLW1WSUVg4xZNWs2qqAADf0uW84yrSbpHDMdOKeamG5pEqRkMYDTiRUtI8oinjgtkZSbrAG315c3zbgYyk2DNIGDmupix9sh0QIq0mOTL8vtGBZZlv6bKsXRJ7dzcAEByrpPnxDkS57HRRrtg9YFwwm2/ugnGalLXOkUOOQXdCAEDyBZQ0b714VWLnYd2zN2MKy4hMvbiNwIQRLNptAChAZW24EQBC4DeB1QauEIx6NhIQzUPFMRxWQAaAIPYFwQcAFuRI42QKJwggrOAwgIkGGgB4SAnAxyCsrWQs99xhXn8B57CT3/1hZP8h4aN3mQsLKJ7H4YgCACdOivm55OMPuf7xdPKNd1K63XVruccfcgHAWxvTf3tKP1batZf/9Mct/3hGnw4AXg/55c9aF85j/verto2b06+/nfqfL9qWLWZNX0Qbt6Qf+/uoIrv38VkPRLKGsps/xdjdg9tfD+zfoi0yPRRFIilG3U5FfYlwb+vep9Rdq7vM4i4HAM7kzMhriQ11nBh6OKdipbdsWd/JzaOqig1anCUAwJqcfEJVuyO3lyOvNh0P9DS+lVOxkjVYATBBUu0HX1BkEcY04wzpb99Zs/h2f8+BgY7dQjoKAEZLrsHsrlv9SVVASOuN+vEgaNa1YLWlYg7rzCEYVhEFKRlLD/YMvveqEJ3Cq8X14WspjxPLshyORl7dmkmPvLbV+ZHrlEQq9s7OxPaDSjwZePh57xfuBJKUfMHAIy9o6hgF394j9Azk3f9pJZlOHWvJpCOKtF29znLJaoKho2/tiL2zEwui79d/c95+OeJYhFD0ze3xrfs0NY0i8OdnnHdebV6/HCEU37Y/+tp74x1I7PfbLj2PLs5TonH/H56C8Zs0tk4AcH/yZsptJyymnK/ew3f0hp9+UxXWnRA1Mb5pt/veW/q/9dtMnSpnNEtoAms5qo3iYA+02cFlBQeDuGZ81AHuzHYuFEUgkIdKunELCwY7uE3Iehzv19ZjBWcRqojiYC+0W8DOAOeHPgBwgNuJciQsdUFTEVQiQA7kOYS3A0A1qk/geC+0aes5Z1AUPPc3z/Uf8quugxnHVFxVduO9AJAa6Gr9+wNq4pKr748HuwEg4mv2te8pmnORPXdWItwXGTxpchT2NL5TOu/Ktv3PVS67rWXPP7W5g227CYKatfoeSUz7O/aF+huL5lxksOYCQLj/uK9jb+WSmwmSSSeCRqv3xOihGcWaKpfcokg8QbGdh19OxXyjqzpetuAamjUTJNVx5JV0zF+//vNH3nlALcsaHVXLb09FfYoiyUJyoGVH+eIbFYlHBJWKDnQ1vKFrhva448GZXHNWfEQdEjpyagoq16pDQgCgGGNO8eK88tUn9/09Fuw0O4qqF9x0YNMvRpU/HSTLld/6OdaVo0vHinz89/+rCBNZCu8LxkVzDAtmB/7yLAAghi74+Vd6PvtDvdBMQOd5PJ+5ve8bD+gzzg7c3Cr7DRsGvvugLl2vsEqu/ailvFaXqCVy8lD3K4/rUwEAAAHCp16w2m0tBJCqGaWlCtW14sY8KI5CSGc3qeNhtSpdnZPxu58NbrrOePtNpr88Hn/5tdN73KfHsIVlcw1seSl4ZKc++z+TojkXRf1tEV8LQsSc8+9rePd3eolJQFLskov/d99bP5TEVOX86zmTS1VYDGdVDavSOZeLfLy3ZQtB0ovWf61p3z8igTYARLNmkT+9kZW75gr3knUAkOhpCx7aJsYjBM3QJivBGQL7R6ykfx/M5y1iKoqCj/4LANiqEuedV421SmYEOs/j+eztfV9/QJ9xdvB85vbU4RPxraMsGxg7JBSjQTEaIg1GgmZ1WYrAy+mkOL5VrNUmWbUVAIzVVgDQjVvzoCQNibGjvAnqfF+0FQA8/Xzy6edP7yo6E2Q+1fL4z/Wp/+EEexuK5l7iKVlE0oa+pmmOc2WJ72naOP/8z4l8PDBwjDO51PTK+TdwJidWZCEdbdr/JAAosnh896PldVeRFAsI9bW+N9h5eiPOWjUPAOR0svP5Pyviv509NZbE7iOG+bNyv30vYIxFKfDQM3qJ/zRMqxfaLl8rdPXF3xvxymXQW1gZEEE66lfkX3gdAPS9/UyoYTdW3h8F8QEfcG5ABDnnCz8DgFjrsc5/nVMP/QdMklPzlGPAioxPvWEUUfhAW33Afz0EMzyqkBKnHzx+wPvCuArrAz7g/xoZhTWeQ+MD3nf0PqypUnTFnbaa+Z0v/CXZ31mw4SZzabWUTAzt2ai6it1L1rkXriFYLtnX0b/xOT40Es1QfPU91sq5Q/veHdjyMm2xu5dcYCmrpc02ReRTvt5Qw57IiSwjWABgrM7qj/0vABx/8FtyKkEZzc4Fq62VdYzVAQiJ8WiyryN48L3UYI++JABlNLsWnGcum83YXQTFSKl4qr8r3Lgv2tKgnY/XYSqqdMxdasgtpi12RFGKIIixUNrfF+9sijYfVYS0vgAATL0UIog5X9D7rYJHdva9nd0rUXDRzY66ZQDQ9NcfCOHsIZGcJ7/yzi8DQODge/2b9PPl0zsbU2LaV1llqi2cxr3hXrLOXFpDm6202UYwnJrorF/hrF+RkQGAzhf+Emtr1KaoGHIKnfUrjUUVtNkGAGIsnOhqChx4T3ura5lqC6f9fKlw7jxrdb2psIJ15ZKcAcuynEqkfL2Rk4ciJw6OPYfq4QIHt/Vvep4yWd2L11rKa2mLAxCSYuF4V/PQ/i3CmKNoYZ1eR91yU2E5bXOSrEHh01IqwQd98c6mWGuDGAvrC0zxKp+pwlJhXbnuxeebiioBgLGx+RtuFBNR1unNXXOFKmAuqS65/hPNj/wo85HBcEFnjrGgrOTaj5KsQU0hKcpcUm0uqbZV13e/8gRWsjjpVWizjbE6iq/5iHqvqLAOD+vwRI7rJxcAwFpVX3jJrZm3KADQZhtdVWetqot3nOh+5QmZHzPrh1DBxbc45izRppEsR7J5nDvPPntRMK+k751ntbkA0y2FIT3UTxnMpMGICFKfO4ZQw25VYdlrl/h2vKHPBgCATBtCDXtG50zrbEyX6V3lM2nh5O8Nc3GlubhKmzJJECJyz7/KtfA8rSOYdXpZp9dRv9K3/TX/nk0acT2TbyFM9/kq2HCTo355ZhcAEEESNENbHdbKuY45Szr/9VcsZwnMYV05htzi0us+RhpMmUTG4XE6PPbaxV0vPRLvOKkRHwaRZN751zjnr9SeENJgIg0m1um1Vs7tjAbHKqypXuWZUViuBasVUeh66RGS4fIuvJ6gmZxVlzJ2V/DIzujJQ7aaBY765YzNaSmbHW1p0BY05BUXX/1hLEuD219PDXRhWebcua7F5zNWp7WqPnfNlf2b/6WV12LILcpZdSlpMEVOHEz0tit8kjJZDbnFpsKKRE+rTthSXlt85V2AkBSPBg69xwd8isgzNpd97lJjXom5dFbxVXd3PPsnNUg6g7N+hfrMp/o7Qw17hGgQSyJltHDeAnNJtSG3OHR0l1ZeZXqlMFZaHvuZus3YnNUf/d/R+XqSfR180Mc6vfY5i3073hz7LkKIsM1eCABpf1/a16vNmt7ZmDbTuMpn2MLJ3xvdrz6ByOGngOSMVXd/DQDCjfsGtr6sFZPTeuWYt/561Qrjg4PBQzvSgQGEEOvOc81fzdhdOeddAYjw735HVyrD5FsI032+En3tjvrlfNAXa2tMDXZL8SjBsJwn37XgPMpkMZfWuBetyapVDd7CkqvvITljuHFftPWYnIzTNqdjzhJTUSVBM4WX3d705+8rojC6ECq+8m5LxRwAwLIcbTma7GuXkgmSMzJ2l6W0hmC4ePuJ0UWmc5VnRmHRFnvbP36d7O8EAMbu9izfwHnyk73t6nAm0d1qraojDSZDbolOYVEGs5SMtz7xSzEeUVMS3S3h4wcqbv88Y3e7Fp4XOLx9PBM0/8LrpWS85fFf8IFR380iROjuY4JmCy+5FRBKDXa3P/V77bkOHtlZeMmt9jlLTMVVttkLw437NOXAWlUPAGIs3Pbk77RWQKTp8OC212iLfewbA6ZbSos8uQDF8LE9OeddwVidpsLysXe5ubSGMloAINSwW5s+7bMxFnNtIcFQbK7N/+YR/edLGqZ6lc+8hZO/N7SaKDOzpEjixH53c2mNqq3iHSe1dkq8syl0ZGfJdR8zFVbkrLo03nEiq2sCptJCmO7zFTl+QAj61FIZYm2NkRMHKu/8CsGwtlkLsyoskjMAcF0vPhptOTqc1NMaPra3+Kq7rVX1lMFsrZwbPj5qLO+ct0LVVnxwsPOFv+h8FAMABMPOyFM5M053mU9nzkvmyYk2H1E3MFbSgQEAoC0j1m+GoX2bM/exipxODm57DQAAId3ASgsiqe5Xn9BdbwAYe70dc5eqxm3vm0+NeTNA5l3qmLt0dM4wGCtj6wSAifXO9EpNidCxfeoh7HMW6/MA7HOWAACWZd29dYZnQ4scTxMcnWz3T6CtVKZ0lc+8hZO/N6aHe/EFAIAVuffNJ3WjKkUUet98EjAGhDzL1muztEyphdN7vrAi67SVihAJJrpbAIB15ujzThE+fnBEW50io90MOcWjc5Bn6YUAgGW584W/ZvWojv1IYHpXeWYUljaaVEoNfxCndQGqzSXo4W/QtMQ79IYiAMTaGtUrZywo0+edIu3rTfa261Ozoep+KRFL+/v0eQBSMq6+Tg25ussA6nVlrM6iK+6krQ5d7nhMr9Q0kBJR1cy2Vc/XnVuS5awVcwEg1togn7oiKtM+G2OREmnGZSaNWS6rjild5TNv4eTvjWlA0IypqAIAEt2tOi2sIoQDyb4OADCXzhrPHTmlFp7J85UVMRYCAESSmeGwjqyTIXzQp26QRpM2nXPnqvd5tOWoEB7SZk3A9K5y9uZOFTk9EvmNJTFLompsoyz6MWsPFVEQI0HG7madXn3eKVID3fqkcTDkFAIAZbLM/dIv9XkaCJohaEar7AMHttqq53HeAlv1PGtVXbz9RPj4/lhLg3Kqj1mZXqnpEWrYYymvJRjWWlkX1jhrrTXzEUWpAiPSAHAGZ2MsSlKgnRY5ffp+Tekqn3kLJ39vTAPWmaOqobQv+3APAFK+XmNBGUEzrCsn6wM5pRZO//lCyFRUaSmt4Tz5lMlKckaCZgiKUe8NAK1/fBRZ25yZ2tZpYc5boG6M9UtMwPSu8swoLN3c3wSJejDOesPBqeuRmVcaywSTRFoQIkhu3Ep06K6EIgpt//yNe+k618K1JMtZymst5bUynw437gvs3yxERt57WqZXanrEWo/JqQRpMNnnLNEqLEftEgCQ4lHdhM6ZnI2xkEaWdpkTLf2A0ESjwqlc5Rlp4STvjemRmTvLGDtjkVNxdUM70aZlSi3M+ihlTdRizC8tuOhm7YfcWJZlISUmoyRrmODJAgCdVT4xVOaExKOjc8Zl2ld5ZhQWjJmimiwIjXuvq4uZZctRwVlLjQUN/08N9vRvfE6fO5qxI21FEn073hzat9k+e5EaV0WynGvBamf9Ct/ON8ebBppeqWmAFTl8fL9r4RpzcRVttqkjFMbmUgdZoWN79T6RMzsbOsRoUhiMUBZj9iuYYUpXeSZaONl740wZxz6BU/0CyN7rKbdwSsIAAJy3oOzG+xBFYUUOHdkZaTqS9vdljLJMEN94ZA00GZcRy27S7ZzuVZ4phTV9SJYbO2cMACRnhCm+iLKCFUXm0yTLETSd1Qc5GRSBDx7eETy8g3XmOOevdNatQBSVs/oyRRQCB8b9iH96paZKqGGPa+EaQMheu0h1i9prh33w4WP68eCMnA0VRBLO1bPSfSFDiVufN4bJX+UZbOFZImM9UaNdOVoyRseUTJUZJGfVpeq4r/vlx3RT8wAji8TPCBk9qM5KT4ZpX+Uxg95zDuvI4qUiaFZ14/HBQX3e1FF9DazDO559Pnn44GD/phda/vYL9RlzLz5fL5GN6ZWaJGl/nzp3bpu9SE2x1cwHgGRv+9jQZ5ji2Shd4Khc7lp6QyEixlgTCGJHuoJbGoNbGvVZY5jSVZ5SC8896aF+1R3JeQv1eadQsxRJzDiqzzGmwgoAEEL+sdoKAGiLXZ90BmQcXhNMkY1lelf5/VdYWZffslbORYgAgERvmz5v6sRajwEAIOSct1KfNy34wGCs7TioE8mj1+GegOmVmgyqZ51z53HuPNaZo7otxrrbVaZ0NlJRkTGQ/SdjWLv0uAoGS32xc22tc22WK6hjSld5Si0892BZVidnTYUVWZ98xu425pcAQKKzaWpjq5kD0TQAyGO+AAMAymQx5pfqU8+AtK9XSsYAwFo9L+sJycr0rvL7r7CcC85jHR5tCskZvasuAQCMlfCxvdqs6RE8sktKxgHAu/widTJ1LIacQnV4kgEhQn1NjYWgGUNuEQCIsYjOSTG9UmdI5MR+NRrIWlVvraoDAEUUIicP6cRUpnQ2UjHR6mU5czbXAYLYka7I3tbg5tNbWFO6ylNq4fuCf89GwBgRRMElt+oiAwiaKbj4FgAEgP17N2mzziViNAwArNOrv6tJquDiW8aLZpgeGCvqQt4ERRdffQ9ltuol1Mk+zfc3MN2rPG67EUGgU2v4ETSDCOJsrDCjCGlEEOW3fz54cFuitx1LIuvOcy85n7E6ASB44L2sQWhTRRH57lceL73hE4gkS675SLyzKd5+XEzEEEFQRjPryjEVVTI2V8tjP9NOFQNJlN38KTEainWcSA10i9GgIokkZ+RcOfY5S9THL8tyoNMrpQEhgmQ5dZsgqfFm7rXI6VS0pcFWM99cWoMQAoBI0+Hx1p+b0tngE7LVywmpLGYClhQAKPr4heHdzanuwAQqeKpXeUot1BY8Z6QGunw73/KuvNhcXFV555eDh7enhwYAgPPkq5/mAMDQvs2Tj7SacaJNh9xL1hE0W3Ldx3w73hCCfkTRxvxS9+K1rCs37e/jPPn6MmfA0L7N5rLZpsIKQ05h9T3fiDQdTvV3ynyK5Iy02WbILTYVlne+8Jd4Z1OmyPSusl5h5a27zloxh+SMWnWYv+HG/A03KkJaTqciJw8ObH1FU+KMkNOp3refKb7qbs/yDaPevwDR5iMzeKBEd0vHM38suvwOymxVP7vVS4ydGcEAALTV4axfAaO/3VcJNewZ2rNRnzqtUpTRXHbTfQTDkaxBe+btc5bY5yzBiqLwKVngE93NvW8+pSk3Qqhhj61mviG3SB1shkd/jqNj8meDM1NWD9tzLIIINHZUKMVSwmCEMhsm0FYwras8+Ra+X/h2vokV2bvyEtbpzbvg2lF5GPv3bhp877VRiecW3653zKWzOE++Ma+k9PpPaHKwb/sb8a6m8ls/q0k8U7CidD7/l4KLbrLNWkDQjGPOkgm+UckwjausV1iMzTlecDbBcATD0VanPuMMIA2meMeJlsd+6l6yzlw6izZbFVFI+XpDR3dnjbU9ExI9rSf/+n3HnKWWijkGT4Hq6pNScT7oS3a3RpoO6fyjWJZa//6AbdYCY14JY3OSrBGRpCIJYjSc7OsIHduT9f05vVKIpFhXrj71FIggSIOJNJjEmFufd4p450kxFlY9CEJ4KNFzGt/fJM9GIiSE+lImOzNWWwEA7bKEd7ewubas6izD9K7yJFv4PuLf/U60+ahr4Xnm4irKYgeMxXgk0dUcPLQ9PdSvlz63KEK67Z+/cS1aa6uexzg8CJCUiif7OgIH30v2tiOSwrI8s3OFish3v/rE0P4tjrlLjQVltMVB0IycTsqpeMrXF2s7pkb/65jqVZ5J1++UUFdKwopy7Fdf1uf9+8HlFKbH+YoVABBJUSaLGA3pMyYFMpfVKEI62duhz3m/IUhUf0kuxpBTYX7rt836bABEk+4L52IFD701/F2bjqleZUSQAHiqzge1lOo2mmrZ/zLG+/GX/xrOitPdaJm05p5phTn8q7Njts8Q56Lz9EkaCJqmTJONQNFhqZrD5RRIyQQAWGvmZfm64v0DIWjfFzr8Wv/h17PbC4ggSBOHqNNd7nGuA0EzlMVGsByiaIJhKZOFNJkttfNJzsC4vawnx1BURjAsIoY/ebPNX2qZPY80mAiaQSRFO1yIoiiLbbiUyWypnY9IirLYCIalLFa1Bv1RzyY0wZpoB0MaGdJIEQxHmklEcaSFRBRLmijEIESo6aoMgUiONFOIYUmTmXY62GG/Up6xutg8jyGNGXm1HopgM9vqsRAgI2VT6yERlWusYskpzEXQTpc+CQAATLNqnRderE8dh8kIuy+7mnbp/AHTQT8knJiL7sx963H99+U63AXsl/5c8/XLsr9ypwRJ0DRpEKQkQxp4KW5g7LwUpwhW+w6R5DRDGiWFJwlGUniPuSqc6gGMRSXtMVeFkp28lKjwrPbFmjDGGJQkHzQw9rQYY0hDWoppjpYF0mDyrLpYikcAgGA49/ILEUlGju0zFpaHG/YqAu9efmFg72bnojVCyJ/q7wKEvKsvRRSd7G5JdLVm5NO+4UAVtU73snWAUOjwLoKibXMWy8k4bbUTLOtaej7j8CR7WtO+/kxZxull7C7a6oieOJToahlp3CQ4w/ctxlC22DGBhUWwVLJlgLJN4QnRYq1biCgGFEUI+ACweVb94OvPAcZYUbjcQjkZB4wts+vldCrZ1oRlIGhWSaXYnDwut1Dh0+n+buvchbTN6Xv7RcBYikUAY+fKC2ibU4pHpFhUikXw6eYrZhaMsZX20gRrpGwAKCGFCESG+QGvoVzGIoloXo5bGS9LmuJigCPNBCIJRPFyIi3HeTkhY1Gth0BkkO8uNtfHBH9GPsT357HVEhbUOhMib6W9DqYgKgyWWRYZKGtM8E8pXIa0WOyr1vhffkGfcRYYeu1FfdK0mJrCuv2bJfGwtOOlLB+yqpTXm7/wx2qbm9ZnTIt8W100PVBgq+MYeyw9GEp2F9jnyYrAkEaGMilYVq83QVC8GOOlOEIEAlTsWERTxlh6MGNh8WLMY670x1ssbK7DUBRJ95e5lnGM/eTAO5KSfSpNxT5ncaRhLx/y5190o71uqRSPCKEh9/L1wYPbrbPmpwd7FVHAshw9cdBSVQcA5vLZQsgfbtgLAM5FazLyPS89nqnTuei80KEdYjSUd9GNfW88FW87IQQHkz3tAMD7BwJ7NmFF0ZZNDXSn+rsD+7bmbbh+AoVVSFQiQP1KJ4UoEfMUMBIIHqIggoM8TgFgFhlJIClgwtgPAPlEuQxiQBkggJRAYJBBwoIMMoKR309TLSw+IQ2czK7ZLfUlICsTeK8mBisKZTDKqaSxpEKRRCwKjNvLenJ5Xx/rzokc6TaWVKR6OkwVs+JiAwAAAiAI0mhWBB5jhbY7pWiY9/XTVhvryVX/CeEg7+snWU6KRWU+zeXkA2RRtWcJ1VCKCn4Mw5qLl5MRYcDKeGiCi4lDZsqRlMIRYRABkrHEkeaI0EURDC8nJUWw0G6AbgAgEOniikN8X0aeIpiIMODmimk0XKeJcphpZ1KKGChrWo7HxCGGMHCEOdMY06xay8IlWJJouzOw8Y1UW4vnqutJgxFR1NDrLxMM7bhgA5OTl3PDrYnjx+LHjlgWLLbUL1AkMdl0Qo5FuZKynJtuHy7bqj+HEwmPPpAY8NtXn29btqL/b48Kg/26stG9u1wXXU47XYhhAm++qgpMwNQUFkLwsZ+UJyLS4S1hfR7Akoudn/hZBcMRfa0pfd60kBUhkuozsa4Y76cI1kjbMVZo0pCWYpIiUAQjKQJLmaOJAYpgeClhZj0UyfJSPJzqpUkDRw/Hg4gKT2MDQ5pMrDslhIy0PS3FYrxfVk7z+kU0Iwu8IggYKyTLCZEglqWhXRvTvj773CWM3R3Yu1krTzJc5oNYrbxWhqAZWeCxomRzeQ4/+dqyptJqKRHDkjjxy5MESgY5nyiN4ICHKJRBooHBgN0oLwExC7IH8SADI8YpCZQEggGZC4iKMPYrIFOIFkEMKiN3jCxhALjiq7MaN/t87Ymxiok0MiTHjDfiOy2RQ3tMZdW8r19KxgGD2n3/5tczf4XQkKmsKtF2UpUP7XlvpDAAIAKwAggBxtpSaooqku7v1hQ46ySkUHNkp7qdZ6wZSDapJ7w7flS1dgPQBaMtX+12VBiO+O+ON2SVT0qRTJ2ZY6m52r9qJQAACA0+/XcmJ895wQaC5ZRk0v/is7TD6b7i2v4n/hp+b7NlwSL/S88DAGky2Zat7PnTb9VTZ5pVq/DpTFmdwppYOMuBtm1mc/OyluWKSwmWHXjycdrlcV96Zf/fHtYeaCxTU1jPPdBz/ecLP/Pbqp/cfaL5wKi37mUfzbv5K8UIwcm9sQfuG4m2OBP6Ig0A0BcevtjZL4nmcgYS7VklB6PDizEFEu0Z+bH1jCXWdMSzcoMQ9CuiGG7Y61l1sRAOpAe6AbAQGqLMFjmVYBxue90y1pNn9vfH2hrzNtxgyCtOD3SPlh8hfGS397xLFVGInjysTQeA1ECP9/wrYycPj1d2AgRI9ysdeURpBAcsyEEDo4BMAyuB6CC8Ak4bkCmGw06UA3gQABAAAuRAXgXkBI56UIEPd7tQnn/0L90mwkKoL2W00mO1FQCM52ufPIn2CW8VjBNt4wuo33WPjajQpozNPVf0J4f1rIr2Zpv2tq5OFTVX+zeDMDgAAEo6hViGcXsE3wAAiKEg7XBoxQCAdriEwQHt6dKWHZEDgNMJT+lAjCeHKy3LveVOABD8p/8Ob2oK68UHe2mOuOqT+V96qOYHtzV2NyUBgCTRnd8tveBmLwDsejXw0NfaJGGGZ2omuCS6lIklVSbO1cIHBntf/SdgDIABoO/1JxFBqoEhQ7uGV1wQQkODm1/OFOl95W8ZGa18Bj4w2P/ms4CQ+ryFj+zKZIUO7UAkpcasZ8pmVsLue+2fGcmx9Csdmb89SstYxa3+7cPDBmCXMkoRxHHYiXICWO+gtHm545v9zkIDQSJFznLGSCMrp4T3US/820JRIEn6xLMESYKiZLsIWp3iG+SKSwCAdjjFUAgAsCyjU0F/YjjI5ORqjdNs1Q0zsfDYA2nRlRX8g3xfr++5J3Vi4zE1hQUAz/6ym+WIi+/O/cojs75/y7FYSPrMb6rmrrYBwKt/7n/6513jd3MUXS+exvb7d2H08iyTCVbUyowjj7UXWP2eTl0HRtVW6sLe45SdFGMV98RqGgMeq60AIDKYXnhVviLjrNqKcVny7zgvvLs5vKsl6/19Lq/yR35XX3ehR5HxF+du0udNGoOF+vTjizylhtceaNv8WJc+W4OzgPv2O6t0ia/8svWdP3cAQF4e+bGPmn7z2zjHoUhEMZuRw0HYbERjoyjLQFFgtRKBgOJwEMGg4vUSPT0yAFx9tcHpJF5+ORUOKwYDMpmISERxOIhYTMlsJxLY4yHa26XCQnJgQHE4iEhE2bCB27WT9/knMhQSJxuN1TW5t96JKHro9ZcAQPANUFZb7m13xQ7sTZxojO7bnX/XRxVeSLU1S5GwvrwGOR6fQFh3INJocl54EVdS6mQuSjafjO7dpS0b2b3DWFWTe9tdAJA8eTy6f4+2qrFM0/1w9/8rW3er19fNCymlsNqgyPiJ73Vu/Ed2i85qzDcwtnCiZ175DYl04FjnS3qJ/9twlMVhLPbFTlIkJ8lpiuScxmJfvFnBMsaKiXHmWKp7IkcBQFEkimBEJZ2ZPBXkJEuZeSnOUmZJ4RnSxEsxGUskoimCOe006GmhOXLFLUV8Ut79dJbBKaLJvBuWC4H40Fv64e25Z0YUVtVyx6ceWQgAXUeiv7x51BeOOqwe9r5HFpjttNFOE+Twc5RRWBUV1MKFdEEBWVhAPvV06tprDG+8mVYUyPESPr9SV0fv2MGvXcsWFZJ794mRiPLGG2kAuOEGw+HD4lVXGo41inVz6Zwc4uRJae8+YeVKNhpVOBbt2y+0tEgb1nMGAzp8RFy/ni0qJBsbJYKAl15KTayw/juYsoWl8th32xmOWH2tGwCElPL7L7Qc3KS3/TIYWacgxYu9Sxu7Xs131pMELSvD07f/ZRAk+mXDOl0ixiCk5FRU9HUkW/eG9708EOgeNSmRlmIAuMA+T1ZEljLxUoIm2TxrbU/4MAAkhGBaiudaaoyMHYBICAECUeFUb4GtzkDbQqkeSU4TqEDBUiDRYeVyCZQvKbyVy2Up84nBjRNPgwLA7DWuyCDfdzKuzwAAAJojehujJqfeiwFw+vWwFl6Wc+cv5qrbf/+fxr0v6ieA1t1TfNVXqtTtx7/UcOC17C+8c0nPsVjfybir0LDruZFIlKxE/fyPr9gFAAhBxRLHpx9bqM0NhZQhvwIAx49L9XV0KoU7OqTVq1hJxiuWMz6/fOiQWFVFnTgh9fXJ69ezb7wBAMCxaM157N59QmUF1dEpHTmKLWZ06JC4di1rtxFqqYoKqqqK6uiUiovI/n75xAnJ4SDy8/+NwvfOKtNUWBjDn7/eqsh4zQ2ewe501knDDNFk/+yiS3gpEU/5KJJT8PRHOv+JIASskWSNpD2Xq17uvOjestd/2/bOQx0ZARPjMrNuXorTJKdgiSY5GYsKllXNbmQcJsYZTQ9gwFYulyY4XkpEUn1mxhXjfWkx5jVX+uLNXnNVnA+YWddQos3K5SaFUCTdf9ppUHex4RN/mr/rub4n//e4Pg8AACqWuhRZv2rpMAhiR7qEQMxQevqAwJJ51rEKq7jOpkt530nFpJ9eM9FnmGPBGPik/pYOBpV3N/MAQBCATzkAnuxJKgoQBKjR+M88k1K3jx0bfn//7e9JNWXr1uGyqmRnp/zSSyl1u7VV+unPYgBAkiDLwzIZyf96xlVYZXNN+qRTYABJUNIJ5cmfdqXi8sV3517zqQKdhdXeMOzcBYAkHzjc/pwkpwGgfWDbOLf/fxW9J2Jv/bFD3UYIGI50FnCz17hL6q0kha74QkWgO3Xw9WGDIiEEmv1bYZzpy6QQUnMBIM9aOxA9rub2RoYnT2PpQQw4lvZhwKpkKNmTqS1TT1aqVzj1SaNhTSRrpLJ6DrCkEEbGVT+HK3L1dvj12afgEzJrIkvqs+imknlWAAj2pZ35nD7vvwWtHlG3J5Oi2/7Xv7LECalLuo+tYTw+/mnz9beYPvahQFfH8FzAV79lfepvyc724d2iEqq782xNE7g9xP0/s993d1CfMUXGVVj/7/lhY34yXPPpgms+XaBNubNa95rCZs4zcSTRzEIAAZoYyHNMbEg4/Kb+09w3ft9+4UdKrvxyJQCsvbMoo7AyTOwXB4D+6KiVpyb2po9NGUvNytMorH0v9OqTNIjBRPRQR7Jd31MtA62Jknprfo2ZZgmRH7kcVjfjyOOSETHYm/ovVlj/Pjz0u3j17FER3T/9XjSz7fYQd9xj+uF3Ipr8f0fGVVgziIlzzS66PJIcvvWbe0cFUp4lcokSGUuDOIur+H1k08Oda+8qsnrY4jqrdlL4fYFmiapl+jCZKUFytG1ZJWXmUp1D43VGSMmqDVUw29JxaOR5KJlnA4COw1GzfWa+i1DJOpv538r3fmY3mlBvt1xeST3zj+Tcevr3v4rl5JHf+ZHtUx8O/vBXDoYBl4u4/5uRtha96XT3x8033W783MeDzSelmlr6k581V9XQP/ylfdPb6fwCKhSUX34+RVHosWdct1876suWtRdy19xoEHjILyR/94vY7h38579mLSwmjUb0qx9Hm09Kut37f2o3mVE4NPyu+ub9NoeLMBjQQ7+LHz5wGpfFWMZVWN+44kxjAjOYOE/bwHvBWLs+44wxIosVHEmIR3GQAyMGzEPKhKw8TgIAiSgvFEZwgIcUB0YAsCJHBAd5SAGAHbk5MIbxUBqSAGBGNgAwgHkI9+OzZpdhDIGetNXDEiSiWEJM6w9kdjFrbi+sXet2FRkYjogHxc6j0b3/6m/Y5B9HIQAAVC1zLL02r6TeZs9lKYYQknJoIN13In5yR/DIO/50fNTNev7dxUW1lvxZ5pxykzq9tfz6/OXX52tlAOAr898VeaV0gYNiCWehYe/zvbrYUUQS1gWljMcKStYQoGE4E9lxKOLM50rqraMUVr0VADoORRZc6h2RHk3RHMvKmwsqlzhsOSwAhAf4pp3BLU90+ztGVnTTIYsYAFxFhnUfLp51nsvmZfmk3Hs8tuu5vgOv6k1alaxTJTue6n36u8MRcDPO9K6yjgWLGUWBL90XWrqSrazRP8gYw9c/HwKA9ZdwGy41/Om3+vniRx+KV88aLnWyUXz0ocSV1xq+/60IAFhtxPd+an/5+dTSlcw7b6RHFQMAAAKhr30uWFVDfeKzFp7HJhP68qdCJWXUl79p/esf4trdh/8Yx3i4kXd/3IQQLF3JfvjmoWBAf+dPEn0/M/Q0ZRk2T49osr+2+HKOsSqKBAADoWN6iWlBAT2LWNihHOfAGIWgk8hRsDyAu/JRaT90AoAXFXTjlrnksoPye04ix43yepU2dRcATMjK43Q9uWqP/DYA1BMre3CriHmYxEjqTLC4GABIhMWx2qp+g/f2H9WyJjKTYsth63M89es9J7YFHvtiQyqmf08iAt36/dlLrx3+7kGFs1B5FnNelXnRlbkl9T3P3D8qPPqKL1RQzGQnlVJR0VVszLqmO5aVyIF2G0KUhRsVQzga2kB2HIosvCynZJ5N/VBORfVqdRyMLBvdeBWCRFd/tWrNHUVaL4K3zOgtM668ueDVB1o3/qVzJEMDn5Sqlzs/8rv6zGmkGKJ6hbN6hXPeRd7Hv9Sgfm+ko785bnIwJjtNUmfdazGNq5yVwmJSdT9lnFAqBAEAYLEQ3/yeLRpRvDlkW+vUJuWjESUaVRxO4vwLubGaDgBamkQAiEax0YTKK6mFS5if/94BAG0tkm5X10iM4bv/E/7ez+yRiPLj70ajEf0jcFrGVVgzCcaqkiKImTycBKIAaRfK7VL0X2aqDCrdATxgx24LsgOAT+nN7EZxEGPFihwU0KpzWgBeF/x9Niidb3MXGwBg/8v6KM3ate4PPzAXESji49/7e89ga4JPyu4iw9Lr8krn2Watdt3zm/o/fPSgbsiz8qZ8VVt1Honufr4v2JMS0orVwxTMstSsdBbXWXc+q5+e/3/rtqtagDaQ33prJQDsf2XgxZ/oz6Hqb1LXdBfT+lkwFdph4opcWJ7IwqJoQjWsSuqsmUREoKK5FqzgzqMRks6iI274Vs3KmwsAYLA1sf3J3v6WOEIov9q8+rZCd7Hhyi9VEhR6+9S0hhbGQN796zqRlzc93Nl5JCoJSl6V6YIPlzgLuHkXea/6StULP9JfZUXGP7lq2OXqKjR86+2Vo/Nnkuld5az09ciLl7IAUFhEAkAqhc1WAgDKyikAWLue7eqUHvxV7JY7TN7c07+fRAEbjCMX4vmnkhdfbiApCAxl0SlaH39bi3T8mPi/Xw6ru/MXMdrdRUsZbSMB4OA+4VP3BG+5w3TDrcaH/5g9mGYCKAC44mpDWQXFpzHLod/+MotCPUPSYnQwdNxhLpYUIRzv0mefAQ3ybjOy1ZMr98obMVYQIACgYdiDSyIKsPpVsAQAlGY3jyilgG5TjjnI4Sl5ZfQ3dDMLSROOPLZ2rfuST5UBQNv+8KsPtGoFWCN5+49qEYG6G6K/veOAcEpBNO2EHU/33vaj2qXX5FUtdyy6PGfvS6M0Xf0GLwCEB/jf3L5PazscesP36gOt9lwuPKA36WOBYccBaxy+h0ReiQ5l9yZMsKY7ALBemzAYpt0jmmgsBIl6j8fEtOIqMpidTDwoAEBOuZEzU/1NcT4hq4vQa5m1yqlqqxPbg3+573DmS6+mncEdT/V+4s/zKxbbL/tM+Yn3At3H9LcrZ6biQeEXN+wN9Q93vGVPaP8rg198eom72LDmQ4Xb/tHj7xx3RJlOTMq6mR7TvspZ2b9HuO5m4y8edAT8CgAc2ifc8wnzz37rGByQFRkO7BFuvdOUl0/yPI5GFJeb+MRnLHXzmM982bJ9C7/5nfR9n7fMX8Tc9wXL9q38s/9ItjRJ3lzyV390/OuZ1JaN6YP7hLs/Zv7Xs+OeqAyH9gur1rC/+qMDALZu4l94OqnbVRvZ2y0rMjicxA9/aU8ksMmEtC7/yUMBwCsvpm69w/jPJ5LX3miYZEAHSaK5q21Viyx2Dw0YwkNiy8FYw7aIJGZ5M9CUYW7J1YFYO02yBa75MxXpbkCmUjRbAjGJYwAQhqE5xFILdhiQUR3VOZDHRFgZxMWViBU53Sg/s0sDU0bUsoSBPDs25qzVrgeOX6hLxArubogdfKNjy+PdulfosuvyTQ4aAJ781vHMfZzhpZ+3LL0mDwCWXpef9VZW5OwLbY7VVlNl4jXduUInZTNOPEsICGQJdx+Lli+yF9dZG7cMwSmPe7vGpaXlgntKAECW8D+/2aj7LlVIy//8ZuM3X1+BCLT+46WPfO6oNldly+PdGW2lkoyIrz7Qetcv5yICLb0m79Vfj3pbnDPO8CqP5ZtfCsOpiAFBwJ+8K6DN1TnLf/idiHYSUDchKAj4Y7ePFCcpMFnQ1nez3D9bNqa3bEwDwGC/rIYp/P5Xo14bul21kRnuPbPIhlNet+PSx+8zB4aUrPe9jnlr7Xd9t9RdMPzZZIbQoPC373fufVPfIKe5tMu/JxBtA4BZhRcTBKU6s86QFE6cwAcIIFQDKoUT++XNCJAayhDHkT5oJ4DIRDb0Ke1DuE/dDWF/RH4PA87M/R+QtwzXe9aQJZyMirKIaY7gE6Pu1zkXuAEgOiT0nshiJMcDQnRIsLoZNXBJS8veUM1Kp7OAu+sXc1/6WXOwL8sddiZMvKZ7/zO79Enj0HEoUr7IXlJ/SmGd8rjr5QAYjqxc6gCAlj2hyCCvzwYY6kq1H4yUL7LPPs9FUmisT+rEtlHPrcqxd4cUGRMkKl9s1+edK6Z9lc8xV1xruOZG45NPJOQZeExnmGGFJQgYYxCz2Uc6Vl/j/thPKlQrPhmVI0MCIGT30AYz6chhPvPbqse+26H7qDCWGqjIu0CWRYpkGdo8I9pKBYMia2b0tApIJaOtFCxjULRhWWc1REsbOAoAFE1YPUz5Ivuc892zVrs2fLL04c8ebT8QzggUzbEAgNXNjLXLtDAcyXCk9uW85dHu+Rd7C2ZZ5l/ird/gObEtsO+lgaOb/GM9+tOAINHcDTlDXcmcCrM+b4oMu7Hqhx/FCRRWTqVJ9Xz3HNcP9zL0noiXL7IzBjKnwjT2oyJ/Z5b5IiEtB3vT7mKDt8yozztXTPsqT8yQX5lGQCbFmrAiy2KWN9wrL6ReeSHLOcyQpew4sy4EQWHAZ/IZv45hhTV7Dv3nP8Svuf40Q0JvEXvPD8oRgn1vBV/4bW/3yZEhbkmt6ZpPFyxa7/jQt0oad0b620c6k+RDHYPbvfYaSeYbu17NpJ8WmgJxisqNpgADIAAMoxb3GMAz6Ts7LVkDR999pKu43nrfXxdYXMzHHqz/wSU7E2ERAAgSGayTjUUiaQSa+0RIyw/cuu/Cj5aef2cRZ6Fq17pr17rTMWnvSwObH+0K9Ex0250WhKB9XygymM6pnBmFVVxvAwCGI/OqzMmImDU6wXQqLCsRGnduS3WEAYA6wtLBj+OHSoZFKDYYLGfFCXBazuQqnw1cpQtcxfMa3/69PmMSjC1bvOCKrgMva0SGcZUuUGQp0Hkwk0IxRpLh+PiUNazK8MVrPil++GMmv+80Q8JL78mjaLT3zeBvP6OfVOpsTPzmU02f/k3VkoudF9+d9+h32rW5sdRgLDUIACxtlk5pW6uV8HqJgQHZbCKsNmSzEYcPi07n8DIaAPCxj5h+92CcICAYVIoKyf4BxeEgBgZkALjlZmM8rmzfIaTTWJYhP49QcwFg5XJmxy5h5XLmldfSTicRjyuZ+vfuze5anhIkTciiAgBVa3Obt0zK15Ch60j03Ye7Lv1sudFGL74qd8vj3Wq6arH2NMaeHR2CMJaxn62JaeWN37W9+0jn4itzl12bX1xv5SzUebcXrrwp/40H27NOpU0SfLo13SdPdEgI9qadBZynxGhxMwSJOg5Hs72SR9C74jUg4lRm1hrGedurv++RLecccSZXecYZPLnNUVCb2eXMLqOzIDrYKvEJo6MgGeq1eMtjvjajPS8Z1n8Eqitry6sJ9YzEKhnsuUZbriwJakGSZhxFdanIYDrqo1hTTvUqhFA80B3uPT7O9ZuIYYUlSUBRSI3gmIA5q2wA8NIf9DPlKhjDiw/2LrnYWbti3EF4sWdpc98mdVtRcP1c+vLLuFBIGRxUkkl8372mokLyxElp3z4hGsPHT4h5eeTttxobGsRDR8R7P2koKiS/e380FsMmIwpHoHY2VVdHx6JYm6tgGBiQFQxqbYODysCgrNY/ui16LB4OECRDgsHOxP3pvDn22GA6PpRmjBRtIB2Fpt6jIaOdWXlPVeNbfb1HgkXznYH2GCJQoEM/KpmAjKc5v3rYbFFknI5JnIWiWaLjcJZR0mTgE/L2J3u3P9mbU2FadUvBihsLaJa4/HMVQlLOqMWpolpYE6zpPiU6DkWcBVzJPKvVzQBAZ7bxIGitp2xLRKiYTxlW8WxWmMFMJqNZjCyjjQaASUY5zTgzcpXPEkZHfn7tBf62veUrbm7d9vfcmtV9je+WL7vpyCs/zale2b7nOX2B0UhCsnjBlcffeRAAWJOzaN6l/ce3FM2/rGnzwwDgLJ7X1/hu2dIbmrY8TJA0xRjEdFyRsngnJ8OwilKHhAQxHHU2Hq48BgB6mrJY8iq9zSkAcOYO32oIUHXBBoe5ZHHVnYsqb19UeXuusy4jnJNDVlVR/f1yR4fs88nFRWRfn/z2O3wopBw8JIZCit+vLFvCpFKYF7C6mMbb7/CJBAYAhIAiweUiEgksK5DJzcsja6op9d/goPL2O3xbu5SpP3PorNRdWbT4lvKSxe7ZG/IX3lhqcnHL76o02BlPpXXNvbMolsQYkzTBWRlJGH4B5syyr7i7ijVP1tQHgEzQplZ9qv4ab5kxMyCaNoOtied/0PSL6/eoT+YFHy7WS0yazJrurhLjiFEzXU65sWxqyOh4U4T9zQnVAVdYO+44tLDWAgBiWvG1JfR5AN6yLN/ts0bSkc8BwGBrliLnhhm8yjOLo3DuYNP2SH9TdKDZ4i3DimTxlAa7jtgL56Rjo6Yas5IIdONTjmlEkrKQEhJhWeQlIQkAgY6D0YHmeKCTMdqFZDgV9SfD/dHB1mmYVzDVIaEsYZoFgswyNaOifuqRsbox4Kbet13WiubedyLJPgCoyh/5BqK1VfrJz0Ze3YePiIpmoQx1gY7NW3i1Nu1iGgDwl4dH3XbaXLVO9a/WJXf4SJa3sRaJV/h4qnpd3om3+ypWeQ8800ExhKvEjDG07/J37PEDQHQwlQjygyciAAAIHX+712hnDFaaj5+m8gzqFBgADGl8ww3vDlUudSACrbq18K0/jBpNT4+B1kTjlqFFV+TacrisEQkAkIkYmMCtM/Ga7lNC1VAldVarl8EK7jqaPQxHFpXj2wL16z2VSxxZ48jcxQY1KuLkjmDW+7B2rWusCTP3Qo96c7Zp5jrOMTN+lWcKWUyTNAcAJG2QRT4dC1g8pf2Nm4sWXNF/fLNeekLSUT8gwlE4p33302qKkplrVF95WBkbeTd5CABYsIg5dEA0mVBJ6WlsEH8vDwCV88d99alZvu5RN1kg2qpqKwDoHtqnbpAUIk+t06iidkOnMTUeBwQAiNCXUtEutaFFmzI2V4csKjF/2uxi+xvDHbv9qz5aXbLYPXAiAgDax5Wk0MIbSod3sjwvE1G+yL76tgIAwAo+utGfSd/5dG88IADAxfeWzl3nzqRrKay1qIOaDASJKsaZpGcMZPFcKwBEBtPj6RpZwlE/DwBlC+3aL0W0qGu6p+NSZlHNadN3IiamlaI6qz2XG2hJ6L5w1PLOnzuwggkS3faj2bqviBiOvO2HtaqTauNfO7VZGdZ8qMhTOmoq0GijL/tMOQAoMt77L71H5pwxvat8NmDNzqL5l3FWb9G8y2jW7G/b6y5fUrLoGtbkiPk74oEukjakon6TqygZ7J24LGO0j+warIggTc4Cs7u4YO56ktZHPgFAItCdW3Ne0fzL9RmTgwKAOXX0kcPCKy+mV53HTDxLeGRLpKjaeOMXi35053HtUiEqDEfc+KUiADi4MaTLypAWht+rNhc1Z5l591sRk5VMRGWTlZyz1Lx3Y0QSsSzhpettgQFRFBRZhsEu3lvIzF5sPrglCgjmLDPv2xgReEwQIArZH8Xpsf/pdgBoercfAFp3+Np3+9Xwzt4jQa3Y2z9vIGkCADY9cCxTSofFzcy72JvZJUlkcTMVSxxzL3CrT/62f/YOaoYzfFJ+7EsNn/zLApImPvr7eU07g41bA1E/T5LI7GJyK0yVSx2uIsNPrtqdjIyYciSFPvPEomBf+sR7ga6GaLA3LQmKwUrlVpiWXpOnPrQ7ns7ucFQ5unFo1S0FVjfzqUcWbn6sKzzAUwxhdtBGO73tHz1wujXdp0QmfBTGHw+qdB2Jvvlg+yWfLq9e7vzqv5Zt+2dPf3McAApqLOqnOQDw7iNd2riQDMmISDHEF59e8t7futsPRsS0kltlWndPibOAA4Ctf+se6hp35pQgUcbYpFhikrEFBIm4U+qeNhC6VXS0TO8qnw0MCTJxeL9y5GSf0qZGArVse4IgKdUaivnaYr42ADj4/P/TFQQAPh7sPvRa96HXMina3YK6i1p3/DMR7MmpWW3xlPvb9g7LHHxV3UiEek+8+2d1expQAPD6K6mP3WsGgJYmaQJtBQBvPtp/4e3eygXm//fc3Ff/0ndiTzTiFwHA7mVmLbVc8fH8/ApDIiK9+eiouTOPrVpWhGCsAwCq8i9s7d+sYDk4KGIFLrzRmU4qdg8d9osmK7nqCvumZ4IAUFTNFddw+zZFS2ZxVfOMFhvJmcgl621bXwxiBZZdbE9G5cPbY1O2cKbCBI+oOks4AQWzLB9+YMRbp2P7k71jv2hr3h168MMH7vzFXJuXVT/W1QnAmCap5qczn1t5c4H6LYuO3c/3a5c2Hcvrv2urWel0FxuK66x3/nxuJj0dk1SFhQjEmamZmrRqPxRRFVbWCCwtb/y+XZbwpZ8p95YZr/tGtTYLK3jjXztf/VWrNjHD0Y1Dh94Y/PCv6y66t0yXdfgt38s/b9Elml3Mpx9dyJkpg4XSmplLr8lbek2eIuNUTErHpZbdoX9qFmUtmmP50E/mcBbKYKEYw0ipi+8tu/jeMllUUjEpHZf3vzrw+m/aMrkwrat8NhBB4MAQxIPauMWRsdsZEB1s8VYul8QUSTL+1j36bACA8X6ZZVJQABAYUv7420nNc4X94h++2PqZ31YVVhs+8dMKfTZAOin/+lPNsdBIzw2M3WrMV7BEEgwAspny1fSCCq6oigv6RLONFHnFbCP5lCKLwBoIPqX4ewV/r2BzUYUVXH8HL4nY1yOE/GLpbENRFbfj9fC8VZY975zmpv+3gk/K4f5024Hwzmf7uo5kd9+07gt//6IdS6/Nm3OBp2CWWZ0LiwfFwfZE657woTd9WqMMACRB+eXNexdemlMyz+Yq5AxWmqKRkFZC/emOQ5E9L/S37Q9r5ccSDwi/uGHPuntK5lzgdhcbKIZIxaRQXzrjA5pgTfdp0HFwuNrOw9nPgJa3/9Rx5B3/mtsLq1c67TkcxjgyyDftCm37Z09/07i3a9uB8PH3Aj+5ave6j5TMWu20eVkhJfccj+16NvvyMhSNciuzOOlVCBKZ7LTJTuu+9WFNVE7FuKVImjA7GbMTHHmcPm/qV/lsIINEIioPStvxsXEXekRgWVAhp/jk8R591vgMW2cILAsquCrvlMpOhuk4JsrrTLd/s6RqoUWXfvS9yN9/2Kn72WeaMhR7llIkm0wHMOBIsi+WHGV/Df98L6H7Pa0Rzr/WyRmJ7a+GY+FhPThvtSXsFztP6t2x/yY8u7PM6aHWVTbrM/5zyHSh7qJc9YuWo29NLeLsvwAWGWqZFQf5TfqMMdQwi7rFJvWb1n8fjMgyXpMIILxEUQJHY3hc7411WTVX7IlsP873BW2rZ0d3nBjPGToWbVl93pkx7vTQBLQdTXzvlsacEq5ygdnqpDGGiF9oOhAL9GUJyxSlVJd/D0nQGe+VjuGf7x1HWwHA5hf0fT68LftlAIAV60xX3W6bNY8zW4iAT2pp5F99Krpz01l/ZZ05lbXsX14tzuwKPB4akA7uSj75p3B3e5YTe26YYE33M6diNvvX14ovmtUi8JN9Ev49OSns1ye937DIUEzPOiEMu5B0UMDYkceKnDF5RGFRVqPnhpUAEHzzIMFSjnX1UiRBe2yEkfVcs5zNdyYautIdPs8NKxFFht49yhW6mFwH7bFGth2PH+nI1GMoz8mUlWIp9+WLCSObPNETP9SeKSsOhjPbSiJtXzOHNBtSbQOxfS0jMr5wzu3nA8ahTUdSrcPvy2GFVV1DNZ2UyiupsUupjsdgZ3qwc1I2jiilRBg2u1jazIvj2vNnAkHAF3/gveIWG8bQfIxvaZQLS+nVF5lpBv1HKCyVoUFp37YkALg8VOUc9vKbbeuvtn7pjt6GfeO6is8qE6/pfoYsXj1qLu/s4SEL86lyBSsGwtQiHg7KA1X0AgNhJoFqFg/GlbBudw6zgkS0iIeDG2cxSxnEkkC1iUcjij4uqZSuLaSqD/Gb40p4NrNMwoKRsPI4xSB2QOrIo8pkLHHIdELcE1ciC9h1UWXIgCxhxdcjNc9mltGIIYBsEvZ7qWIBp/qkNgLIJdxFu9Ova1tVRNVoaz7Cv6fNNSCztoMi5svpOjOyz2VW+uWeQblL12YMuE9ptSGPNtF15ZLAa/tFf6TgU5f1/OaV2P5Wvmco0dgNAOkuv/+5nVhW3FctFQMxYSDkvWlVqqkv2dyXfHF3wb2XahVWqm0wU5ZymNkCV9cv/gUA2rLJ4z2Z7a6fPO97bmfBxy+K7WtxrJ+XSR94dBNpYgcee1cMjhgoFAAUFJL3fMJ8olF0e4hf/iQ2sd/9DNFGus8st93rvOIWW1+X+K1P9rceH77Vahdw/1lv7/aTwo+/POxqYTn0+fu9l95o/cL3PB+5VH/P/RewdO05UlgAAICOCtvMhL2crlOwTCL6CP+eEVmqmUUd4rHRu40AcITf6iRzS6haAHASOfv4twWc/fXcITaakV3dRgD9cnslMb9TbJzFLAUABcsNwg4r4Sqj6o4K24zIfFLaq47UvGSRiPnjwm4DMs9iljQKu+YwK/qkNg9Z6Jd77IRH2yoBp7Q163J7pRZtB4/w73WIjflU+XEhu9vbSXgBoHv0ipUESyspHssKosbEuJwKLyKNrOCLYEHyP7PdPK9MCsUVQZr4x2XEoeGhlbasdWl1ZhsAvDeuHHptv5zktTLCYHjgic2e61fE9rXEDg7PXVAA0Nsj/+2RxPHj4uRnCSa5HhYCVFWw3h9pqshbi7EMAEbOfTYUlsVG3PFppyzjb3ysr6NpZADVeDDLTVZdx975aWfdEoPRRPR1iW//K/bUn0NjIyQmKbZ0rfGuz7oqa9l0StmzJfmnnwwJY2SmB5/Gv/6O74IrLBWzWHcONTQ4fHlWrDP96K/5X7mr9+i+9Ee/7Dr/UrPNRQb98lvPR//6i4C2hpnqwoZrLN/8Ve6jvw4++sCo+l/YW262Ehtq9FNv6660XH6ztaqWNVqIWFjp6RA2vhT71xPDHvd1V1quus1WWcuqK2S+daIyU/CJ3wV1XZgpEkoYACQskECbCJuD8NSz5wFAQonodg2EOYGjAJBUhp+0RmH3HGaFiIWT4l4Rn2Z4LmFBAVmEYbEUTgBAEkcNhAkAZJAzfiUjYU3gCACkcJxDJh6nABCLDLlUaZOwz0nmaVtFI0Zbs67NMLqDav0TQABJAp1HlPYrHZnE4NuHcj90vsKLkW2NI6IAAJBqGcj78IXh7cdDm47k3LqGHwilWqYczqYtq902zeXMdaWg4KTTok3nShTbytmIIrUK8ZQPC4EsQf18+sih0weATH49rIkj3WeQ8y+zsBza8npcq62ysvoi83d/nysJeMfGRCQkz6rnPvpl19K1xi/f0au1xSYvdv8f8kQBv/dmPB5VFq0y/P7ZokzumZNO4d4OoWI26/SQGYWlkpNP3/N3l9VB7tqcQAjVLeY4w6gYy/elCwjBN36Zu+EaSzyq7NmaiARlbx49f4Xh8O6RIW00JO/ZmtizNXHTRx12J/nXXwTkUxP5DfuyvGBmBK0CTiiRqBI6JuxQd+2ER7vrILwOygsABmRWU8KK7yDvK6KqC6iqDvGYmjhJjIQFAIzImlRUT8hIQxJKxE54AMCAzGmcAIABuT2fKieBSuGErpG1zLJMQbWsNtdDFureQhiUCRan1OqpDHz3UM+DryE0/F1E8K2DmazA6/sRTWJRBoDuX7+MKAJLSmz/cGRJ9wMvZSRVMmWlULz/sWEDRfBFMmVBUw8AtDV0nio6Kp3vDQLGWB4Z9A13acEipuGIuGgJc+yoqEaNj8c01sMKRIc7BppI95llzkIOAPZuTeozRmN3kl//eU4yrnzqup6MJ/vDX3Dd9VnnR77k+sMPh90TkxSjKPSF73kAw+dv7Tl+KA0ABAk/fCh/+TrTGQSa6LHYSQCIx/QD9Y982bX97fgv/9eXORZnGHkRvV9duPpDtg3XWI4fSn/tw33R8HAVDItozcLt+7YlVT/dpTdY7U7yqT+HzvGwPaz4XTh/HrsGAIbk3l6pVbdbAJX17JqUEgfANGLrmFUSiBTQJ8X9uqpoxFbQ9XbSW4GogJzF6GCAq2NWsch4XNSPzvxyj5vMr2fXkECqbvtBqWuV4apW8QiMaaSurC5XOOVuyxBXIiwyzmPX9EltfjlLbAEFtAySPqYBAx5nOQtVWw1vS/q7cfJoy45XTyYdZ5Z20VFaRn38PvP6i7KEjWjxFrEPH1v6eNOyz/6uqqhmlAOipNb0uQerH29a9sjxpXllw/UghCyGXN0/bamZ4pd/L9jcXrVghUHd9eRSm9urMv9qFwy35+aPOTa3V935mVHReiSJnttd9kZjpcE4bKFMUmzpWuPm9qrv/ylPK1ZTx21ur9rUUqVNnAyVtezm9qqfPTYq/rO6jn23rer5PeVaL8GKdabN7VUvHSg3mkaZVFpmtgsbrrFsbq+6+/MujRQAwAt7y98+OTKgA4C/vVu6ub2quGJScVtPbCzZ3F7FsBN5QP6j8ZJFFfQ8feq/ASwy1JJLPUSh+jMI04C0WEiLBdE0abUSLEtarYiiKJuNYFlEkoiiAID2eOwXrFMlCY6jbDZEM5TdrkoiiqIcDvUvYTDQXq9aVpXUH+8UwxZWeSUlinj2XPqdtyayyae6HhaBqFznHATIba0MxtoJgjayjn3NT+jKnjnqE5g+tYAMz+PtbycAoKaedeeMGMbzlhkA4MCOUYaYLOPDu1PrrrTMXsAd2J6cvFhNHQcAR0ePYpob05KEiQndkKcFIbDYyfnLDPd+w40QPPG74NjX3vHD6WQi+wsK3qcuOD1kYSnd2SJ0tZ5mYP4B7y8iFtI4QQOjt7Amjamujna5sKyIfh/t8UihMGmzUlYr390jR6PJpiYAEP1+KRpRJYEgRJ8PUVS6s9OyeAnldKTbO5RUElE0lsRUczNbUIiKS5R0iikopGzWwEsvKeksumj4Yd70dhoATvsjFFNdD0tWxObejR5bdSDWrg4Mqws2EIhU8DiW3nRJpzAAMNzwMxYNyd/8eB8A3P9g3ppLhz0RAOD2UgAQ8OmPrqZ4c4fPxiTF7C4SAEJDo1xLigzxqGK1jZlnmRxL1hg3t4+YNrKMH/tN8IXHwyMSpxjsm2iK5H3pgjuXAoDB3okaNlNYkTOJYxKIAKBduX8CbMiVxHEReG3ZM2G8ejLt8cndPrlbm5Vpgzbx3MMigx/3GZBJ/Y07ffYkkKNRwEA5HYTRKAWDYiCISDLZ3SMGA4bqGnysAQBot5v2eISeHsDAFBQQBoMci/FdXYw3R+jvl8JhY21t4tgx05w5wqCPzvGmTp5kCwqkQEDo6VH47Kdo+MZdt4ErLiHD4dMsLzPV9bBUUnyosmAdSdAUwZgNnhnXVgDgH5AAICd/xJjKynjXRjUmtKviaDJH0ImpjLV9sq55MkmG47AwJBNKd5u4/e24rz/78z/xUc5NF8jROk0dX4znBJkeNuTkcVqANANcGpIMcBIICAgSKFUpMMCVErMGcXcEBwDAghwi5tVf8x5dj8uGXCLwCpYzZQHAjOwKyEkcI4CwImcaJ9WjUIhWsKzbBgBVRoA0CVSmHhYMJCIRoASOTdCeTBsyEV4zCUEAxlmuZTbSOFFIVMH498lpSTQ0DG+pS2cApJqbACFDVVWq6aSaIw4Nhd54Q902L1gQP3RIlYzt26uW4vt6AWOhvw8wViXT7e3aOsdCgeZ3CYuKT/PAT3U9LJV42t/cu9FlKZMV8Wj786PyZoiTR9IXXWuZu9jw1gvjBsEDgL9fqqkDdw7V3z3qrej0kgDgPzUNN0mxcEAGAId71EkjCLDap2ybZNDGYZ0JZ6MLujEiSSKTldD65oN+CQC8+aefVp8kBUS5iPkisqpNOVaAypuVI16iIIAHeJxyodw0JFI4QQBBA6P+rGQeKsEADsLTohzVWjFqPVbkHMJ9GJRMWRfKNSFrHIeTEGOAI4CoJOsb5F3FRFUUB51EbotyRLudSxSncSqXKG5XGmWQMvUUEZUxHHah3CZ8aLz2eImCTBsyDRsLaTUDgJLiCaMB8zziWCWeJMwmnE5jUQKEsCQZ6mYjhko1nCQ4TkmmCKNBSaWM82rTJ9vk6PD9z+bY6h+9b1TVAD2PbO5/eicAMIjDoCRxXCeghTRxs356O1fg6Hls6+AL+hmDEbRPO8applGxXRniBw+O2ldLaf9qGZtyCgIAXnkxNeSXH3ow3tMtTbzi6PTWwwIAXowFYx2RZB/LDI8WZ5atb8QVBS680mJzZHnSMhzcmQKAhSuHffMqJInmLzMKPD55eLjZkxRrPsYDwNxFo2YqSqtYmpmy92fGmdkuJOMKALhzRp3bmnpWtzaZf0Aa7JVKq5j84knpLD6NAUA7gajDCBYf7g3jQCYFAQEACij8qW8n0pAUIB3DYQCwIAeD2BTEiVNL6aqcqmcIRpcNYR8A2JALACzIYUZ2CmgAQID8uD8GQQ4ZtdsGMA/hvjAeMiKLth4EaBB3RyFII2a89mjbMAHGBXXWi8+3XbneMKfaeuk647xa2+UX2q/aYFq2wFA3CwgEAKTNoiTTlvNXGuZUWy9cbZhTbVm7grBatPUoopzqGhLDyawfAMpYooFl0ajrrsNUmWMs9xIs7Vo7W5/3/jF8XdXfJSQQmnhIeGRLBABu/GIRzWZRbOOth2XiXPPLb85z1ec56/I0SyTPIP4B6ZUnIyYL8YOH8rRedh1vPh+NhOQb7nEUlY0MWu/4jNPpIV97OpqID3d+kmL7tyVDQ/KqDabZ84YvPEWhuz8/amLu/WJmu9B8jMcYVl9kzrwPTGbiE19zj5YCAHj+sTBC8LWf5ZjMo+4Q1b2lo69TBID6paO0qpYg9lUSdS6UCwAxHK4k6uzIDQAmZLUjdw4qPqVfiEKiAgD8uJcGFgCE0b85o9bjRF5dWTVC3QBmADAic2bKDAMUE9U2cCdxTLsdxINlRK0TeWM4rGuDlqzt0bZhAuRIVPINIUCEySgFgqIvIMcSqSPH0y0dlMeFBREAsCQxhXmIJAiTEUsSYTJiUSSMo06jGIw3fOLPh2799b4rfnzia3/XZgEAASSLDBbk0KVrSbQMJtt9ckrwv3lYnzc+tsUVxrLT9PFMGL5Cc+vpFavYwQH5pQl/j8zuoX/69jzOSPY0pSZYD+urFx3WrjDjtc+SZD4Yax+p6CzAGYmfP14wdxEnSfjEoXQiruQU0CWVDEJw33XdmZD3RauMP/xLPlbw9neGwylrF3BNR/nP39qjnXSbpNiaS83/7/d5Ao/fezPOp3HdYo6iEZ/GJRXMVFdrUD9+3rs1+ZW79EE3OtRI9xceD//6O359noaZ7cK3f5O77kpL0C/v3pygGTR/mSERVxCCvCJaG+lOkHD/g3mrLzJHQvKeLclYRHZ5qVnzuJZjvDoNomXRKuMv/laQTiqbX4sn4orFRm57K771jVHjFAQonygLYV8SxxEQeBznesbPPexHG+OaGc+7TACpDt9AI1NF1LcoR8dua2UmJmt7Jll2GK0fByFudqUciYm9A6Nyx/7Nhqkqr/Y3d4NmSEgC6SYKbMjVJB/UCZ8JbJ6j/uFP+t883PHAa/q8GWL4vTfJ3yWcxnpYABBN9tcWX84xVvUnVAdCU4sVniTppPKFW3uuu9t+0XWWyjmcouCAT3rvjfi2t+OZTwsBYP/25Cev7rr7864l5xkNZmKgR3z018EnHwqlk6O6PUmxra/Hv/7Rvrs+41xziTmdUnZvTv7px0N3fc5ZMrlApLPKzHbhx18ZHOiVLrzSctF1lmhY2bUp8dBPhj75DXde0Sj7QpHh2/f2X3y99dIbrSsvNLEGFA0pHU38Wy9EtWIq+7cnv31v/+33OdZcaiZJ5OsXt72l96pgwBEcUAMjx9NWACM/izueRhgvPaOtQCPjx31Zt7UyE5O1PZMsO8xo31C6cfT7b6wPaBxtlRUSaBtyjbf4zLSxLijVJ800wxbW/IX0gkWM36e88uJEFpbKlNbDAgCOtjqtZZndvsAULMwP+IAPOEPGWlgMcF6iSICUT+nRCZ8Jld+8zrG65lxYWAihR/6cGJ01LlNaDwsA0mJ0MHTcYS6WFCEc79JnnwEIEXkX3UhbbIikI437Q0d3eZatt9cv63zmT0L4NN7NM4exu4TwiD/4Az7gPwUCETEcVAMvZgqCoSzzivWpM82wwqqopIIBJZlQ/P5xrW4dk18Pi6YMc0uuDsTaaZItcM0/1vmSXmK6GApKsSR2PvsQAKjWon/3O6wnf7TUWYEyWVwL1/RvekGf8X7AFbk8F8+z1BWzOTbSxMlJXook0z3ByMH28M4mYUhv+RtKPc7Vsyx1xVyxmzJzWJalSDLZ6gtsbQxuadQNXCq+fo1zzezm7z4TP95b+rnLbAtKxUiy/5ld/tcOAkDejctzrl5Cmtn4sZ7OB99K9wZHFQYAANpu9F612L6kgs2zEywtRpKJk/2Bd46GdjVlHSRlpuQP3vyAFE3RdqP3ysWOldWM14oQEoLxeGPP4Ev7ky2nHDqnmFK/zhznmtmeS+YbK3IIjhYDsfDulv5nd4mBeNHHLsy9bml4Z3Pz/c9mhNXTCAD7rviJ9mveDEte/zoABLceb/3Rv3RZM94vEfM5RLEFOXqUEf8jACCSWPzK17QpAOB/7WDHb9/QJWbIvW6psTLXWOblilyIJADAc/E8z8XzdGL7r/6ZIgx7iko+fYn38gUAcPTjD6W7sytNY7l3zu8/AgCDL+7r+uPbmfRhhdXVKc1fSAPAi8/rB3RnjtNc2uXfE4i2AcCswosJglKdWWeOFAsbcotps02MRyDLdUN5668nOSNBUQNbXs5de2XXvx6uuOvL/RtfYGxOReCjzUe00vbaxbZZCxRZjLedkJJRQ06Rb8ebtMWet+GGruf/knfhdaTBTNC0f9c7WBI9Kzaw7ryCS2+NtRyLNh/VHsi1aK3MJ1mnV4pHSYOx55W/5Zx3OW1zETQz+N6r/FB/8XUfTQ10M3ZXsqctdGSXtg1TBVFk8SfWey9feGpwDwBAWQ2U1cAVuewrqoTBiE5hlX7uUs8l87UpiCIYr43x2uwrqtwb6pu/+4z2S1cVQ7E797pllvpiAGANTOlnLhGDca7QVXjPBaqAdWFZ9fdvPvqxh3QfrDpW1ZR96QrSMOIRY1wWZqXFsbI6sr+t9UcvyolxX3uM28J4bVXfvYFxjfgfuAInV+AMvKv3hE6vX9MDkUT51652njcrk8LmOXKuWeJaN7fp208bilwa2TPlbPSLAkYEgQZGPw+AcarDT9mMlMWAqCyRAGMpvPt8RE8USzQW3yv7VYXlvWxB15/e0WcDAIB7Q726MfTWKA8SBQDVNdR5a9kXn0+1NM+AHmEMBEWjZHTkDMZSAxV5F8iySJEsQ5tnSlsBgBAJ+ra9VnjVXUJoaHDLS1JylMvWUjlXTif733mWsTlz112LZYlkOTESMOYVUyZL4OA2rTBpMDnmr2z/529V56WlolabC4BMRZUdTz+YOcTQ3s322kX9G58HAEtlnfZAUjwaPX7Qu/rSwL4tuRdea8wvJRi255XHGYdHVZqM3T2w6V8zMGhFUPnNa+3LqwAAS3JoR1O8sUeMJCmLgc212xaVkyY2sq9VVyh+rMdzyfx0TyC8uyXRPCAGYqSJNZR5c65aTDtMtoVludcs6X9Gr0a9Vy5SeLHle8+RJq7kUxcRLF1w5xou1+5/7WDwvRPOtbM9l8xnc+22JeXhnSPuYfvSyspvXgsIiYH44Mv70l0BOS2wuXb3RfXmWQW2ReWV37qu6Rv/zBorBACmqryCO9dQVmNwS2PsWI8cT9NOs6k6z1JXHDvarROeXr+mR+GHz1e1leCLDjy3O9nhIxjaPKcw58pFVd+9cepfYU7E2eiXAgoJ1NjVGrCCG+79i7rN5trrH7lXm5uVw3f9Xt0gWFqVD7x7rPvPG0cJAWTMKwBIdfhjDd2WuUWu9XU9j2zWZqkgknCePwcAEs39yTafNosCgEVLmV/8JHbLh4wzorA++sPy5Ze77qzenUlJ8qGOwe1ee40k841dr2pkZ4B4Z1O8s8k2a37uumt7XnlCm8U6PXxgAACESJC2OuJtx63V8yInD5uKqwiaFiOjBi+M3cUHBrJMtQzffbjv7WfyL75ZTqcG3n1BTo+yQ3UHkuJRmU8pkiSnkwDAunKMBWWFV9wJAHxgEACwKMyAtgLwXrZQ1Vap7kDzd57h+0Pa3O4/byQNzFhdENh8LN0TjJ8YFTwR3t0S3Nw458GPkAbGecGcsQ8A47Ee/8Ljaik2z55/6ypjmTfe2KMOFmJHOh0rayirwVxTkFFYhIEp+9IVgFCiuf/EV/6u8CMx9/7XD5V96Qr3+jrrvBLnBXMCGxsyWVpKPnWxGE4c+/RfU52jTlfW37KeXr+mAZvnyLl2KQDwg5HGzz4iRYdvhsi+1uCmhtm/vltrTp45M94vBEQZWRvHYX6cNVRV5OTI3PoEiKFh3zdxqteKIGUSx8P38n7L3CLKzDnX1g69PWqgAwC2JRW03QgAQ2NCwAgA6O+TP/IJk9tNfOQTJl32NDBa9PYhQkQ85Wvt39rp240n+LWJaXDqXZbs7yJo/V3CBwZZdy4AMDanGA2lBnusNfOSfR1YkRVx1AcrACBGgqwrV3WEAYAiCgRrAADW4VFTkr3tXS/8NdXf4ahbDgBYkYlTP2yrO5CamIEPDKZ9vT2vPN7zyuOD770K2cau0wFB3k3LAQBLcvN39dpKRU5lmQbBkqK7+1X4gXDscCcAZB3RyAk+UyrWMGzdhLafVDewglNdQwDAuEfGbp4N9ZTVAAAdD7ym1VYqPX/dpG5kjP+xIJps/cmLOm0FMOqHuEcSp9WvaeBeX4cIBAB9T7yX0VYqqe6A76X92pQzZ8b7hUHpUk5GcCCKszgczw2h7SfFYBwA1LGhDvf6OgBQBCmwuVGXRQHA5o385o2T0qaTwWDWKyyHudjA2HsDhwBgVtElM+h0N5fWuJesU0QBkcTgllcoo8WzfL0hr8i7+tJ4x4lwwz5zaU3hlXcSFD2w+SVQZNZ1tRgJyqkkGmO1S8l4+Ojukus/qghCoqs51LDHveSCwis+JMYigDFpMBVeepss8CTDDmx+EQD4oQHKYiu66q7wsb2x1kbtgdyLz9fWnOzrMJfWFF11FwDE2o6HG8b/LGsqGEo8jNcGAKEdTXxfFm01DQR/FAAQRWaWl8zAD0Yy21I4qW6ke0bueDnBAwDB0ZkU+7JKABBDCZ1VryKGk2IoQTtM5lnjTpIk2wbjx2Zg3n2Cfk0Dy9wiAACMQzuzfDcX3t2cd/MKferZ4Uz6RQGdgCzBcecGLCv+1w/l377aVJNvrMhJtg5msiiLQb1zQu+dUG8qLcNO9xnEYNbXSZGcJJ86MMYz6HSPt5+It5/QpvRvegE0M3eqjylD05/uBwDftuxBIqGju0NHR0aync/9maAIg5UeDPGAofP5P2tkActS5zN/zOxqD9T39jMA0PPK4wDQ9fxfAMC3481MLgC0PfFL7e70MFXkqhuxo1OPFEHIWl9sXVRuLPPSLjNlMRAsRbA0wYyEuehsGDk+MnxQxOHLJ8U09oWCAQBpPkY1VuUCAO0wqfNf40GwNMHSY00wAEg09euTJmbq/ZoGXJELAAR/NOugSavEZ4yZ7peIeS9RZESWrGslnxt8rx/Mu2UlIgnv5Qs7fvN6Jt15fq36KxhZPwnSK5cMGz6Uo0+aHI6ckXesSjDWPr/8ZgProEkOIWKmtNXZhmLJOx5a3r5nqOG13qH2Ue78fwcom0HdEANTa5t5dkHp5y8zFLszKViS5QQvhhKUmSVNnEZ2BCXbYrXjLXELAIhAlHm4hacFUSRkU1haLXlaptevaUCZOQDQDQYzTDDpOT3ORr8oxJiRzY/79LOE5xAxEA/taHKeN8t1fm33nzdm3BfuDXUAwPeFsr6Jx1VYd3y7VJ80XSSZP9j6T7u5SFbEcFw/uQMArJkuW+ZOx8Su/QFFwUXznNZcQ/fBYHQw5S4zcxY63J/Kr7W1bPcrkmLLM+TPtXcfDMaHeADwVlkBwFFobH7Pp8iKtqzuKNYcAyIgb7attyEc86UBYIKqOAtVvSaHj0t9DeFgdxIAHEWm3FnWjr2BVFjQCTuLjKMaOboZw8ettftbY4GOOOj6K2NdMybLqVHtlG44Y3lOzY9vIxgKS4r/9YPBbSdS7f6MoVT6+cvGRtAMM3Y6YmLQ8KfEyZaBzt+/pc8djZLK3vHJH3P6/ZoGenfCKLCCh7/smwrjxRCcpX6JmOchxQA7pZtnxvG9vN953izCwLgunOt75QAAGIrdpqo8GMe8gsxqDeOhyHiq//RVAACArIiBaFtWbUUbyFt+vQQRYM83YgwUQ3gqLEJSuulXiwFg1UeqnCWm23+/LKfaOveSfHu+cf3na9NR8ar757NmGgBu/PmisqVu1kRhBevK6ihf7t7wpTlCSr72hwsplpy4KoIiMAaJV4SkDAA5NdYLPl3Dx6VrvjefMVI6YV0jdc0oX+6+4tvz+Lh4xbfrWTOl6+/YZkwSKTb8JqftU5gqKbhrjTqOaPnh850PvhU70qUd1o332EwDLCuqAwKxdPxE78T/sjrRp8Q56xec8taR5uymDWFgpqqtAGA8Q+ks9YtGLI9TNLCZBSreF2JHu1IdfgDwXDbsenetrwMArOChd45qJTOMa2EBwEBH+qsXZddzE/Czt+fllGQ/+1kpmu9s3uY7/vawt0IWQZaU/Dl2zkIjApEUOvpqb8VKb/N7vrJl7urzczgrPfvCPKOdyZtt69g7lAgKu//elrXs2Mfg5KaBtp3+kkWu3Bpr/lz7BFXF/eneoyE1HQBmXZC3958d3YeCngpL8UJnyzafVljXSFnE2mYAwLE3ett3D1Ws9FpzDRYPp+3v2B6p6acl1T7syTbPKfS/fmhU3vhY6ooBIN0b1EZLZWA9Nn3SGZBsHbTUFxsKnZTVMN4AaqY4l/1K9wTNNiObYyM4WknrR7JcvkOXopKJpyWN7CjfHwCMP9N3lvolY4lCNAEohygeUDr12ecQ3ysHSj59sbHMa6rKTbQMqGtvRfa2qHOIY5lIYcWC+osxGVKxLM6OCRDTMmcZsSzmXVXEmqgtfzhZssilvqiwgrGMAQAhEJJyw+u9h18asdQkfuRwurJ6dQXAmikAYAykkJInrkoHnxDVspyZFpISjBHWNnJsFyRh2NeDxvR3bDMmSbJ1QJ1lc543u/fRLWO/v8kKwdIwTogN7TCZZxfoU8+A8O5mS30xIOS9fGHfP7frs2eUc9mvWEO3eU4hIGRfXhUcM+9uW1SuS1HJWMRcoTN+XB+m4FhVo0tROUv9kkDsUI7rU88MfGoqhhrHWszK0KaGwnvOJ42s64I5iCLVie/xxoMw8ZBQt0rMJEnGx33ss9J9KGj1cld+d95V989njFSoO1G9NmfDF2sZgz48AgAaXu+tWpNz2Tfqrv7efJLRN37isgBQdZ734q/OtXg5X3N04qp0HPpX9/yriy752lxbvqHr4GmmgSZuhq6/U2qGFqxgdeFagqGqvnMD7TLrJQAIjtYFMQq+CAAYCl2UZZRHHNFk2Rcvn+o3FhPje/2QGE4CQP5tq9QA17EYK3N1LZke57JfQxuPqi/DwjvX6A7HuCxqTOlYMjOeuTcuH50Dpuq8zJhIx7ns1xmCJUU1i8xzCicfOqukhMA7DQBgX1ZlW1oJAGIoEdnTqpc7xbgj2Bu+UNjZmNT+jPMk+dzvqxdtcGgj3ScDxRKSoKj3AckQioTHDugy0BwpCUpWgQnKzr+6iE9KTVsG5VP2DkxY1VgolpD4cefFtEzQDBVtf2GKzciASKLmR7eqowaFF4NbjydO9klxnrJwtMtirs6z1BU3fefp6MGOTJHCey7Iu3E5AMRP9PY98V66N0gwlGl2Ye51Sw0l7mS7T10uUvupqvrVbmR/W9P/PqWmcEWuuoc+DgCNn3000Tz8HFZ9+wb7iirdF7/WeSXV379FdbVED3ZE9rUKwTgiCdpuMhS7LPUlbK694d6/qI6MDJmPn/uf2dXz8LvarPGYRr/OhJJPXey9YiEA8IORged2pzr8iCbN1XneqxarHwBTVoPuVBAcPe+xT6mRtNHDnUNvHxEGI5TFYJ1f6r5knhxPEyxFmjjdx89n3i9EEpa5RTU/vg0A+v6xvf+pHeNJakEEYnLs9Q9/EgCG3jna+bs3s8ad6Mh81Zxo6h94YY/gjxIMRVmNlNXge3m/XvoUmduJ7wux+Y6JL/q4Q8Jnf9WjT5ocO14e6m0ZDiycPFpFoFUoWRHT4xpxE5SVBEUWsU5ggqrGchptdepnSxBJTqytYExVU2pGBiwrTd95puxzlzrX1hIs7d5QP0HUuEr/kztsi8qN5V7zrILqH9wykoGh94mt0YMds39550jiGRM93Hny6/+o+J9raJfZuqA06wJvWZcumCrnuF9dD73DuC325VVsjq3kvosy6XIi3fzdZ8u/ehWA3mxU0mLrT16s+vb1BEtb55VY55VksqRoqvn+5wo/fL42UWV6/TJV5ZZ95SrKyJImVhvKm3/bqvzbVqlREXKSD7zb2PvE1kwubTfW/Ph20sSSJlZrIrnX17nX16mzKHKSjx3pbP9V9kjGvr9ttS0sZfMcpuq8iq9dnUmXE/wECivdHYge7rTOK2HzHZDtcxwt4yqsabP3jeDeN0bZZR5btawIwVgHAFTlX9jav/ls/NLXaWl4Xe84mEEQzZhralPdnYAVADCUViSajlNmixSLYElCFE2wrJxKkUajkk5jSQSEsCS5zr8ofqIBFIwVWQgO0XaHFI2QRpMUjegPMA5KSmj98YsDL+x1b6izzCliPFaCo6VYWookk22D4d0t8cZRvZaT/PEvPp573VLHebO4AicASJFk/Hjv4Iv74o09iCaxJKthezNFrKH7yD1/cG+osy+rMpbnqOFjYiSZ7g7EjnYF3zsx3gIjU+Ic9wuLcvP9z7rOn+O+eJ6x3EtyjBCIRfa29j+zS/BHVTNqLNED7cc+9XDOtUut80sYjxUwFvzR8O6Wgef3iMF4umtorMKaXr8IAzOeFx8AEEVSNiNlMzJeqy7dUOLWpmhBJKGuAqKG12dFDCePfebR3BuW2ZdVcnkORJNyghd8kfiJPr3oaHwv71f7HmvozrpCUYZxh4QzhYGx57vmK1iKp3wAqMS79EDLP94XhXVWsS1aTjAMabaSJpP/9RdN1bMTTY2mmjmIIBU+zeYVUFabMNif6u5g3DlKOpVobcKiYFu4jDRbEk2NjDeXoJl0b7epppZ2OP2vv6jwwz7as0epZ0VN/vrWwa0tA1v0eR9wBix+9X8QgXRDQtCsPo5IEmM80WLk04VhLDRlQAglkn6MFYulgOejghBjGAtJMgihZHIIACzmfEFM8HyE4+zpdJgkWYQISdLPXZ4z7Cuqqr59AwC0/+KV8QIaVGbewtIhKTwAZigjR1sw4JO9b0+grUysu9S73GUuY2mzJAspITwYOdEbPCRICb3o+wFHW0U5JStZBvNYUQjOIMUi6e4Oympjvbn8QB/ryUm0nGDzCsVggO/rIVgu3dOlCIKpahY+0QAACp8mjSbSZGY9OUJwiHY4pWhYGOxXhCyzQv+5THDe/ruxrr9A8vmlYEiOxQyzqlMnmzEvkFaLwvNcZXny0FHCbJLDEQCgvR7DvLmJXfsAAIsi4lglmSRNJjkeJ0wmJZ4grRY5GiOtFiWVJq0WORLBooRoGnGsWoNKafH5CKFUOsSydo61pYVIjre+s2tLYcHyeLzf6axqaX3d7ZqFMc63LWnreNvrqRsYPJSbM39g8FCmknOP5+L5ACCnhOB7J/R5oznrCkuUUl3+PSRBp4VxLUmVAuf8OYWXI0RIMh9P+xnKZDPm24z5kWRPMP7+KywCkatn3Xek6wVf5KQ+DyB6cA9ofrxkaOPrAKD+TXW2A8BwLgBlsSZbhmuIHRseridbmwBOvYRPSf53MPF5+++GtJhwOs2WlYiDPsrjMtJ08nADU1SQ2HcQMLauP59yOUPPvaSk06LPz4Sjxvl1lNsFBCEN+oCihPZO07LFlMvJt7YryRSiKSxK6aZmpqgAlRYrqTRTVEDabWoN6hEFMS7LfCjcbjJ6OIOjt38PQVBGgxshwuc/RtNGijJYzPlpPpxKBwmC6h84kJezgKaNgjCpsJizAVfosi2pAICht4+c1rV/1hUWAIhSCpOKmfOoEcDxVJZv913msrlFV2LAJ/ve7hraq1phRsaRa68Nxjv10u8HdlMRSUwYia5qmfF0zan0Yd2UFXWMMF4N/5mMd96MpNVI2uJyKC1nDxHMYKdzknJEUMYdIxOIUMYsW8QQnJXyAkBI7JfxuI9B1rIzhdDbT+d4sCITRiMomDAaCIuJzs2h83PpvFwpEBT7+hWeBwDK46ZzPEJXD2DMFBUQRoMcjfGdXXSuV+zrl0Jhw9za1NFjhro54uAgnZuTOn6SKSyQhgJCd49aw1hC4bbS4vMZxtzS9qbbPRtOzUn7hxqdjkpZFgQhjrHCsJZIpGt00XMHIomS+y5CBMKSPPj86RcyORcKy8S5ZhddHkkOe3+bezeOzgcAmF14KQC0DGzu8O/KJCaFUJvv7AYcTh63pUKf9AGTYLzzlsdVhcSBavOyk7GdEhZJRBlJa0T0YcA22pOWE7ySBAA7nWOncwQlTZBUWo4zhEHCgoJlI2mjCTYq+mmCKzctGEi3hsVBbf1WymukrBFxEINCIMJG5aSUmKocLZRLwXJCDjOEIWvZmSKx59TUmMb6Dve9AQDq34w1LfmHwq+8ocqaFi9I7D+kpsd371NlhJ4+wFjo7QeMVUm+dZTlrtLR+a66EY/3A0Ao1KquQNfa9iYA9PbtAYB0OhSJdgHGGDBCBFbkocBpBmIzi7E8h3Fb5CTPeKzeKxaaawsBoP/pndoljMbj3CgsT9vAexP8kKrDVGxiXaKU6vDt1OeNxsS6V8+6t6l/U7tve6FrYbFrsZF1KViKp32NPa/H0yO2G0WyZZ6VOfZZBsahKGI42dvu2xGMd4zUBcBQpgLnPI+1ysx5KYKRFD6WGuwa2jsYGbl+bktliWephcthaTMALCi9aaQ8wFtHfjClJQk91qqFZbcc7fpXJNlXnXeh01yCEBlLDbb7d+hGTJPvqYGxl+esdpvLGdosyelgvKN1cJtWQMViyK3KPd9hKkaIiKb6WwffU/CoeBy3pWJR+W2DkeOHOjSuYoAy76rqvHUtA5tbB9/TpjtMxcXuxXZTEUOZFEXixVgo0dXm25ESQjCJ8wYAksJLioABWyhnvqFmMN2KARcZatNKIo+rak0cyGHLRCVtpT0+vrPYMLcpviuHLR8Suoyk1Up7o6IfAyYQSSM2q2OURixDGDEOsKQRIaLavOxIZKObKTJRjpgUSMjhCcrOMONZ32NTABL7Do7a15YdKz82RcN4N2cm3emo7B/Yj8/BGdDgPL9WDS7LEN7V3PePSZkmZ1dhEYj02meRJFPkXjTBD6k6zaUA4I81T/LWYWnzrPyLityLQ4mueHTIxDjtxiJBGhlZsLR5ScWdJtaV5IP+aBNDmVzmMrelorHn1e7AgYxYsXtxRc4aSU7H0j5ejBtZh9Nc6jSXHu16sS90RJXBIMdSg7HUoMdaZeY8g5ETSV4z7Trh7TIeXlvNrIJLRDkViHdQJOs0lS4ovelY9ys9wdF36iR6ajcWLCq/nSLZSLIvlOzmaGuOrdZrm3Wo41l/dGTsaTMWLKm4gyToSLIvKQSNjHNx+e3+aJbP0yZJZe7aipw1ABBNDYQS3TTJWgy5+c55TQObVIHJnDcz5WxPHhaUlJG0BviegNALAEbS2p1qJIA0kTYTaT+Z2skSxkw5deVFK+3tS51UTbC0HOeVVFQayshkEJQULycAsJXyGEgLjVgACIp9Zsphp3OCQu8EZf+PEAiO76A4awiDEb4vRDvNQKBU51DgnaO+V/ZPHLeY4ewqLAAgCApjpT/UoG7rswEAwMy5AWCsUTAeufZaSea3nXgwJYTVFJa2CNJItOqcwitNrKvNt62lf7O6gIbVkLe08u7ZBZcOxdpVEwAAuob2xlKD/uiIolRn+su8KzIKKxBrD8TaAYCjLWbO0xc6cubO4xzb7A7/zqa+jWrbnObSxeUfmlVwsS96UtsLOF1PSYKaV3oDRbKHOp4djAx/GmYzFiyp+FB9ybXbT/whLQ5PdMwpuoIk6Kb+d9pP2bAFzvlzi65Ut6eKx1pdkbNGlNMH258KJYbdHwiQmfOIp6bGJ3Pe/HyniDP+l+H7NSD0lpsWsoSxKb6LQmyVeamJtA8JPTFpqMq81Eja/Hynn+8sNy1MybHO5FF1xFdkqO1ONZ6qapikHFWVkZEcCTiyUE4MYCAt6u54ZU+LvdR60U/XPH3TK/oMgIbbfnXJr87fe/+bmZRZ11TOuqqCtbFPXf+SRnD62IoslzxwwUzVNlNYaLeHK+lJNApKikDkePaH79UDvldH7IYpodcgiCQBsDb4GJHEtGORFSz3BQ5zjE1WBPVWpkjGbasKxTq0k9wUyQGAoAkDWV51j804/GFnMN65t/XxTBYAsJT5SOfzmWcYAHhxZI7DzHk81sokH2wZGNZWABBN9fcGDxW7Fxc457UMbFYTBSmpHf0BQOfQ7uq8dSbWrU2ccSQ53dS/KdO2YLxjMHI8116bY5vdHRgVEDxxT3PtczjaOhBuzGgrAIgkezv8uypy1hS7lzT1bwQAqzHPwnlTQrjDN+IfVM+G1ZCXSZk8Zd4VANDU905GWwEABhyb9CsHAFoTIz3VupCGhO6A0Kv+Kv2Q0BUQetTtpBxBQGR+rf54bFtm8bkTsR0EIjI1qAwJI23rSB5GQHQkDwNARPTHpZB8ajictewkGc+8Tkf4f90zoq0A4MS/Wvr3D17ywAXaxP9cLLRbwVJCCgOAjfGm5TgvJxnSWGZZ1BU/IipphjCUWxYPpJrDwgBLmhAgQUnRBCcqaRuTk5JiaTlGIpokaCNpiwgDGLCV9ghK6rQzMHqFRdpMhtrS+J7jpImTE2nSxHG1pYl9J0BSsCxbzpuHRSl1rB0IQkmmSbuZYBnCxKVPTjTLYDHklOWslBShsfOVsrzzEimfu2D9ie7XMwKnFuUZuf6x1CDGCkmyFs6bScwgyfwEU4fqADMY78CjbyjVgpv4EcVYEaQES1sQIsYb/5850dSArvJgvCPXXmsz5usU1ml6aioBgKFYqy7dH22pyFnjspRBPwCA3VgA6gnRnGEACCW6Jz4bWSEQZTcWYsD9Yf3QfqbAoCCCxIqsbmvTR4QAtN0Zb6YPIQJjDIC1ZTPaSkVbdvHH6zk7m784t+Gpk1WXlvJR4Y0vbgaAopX5S+6dT5Ao3BHd+qPdQkwAAIIkLrh/pavSkQqmN/7vtnSYB4Cqy8pmX1NlLTT/7bLnM9VmJafOvewzC2kjxceErT/YHe3JHlhgL7Wu+cbyWF/cVT3qQAih87+zwlXlQATa9K3twdYwZGunrchy/ndXRrqiOslJHn0sbq7YRDlj4lBCCheZ5qbleJ6hujW2DwHCWFYdowQiaWLYOVhgnEURTIDvNVOOwVQrAqLatuJI8C0L7co3zh5MNWPA+cZZGHARm98c2SUoE8Wv6hWWFIxijK3rFuK0QNotcjhGmAyWlXXRdw8AAGFgZVGi3HbrukWpEx1YkDAv6PTCWEiCau57Ny1EvI5ZFMF2+fdWFVyoFRDlNJyys1SO9bwKAA5T0dLKuzOJGVJiWJ+kgaNtAFDoWljoWqjPA6A1RwEAt6Ui115rMeQwlJkiGIKgCKT/0GHG0Y37AECNjGUoky594p6ytBUAMuO+DGqKeh7gVLW8xvOlIojTiW5jaBNCBC/FZUXQ500LkuJIipWEBMWYJDFJMyYAyC9f3dP8LiJISUzRjAkrMgYsSzxJsYoskhQr8nHW6BBSEYoxCekIADhzZhMkFRo8SdKcJKYo2iCJKWdubXSoTeAn+zQCAB8Vtnxv5/ofr/nHlS/c8I/LWStDUMSabyx74a43koFU3W2zVnxu4Zbv7wIAW7Hlra9sCbVHltw7b9HH6rf/bC8ANL/W3rt74LonLtXXOxqSIVd/benL974jxITy9SWrv7rktc9u0gudIne+Z+sPdoU7o9oD2Yotm+/fOXDIN+fG6nl31r77nR0GJ5e1nbnzPLt/e1ArOaWj6wjyvWbKaWdyg3yPkbJ1JxoIRJkoR1jo55VUVPRDxrEo+gFAxrIoxXO48sFUi5XxGkgrTbBqVQG+K8D3AICV8aSlWFKKnPbp0ysspsDDFHrlUIwwG7EoEWYj5gUsK4ilMS8qKT6+65jt0uVYEMTeIdPiWbGthwx15ROpRIB4eqgy/wJJSgNCFmOO1Zin0xqqO9bEjvv1k46JbR/VLxtNDcRTWeaqk6ccWAhQfcl1ufZaUU4PRVt8/ElRTkmKODv/YoocPqFnCTTpMcjEPR0P1V7VM+a1ojNYxkM3Yho2h8fUNm3yypZLYprlrAxnTcQGY8EOSUwnov2ewvmyxFOMKRpoM9sLOaMrFu62ucqFdFQUEggR0WBHQeVazuhoa3hFltIMZ0knQ3nlK0U+TrMWkY9RtHEaJzDaG08G0tGeGFYwH+UZE+2qcvgbA8lACgCaX++44e+XqZLxgUSoPQIAHVt6zvv6Mm0lp8VZabcVW6/60wZ1Nzk00TMU64uHO6Mw+kAJX3LgkA8AAs3hsguKACBnrjtrO8dKTunoOiy0CwMYKCsABPiecssSljQ2RfRzfAQQRaa53YkGBcu8knCTRRHRV2icowZj6vCl2lxssYQFXj7NS1SvsIRef/CpjQCjIkcyubH3DgNA5I3daiLfOQAYi5sOZASyEk/5Tna/iRCZ5AMIEeW5q/uDDVqBcLIbAFyWcm3itFHti0iyt7En+zflKjn22bn22qQQ2t38sNbkmZ1/sUbqrDDWkmJpC5yysyZPWowAAEdbdemnLK+IuqtWq4YXaGGokdk3Dfr7SddaQUpgjBnKRBL0jHxtgxBJ0YZ0KhwP95I0Gwt104xJ5OMESVO0UZbSsVA3w1kxxhZHkSILfCokpGMGs4czOoV0JBkdkGUeABRFMlnzECIo2qgoEkUbFUWkGX2vT4siKwCgLscIAICQdgyR7XEDgPEdWuMT648/e9ur+tRsqOvWDnPqQGJKO7BFADBeO8dKwlSOriMi+OJiUB1WD6U7A+nuzJtPq7ZORN5TzaXuxFEA8KXaAKAjfhAB0RE7AABhYSAjHOR7Q3wfjB7mZ0WvsEZQO5/1MmQSJ5AZTcZtzFDG1v6to/IAhmJtgpQwMo5c+5yBM/aMqJNTLnPZxH4oC5cDAL7ICa22MrLO8cwr9QqRaPwzNmmshlzd06763SLJvkzKZAjE2gqc8z3Wqt7gIW26x1oFAJmgM7Vah6lYIwIAYDMWanclhQcAw6mBZAaHeVRBWRGjqX6bMT/HNqsvdFSblZXTnrd0MuDvPax9O4pCIuQ7CXDqrQkQ6FfvCpQx7cL+5uHre0rG131g1Fs22xt3egweGVr1lSVGtyE5lKq8pLRnd7+abskzOyvtwZZw6drCwSP+0YVOQ6g1zFqYvIXe/gM+QGBwcKlgWi90ikkeaLx2jmVKRx+L1gk4gZ2edZZwPPnTqiqVcW+js0SxZ2lz3yZdIsZKc/+7c4qumFN0BcZyZuYOnW5Am5V42ueLnPTaamYXXHKy7y351K+KEYh0WyuD8U5JTgNASowAgHZCkCLZ2sJhK3os6rjVba08c2czSdCz8i9q7H1d1acuS5nXWiMronaybzIMRI5X8IEc2yytorcZ80s8y2RF7Brap6ZEkn3xtN/MeUo8yzr9u9XEfEedw1SkbqvEUz4Fy1ZjnstcFoi3q4nl3lWqZtfS4d85r+T6mvyLEnxAq2RNrIuXEurpzXDa8+bvOTS8NVaz6FNG7Q6/jbQy2jfopN+mpyUd4bd8f/clvzyfoIhoT2zrD4fPYc/u/nl31LqqHKlQeuM3t6mJ6763ypJnMji4y39/4dDx4O7fHQSADT9dY3IbzLmmy3934cAR//6Hjki8/OaXt6z84iLaSCMCHf3H8RMv6SdPMoQ6ImMPNJbx2jmWKR3934rxDNyZAQGqKljvjzRV5K1Vo2mNnPu9hl/r5QAAYHbBJcXuJQAgSImUEKFI1sg6ESBtWIMa/x1N9e9s+suowqOhScPi8tutxjxBSkRTA5LMc7TVzHkokt16/LequcdQxlU1n2QoUyjRFU0NqMGlST6IQXGYiseGsLO0eXXNfRTJRlP9ifQQQdA0ye1tfUIrc1rUSPdgvNNmzBOkVDTVTxGM01yGENIFjk6ypxbOu7jiQwxliiT7knyQpc0OUwkAPtL1wkB4JLbIbipcXH4HSVCRZF9KCBlZl8WQ0xc8XOCcr11epjrvwjLvSoxxMNEhybyF8xoYR1/ocIFzvi7SvSZ/Q6lnOQBEkr1JIUQRnJF1mFjXjqY/x1Ijpj7M0Hk7e2SmERFBAmB8FpZ8OUPspdYNP1nzzM2v6DP+T3J2LSwMuKn3bZe1orn3HfVVXJW/Ti90iuO9bwTi7cWuxVZjvsWQI0iJSKI3EG/XhUpNBlFO7W55pMi1KNcx124qIhDJi/FQotsXOZGJYxKk5J7Wx6tz19lNhTZjAS9Ge4OHWge3lnlXjh09AQAvxve0PlaVe4HVmGfhckQ5FU2Na3JPTFoIH+99vSpvnctcihAVTfW1+baPjaucDLG0b0fTn8u9q73WKqshV5RTg5Hj7b4duraFEz17Wh6tyjvfbiwyc55oqn9/69/TYqzAOV8r1ty/iZfihc4FDlOxguVosq+h+2VJTuvEAOBk39uBWFuRa5HdVGg15EmKwIvRTv/utCZkTGVK5w2RJJazjCOmASLJzJBwPDVEUIy1rDY50KkKmAsqop3HKaNFjEewLBEUTdCszKdIzqgIaUVddlGWHDWLFElK9LYAQch8ijZaCJohWWOif9gsnXHGdZz93+OsnAmjhUyO89s5HGM97TozBE0qYvbiE8PYuJIra9ufPyolp+MM1h7XPtub6I6IcX60CFgr3d5lxd2vHedDqfFkAMAxJyfRExEier+AamENhI8d7nxelzVZTi3ErN/OxmQe2vcLguUIlpWTCdJoUtdiBQD7ijWhrRsRScrpNGk0qspL4fn/3955h8dxXYf+TJ/Z3nfReyFIgCTYexMlWpbViyXZlu0n2Yrj7jiuSRw7jhPHXYmLXGRZsq1erC42URR7b+i9LLALbK/T3x+zXAxmd0EApEre0+/jB86ee26bcuaWc++gFCXzHEpSQiKu2ZfV1LpSYtlUf4/E8yBLuMmshAIAU1mTGuhlKmvibWcxnV5i0yhJoQyD0brUUD8A2JtWIwRJ6Ew4rfceeN5YsSA60GauWoigmMilGWcJoTOng2OJ8QHa6hbZVGy4SxI4+6K1QirBRQO2plUJb58sChLPyrIcH+meVsMrxAwu9f8fMtv5dYWrP+bRinJwlFD/9PhCrfQi6u/Um+ucjNMAAIzHiKAIZdNhNE5ZmQWfXm1d6AYAnCEom866yKPMkmT1KZvOWGkzVds1ci6SFjkRowklTQDAdQRh1A6im2rshjILAKAEZmspYtxGAFDni9EEThPixb36s/qUTVd759LAGS8XSWt0smUAAGuT27rQk5tvLghJ4hYLguO42QwoStjtCEliJhNmNGb/KaEoRWEmE0KShpYW3GLBzWblGDMYAMC4cqW+pQXT6xGSRHCcsNuVWJjBoF+yRPmrTod0u+mqKm1p3lnMK9fqG5psm66yb91hXrEaN5pQguR8Y8aWVl1tg2XVOtxoMjQ1W9dv0Tc02bdcbVm9Qd+4yLJiLUrR1vVb7Ft3oBQNAChJgSSR7iLLyrWmxcuzoRLLgiwL0QjIsiKxrt+ib1xE2BwInulYyLKEkQyfiEQHLhAGM23zkEYLZXWzkUnCYOEigejABSGdTPqGkv5h0uyQBA4AJJ6N9J7RF1XJPMeG/LS9iI1MkqbZOuVowHFKccQpRHgg+q5bK9Jj1YquEIVSNiyvd354s1Y61y7h3d+qiIeFg3+b1AZcpLrF8KVf15sdhDbgIhWu1cqge+nVDSDLtpamjt8dwWmi+rbFtF134VcHSSNNGCmJEwHAWG0r29Ho3dsry7Jav/5jyxEMSXqjjNtAGOmsXN2iKd5SO/p6Z8nVDaOvd6qbW86VZcYKW7R3Mj4cpiwMiqMLPrXq5Pd2oTiWzVcWJeeKsuRYNDkeU+sjKCIJosQKGh112Yo2VLORtKXB6Ts4oMo2P8bly9mREeOKFbjVynm9qf5+44IFMstiBgNmMMiiiGAYQhAIjgvRqBiNIigKCGJauxbT6zmvN9tVQElSSibJoiKytFRKpdiREUtrK261Bv72N5BlIRIBWbZs2YJbrUo6QiQic1fG7XPeIBiGMjo+HEpf3IsV0+mFeIzAcWXn+/TIEG40gwx0aYXEcXw4JMZjpMNFWG1CJMxm92VFAFAU0xskjpVlKRuKm82ky6P840NB1jeGUrQYi0psmnIXA3QDQLB92raL40deAQDlb6Z/d3GSkdCbYsOZPnuo8wQATJ59S5kESAW8IMvB9oIj3DNAUaaqmu2TE+2ByfZLOmC/W+AWg/W61b7fvaINuGzmkfLcDBaCwH3/WZ2ICGf2hbVhACuusX36v2pIGvX2phQJjlFLaz6sblXpaIdisMwNzpQvlvRGURKLDQTrPrZsdGcXyJCaiHOhVKQ7YxMnjg9PnhzR6LOhpJDiA6dGDeVWtTybCwAMv9JRtqOBstDpwDS38sApr7HSZl3omTw5am5w6opMhIECmJavxIvpQMYlSq2fnkxkdWRpSkddBn25ZfCXB2l7XhcnLRLLskNDpNvNjY2hNE3YbCBJqE4nRCJKP0hiWcxk4kZGEIoSYzHS40FpWoxG2cFBVKfDLZZMQggCKIoaDDLLgiwTNpsQDnNjY7jZTLjdpMdDuN1CMMiNjSnpSOk0WVSkLsk7Dx8MxM6dyhoLABCTiWR3B8CUmYi3n1P/BGX7w+n7soYPTU0FAIA6NLD7FQBQ/qoTSY8OT+krwkLG4qI8Ntw1PQAUawVwqRRmhOeT6VQIx+nLt1bZxUxXFrrSbb9tI13hwj5/Y+xoZ+xIu+dTH8QMDELi/j++TpW7TBubZZYnHObx377MDk9zuTAsrzdvWSwLIuE0T/71jcT5fnVclCKmpXy43by5xbR+kcwL8ZM9QijONJYVf+nmTNxz/UqaczNYT/9s5JYvln7ugbr//HhH98nM6LXCtfcW3fHVcgSBzmOxn30mc3URBPWF2oYmjmXVsoPu42/2OVeUCUmeDSRLttUNvdDmXFkePDfOx1kERyuuXzj4twsAyjdotPoXE9PKjVU22yIPgiIDz13gwinarg+e147vmmrsIIOuyAQA+mITqFzysvkaKqy25iKcIfqfPW8os2T11ah11GWYPDHSeN8qQ5ll4rjqqShA/MQJAIgdO5Z5nAptkXxRkurqUrcIsvLI/oIPLffqqwCg/FWnzA5funhvK7GzJzNHuc+qRqL5OfO+rIVC1ZLc0HcJo6kkEhmkGRsy3T11Zq7wYiZ/J07oeDaupIbhFEHqcYKJBgcAID3gCz5/yLy5ZfzBlwHAuKpRjKfGf/MS4ba4P7kjsue0zAveXzxH1xTZb93g/al2ZBZBkdGfPkOVuxy3bUR1lDruyA8eU6eMmXTWHSsGvvEH5eoYltdLKdZ7Me48DdbzvxwlaPT6+4u/8mDD9+9qG+5KAgCGIR/7TuWWO1wAcPilwINf68t+mZ0XUmprBQAjk5nbNHDGGzw3BgCyJI/u7gaAyVOjStCF/z6AEhgAhC5Mra1R63c9fFwRKo2drDzWHzz+z68pQQiGSoLkOzCg/MwS7vDH+oMiKwBA7xNnEAztfey0EpTNNz4YOvGd13P1AaDt14eUA7WOumz+I0MTx0cK7W8xEe1+7cz3tFK4+AipHrZpH1bJfdjUf3PJjaWQm87cwXBEFOYZNwuKIZIoYzgiyyBlfcpnh/Kl0kJn+IpQ8cfvA4omT7ZN/OwKuF/gDmvJT/5RIww/8VrkxTcEPkVR5lCwZ2Zrhepo9zc/RXgc4adej7761pVdzOSpXB0N9LvKltE6q2/ouLN0aWDsPBRw4ySL7UoziveFSZcFAPiJCABwY0HCaZ6uCwDADk0AgJRIowyZG1cN6bayQ371bamOmxXObdAdAJ76yfBrfxzXmbCvPtToKqMYA/aV3zYo1uql34796ss9WWuVF/VOKbIkF9q1K+8sYSH9vHLnirKhl9olIU9hstYHcu77vPmq9QuhLsM8niWEJDCrGWVohCRQmsJMBtRk0K9oQXUMUeQkit1UbSVKUwiGKQPGmM1i2LwaoUiUoVG9DrOaERzH7VaEJDCzETMZMJMBwXHMmucemj20ATe7aZxEzW6aoDGLh7Z46B1fatBbSaOTUiRGB2WwkwSNGewkpcdNLgrFEHuZDqdQs5tW0mna6ipZaPLUGZxVeoxAHZX6ZTeWmFyUwU617PBQehzDEZzMfyuiFEHYjZiOQkkcZUjcosctevP6JkxPU6UOqsypW1CGMiSCocp326kSu/OWtYoaqqMIuxGlCMJhQkicsBsRAiNcZuWvkoISV9HU5n2FkAWBH/WL0Xjud714PulwNZWUrtHINZCVJWR5EUISutUtAJBdzBQcbxe4RCw0LHBJno1LkphdzMSlo6nEZHYxUzoRAABlMVNwvF29mEmW5VhomE2Fg+PtBkupJHLpRIDW2bK5y4KIUplRaXZkgipzAgDhtnD+MFwcNSeLbLwvnI0yhdoA5cRVp8z7w1SZc5rbQj4jPrcWlsKf/32QoNCtd7r+8Y8LuJRUWs9IovzI9wZ3/2WqQfSu4z88qBXNF/WOYCiOyvJ8TNLM6FcvRUgSJJEfnwRZ1i1bFHz0OaWFRZaXiLEEyDLTukhKpdIXugGAWVSPmQyGTatAEMmKElmW2Z4BKZFirGaJ5TCjHjUZEIJACDz8+ItSKg0Axu1rbB+9XpvxdMRQdOQLP8j+XHVHWTommN20yUmN98QHT4XScWG8K7bk2iI2IeisZP/xYMlCs71MN3wuXL3cFp1gk2EOxZCBk+FNn6iyFjMv/rAjHRc8dcaiemPbXn9Jk7G8xaIzE6QOa9riOvXimCzDoqvcqRjffTCgKggwLQ1iKMINj1s2N6MkLksSOxIAANOaRu+vXwFJliWJqfEIkSTIsnnNAjGRjp/uk0FkRwN8IGZe00gW2QBF2JFJlMCTnSPWbYtJlznRPiLGUyiBS7wQP9PP1Hh09SViMs3UFBE2g/f3O6VkHieVy0QMx7zf+CkAAILQjVXub9yXDZJkccx73GyuIAg9X3jzDG5glBsex53W+L7j8HYsZgLwD58ABAEZFP3xoamOETvsx+2mkq/eFtl7Jn68y7C0tuQfbkUI3P/wTqrMiZsNxV+8CbcalZ7dDGjiQk7K4d2nyr59t5Tmkmf7+UB+56f5GCwAePg7/SSNrr/JAQBcSvqfL/Wc2hPSKv1vpumjLdGhSGIsng6milaVjB/1CmmetumEJO9q9QztGaAtdHIiAQA6t75kXXn/K90IiiAYilN4Opxm7Ew6lCaNpNLs4mJcVj8vsiRhekZKpKiGKpkXJI4nipxEiZsfGceLXezBk3RDNdszyDQ3pE5l/NfZ7gHd8mbe62cHRsRwRAxGmMULxEgM1TNiKCKlWcxi4gZHpPT8n0CcQBkTEfKmRi5EaAM+fC6it5LxAItTKGMm2LgwfC5ictEgy+UtFj4thryp+CTrrNLbSpnIeHqsK8YmRQAIeVOh0ZTBTrqqDYGhpMBLCS8Xm2CLGozuGsO518br1trb9vin8nXZXf/w8fi+44HfPy2LEmZkxFhKv6hC5gWZ5alSB1XuJAb8VKkj1X1Wv6gi2TFiaK2RjvAAQBbZqBJ7qndMBmCqPZiBEULxZJeXKnWmB/z8ZNS4oi56tMu0sp4dnqRKHfFTvXS1hxsLpXrGpNTbPHMqy1J6WhYkobdYqiRZdLmbR0cOq4PUSMn02Ld+nv155RczzXgs8+LQd6a6xmrDRJU5k22DE4+9kZWoiR/vih/vAgA+EB3+t7/A9LiQk3J416nwrlPZn5q4CvM0WLIMv/1GryTKG291+obTeScN34PU3rlk0d+v7fjDsY4/TBtZy4WyMEyCdyxyRQcixjITSmIj+wZtjfaB13plCZo+0qIvMpz8+WE+wRevLqOsdO2NCyRBtDU4ZEmeOOvjYqzOpReSAmWlaRuDkRhGYoo+ABgrrNv+fGc2r7H9/Ue+8QrdVMePjImxBEDmdok8+3r2b9wfoBfUpi5kZjPibx4FgHR7TyYJZXx9yAuqt25Wnjm+SGz3YX542uqZLJrHKTCUPPPquCzJCIooljcR4jrfmgSArOTCbh9Mz6f7UEAZosrqnHrBmwk6GFh2QwkAdLw5kQzzADBwMlS31t6laV4trM0eh3adNiyuSg/6hUgSLq6Q9f35jexfdixkWFwVP9Wn6HNjQUUOAJaNi8L7LyglC+05o5Qy1TcOspzu94EsK5qJtmGA/Ofq7SadDvF8Uit9n8IUNFhVi/Ra0UVkAIGT0gnpsR8OpeLiNR/33Pj3JZoWVv95bWvCWGGt/fBi5/JSyq4XklzSGxt7s2/wpXY2lPGBeE8R7gmYKiyyKJMmShZl0kjRVtpUabHUWM3VloQ3Fu4NChd37Zg86yvbUhXpDwfaJ1MTiaQvUby+LB1MkSYqNZEQkjzj0AU7JrP6KX/8xPd2kxba2ugq3V6nCNNt3cpBfmR5JgXlSVP/VcunkzrTmTo9q9VOp1/OzLHmDhFqJJp8lHH03FgAcOL5zNRKFk1nEADoRVMGCwDiZ/rVP7XIcvx0xlppCL95ftrvQmdJIVfy9kMzNlmWdHpnf+9Obdj/BmJHOmJHZnUvXSkKGqx/fWaRVlSYGz9bcuNnS9SSj9VP86Or+OCCxV/dhOIoH+di/UHKylgXuKxNruD58femwep/JdN4UZoJyt9w7wkAUP5mmw89z3cAwPixTCNCkYe6A+qGiVofAIQUP/xaJwC4V5VnDdb7KCAETjddmZ3R5s87ZbsEPhUK9sSiWiP+PoUoaLCuIM5lpUu/vkWW5fP/fbDv6bMSLwGAvsRcsrVm8nTmOX/PoliZ3MZCrkRBra/WKaT/3ocodetXNFONVUSJC9UzIEpiNMENeZNHziYOn52hYUIvqDZsWEbWlOE2M0LgUpoTgxFuaCx9vjt54oKUmja4ZtqxXpkLI4qcgKEAYNi03LBpuVoHAIb+zz/J/KUnbWeJflWLYfMKsqIYoUkxGE2d7Yy+9KYQCMu8gGCkVvsimMlg3L6GWdyIu2wISUixBNs3nHjrZPJk+wxnIy88n7I7GmjakkxOaMMwtOKh72tksb1Hgg89pxEq2P/PLcrpGv2HHwl+baNVgSwvKvq3zwNAbOfB4CMvaELnWq+su8bw3/+bFEso0XXLFmJ2C4IgQjjKdg/Gdh7kBjLPuO3jNxq3rgIA79d+wo/l1BcA1CV8/WDwUW0JYQaD9c3rzmpF8wOBxV/ZCAh0/O5oz0WPJwBIjEa6Hjk5pfY+70nsn7zZsHnFNBGG4Q4L7rDoWpv0G5ZN/ORPspBjQRDEfu8thg3L1DJUR6M6mih169cuIXeXBR9+Xh1quf2a7BK/dwIMdf7dh3Urm7MC3GUzXrVGv6514uePiPEETuc3WLrlC+2fug2lqawEs5p0yxbqli1Mneua/J+/SkntivcZQFEcx+lodEQbAAAy8CM+1KhDDToEw7ShOcTfPK4YLMP6peFndmmDAQBAv75VOYi/eWJ6yGXVC7eawG52fekezGrKCgmPg/A4EgdPZyWxXYcUg2Xcuir45xezcjX6i/dM/M2Mr6WGgrfISNeV6anZFxcbyi1cJN39l9PasBx0RcaGjy1zrSynbDo+lp485e18+Hi0Lzg/NXOdY8F9q+wtRSiOhDsnOx8+riwVnBMoju54/uOEkXrtpoc1q3wQFLnmuXtoq+61W/+U8sUBgLIy5dc2etZWmqptuI7gE3yke7L/mXPeffkHWWbAvap8zY+v877Re/TbGVdYhfqPtDbdv7r9t0c7L3rPAgCuJ+vuWlq8uVpfbBJZIXTB1/2XUxMnrkBHg+0aMGxewY9NpE53cP2jYiiKMBRZXmTcvgYzG5lFdcYd66Iv7tPEMm5ZqVgrtnc48eYJYSIo8TxmNpLlRcyiOrK6NL5PO+kx+qX/BEAAAKGIkh99FQASh06H/jJtUgkArlTzynr7DsVaCYFw9OX9/Mg4QhBUfYXxqjXOL34UCritMEsanZ+7GxBEDEVjuw7xXr+U5nCXzbBhGVVbzjTXOz//Ed8P/5Drb1UIDCNM5jK9wRONDGnDJMn7zZ8ph7jTWvLjf5wWmgPbPciPTRBFTv361vCzu/O0iVBUv2YJAHBDY9zgtJ7NZdaLrCqx3HI1atQlDp9huwalRAqzGKnqUqqxiu3sz6rxI750Zz/dUKVf3xp68jWZ41VpAAAAhurXLAYArn+EG9KuUVEoaLCuFM7WEgDwHR7M65OpxrbQvebHHyIMZKjNHzg3xjj0xVtqijZWHf32a+Mqh/VZqlmb3Ot/cQNG46F2f2I0oi8xr/3xh8YPTSnMEkmQhl/vqrmtpXR7Xc9jZ9RBzhVltE03cWJEsVYAUHVzc+MnlvNxNtobTAcS+lKzc1mJc1nJiX/bPfxqpzruFYS269Y/cKOh3JIYiYwfGKAsjGNZqWtl+ekf7Rt4XnHGmT+JQ2f48Um2Z9rjlDrdkTh0uuj7X0BpSr9mSa7B0i1fCABiMOL7t9+o97dKHj0Xfup13GYWgpEpbQAAECOZc4hcbNrInCBGYlMaVw7cZTddsw4AhMnQ2L/8j6TMzAKkznYmDp72fOczqJ6ZFgEAABCadNx3KyAI1z8y/v0Hp563CxDfe9T+qdsM61vpphr9msWJA6emxSyMKLK+8dMWazWoHKZy0czeFiK+/4T19h24w0o3VKY7piyFAtNch5kNkNN4ufx62e65QYwmxr79AD863RNTWSKmIrbrMN1QheoZ/aqW+H5tK49Z3ICZDACguJvlJWOwSHcR5xsjnC5+Ysod5opgrLACQLRX2/zRgFH4iu9dQ+jJo//0mndvryK0NrnX/fz65f+yffdH/pryx2evBgBLv7YZo/ELvzzU/ZfMWS7/YGPrNwpuHzgDw6901tzWUnZ1g8ZglV1dDwBDL09Zov6nz0V7JscPDijjdHDRkaLurqVvn8Fa+vUthnJL159OtP/uqDJSZmlwbvjlTS1f2jBxbDjhze+AN0tkUdRYKwVhIsS29TGtC4gipzbsIrIk5d2EK9davcMYNrQCigJA+JldWWulwHv9sZ2HzB/arBYqGDYsR416AAj8/pnc1kH4sVcM61sBwLBxeaEHOxccZwwGTzQyPIO1mj2Jt05ab70aUFS/vjXXYCnFkwVR3U2DK1EvBMcnf/mY1lrBxSViKpLHz4vhGGYxGratyjVYhvXLAEDm+MThaQ+aGhwAcKvNsnEzOzaKG02BV1/K05jMAUGhoklfVq/TmzEA5NWH8rffAIAwkACg3vhl04O3WJvcyvHkae9bn30OAEq21TIuw+je3qwZAoBQm6/nsTONn1hefUvzhV8dmr2apdFlqrEnx6LqUbOhlzqqb262NBR8wAoR7pqI9gbM9Q5jpTU2EFKEGI0XbawSUrx331RJ2HBK0/vrfeLswvtXGyssauEVxFhpda+piI9EstYKAMKdE0Mvd1TdtKj8g43tvz06PQa4vnyPRpJl8pePzXCvaBCCYQBAcAzBcc0wVrqjn15Uhzuszr+/M/TYy8JkWB36rkPVVwIAyHLqRJ4WaOpUe16DpVvaCABiJJa3tyJG42IkhpmNVE2ZNqwwgsDihI6kZtWAuiRiOJY628UsadStbA7+6W9q64PqaKa1CQBSp9ql+LSRjcuvFzc0xnYNaKV5EaX43qPmm7ZR1WVkRbG6Z4rqdcySRgBIHjs/03gZAAihYOTgfm7Mm/d9mMvyq213fLXMXZFZKSaJsmKwUAy57wfVOIn86V8HYqGLdzCCAIB6bWekJyCJEqEjTTX2rNCxtAQA/Ie1L3PfocHGTyx3riiFX81BzbrABQCTJ72aubnA2bF5GCwAGHqlc9Fn15Zd09D2m4w7cvHGapwhhl7qENMzjarIosSGUrRDr17fcwVxLi8FgMmTo5qaRnsDAGCpn09ltSAIvaCaaa4nyjyY1YTpGYQiEJJEiIvjCcg0dQCIvvqWbmUzWV6kW9msW74wdbYrcfB08mRb7gv8XYEodgGAEIhoZioV+LFJrQgAAMiqEgDAzMaKP/1AG6YCIQmEJGZZU1FkB/v3aqWXQXz/CWZJI0pTuuUL1S0p3cpm5Xrl9rYuv15cX75JgwLE3jhqvn4LYKhx66rAQ89m5fo1ixEcA4Dc8U01mXsOwTDz+k0gS+H92vEIDR/4ZNGdXy/XSgEAQBJls5NYtM584UD0jSczXUtlB2FlzymF0z98AwDsLUUbfnlTVsg49QCQ7dBlUSSMy6D8nKUaZdMBQHa/qizz9vkaeb1r4WfWlG6va3vwsNJ4L72mHgCGXtF6zblXlRdvrTHXOmibDmMIjMJRAtXoXEGUKlde31R5fZM2DCDvrqczeLqzOXceVVtu/z+3ECWurEQWRCmVliIxVMegusxLS4PM8ePf/ZX5g5uM16xDdTSzpJFZ0igl04kDp6Kv7hcmMq3UdwtUTwOApqGRRVl6qQVFUV2ega28IDiW98F+B0idbJdiCdSoN6xvVRssZQ5EDEVT57uzQoArUy8pOYfHSgxFkycu6FY269csCf315ezSMcOGVgAQfIHczqyai2NYxSX85ATKMDMvUKhcpP/w18oBoPtkbNejPt9g+jtPL1IrnNwVWrTOvHSbJWuw4sMRADCUmdVqBcl5V+eRQD5hrgTy1GPebZx0MOk/MuReU2FfXBw47aWsjGt5aXIsOnlmqk2LoMjyf726ZEsNH2N9h4fG9vfz0bSQ4pu/sEHpF18RlM1Vpn6iCABEuiYjvQG1XCExmme0aPae7mR5kfsb9yEELotifO/R5LHz3NC4lMg851nHn7zIHB9+dlf0lf36tUv0G5dR1WWojjZuX2PYsjLy3O7I365ks2Lu5LtdskgSyLLSM5gCAUXCDXiDf3p+WlAOsxwjfzuQRTFx8LTxmnX0wlrMahJDUQDAXTaqrgIA4m+d1I4rXZF6zdHHMLbrkG5lM0KT+nVLY7sPAwBR4iKrSiFfA1BDxmClentQimZs9jxPuYodH/cgCJzYGfr532cWtWkY60sBgKdy6sUbPD8OAK6VBTvACklfDACy26JnUSTZJtUs1bhQEgBoh06tAwCUZbYvk1yGXu5wr6kou7o+cNpbsqUGwdChVzrVQ6XFm6pLttQkRiNvfvoZNjz1zmn54oYppVmjJKzYIzWUbVoVUv4EAATbfGd+tE8tvyJYbr1a6UdMPvCX5Mk2TajGdOZFSrOxPUdie44QxS7jtlWGzSsRArfcerXEcrHXDmi13ymkVBoz6vNOBQIAQpNaawUAoiQl06iORkg87yzEe4f4m8eN16wDBNGvW6pM4OrXLVWCEjnj3O9KvdId/fyIjyh1G7auUgyWYV0rAIAkxd/KKeF0MvccptPTFZWpgZkaYwDQuMIEAM/9T0EHn/AEDwBm51SDYuLYMBtK6UvMJdtqp/RymDg2AgDutRUauWdtBQBMXnQpmqVaqMMPAI7FxZpXqfKNifkx9tYAH2OLN9cgGFq8pQZk0Ez8mWodADD2Zr/aWulLzbh+Ps0rIcGBqpObxbGkWP1T2dfUubwUxS9tPuYK1VgFAML4ZK61AgDMbtGKCsN7/cFHXhj75weU8VTTB+ZjxK8UwtgEAOAOC0LluTSE26EVAQCAMkJMFDlRg/ZF+J6CGx5XnMsNazN2Sr+yBQDYrgF+PM/w3LtSL8VOkWUesrIEEES3ejEApM50iuFLOLJk7nKquERKJqjSUmW6txAmBwEXm1F5ScVFACCpKTshCVLbg0cAYOnXthRvqs5aEM3IjveN3vhwuHhjtdquWZtcNbcvFtNC3zPn5qQWavPHBkL6UnPN7YuzamXX1NtbirI/54rEiyO7e0gTVbyp2r64OHDGq/EYSPliAGCosGYlhIFc8tVNUxpzIdoXkHjR0uByLivNiBCo/2ireqYCAKJ9wbH9/YZSc/MX1mNUpr0MACiBFm2oUg8dzgOUJKDAmA5mNlJ1+YcyZ4Af9afOdIDiG53bilG46K9XaIDs8kl3DgAAIIiudYEmCACY5nqtCAAAUqfaAQAQxLhttTbsPYbiaUWUuolSN1HsUoYgc73bFd6VesUPnFRmPPRrl1A1ZbjDArPoD0K2S5ge7DcsXsp6vdou7nTYpIibcb0Z5wr0ZpXv5UxNEQIAwOALbeYae/WtzSu/v4MNJpPjccJA6kunjWpJgnT026+t+9n1K/716toPL0mMRGi7zr6kWJbkE9/dlRzL2N1ZqgHAqf/cu+5n1zd/bl3ptrrkWNRQZjHV2ode6ij/YGNWZ64MvdxRdePCBZ9ahaDI0Ctav6qxN/sX3LfKs7Ziw3/fGO6epKyMa0VZfDgcODNmXzzNUJZsqSGMFGGgzHUOADBWWhvuWcbHOT7Ohdp88eEwAAhJvveJs3V3L1370w9Nnhrl45y5xq4rNg2+1F7xwWmP2akf7GGcH6q6aVHxpupI9ySf5BmH3lhlIwzk67c9kvezibNECERwp5UocqF6XXboCgAQHLffd0vBlTQoStdVpFUuzlkQilSGKoRQtNDggyyKiqsOVV+B0tTl7OdViMRbJ83XbQIEsdyyPXW2W101zGoy7lin0p0i9sZR03WbMJPBfMNWbngsdbJdqwFAVhYLE2F1gu8KiUOnrXddi+C4bsUixWtfZrnE0bNaPQB4l+olp7nEWyeN29foli5QBvLFSDx55tJDq5l7DsGJwCsvTg/Kg7c3VddqbFpjOvBcnrYlACxaZwaAvnPa6bmzP9s/cWKk6uZF1kaXuc7OhlKhNt/EiRHvG1NeS9HewN5PPNFwzzLP2kpznYOPsd59fd2PnAx3TahSmq1a8Nz4/s88u+C+VfZmj6naFu6cOPilF9KTicsxWKE2X2wwZKywimlhdG+PJpQNp9763HNNn15tW+i2LnSnJhKDL7Z3PHS87q4lGoO1/F+vVg9OGcosC+5bpRy3/fpw16MnM8e/OZwOJiuvW2BvKZZ4MdTuP/kfe/kYqzFYXJR98++erbpxYclVdbbmIpRA04Fk8NyY983+9KT2QsyJ5NFzpg9uRGjS9ZV7Is/s4scnEZKgastNH1hPlLi54XGyzKONA4BgqPtbnxImw6lznVz/qDARknkB1TNEicuwvpXwOAAgvveoNpqK5Mk249ZVmNno/vq90dfeEgIRhMAxox416GK7Dmm15w4/NhHbc8S4bTXushd977PK0hzAcaq61Lh9LYIgykSbJpac5ib/56+uf/wkgmOuL34sfaEndaZTjMQARTGTgShx0Y3VuMvm/ebPCj7YGIpe9ONHKAIh8FmtNEJRlMk0NhGioG+BGimRSp5o069qYRbVKX2mxNFzcoFGxhWo17yI7Tpk3L4Gd9v1q1oAIPHWyUIrotRkHhvj8lXp/l6JY8XYTH3Ia+7x3P2tisgE/x/3tI/2pADgT12rJFH++IKjAOCuoL/z1EK9GX/g893HXg1qI/8vgawo4QYLDtJdERAcZ1oauJFxwR9QH2v1rijZLZL9P3l4lrOEKEO5v/VpsjynHy3L4Wd2pS/0eP757yBnBwUEx8v/8L0p5Rzib54IPPTMDHcnZjJ4/vl+3DWt8wsAUjI9fP+/aoTzA8Fx52fvYnK6hFIi5f/Jw+brtzCLG/J+hIJuqHJ85sPqVb4aNFsRkJUljvtvRxka1dG5Q2aKj4icSicOnQk/vTMrx0wG9zfuRRka0dHqBckZRElKpaUUm27vDfzuaW0oAAAwzfWur35CFkUEQQBFx7//G1bpCBdgrvUCmNqtIfrivtATr6qDZon76/fSTTXKsfcff5x3iE1DpoUlBCfp8goAiJ3K39FV2POYf+udrqJq5nvPNx9+MdB9KgYACIIs3WqtXWrYdqdbZ8J6TsWPv/7eslaGjSvpBbUyz6fPdyWOntEGT8d41brA75/QSi+iW9GSPHFe03Gmm+rMH9jEe31s/3Di8Gl1UF5kUZRFSbd4QXTnW+pjrZ6KvPm+3Ugpdvy7vzJ9YINuZTPhtgOCiLEE2z0Ye/0g2z2I4LgsiIqznxpZEMa/80vd6haqpgx32lA9g+CYzPJCIMz2DMX3n7ikV7QYjY/983+brt3ILF1AuGwIjkuptDAZZnuv2DSWLAj+nz+iX7PYsHE5WVGEUKQYjKbOdERe3CeGorzXzyxu0MYBAIB0Z//oP/yXYcMyZukCsrxIaYhJsQTvnUh39CWPntM81ShDKX6qeUFwDDPqwajXzmDgGFFSeIIIQ1GDDjXo8IDWpmdJne8WghHcZgYAwReY2VrB3Ot1RYjtOqQYLLYz/4RALggA0OWV6aEB67arASC0+3WtynRcZdQ//L5R7bigZqQr9V+f7Aj58zc+LwcEUAAZAAGQMxvlzhrDxpX8mJ/tHnB8+q7go88Zt65BdTTbM5Tu7DNfuxkQiO87KsYTlhuvFkMR3ONIn+ti+4aFyaD52s2RV/ZZbroaIYh0Z68Yjto+cmPqdHu6s4/tHsimTzfV4VZz/MBxAKDqq1CS4P0BuqE6/tbxbFy2s9907WYExxIHT3LDY2R5Md1QrRip7DHK0FkdosiFO22Y3ZI8elZKp/Pm+7+I+k2fNHvqBk/+zd99Bfp0WRBA5nozXD6W4saGLfcBwOnnvs8mggBX8iOmCIoByJdcc/I2nc9clPJknrtLlWqu6FqbnF/8KAAEHnwy/lZmJGRmcACgSkvZkaH4mVO6uvqZHUcBwD/M/vNN5z/wyaKNtzjtxVNN3JCPe+OJiVd+P5ZOTrtyNKJ3YiVeoQ9R2qaA8TJLITQrpwmEVO42QeYJhGLlJACU4DWCLASlcUkWZZBpRJeWkwRCAYANcwdFnw1z+4QhAqFE4DHACYTEgQpLfnWmuRjWLTOsXZY8cQ7BMaLIOfngYwBguXF7bO8hIRC233MzP+qLv3Vc8E3aPnYzZjMjoz4AwItcTHOD4JuMH8g0PPlRX+TlN3JbOrqVLUSpO3WuM93WY/vIjXqaCvzpGXVc4/b1YigiTATN122d+NWfNdEV9OuXZ3XY/mG2f4Td+ZbtIzcG/vBknnxRFGQZZHnaFwzfk6Aobi1dCADW0kXzfsDKmCYEkLF0D4YSvJTGEVKQORdVEeEnWCkpg0SjBhTBCYQM8eMAQGMGJ1nuTXchgCIIggHOyWkK1XFSCp+68TgSodPSZY30EXqLq2Xj+MldKE6IbAolKJzWYZQuFfCCLAGC4hQjpOIYrRfSCUJn5GIhAHAu2iCJfGTgPE7p2FiQ0BmVuABgKK6J9J9HCUoSOFkUAEFkcdpQ11zPJ64zAoDEpVGKkXgWJSkxlcQZvcilZSGTvnXhSpFjE8M9ssDLskQYzXw8gtN6ANCX1iRGevWlNZHus0oslKQwisEoXdKbZ2pl9ihbrUlpNnE0M79/SXAAiJ89bdm0FQA4v29ma6WQTojPPjDy7AMjNg9pcZEIApFJfnI0/2yOAysmEboUr5dBNKJ2ADks+XmZcyI6AQQSoUmgMQRDAevkjwsyjwHBA2dErSbUxstcVApW4k0MYujkj8uyzMpJWZYriSYGMbBykpVTaTkpwqVHLpMnzqfOd4EsY2ajeHG3AIQi5TQLkoRgmHIssRzIEsgygqGAogiGoQyd+TCEQoHzkzx6VmlhAYCUTKE0KfOCOi5KU0IgLPN85KW9U9Gmo9ahm2rFSEzm+Mz0//R8EZJgljRxPYPKIk26vip1rhMzG8RQVOYFhCQQmpISSdSgl1NpJRFZEJiWRoQkUuc6Ub1OisVRg15KJFGaQg16VMewPQPqLNQYHBULr/k8AKQi42df/BHkNGqW3vTPpM7cf+QJf88RTRAASJIQGrlg8tQGBmb1Fs0LhhCSLBTT9WHB5yIrRZknUEoG2UGWJ8SwEbcHuVECpbNlc5JlFMqUMU2SLJkJhyxDiB8XZJZC9aLMkyhDoQyKYCjgHfGDgjz/PgFKkKngmHPRetJoDXQctdW1hvvPgSxbqhbxyZjOURrz9tgaVpBGW2K8X2BTisESuWRq0kubnYTRyjhKJFGgzU6RSwW7ToAsUxanY8HqhH9IZFOxkS7N6Z7r+TTVNZNmhyyJXMhPWlx8LEQYzLjelPINC4lofLBLBkAJSkynaGcR4yoV2XTKN+xY1kqabGP7npdlmY9HZFl2LN9Cmmx8IiLEo3wiIvPzP2kAQBQ5mZZ6AEjsP3HJaYQsOACI8Xho7y5tyCwIjnPB8UsXOiT53VhFQopEpQArJ9NywomVsnKaAIqVkyLwFDBRKSjKGbuDAEoCJcgCgMwghrScjEthGtEZUItBthhQS0qOx6UwjhCsnBJk3oBapuWXDynN5tqa+JvHLDdfI7Fc4vhZwRcwX7+NH5uQWZ7tGTJ/aCvv9csslzrbYfvoTVRNOds/kjrdxg2MWm+/Nnn8HNszqE5Kv3oJWV7E9g9LaVaYCKbOtJuv3RzbcygbN3HwpPmGq4SJIDcwQnic+nXLCJedH/MLk6HssVpHnTgAaPJVvmNo2LoGNejDj7+Y/YIhVJVLqTRZUYJZTPzoONszSDTWZL9miFlMwmTIuHl1uqvfsHYZ5rAm3jquX70keTLzaZlLwpg9trJFweHZvg+zdO37g1Y0Rzgp5U13FdP1Ed5vwh0ESkmySKIMD6yNKGKlFIMZY0LARpYAXPQf5sc9VE1cCEb4ibSUSItxF1XBSikCpdJSQpA5GtVHhBFRnu3TkhcxnRCSMQBIBbw6Z6kkcGxk0lhaL0uioahGSMWS/iHa6k4Fxvh42FTRFOk/BwCEwYqRuvh4n9HijgycN5UvAJAxSkeZ7LTVgzNGSeCSE8OmssbIwHltlnM8n0I8BjIQJhtG6/hokIsEEAxL+Ya5SMBQ0SD1ngcAQABQFGcMEs+CLJFmmxAPs5NjhNFM2z1pu4e2e7hIkJ0cQ0laSERFLk07igG6tZnNEgy1fex6QFFZEKOvzDR6q6GA897bhjLooP6rlk/XnZLnhs4m7qxAEECQTH/qYicLABAMk5U1ZYoWhmU3osvdTWVmpsVVHReikI46X/365bjNIiVTQiAk+AK6VYuTR87oVi1On+8iy0ukVFpKpVCaThw6SRS7meaG6GtvAoB+zVLUaABZju18S792mZRK4XYrZrPE9xyim2qVT4flJdvCAoBkaPTcyz+ZHn6JFtbbQe6NVOhWKaSvlk/XvQS5Y1gZkKkPkWaGVtQDLLkSNQhirVka6j11MRQBkI2l9UIylgqOaXTnz/TyGMrrhEQsPZknfc0nV9UB2hrNGrK8CLOZ5RSL2c3GbauV5Y2R53YX2tA5LwV8/y7F7PfD0qDcHOq/ankuuZpqee7xnLlooQBAPQykMRnqn3OyVqCJm88SaSiko8438dZx9QOg/oJhZlT+4s2EWUzZrxkmDp3KyhMHT4Cqsxnff0zRmQEuGcEISmctsZQ0hUfbtMHvLLk3UqFbRaGQTiH9+aB+epXjmSVqZDnUo+7fyQAQG8lcuCvG9PLEBwumn+eTqxcD8h/PAv3qxabrNqklqZPt4ef3qCWXJGOw5rTj6Nz2w3qft4lLPQDK/9qvGRa64Qqlo0aWxjv2lzRvL2ne/q4brHcR9eZu7zN7hEBY8AUwixEQhPf64/tPxnYfnutkEQ4wtx1H57of1vv8PwNG0OMdb3oaNxrs5eaihsiYdnGSBlfd2qqVt6gl3rY9w6deUktyIfVWd90ak6eONjowgha5FJ+OxQPDEW9HYPC0RhnFcFfdGlv5YsbswXCST8ei/r7x9n2JoHYQcH7oLEXFC7eZ3DU4pefTsbC3c/T8TkksOOY11/JQBrunYYPJU0sZbCiK82yCT0XjgaHQ8Pmor0fjKjGP86mzlhQt2GR0VZOMCUG1HnPpqP/MC/+pHCud+tPPfZ9Px4qaNtvKF1MGG4KgbCIUHm0bu7CXZ+PTY8+Z2O7DyprnywGHuew4Oo/9sLKUlGIPPmhBMfD5pI9/LKQJVWO1on/4o/WmGwLagLnQ2kp8/ZvG228NAsCddzK336GzWJEtm2blnJbL7Iu0aRN1oY2fnLjEmSzE7M/SOw9KUAKX9HUfKG7aWtK8/ZIGKx31h4bP47SeoPSU0YEgM62rV/A0rC9vvV79aOGUHqf0jNlDUAaNwaIM9oYt9zKmKbdMUmdxVLY6KpcOnXxxrP2NKdV5YStrrl3/0WxhSJ3FVbvKXrF48MTz0xUzzLU8luLGuo0fRzEiKyEZE8mY9LZSV+3qU89+j09NW10/1/Npr2ytWXsngqAin04ERzGCok1OJVY6NpkMeeMBrSOuwVFRvGibzjK1toExuRiTy16x9MKrP+Oml+dd4eIYFoLIkkSVlbPD2jqomcd+WFl27KBPneK//a1L1zkUkmZjGmbPX/+aOnSIe+hhqzZg1sy+SPd8XPf978fmbbBmf5beeRAERVBsvG2fp3690VllctdEfb1aJRVRX0/U16McL7nx25T+EuffVbu6YvlNAMAmQuMd+2K+Pp5NELSBMbkspQsn+6aNsmEE1bj1U7TRwadiQ6deiPp6BDbJmFwlzdutZc3lrR9i44F5zGZmoQy2mrV3ISiWivgGjj0Tm+hHENTgrKxo/VDVylu12vMpD1K16nYUI6LjPUOnX0xFfLIkkjqLzuKxljXLkqSxVjDH80lQhupVtyEIOtl/ov/oU5LAAQBjdjdu/TSpM0d9Pf1HntTGAahefTug6PCplyYHTvCpGKmzuBvWFS3YTOrMpYs/0Hf48YyeygcQQJ73vpgAoKSgTDLMJp2MkabLKwGAqaxSlkoWYh77YQGAy4X+4SHrJz+pu2o79cyztr/7jF6Rf+/fTHfeyTz2uO21nY7Pfi4jvPlm5smnbUePO6fiA7S2Ek8+bXv5Fftjj9sqKjAAqKzEnnnW9uOfmF9+xf7q646GhozlvWYHvfcNx7PP22+4kVGnoOHmm5mf/cKsHJtM6KnTLkq1JY6G3CLlzb2yEnvwd5a168gHHjA/86ztrrt0inJu4SFf3QudpS992bBrj+OV1+yPPWGz2TJXx+PBfvs7y+u7HHv3OT59f0Yzb0ZXFgTFeDbu7zkMACWLrtYGXwYYQZe3fgiUWciXfjTesT8RGuWS4URwZHLgZM9bj4S909Y/Fi3YTBsdsiS27/7VZP8JLhmRRD4RGu1684+xiX4AKFt6XWZWYV4ULdiM4qQkcB17fqP0ziSRj453t+/6tcintdpzLw9O6UidGQBGz+9MBIYlgZMlkY0HQiMX+g491n/kiazm/LCULEBxUpalgWPPKNYKAFIR31jbHgBwVLZCPg8BFCf7Dz/hbdvDJSOyLLGJ4NDJF0IjFwBAcVUFAJQijGuaCLsJt5kws964dhGqp8kSB8pQCIahDIXbTChF4A6zIlH2gDRvXWpc04QZdShFIAROeGwIgWdTUP4qEpShcJuRLHUyjXmGnjLPebKrw7JpKz/hn3kMbB77YQGA3y998hOhT9+vN5mQ//rhtJ7wDTcxn7gnlErJ2a1KnnkmtX8/+9Ir9qwORSH/9n3Th+8IRaPSB6+jv/tvpns+GgKA5SvIH/wgeOwo97F7dPf/nf5LX4zodMh//IfphusDQ0Piv37XlE0hlxdfTH/1awaDEYnH5Gs/SL2+k2XZgiN3uUWCfLkPDIifujf86uuOz30u0tuTmXMoVHjIqXuhs/ToI8mf/TQuy/D1bxhvvoX53W8TAPCjH5t272LvuzcMAAyDwIwZXUEQQABgrG2vq36tyVNrdFbGJga0SvPCVtaMETQADBx7Jq9F0OCsXgEAgYGTqYhPE+TrOmB0VtFGh95aUmjw6JJYy5oBIDh0hktG1HKBSwYGT7vr16mFMPfyCGxS4JI4qXPVrYkHhrI25UpB6i0AwCcjmpOZik4AAIqTBK3n09phKTYenOw/oRFGxjqtpQtxSo8RtMinjRtbUJKw7FiJmXT+h16VZRkkma4uRupQMZmmq4txm5Ed8qc6h6hFVWIynTzTKwOgNCnGU1SFm64uEpNsunfUdsM6wmVRUhCCUVmWFYkQjAmhmBCMSuk8Y4WZNzbpdIEoUsUl00O1sEkRAPTmi9Ylh7z7Yc3Aa6+mUykZAGZwFWhowKuq8Seesr36uuNznzdk31Lj4+KxoxwAtLcLbjcGALW1uNcrDg2JALBr10w3PcfJL76Qvv5DDADccAPzzFMFTXAhcnPPS6HCw+zqDgBbtlJ/fcz2u99bt26jrFYEAHAcVq0mH3kks9eHksgMGV1xuFR0oucIABQv2q4Nmy8GZyUA8On4bCwgqTOTeisAxCYHtWEA6VhmpFI9FjMncEpPMiYAiE3mGSFJBLU9jHmVRx4+/TIA2CuWLL3x2+Wt1+utl3j65oRijHDaqBnqUpp1siyJfJ6lKTF/n1YEwKUyJjsz3CZKqJ4WQrH48U7cbqLKnLjdRJY6OF+QcJj58WD8eKcYS6a7R9O9XtJjk1geAABBEAzFTHopzYEkES6rEIhmU6DKXFSZUwjG4sc7ubEANxYQwnHCbZ0qxEUypifRfgEAjMtWzOwMNu/9sAqRThXMKwuCwMiIuONqbY6JxFRc5flEFMc9AAAQ8ljnaTz6SPKnPzPv3JkuLcOOHp3z+y0397wUKjzMru7V1fiXv2K4autkPC5/4YsGUtXV1lylGTJ6O/C27XXVrrYUN+rtZYnAsCzn9x2bPQRjBAA2HtQG5INkzMpB1cpb844oKWDkTMMCM0BQmV62kI5NDwEAEFjt7T2/8vi7D3HJSNmSa3WWoqIFm4oWbEpFfP6ewxM9R0QhjzWZE+HRNlkSUQwvbdkxfPYV5XYhaEPRgs0AEPF25J3r5PPVdwoEACCy56I3H4KALE/+dQ8AKH9T7UMAynMoAwBuMybOZEY5Qy9Nnx9UPgqtSoH96x6AqbgAkO7xqiJkyFhf/YKF5vUblYG06QrTOPpKEAA+/NXykto8t4K7gr723iIAOPi3K/nYdHYKJhOyahUJAAgCDmfBUbaeHqGkBCstwwBg46acXYSmMzgoJpLyvffpn38uNWOl50Y8JjnsUyWcfeHzYjIh0agcj8sUhVy1PVMjQYATJ/gP35kZIzMYELjsjOYKlwhN9B0HgJJF2wFAmr46dx4gmVtxdlci+4aQZVmWCv1DZniTzMzFiHlLk2djhvmWJzzadu6lH7Xv+tVk33FRYBmzu2LZDYuv/4a5qEGjOVe4ZGTo5AsAULxo2+Lrv1G/8RONWz+9+PpvMmY3lwgNHHtGGwEAAKTcquVFeWAKPTYX5YkzveygtoOcQRl6yk1BLckNVVpYhsWtpNMp8TxhmzZMk8s7sB/Wzx8wl5Zgdjv657/Yzp3j/+MHsXRavu//hP/lO0a9AUVR+P3vEo8/lr8Hl0jI3/pG9JFHrcGAtHv31Dvq1w9a3G6spAR79M/WEyf4n/4k03V/9JHULx4wX7vjEtN/uUXSaqj49a8T//lfpkhEfviPyWeeTs2+8Hk5c4bv6BBeetkei8lv7Z9qBn7ly5Hvf9/0sXt0KApPPZn6za8Tl5nRPPBe2O2sWWEtbdJZi/O+rueE8m5XOlaXhE9lrmDXvodCoxemB14Bsm2obFNLDU5lXhVZLrM8yvQfeuxpR2VrSfN2Umep23DPuZf+i02EtKpzYbxzvyTyVatuo3QWSm+VRSEdD4RGzo+17xO5t/feePvImHzTqrXRIweNy1bETh7Pa9iyvFv7Yb0dbNhIfvUfjddfdwmD9T7ZtYTHH/+murdSs/YuR9Wy4NAZgjEZnVUzrCVUpuFncHR01a1ROlPnX/5JIqQdJMpFcXT0XtitjARdcVpv+Q5BGyd6j07N5V+kvPVDSsdKvZbwSpWH1JkXf+jrKE4OHn92vPMtbfBFLnk+AYA2uRZe83mRS7Xt/B8uGdYGT0cp/+j5XSNnXtEEWcsW1W/8BACcfOY7fCr/2zp3Gy8ERS/p1zmPzbYyHQdu3GvZtFXdgSyEsh/Wsw+MBrzTrFLIxz37wOh3b7+Qa60QHNV+/vNSn7RDUGU+6u3l7o/oHr04dP0+82D0/C6QZVtZy8w+QbMhOHRWmSmrWHEzik9zi8nLRO8RAHDXraWNDm0YAABc0q9yZkIjbQBgK1+sjL5nwXDKXtmqlijMuTw53UMFLhlRXgnK3liXQ8nCrTjJjHfsu6S1unwwvcHUuATBCdxgUv4aGxajBKm43VqaV5oaFmOMHiVIBMNJix3BcdxoVmJl4mI4bjSjJIUbTJTDrSut0uYBANlBd2XBbaFltxrmtB8WABAWnbmlLHCgG9dTQoLF9ZRpcVnwYK8sirIgWVdVoxQRPtqH6UglVEhwtjU10bPDXFA7unmluOVW5jOf0V9oE5568n9r23gGDHVN8e627E+6uJwPTojpFKbTW5asDh1/S+IKXqw5kY76A0Nn7BVLSJ1FGzZHBDYxcvbV8tbrjc7KRR/40nj7vtjkgMilcUpP6S0mdy2Kk2pfx7G2N2xlLYzFs3DHF8ba3oiMd/GpKEbQBGNiTC5r6SI+Hes9+BdVDnNjrH2vo3oZRlCN2z49cOyZ2MQAAojeXla29Do831j+XMtjK2v2NG4KDZ+N+vvSUb/IsxhO0WZXUeMmgjYCQGQsv2/27MEpPQCYixqCw+e5VOSSbZHLQYhFZFm2tqySeBbXm4REFKUY04Kl4bNHAAAlM5tt0Z5SkU2nx4btK1tJs218z/OyLCtx7au2kGYbH48I8agQi0gFNtvKGCyqqCS8b4+xdflsGllZZrkfFjcZl2XZvaNFTHGkTc8FE7iBcm5p9L16DgBIm4H1RTw3LOVDyUyoiQaxYBmsxU0h79TTOCdwSu+qXuXrPvD0U6mnC7gyGOzlbCKY66LyDoAbTChJAoJyAT8A0J4SIZkQomHcaAJAxGQcY/RCPKrSN2K0DlCUnfCBLNFFZUIsLMRjTGkVF5iQRYGPhFCCRAlSEngAEJMJWeBRklQMVjb9bILzYPT8TnvFYtWwcwaTp9Zdvx4naIygMZJRZtPddWutJQtFPiXyrMClhk7+Te3lNNa+D8XI0pZrGJOratVtU2kBAEB0vFv9UxTYjj2/qdt4j8FRWbbk2jK4Vh0KALkLD+dEOjrRf+jx6rV3MmbPgqs+k5ULXKpjz4NN2/9epQswr/IYnZVGZ6VGqDBy5pVEYFgtmcf59PccthQvsJQ0Lb2pKSuUJIFLhMPedu+F3YX6d/OAsrtoh4ePRzBaJwk8RusknpNFESVIxfQgKIrpDBLHgiQRFpsQC7MTY4TRTDs8rMNDOzxcJMhOZDbbktg05SqGwWlXXCFjsDjfmGXDJiEam721mj1MmU1X4eACcdxES5yAm2gpzcuChFKExPISJ+iqnQiKZkNlTsTN015iBG3ECFoWeTYZNjorU1E/giCp2AQA6G1lXDLMp2MEY8IwckpuLeHZuNbrj03IEo/ipNLqzsZVHzMmt8inARBRYCWB01mKJFFIxybU6bxNWFesT4+P6msa/TufN9QvBFm2lFVP7HvF3LwcpejkYA9pd4eO7c/q29dtR1CUCwcIkwU3WYRoxLRwaeDAbgCgnB5dVf3E3pdkQdBXN/CRIB+eNhNial6WTV9Mzr8lmwqPh4bPK26Wamijy5YjxAiaMU+Nfo6e3wnTL9Do+Z3BoTOuurUmTy2lt6IYIXBJPhWL+vtyd9fkUtELr/+3razZUblMby/Dab0sClwqmo5NhEcuBIfPa/TnyuTAyVTEV7Rwq8ldg5M6Ph0Pe9tHz73OJSNcKqrpKsIcyxMZ6xw8/py5uIExuwnaiKK4JPJcMhybGPB3H8pd5TfX84niJGWwc8mwZh4DRXHa6PA0bLCVtZx/5SdX6sXMBvz+/a8AgNrjIRsaPDF10wIAIChc3GxLiTUtLgAApMan2WstytKcKwLJoDoTppUqKP323N67Wp5Pp6zlA7bSRVXLbsYIunzxtfayxdUrb8cI2l27xlK8oGLJh3BKV9bygazcUbnMUbG0avktSqtYTVHDBqXJrY6rPnZWrbAWNxUv2AqAmD31nvoNJletJpG3CefW6wAQy7K1hMXm2n6DbeVG25otuNFsXbnRsmyte8ctuso6tb59/Xbbyo20u8S0cKlz23UAYGxsYUornVuvQ1DMvGQV5fQAgHXFesJiU6LYVm7EDUYAUKevSvI9DYKg2pGgWWOtyTPwBACkMXNmFGy1rQiCGopqAEDvqlAHzRuPdZFWBAAADGlR/7QZKrN/zboSdVA2BZowVbrWqoPygpHM4g99bdXdP65e82Gjs5LUWQjGSDBGkjExJpejesXyO/591d0/Lmm+WhvzHURxZEEAvejRMisyLSzC5RYT8Ut+l3A23Pvv1as/aP9Yfb7ZokLuG2p5Ph0EQUPedpzUkToLABIYPotTOpzUUXqbr+cQihGM0YkgaFaut5ZwyRAbD6BopoK5qOOqjwHAWb1y9MJOADnm79OZ3UZHedTfMy2uzrrsA99USwBg8PzLo517NUI1s4uVqXi887y+ul5iWSEek0VBiEX1VfXpsYKvneRAj33dVbjB6N/9or66wbpyI+lwRc8dJ+0uprQKJajQiQOEycKUVQGKhk8cVKevTWu+EChF4gZeTAOAJAs4SvJimsAYXkzhGCVKnCgLGELgKCnJEgAIUprEdILEYihJoDSB0aHUCABUWJZJsuCLdxMYk+LDFK7nRRZHSQCwMmX+eDeGkpLMi7KAACLJIgBYa5ZiBJ0KjSEoRpkc6bAPZJmxFSUDowiKMbZiQmc0ly+MDF0wly9MR/ym0saEfwBk2blwg//sG6nQmFIFyuQwVywiDRY2OqlzlCb8g5TZmVGWJL27KhUYjfv6s1UGAI91IY5S8fQEgqA60ppgJ2UAA+2MpXwoghkZF4kbnKb6iWiX01SfYCcdptpwYgRALnesHPAfiqf9SjpmXUk0NW7WlSTYgElXFEmOmnUlBsYlSryespfaW+PpiXBiWLlDXOYGf6TTZW70R6YtsVTw1K+nTa745FDfoce0YaloKuq3ljTZyltog10bOmtoVO8ky71sNwIoAgiG4JycphCGk9N5v/HhIivSUkL5skxKjDKY0Yp7JvhhBBArUTTBDYqyiCCZqzkDmed5lt8lnA06Y4Hm1WUgy7KnfgNjck0MKMXLPNVRf09J0zaCNg6declasigrD42cN3vqRYHVeO4yZo/BUQkI6us5pI6LEXT2mDa6hs++7KhczqVjJGOWZaD02usqS2Iy6iMoPU7qZv/Ov2SsiT0vAkD4xEEA4MPB5HA/gAyyrEjiXdo+TuCtncpB2jcKAMn+LmVuePLN1wBBQZYBZC7g9z77iKLGToyPPv2wcpwc6s2mr0guHxlkE+UmMEpHWADQBBdAUTycGnUZakWJx1CCFWImykPhhjg3SeMGFMFRBGeFeFqIs2JMlDLOXLyUjrF+PWmjcZOJckmyoCNtgsh6YxcAZD1pLTUviaS9vMQGEgMAIgCQBqvvzB734q18IhIf62Wjk67mTf5z+9yLtwKAEkSZ7ABAmR201e07swcAEBRNBUaz1goAhHSS0BkBgE9EMjNclc2KcsnK61LBMZ2zTGOwaMI84D9Y5VqX5qOhxFCSDVY4Vw9OHK50rUUA6fcfqHKt01FWANBRNgPt7PcfAAAEQWOp8ay1AgAco+zGahyjWD6GIhgA6GmHJPGCmJZlaSRwssK5KpzIvLFkAKuhIu9dBACU0Q6F3dYRBKVNTgDQDJjMCQdZRiJMGbVAAsmEO2SQw/w4L3N05hsfNIkwKIKjCNaZOCzInAGzGTGbnx8yYlYz7iIQCkcIF1kxxvYAyC6ySpDZAH9pdxYcAEh3EVPXGD91nPMXcEudC4xhymAt2f4POpNbFZiHkY7dQxde1UqngyAw3vmmLMsA8tCZlwDA13MIANhEMDLeLcsSAGjksckBOedpTEXGuw9knt7wWGc2rvp4ov8YAAyffRkA+FQ0FRnP9Yrk0tHTO38EAACI2Vm9cOP9GoW8zDmWsk3trJnmyTKbuDPqWD2NbCqSjEw9zJeEwg0Gyh5N+2UZTLSLwGhWSETSYybKTWB0jJ0wkPYkH4qw4wggoiTQuCHCjuMoyQoJQWKNlAtgEABo3ESgdCg1bKDs/ni3U18jyzKB0TrCYqAcJK4XZT6SHnfoq/1yZlwWI2h7/UohFQcASWABgE/GbHXLFbtjr1+B4gSbjNrrV2AknZwcdTVvSoz3JyaGCJ2JtrjS4YuGA4HIYFtR69W0xcXYS3SO0nTYrygnA16couO+gYzmRXCMKrEt4YQEAIgSBwCsEC+2tSh2p9i2GEVxlosV2xbjGBVLjVc4V4cTw5HkKEkY9LQjkc4sC+HFlC/cxpBmPe0wMh4TUySIrJ52xCKdeirzyjTQTgPtNjKeyWjXkqo7zvQ/ebEU00iGvABgKW70NGyY6D+edRPFCNrorCxq2qKzFMmSOJl5/c+TsOBzk1VxMRQVJtJSIi0lnEQ5J6cIhEpLSQHhKVQX5SeVb3ykpVhKjJMIrccsSTEig5iS0qyUNGJ2PWb1sX12stTPDWrzyAGBi16jplVrokcOacPnzr+/2FJazyhdwitlsIyOytjkgFb63sBgLW3Z+gXI07mbifnFeseg9fbWHV/3DRztPZH/kbgkRcam8Vh7dsf0Qt99KHSsBgHEY1ygTg0A7LpKTkzE2MxkiGvRRv+F/drWYnYQN+cAUT6yoA4qTFZ5KpaKcueq4YmjmpJn65LnAEGUTZYL1TdLtXvDRLTbYarp9x3QBOlph81QOTx5XCNXQDG8cdv9RmeV8lPk05LAoTiJEZkRepFP9x167HL2C9Og1EX9Vy2frgvFVB2OEGNsHy+nFYmdKOGkVEwMTlfMAw4AQiRs2bgFIQjLxi3hN/cqAds/cglDUwirm9BIRD49eL6g+288NKIV5fCetVb/r2J2TxvdnwdjsWmuJ+q7djbHamSQNakBQCA5oP4Z7D2Zx+5kJTkHU3YnN1YOWeVcawUA46HzuSXPSvIcZMuQE0vDwMQhHWkd8OdpRkgSPzJZsH0kiUL7rl85qpbZylt0lmKc1hM4JYpcOh5IRcaj492TfceFK7o6R6mL+q9arsHLav0VZtMZVMABINnRluzQ3hAf/edKjWTeSBI/3pfnpL/PexaLq14rem+jdAbfFZTO4NuBJAnxdH5/mhR3ieEnWRIneo9O9B7VBvwvp+AkmoJU2IGzECiW47XwPv+rQDHc7KzRSt/nfd4DzGSwxgfS/3j1Ga30UvzXzsXZL4DNFQynFl/1JVpvFwXu7O6fpeLa1wtjcLZs+yKGk+lE4Mzun+XdmpIxutxVK02OakpnwwlaFFiejadiE2F/V9B7IbsbmRqCMhTVrrN6FlB6G4aRPBuPh4b9gyeC3guQr037zjOnEtav+oijdPFY74H+08+RtKm4bqO1aAHJWBAE4VKRsL/b2/1mOq7dAqi4bqPeUqK3FDNGlzL95K5c6a5cqVE7/Nw3Ln8zGTVzvV46k8de2mJyVOtMbpxgZFni2Xgi7J0cOTM5fFpzNpRT0X7wD/HgUE3rrWZXHc8mRrv2+voOA0BJ/eaiug04wUQD/f2nnsu932COZx5UzivHXvwOzyYIylBUs85WsohiLIAgXDoaCwyO9byVCGs7QXOq1/+3zGSwYkHt7NhsSMUu4UkxA6LAdh15tHnzZzGcrFt517k3/lu99xCCYnUr78JwUpbEriOP5lorBMWqWq731KwB1UoRnNThpI4xumzFC9lEKPcBsJc01y6/A8OprIRkzDbGbCteFPZ1dh35s8Bfyd7+PJhfCXVGl8FW1rTuXpzUZYW0weExOFwVyzsO/THs61KpQ/miD8zgtvZ2MI/rVdN6q7tqlVqCAEbprJTOaite6KpY3nHwIUnS2lOd0V1ct0lpNmI4VbP0Fj4VY4zOiuYPKgoWV/2C9feeev2Hmr2u5nfmFUjaTDKWBWs/kd3eDwAYg5MxOCeGTqoUAeZbr9lDmu1cJKCVvrfJW+aZbtDZ73SsJhmfv8ECgHhoZODcS1WLrzdYS8ubrlGP1pc3XWOwlgLAwLmX8g3VIw2rP2orWggAsiQGvOdjgQGeTeAkQ+vtFncDTtBhX6cmjtWzoGHVR5VX33jPgWTMLwosrbe7KpcbbRUWd0PDmo+17f9t3tHWd4Z5l1BvKW1c83GcYCYGTwTH2nguTutszorlZmcNihF1K+468cr31R4bJ17+d8VuYBjZuuPrADA5fKr/7AtZBYUr17yaz/WKBQbcVatSsYnQeFs8NMKlohhB6c3FRTXrCNpocdcX1W3InXX11K6TBL7j0MM4QVcvvRnFiPKF11B6m6/v8OToWUfpYnfVKlpvs3oag94L2VjzPvMKBmtp2cJrCFI/OXw6GugXuBRJmwy2MrOjOjrZp1GeX71mCa4zOls2ju5/VhvwHqZQmQsarL/9anSwLamVzoLLaWEpjPXsN7tqbUVNJfWbw77OyEQvAJidNSX1mwEg6L0w1rNfEwUAPNWrlbs/FfO3H/hDOqGxzS9gOKW5tzCcql1+ByBIPDRyft8vs09vBLp9/Ydrl9/hqlhudtY6ypZODBWckXlbuZwS4iQDQHcc+lPQm/E4jUKff/B4w+qP2UuaCUpvK140OXwqq8+zGT9D6WKDQhT5Qs6Hl888rhcATAyfSsUmYsFpDjuhsfbJ4VOLr/oyhlPOsqW5DzbFWM7t/W8lFm2wlzZepTMXxQIDvaeeBoDoRK+9pBkndQZbedZgXc6ZV6haehPPxs/s/mkyOs29Ma9vxFzrZW1YbqlbKot8dLBDSEZ1rrLxo68RBkvp5lv7X/xdycabcdqAEoTv+C5Z5N3Lt9O2orJtd0b7L0T6zpVuugWjdAiOjx18wbl4k8gmKauLT0RxWjf4+qNFqz9ImuwoQY4deikdHKu67t6kb5gy2xPevkDbYVXpAADUGeGMXl2MYNsRS12rJHCk0Tr65tOUxaX+mQ761cVgwxPqjJL+oellPpvNsaDBeuqnuU2YWXHwhcnRnmmWjqCMa2/5L7Uki8inj/ztn7RSgJ7jjy+56sskY65d8eEzu34CAHUr7gQEYZPhnhOPa7UBAJCShi0AIEti+8GHcu5+AIDcfbJdFcuVLSV7TzyZ6x06eO4lV8VyAHBVrih0U77dXGYJJ4dPZ61VltGuvfaSZgAw2srUBuudZT7XCwBkSdQ81QrpRDAy0WMrWsgYXdowAJFPZ2NFJ/qhEQAgMJrxQpJlKRkdNzmqKVXf7TLPPACgKN599C8aawWQ3zdiTvXCab190dqeZx5QfDJMlVObMQAAAGIoqe197pfZmVP/qTesDctG33wGAMzVzUI6ObLvKdJkK1l/E5+MhrpPeVZ9YOL0vpKNN+k9lShJDb7+J8riLFr7oYGX/0CZHN79z7ER7YgnAGgyyikGyKIwvPuvjLPUteyqSO9ZzU91Mfpf/r0mI3WZ1RQ0WPPm2KvBY69e2gFsZgQu2XX0zws33k8xluqltyCAkIxZlqWuo4/m9R/RmdyUzgoAAe/53OHkQliLmwCAT8cSEa82DIBn43w6RtBGo61cG/ZOcZklnBjKY4+U3SwAACf100PeOeZ3vWZGWWiCoBiK4prhnnRy6obkucxjnD0PAKB8QgbFyKzkMs88ACTC3uhkv1Y6d3LrRZrtbHA814Ps4p7x8sgbT5ZtvUNkU6P7nxXZac8LZXGyoXEA4KJB0mTlk1GRTcmCILJJAKCsbn1RVcXVHwMANuQDAEngClgr0GSUlWa3rudiIQDgIpPKCnP1T00x4BIZTXHlDVYuMziOzjCOGJ3sH27fWd50jaN0sSIZOv9KLJDnLQQA2U8k5Y4OzIDBUgoABF2wAaiAYgSKEbmv2XeAyyxh3octO1mhrJV7V5jf9cqAIGZHjcXToDcXkbQJJ3UoRqAYiWIXb+bM8zKF+iWXHYMT+Kl+QNaRPSu5zDMPAPFQZt3fbJl1vbhokLJ5ABBl6lDiOZRkAICyOBWFxFh//0u/ty9aa29a7T+1V5bE7P6l6aBP76kAANJk46KhTIoXYUO+1MTo8J7HNPJCqDNK+oc1xaDMdgAgzQ4uGtD8nLkYAKAus5p3wmDN23F0pGO31d1gtFcCQGSid7Rrn1bjIsTFxgKX84HvQiAImnfryLwo2xVppW8zl19CgZvPKGQh9HYKANi4QBsJLiWQOjwV4XQWik3wAishKIictO7TC7rf8MqiLIlycDBuLtHF/WnGTMb8097z87heCkZ7RU3rber1XrIkCnyaZ2MYQeNE/tOlmfubQahw+WceAGaYQMxlTvUSUvFg+5Hq6+4VeS4+2h1sP+pauqXi6o/w8QhIMk7ry666S+JYlKS8B54HgHRwnNCbK3fcE+w4Fh1oM5Y3VFzzMRQjvAf/5lyyWZ1yYnzAWN5QueMeAIgOtgfbZ/I71WTERYPqYgAArjOWX3U3oTeNvPk0bXWrf7KhCXUxtEnnlDkrfycM1ryhGDNjzFxCnclD0kYuXeD+nto/S9tOnhEEABLh0b5TUw3avOQdT3lHuKwSzvBMzoP6bSWWMoMkSMGBmK3CGB1LGlyMwUmPXwjFJ9MDh3wiQMyfqtlQ1Lt/zF1vLl3qGLsQWnlPmblYv+e/zrIJ1VM9r+ultxQv3HA/iuGyJPr6jwRGzyYiY1mjXLPstlyvsYvMIZeLXNaZB4DcLlsh5lGvYNuRYNuR7M++F3+rCoT+6T9lUej726+zP9UDQyNvPAkAg6//CQD6X/wdAIwffS0bCgBdT/xE/VONkE5oMlIXw1zdnPD2ZlOjrW71T5heDMjJSFPmLHMzWBiOGK14eEL7PnGUUEu3Whk9eu6tSP/5K7NSAUHQ+pV34yQjChwAEJS+buVdF/b/Ju99kL26BGWcHlIQWZZEPo0RNIoRecc733XeayWMT6ZBBlOxjjaREW8iPJJACXS8LRQeSVStcXXvFQGAjfOMhdTZKHuVKTwSt5ToYr7URHeUS03r+8/jegFA+cIdSv+o88gjav8DBWVLlivCO3zm37F6/T/A3AxW0xrTlx9s2P/MxB++1Z8VLlpv/vwDdbQeA4Bbv1z21E9H/vYrrRfvPChfuEPpDPafeQ5B0JrWW83OmtLGbSPtu7SqANldUEz2Sl+/dvK1EPHwqNlZwxicOKm7sr2nK8V7qoTdezIjYgiKyJIMAAOH/QiKVKxy9h/KbM/SuTNz6QcO+bOaWf0s87teJkc1AKTjk7lPNQBc/ocw1LyTZ/6drFfLtcVnX84zsmktYUKjU31Ye7m+YZOr4w1fcHiedTcahkeOTu0GEek7F+m7AptDzM1gtW6zYhiCqVYL0jrs0/9ZQ+sxLiWlEqLZQdz6pdLzByJ9ZzNzMfPD4q4vadgMAIGRs/6BYwBgcTfYS5rLFmyPTvTmTr4kwl6ejRGU0V7aMnjhlVx39ryExtrMzhpAEE/12pGOPHbwXeddKWF2JqTwkNCU9ZElWbFNeVE0NdYK5nu9UIwAACFnhQMAELTRaK/QSi+Dd/LMX8F6tXygmDLgvu4YhqO2Mt1EX1wG2V1rHOuIYgTqqTcZHFTjZnfHG77Gze6J/njdeufw6ZAsw+q7Kg883OfrzrjdBYYSKIYEh5PLbi7TmYmoPy1LoEmZ58TyJdbxjqjASa4a4/DZEKXHlQMuKZY0mUfOhhdsdbfv8TVt84S8SUV58FRoepHnRv4dCwtR02IAgBM7p7LcdLvT7CSCY9xXrz7zubUnD70YAICtH3ZlFeYBQRvrVtwJgLDJcO/JpxRh78mnuFTkYj9xaq2JgixL3u79AIBixIK1nyBpk0YBADCcVK+xAABf/xGejQNA2YKrFCfGXPSWktzs3jHelRLKkqiMFZrslZozdqWY3/Vik2EAYIxOTX1RFK9ddvuVXVf0Tp75K1gvcxFz7MmhymU2s4ceOBEcOhMqX2I7/vRw9SpH5TLb0ScGBVa0lekAwFauW3iV5/CfB0YvRMY7o+Od0ay1UoOTaDohEAyem3LzjmI2JhQvtMgy0CaCTYrZg6g/jREoAOAEWrbYguFIVlmbwRyZw7kAALOLAICRrqlW4ubbXQDw3P+MhnwcALz6h7E119nrlk0bmEBRwlO9Ri1REw+NTJsARpD6FXcSlAFkufvYX7JTLQKX7D722MINnyIZc+3yOzoOPjQVBQAAvF37rO5Gk7Nabylp3fH1yZEz8eCQwKdwUqcsiTA5qtsP/CHi785GUZYuNq2/D0GxxrUfj/i7Q+MdXDqGIChBGXQmt8lZTevtp3f+uFCnAEHQ7EOFYSSK4bNZuTL7WJdfwvkR9F7wVK8haOPCjZ/2du/nUmEExZXNncd7D2q158U8rldg9GxJ/WYMpxas++Rw2+up2ASKEUZ7RXHdJp3JnYyM6cxFqhwui3fyzF/BelEGvPWmsniQAwA2KQBAbCK95EMligVZekMpTmGxCXbpDaW0gRjriKy7p3rwZHDkXNjgoJxVhon+TMfIXq73NJhspTpZAlmU86Y83hmljcTQ6RCKIckwV7XMFhxJKgdjHdGiRlNxk7n9Dd/dv1j+588fRzBEUc4WdX7MzWCZbAQABMY45WdFk76klkknxYMvTCqSsb40ANg95MUYAAAYQVcvvVktUTPSsVttsEobtplddQAw0rlb0/WLTPSMdu8rqd9sK2oqqt2gWaAjy1L7wT/UtN7qKFuCYoSrYrniizwzkYneC/sfrF91N0mbzK46JWsNGtdkg7W0bsWdGEFjOI2pvlFcuuCq0gVXKbPRopCeHDo11DY1JzK/WDCvEl4+w22vW9z1tN5usJbVr7wrKxf59JUyWPO4XiMduy3uer252GiraFp/nypEHmp7LeLvbt78WZXwcnnHzvwVrFciyJ16fkTdBz/7sjc7hph7gKKIJMkAsPPnnepYgaHEU984DQBHn8jMOaz5SFVuytno3raIshVV9uDpb51R1B7+9FGN8uUwN4PFcxKGYziBiIIMAOtusAPA8ddDXCpz2dJJEQAIam49zSwmR1VZ03YAiAUHh9t2aoMBhi68anHV6S0llc0fjAX6NUugRYHtOvpnb8+brooVJkcVxVhQnBS4JM8mkhFvcKwtFhhQ6ytEJ/tOvvoDV8UKa1GT3lKsuAjxbDwV80cm+wIjZ1OxaWM0GE7lXf+hgKAYQekJSq8ZK51fLIW5lvDy4dn42d0/L67fZCtqovR2FMNFPs0mQ4Ucd+fHXK+XyKfP7f3v4rpNjtIW2uAAQHguruzWEgsMoCguS+KV9YZ9Z878FazX2ZdHc0cMs5Lcg6wFyY2lIW/K2ejZjfNm2EHv8q3VnPn+i81/6lpV3awHAJJBf3l02Z+6Vi1YPTUAQeuxP3Wt+t3ZFVNxCmO7dbP9jq1aaT7qHv8OWZ7naWcWVVX87HO1j/6T4+7t2rD/XzFuXFz+n/drpYWZq/77vM+7yNyaQm2HogBw+1fLF6w23feDaoMFH+5Kth+ecuYsqqIBIBrgAYDw2Oqe/C5KZ7o/zMKqmoe/mdUEgOBTbwQe36OWzJXU+f7BLz4QO5RnMvh93keBNFrrb/9y/R1fqbpO3dvKA07ra2/5vFY6R3Tuipqb/l45tjWtrr3l8413f326yvvMn7l1CXf+aXzLHa6m1aami62qJ3+sGi8HaFhhAoDRnjksSnif93lbMVc3J3yDo/ue1gbkIKQTPU//Qiu9DIJthxOjPVXX3asNmB2e6jWemnVcKsylov1nnldc6itbPjTed2g2K8ZLG7e5Kle0vfW72ShfDrkZaQpJ6+15N+SYB3MzWP5h9hef7f7kv1XZPGQiIjzx4+HTe8NqhRXXWAHg3P5LuNXQtSXuz96M282x/Wf8D76QlWNGnfvvbiSK7YTTghA4O+jz/vsjQigGAPoldcVfuxsz6tI9o77/fkYIFlijA6BbUuv+zE399/8YJAkAcIe58oEv9t//YzGSmQHJxbB6oWHNwuSZHvvtWzCDLvTCAaXph1Kk42PX6Fc0IggSO3hu8tGdMp+ZzjNtbbV+cC3uNMu8EHr+rdDfDgAAZtI7P3GtrrlaFsTovlPBJ/bKomTZsYooceiX1kvJdOj5t5z3Xpe60D/2o8cKyWfIt/axf/E98Iz9rqs05wG3Gl1/dyPTWM77w4mTndl6FUqnkP5sQDBMlmXl3M4Pyuyouu7ejj//BwDoi6o8K3f0Pv8rADBXLXKvuBoQFEGx4d1/SfqHAUDnriheex1KUCKbGn7jCWULypKNN6cmvda6pTijD3Wf9p/YNT2HDITOVLrlNtpWhKAoYy+ODlzwn9wDBaJbG5bZm1aTZkfbH/81m0Ju7pTZUbbtTjYyydiLAEGHdv45HRwDAHN1c9HqDwpsMuWf9grXYG1YZixrHNr1ZwDAKKbx7m+0PfxducAcMQD4+g6N9R5wVa6oWHRt3+lnAWAgZ0vFQox07J799OLlkJuRupAEbSyq29B/+rmp4MtgbgYLAM6+Gf7SplN6M56ICJpFMggKrz40/uofxy9psNI9o4NffMD5iQ8gxLQC2D+8VYgkvD/8C+4wV/7iC2M/+qtirQBAv7xx+JsPSmmu6Csftt26SW3mNCTP9Mosr19SmzjZBQDG9S2Jk10zWCsFXXO14A8NfOEXCIKgxow7jPOT16IMNfj5nwOGFX/tLtvNGxVDZtzQYv/wtrEfPZbuHsEtBoTM1MLzxdu40Yn+z/wEZaiir9xhu2VT4Im9AKBbXDv0lf8p/e4njRsXD9z/48pffZlwWwvJeV+oUL4IgpivWZl7Hlz3fUhKpPvu/SFm1pf+88elZMYFsVA6hfRzQUgC1elklpUFEcFQhCABQ+na6tSFDsxkBARBdQzvHZN5ARBEFgRm0QKEIFJtnZiOEeNxVK+XkkmUolG9DtUxbN+ANgMVrmXbhvc+kZoYQXFSWQWJYHjpplt6n/+VyKYstYtLN9ycXa1mrW/tf/F3ksDNMBrNJ6P9L/3euXQLRjLjR15WB+VGD3WeiA131d/+5axOodz1RVVjh15MjPU7Fq1ztW4Z2vUXlCBLN9/W/dTPuWigZMNN2RRyCfec8ay6FiNpkUuba1qi/ednsFZZ/IPHSxu3AUBx3SZP9eqOQw8no+MAULXkRoIyoBgx2rGHoI3OsqWiyFE6a//pZ3P24ULqVtyBoDhBGfpOPWP1NPJsfGLoJIJiizbef+6N/5muDLXLbkdxkk0EGZPL13/EYC0bbnudZMw1rbe0H3hInVTutIO6kHpzcemCbTqTp3b5HaGxNkpnnTnfSzK3MSwFWYZ4WGutAECW4NhrwWOvBtOJqTW3NY98u+7J79Y9+d3S73xCpZsfqrIo1dYPAMJkhJ8IE0X2bFDo+bfESEJm+cTRdrIszwD8FLIcef2YaWur8su4oSW65+R0jTwgKDr5190yy0tpTpgIAwCCYcZNSwJP7JHSnJRIRXYdN6xZpCibr1oe+tuBdNcwyLIQivG+EADgDrOuuTrwl10yx4uRePCZfearM5MPbJ9XYjl2yJdqH5RYTpiMYGZDIfkM+UK+84BgqH5Zfej5/TLHCxPhbGULpVNIPy/6Fa26JS36Fcuo6kqyotz8ge1iOAKyDLJElpVgFjNCELrFzczCRkARAMBMJimZMq5fjZlMpm2bLR+8hiwtMX9gu6KpTX06k+cOVFz9UfeKazCSVgwWYy+iLM6aG/++/o5/cC3brloyDZG+c5LAAcxzgfdsohfKnU9EEmP9AJAKeHGdCQBoq5uPh5VNVKIDM42oyqIQ6TltqV0CANa61mDnCa1GXmQZZBlBUG/3vujUzClidtb2n36u4+BDyoJHSRJ6jj8+eO7FkobcuSy5+9hjXUceHet5y17S7B88ZiteBABmZ00gZ4tHo71SlqWuI4+GfZ3qLXcuMi0pbSCAupCJiNfb9WbE39Nz/PHA6LmZ850Nc25hzZW+e38osxwAMAsqPF+8TRs8HW4sQNeWxvafxSwG3GrkR6f63sJkWDmQBRHBCr5UFSJ7Ttpu3YSZ9JhFjxl1iVNTzoeFEIJRTTcHsxoQDC37j09nJXIq44CGO8yCP5SVZ4R2s5RipRSr/BQCUcxsQHAMAGSWBwCQZDnNAQDIMoKiheQz5Av5zgNq1AGKCsFMUzTbJi2UTiH9/IgSZtGJiSRdVyPzgsxzhNtFFHm40THC42aPHKfratj+QaapQT57AQBkXiBLikGS2MEhwuPivWNkeanMc8LEJN2Q8WNSf1xTvedRqPN4dLDN1rii9tbPD73+aGJ8AADhYsGux3+U1ckiCbxWNBdmFz1/7hKfucQAcHGzuszHnAFAvlRnefLCwfJtd0UGLpBGW8Lbpw3Oh2I1cny+5N6TT9Usu03kUv1nnwcANhkCgFR8UtkcUQ1G0NVLbhL4FEmbUjG/wKVEPk1QemtR00j7bo0yrbcpw0+p6YNfSmU1SakVLsnM+c6Gt91gySwnpTkAkLhLN30Df9lV9u+f0i2ukUVp4o+v8BPhbFD2hpgNUiIVP9Ju3NCCmfTRN07Nb8BFDMVlURr6yi95X1ATJASjuMOiFU6GUYZCdbTSw8LtZjESl4WCL/BCzJAv5DsPUiwJkoRbDGI0AQCYSa/IC6VTSD8v8cPH6IY63jsuxuMAALIMAOEXX83+jU8G6Ia6VHuXop84dgIufvw9fuR4plWi/Dx0VNERknFcZ8IoRmRT5uqpVzShN/GJ6MTpfbjOpPNUJsYH0sExjGT0xTUJby8AgusMQnJG83pFmX3u6ZCPNFpJo42LBY1lDdrg6XCRgMSzzsWbQt0nYXb73nhq1gXH8jTcYoGBjoMPearXuCtXpeKTtN4OAIzBwap2WFWwFTWl45PD7Ts91WuUr/j4Bo7aS1oQBM3u5Z+FTYaU9di03gYAksDhBA0AjMEF+ZKaGUkSUJWn9Az5zoa33WDNCaq6iPcFR7/7sCzO+TnXEH71iPMT12IGxvvDv2jDZocsitG9pxwf2e7/zd/ERJpwWjCLId01DADRvafst29JdQyy/WOYgcHtJnZgXAhEE6e6HXdfNfHwayhD2m7eGNk9uwb/dGbINy+yKCVOdllvWO/79fOYgTFtWiILAhROp5B+IdKdM7ZPZTndkbFWWcnMxxLP+k/sqr/9y3wyFu2/QJkdirx08+2kyS5LgpCIDp3cAwCSwA+88lDx+htRgkIQZOLMm8H2I9n0rizl2+8mjTacNlRff39qYnjs0Euzz13i2ZF9T1Vf/ykhlVDvNle54+O43kQYrNXXfzoxNuA7llnDELhwqHz73V2P/ySrWQh39RprUVM6Pjlw7kWc1JU1XW2yV2JNZNjXFfSer13+YVFgMZwaOPsCY3Qpi3BJ2th3+jmCMpYu2KZ8ekr5kouneg2ls0oiryx3iwUGius2TgzmuUWjk/2uypX1qz6irKaMBQaL6zfXr7yLS0VlWYpO9quT0mQUHGtTF9LXfyQV9ZGMqWH1R/2Dx0Nj7TPkOxveHYPl+vT1zMIq3GpEEES3qJodGB/7yeMAADLQDeXVD38DAURKscFn3gy/clgbWYXnC7fRNcW4zSTLsn5VU7p90Per55Qgts+LICBGE/xYYFqcuTDx0Mv227eU/fDvMKNOCMWCT72RNVgoRXo+fyvuMMkpLvjMm+zAOAD4fvGU8xPXVv3qyzIvxvafCT75hibBWVIo30L4H3zB/Zkbq3//Nd4XCr92xLxtmSIvlE4h/XcM/8k9yoQdAPhPZroG/S/9bkrjIkn/cM8zD2iEud8mmIGJU3s1krzRh3b+WSvKlzsbmVTmNwEgMdavzG8CQKT3bKT3rHKcrdHAq39UDjRIPJsOjLPhS/SnxvsOqbfqlUS+//Rz/SqF9gO/zx4zRld0sm+47fWsRKOsGeFGEBQn6NB4u1qYpef44wBA0MbaZbdJkqDOCHKS0mSk+SlJQtv+zFQJXCrf/01QlZ6qX38FsxgyP8vdtY/9C4LljvnNlrJ//5Rp0xKt9H3e592mcsfHbQtWaqWXh614UVnT1VppAZzlrQs3fCrvkLkagjYuWPdJrfQymGW+M/DutLDygpkNsiiBIAIAgmPMoiohEJXFuQ8/IQjIsnF9M24zxQ6c04a+z/u8e1gblrtat6UmR4Mdx7Rhl0fQez73k26FmBg6mfv16Vz4dKz9wB+00stglvnOwNQ88bsPgjjuusq4vgXBMVmS2F7v5F93ccOXaDbnYljd5P7MTUIw5vvlszP3pN7nfd7nfd7nfd7nfd7nfd7nff7/5v8CoqSejdjniJwAAAAASUVORK5CYII=",
         "type": "image",
         "xaxis": "x",
         "yaxis": "y"
        }
       ],
       "layout": {
        "margin": {
         "t": 60
        },
        "template": {
         "data": {
          "bar": [
           {
            "error_x": {
             "color": "#f2f5fa"
            },
            "error_y": {
             "color": "#f2f5fa"
            },
            "marker": {
             "line": {
              "color": "rgb(17,17,17)",
              "width": 0.5
             },
             "pattern": {
              "fillmode": "overlay",
              "size": 10,
              "solidity": 0.2
             }
            },
            "type": "bar"
           }
          ],
          "barpolar": [
           {
            "marker": {
             "line": {
              "color": "rgb(17,17,17)",
              "width": 0.5
             },
             "pattern": {
              "fillmode": "overlay",
              "size": 10,
              "solidity": 0.2
             }
            },
            "type": "barpolar"
           }
          ],
          "carpet": [
           {
            "aaxis": {
             "endlinecolor": "#A2B1C6",
             "gridcolor": "#506784",
             "linecolor": "#506784",
             "minorgridcolor": "#506784",
             "startlinecolor": "#A2B1C6"
            },
            "baxis": {
             "endlinecolor": "#A2B1C6",
             "gridcolor": "#506784",
             "linecolor": "#506784",
             "minorgridcolor": "#506784",
             "startlinecolor": "#A2B1C6"
            },
            "type": "carpet"
           }
          ],
          "choropleth": [
           {
            "colorbar": {
             "outlinewidth": 0,
             "ticks": ""
            },
            "type": "choropleth"
           }
          ],
          "contour": [
           {
            "colorbar": {
             "outlinewidth": 0,
             "ticks": ""
            },
            "colorscale": [
             [
              0,
              "#0d0887"
             ],
             [
              0.1111111111111111,
              "#46039f"
             ],
             [
              0.2222222222222222,
              "#7201a8"
             ],
             [
              0.3333333333333333,
              "#9c179e"
             ],
             [
              0.4444444444444444,
              "#bd3786"
             ],
             [
              0.5555555555555556,
              "#d8576b"
             ],
             [
              0.6666666666666666,
              "#ed7953"
             ],
             [
              0.7777777777777778,
              "#fb9f3a"
             ],
             [
              0.8888888888888888,
              "#fdca26"
             ],
             [
              1,
              "#f0f921"
             ]
            ],
            "type": "contour"
           }
          ],
          "contourcarpet": [
           {
            "colorbar": {
             "outlinewidth": 0,
             "ticks": ""
            },
            "type": "contourcarpet"
           }
          ],
          "heatmap": [
           {
            "colorbar": {
             "outlinewidth": 0,
             "ticks": ""
            },
            "colorscale": [
             [
              0,
              "#0d0887"
             ],
             [
              0.1111111111111111,
              "#46039f"
             ],
             [
              0.2222222222222222,
              "#7201a8"
             ],
             [
              0.3333333333333333,
              "#9c179e"
             ],
             [
              0.4444444444444444,
              "#bd3786"
             ],
             [
              0.5555555555555556,
              "#d8576b"
             ],
             [
              0.6666666666666666,
              "#ed7953"
             ],
             [
              0.7777777777777778,
              "#fb9f3a"
             ],
             [
              0.8888888888888888,
              "#fdca26"
             ],
             [
              1,
              "#f0f921"
             ]
            ],
            "type": "heatmap"
           }
          ],
          "heatmapgl": [
           {
            "colorbar": {
             "outlinewidth": 0,
             "ticks": ""
            },
            "colorscale": [
             [
              0,
              "#0d0887"
             ],
             [
              0.1111111111111111,
              "#46039f"
             ],
             [
              0.2222222222222222,
              "#7201a8"
             ],
             [
              0.3333333333333333,
              "#9c179e"
             ],
             [
              0.4444444444444444,
              "#bd3786"
             ],
             [
              0.5555555555555556,
              "#d8576b"
             ],
             [
              0.6666666666666666,
              "#ed7953"
             ],
             [
              0.7777777777777778,
              "#fb9f3a"
             ],
             [
              0.8888888888888888,
              "#fdca26"
             ],
             [
              1,
              "#f0f921"
             ]
            ],
            "type": "heatmapgl"
           }
          ],
          "histogram": [
           {
            "marker": {
             "pattern": {
              "fillmode": "overlay",
              "size": 10,
              "solidity": 0.2
             }
            },
            "type": "histogram"
           }
          ],
          "histogram2d": [
           {
            "colorbar": {
             "outlinewidth": 0,
             "ticks": ""
            },
            "colorscale": [
             [
              0,
              "#0d0887"
             ],
             [
              0.1111111111111111,
              "#46039f"
             ],
             [
              0.2222222222222222,
              "#7201a8"
             ],
             [
              0.3333333333333333,
              "#9c179e"
             ],
             [
              0.4444444444444444,
              "#bd3786"
             ],
             [
              0.5555555555555556,
              "#d8576b"
             ],
             [
              0.6666666666666666,
              "#ed7953"
             ],
             [
              0.7777777777777778,
              "#fb9f3a"
             ],
             [
              0.8888888888888888,
              "#fdca26"
             ],
             [
              1,
              "#f0f921"
             ]
            ],
            "type": "histogram2d"
           }
          ],
          "histogram2dcontour": [
           {
            "colorbar": {
             "outlinewidth": 0,
             "ticks": ""
            },
            "colorscale": [
             [
              0,
              "#0d0887"
             ],
             [
              0.1111111111111111,
              "#46039f"
             ],
             [
              0.2222222222222222,
              "#7201a8"
             ],
             [
              0.3333333333333333,
              "#9c179e"
             ],
             [
              0.4444444444444444,
              "#bd3786"
             ],
             [
              0.5555555555555556,
              "#d8576b"
             ],
             [
              0.6666666666666666,
              "#ed7953"
             ],
             [
              0.7777777777777778,
              "#fb9f3a"
             ],
             [
              0.8888888888888888,
              "#fdca26"
             ],
             [
              1,
              "#f0f921"
             ]
            ],
            "type": "histogram2dcontour"
           }
          ],
          "mesh3d": [
           {
            "colorbar": {
             "outlinewidth": 0,
             "ticks": ""
            },
            "type": "mesh3d"
           }
          ],
          "parcoords": [
           {
            "line": {
             "colorbar": {
              "outlinewidth": 0,
              "ticks": ""
             }
            },
            "type": "parcoords"
           }
          ],
          "pie": [
           {
            "automargin": true,
            "type": "pie"
           }
          ],
          "scatter": [
           {
            "marker": {
             "line": {
              "color": "#283442"
             }
            },
            "type": "scatter"
           }
          ],
          "scatter3d": [
           {
            "line": {
             "colorbar": {
              "outlinewidth": 0,
              "ticks": ""
             }
            },
            "marker": {
             "colorbar": {
              "outlinewidth": 0,
              "ticks": ""
             }
            },
            "type": "scatter3d"
           }
          ],
          "scattercarpet": [
           {
            "marker": {
             "colorbar": {
              "outlinewidth": 0,
              "ticks": ""
             }
            },
            "type": "scattercarpet"
           }
          ],
          "scattergeo": [
           {
            "marker": {
             "colorbar": {
              "outlinewidth": 0,
              "ticks": ""
             }
            },
            "type": "scattergeo"
           }
          ],
          "scattergl": [
           {
            "marker": {
             "line": {
              "color": "#283442"
             }
            },
            "type": "scattergl"
           }
          ],
          "scattermapbox": [
           {
            "marker": {
             "colorbar": {
              "outlinewidth": 0,
              "ticks": ""
             }
            },
            "type": "scattermapbox"
           }
          ],
          "scatterpolar": [
           {
            "marker": {
             "colorbar": {
              "outlinewidth": 0,
              "ticks": ""
             }
            },
            "type": "scatterpolar"
           }
          ],
          "scatterpolargl": [
           {
            "marker": {
             "colorbar": {
              "outlinewidth": 0,
              "ticks": ""
             }
            },
            "type": "scatterpolargl"
           }
          ],
          "scatterternary": [
           {
            "marker": {
             "colorbar": {
              "outlinewidth": 0,
              "ticks": ""
             }
            },
            "type": "scatterternary"
           }
          ],
          "surface": [
           {
            "colorbar": {
             "outlinewidth": 0,
             "ticks": ""
            },
            "colorscale": [
             [
              0,
              "#0d0887"
             ],
             [
              0.1111111111111111,
              "#46039f"
             ],
             [
              0.2222222222222222,
              "#7201a8"
             ],
             [
              0.3333333333333333,
              "#9c179e"
             ],
             [
              0.4444444444444444,
              "#bd3786"
             ],
             [
              0.5555555555555556,
              "#d8576b"
             ],
             [
              0.6666666666666666,
              "#ed7953"
             ],
             [
              0.7777777777777778,
              "#fb9f3a"
             ],
             [
              0.8888888888888888,
              "#fdca26"
             ],
             [
              1,
              "#f0f921"
             ]
            ],
            "type": "surface"
           }
          ],
          "table": [
           {
            "cells": {
             "fill": {
              "color": "#506784"
             },
             "line": {
              "color": "rgb(17,17,17)"
             }
            },
            "header": {
             "fill": {
              "color": "#2a3f5f"
             },
             "line": {
              "color": "rgb(17,17,17)"
             }
            },
            "type": "table"
           }
          ]
         },
         "layout": {
          "annotationdefaults": {
           "arrowcolor": "#f2f5fa",
           "arrowhead": 0,
           "arrowwidth": 1
          },
          "autotypenumbers": "strict",
          "coloraxis": {
           "colorbar": {
            "outlinewidth": 0,
            "ticks": ""
           }
          },
          "colorscale": {
           "diverging": [
            [
             0,
             "#8e0152"
            ],
            [
             0.1,
             "#c51b7d"
            ],
            [
             0.2,
             "#de77ae"
            ],
            [
             0.3,
             "#f1b6da"
            ],
            [
             0.4,
             "#fde0ef"
            ],
            [
             0.5,
             "#f7f7f7"
            ],
            [
             0.6,
             "#e6f5d0"
            ],
            [
             0.7,
             "#b8e186"
            ],
            [
             0.8,
             "#7fbc41"
            ],
            [
             0.9,
             "#4d9221"
            ],
            [
             1,
             "#276419"
            ]
           ],
           "sequential": [
            [
             0,
             "#0d0887"
            ],
            [
             0.1111111111111111,
             "#46039f"
            ],
            [
             0.2222222222222222,
             "#7201a8"
            ],
            [
             0.3333333333333333,
             "#9c179e"
            ],
            [
             0.4444444444444444,
             "#bd3786"
            ],
            [
             0.5555555555555556,
             "#d8576b"
            ],
            [
             0.6666666666666666,
             "#ed7953"
            ],
            [
             0.7777777777777778,
             "#fb9f3a"
            ],
            [
             0.8888888888888888,
             "#fdca26"
            ],
            [
             1,
             "#f0f921"
            ]
           ],
           "sequentialminus": [
            [
             0,
             "#0d0887"
            ],
            [
             0.1111111111111111,
             "#46039f"
            ],
            [
             0.2222222222222222,
             "#7201a8"
            ],
            [
             0.3333333333333333,
             "#9c179e"
            ],
            [
             0.4444444444444444,
             "#bd3786"
            ],
            [
             0.5555555555555556,
             "#d8576b"
            ],
            [
             0.6666666666666666,
             "#ed7953"
            ],
            [
             0.7777777777777778,
             "#fb9f3a"
            ],
            [
             0.8888888888888888,
             "#fdca26"
            ],
            [
             1,
             "#f0f921"
            ]
           ]
          },
          "colorway": [
           "#636efa",
           "#EF553B",
           "#00cc96",
           "#ab63fa",
           "#FFA15A",
           "#19d3f3",
           "#FF6692",
           "#B6E880",
           "#FF97FF",
           "#FECB52"
          ],
          "font": {
           "color": "#f2f5fa"
          },
          "geo": {
           "bgcolor": "rgb(17,17,17)",
           "lakecolor": "rgb(17,17,17)",
           "landcolor": "rgb(17,17,17)",
           "showlakes": true,
           "showland": true,
           "subunitcolor": "#506784"
          },
          "hoverlabel": {
           "align": "left"
          },
          "hovermode": "closest",
          "mapbox": {
           "style": "dark"
          },
          "paper_bgcolor": "rgb(17,17,17)",
          "plot_bgcolor": "rgb(17,17,17)",
          "polar": {
           "angularaxis": {
            "gridcolor": "#506784",
            "linecolor": "#506784",
            "ticks": ""
           },
           "bgcolor": "rgb(17,17,17)",
           "radialaxis": {
            "gridcolor": "#506784",
            "linecolor": "#506784",
            "ticks": ""
           }
          },
          "scene": {
           "xaxis": {
            "backgroundcolor": "rgb(17,17,17)",
            "gridcolor": "#506784",
            "gridwidth": 2,
            "linecolor": "#506784",
            "showbackground": true,
            "ticks": "",
            "zerolinecolor": "#C8D4E3"
           },
           "yaxis": {
            "backgroundcolor": "rgb(17,17,17)",
            "gridcolor": "#506784",
            "gridwidth": 2,
            "linecolor": "#506784",
            "showbackground": true,
            "ticks": "",
            "zerolinecolor": "#C8D4E3"
           },
           "zaxis": {
            "backgroundcolor": "rgb(17,17,17)",
            "gridcolor": "#506784",
            "gridwidth": 2,
            "linecolor": "#506784",
            "showbackground": true,
            "ticks": "",
            "zerolinecolor": "#C8D4E3"
           }
          },
          "shapedefaults": {
           "line": {
            "color": "#f2f5fa"
           }
          },
          "sliderdefaults": {
           "bgcolor": "#C8D4E3",
           "bordercolor": "rgb(17,17,17)",
           "borderwidth": 1,
           "tickwidth": 0
          },
          "ternary": {
           "aaxis": {
            "gridcolor": "#506784",
            "linecolor": "#506784",
            "ticks": ""
           },
           "baxis": {
            "gridcolor": "#506784",
            "linecolor": "#506784",
            "ticks": ""
           },
           "bgcolor": "rgb(17,17,17)",
           "caxis": {
            "gridcolor": "#506784",
            "linecolor": "#506784",
            "ticks": ""
           }
          },
          "title": {
           "x": 0.05
          },
          "updatemenudefaults": {
           "bgcolor": "#506784",
           "borderwidth": 0
          },
          "xaxis": {
           "automargin": true,
           "gridcolor": "#283442",
           "linecolor": "#506784",
           "ticks": "",
           "title": {
            "standoff": 15
           },
           "zerolinecolor": "#283442",
           "zerolinewidth": 2
          },
          "yaxis": {
           "automargin": true,
           "gridcolor": "#283442",
           "linecolor": "#506784",
           "ticks": "",
           "title": {
            "standoff": 15
           },
           "zerolinecolor": "#283442",
           "zerolinewidth": 2
          }
         }
        },
        "xaxis": {
         "anchor": "y",
         "domain": [
          0,
          1
         ]
        },
        "yaxis": {
         "anchor": "x",
         "domain": [
          0,
          1
         ]
        }
       }
      }
     },
     "metadata": {},
     "output_type": "display_data"
    }
   ],
   "source": [
    "mix_worldcloud = WordCloud(stopwords=STOPWORDS).generate(neg_review_text + \" \"+ positive_review_text + \" \"+ neutral_review_text)\n",
    "fig4 = ex.imshow(mix_worldcloud,template='plotly_dark')\n",
    "fig4.show()"
   ]
  },
  {
   "cell_type": "code",
   "execution_count": null,
   "metadata": {},
   "outputs": [],
   "source": []
  }
 ],
 "metadata": {
  "kernelspec": {
   "display_name": "Python 3",
   "language": "python",
   "name": "python3"
  },
  "language_info": {
   "codemirror_mode": {
    "name": "ipython",
    "version": 3
   },
   "file_extension": ".py",
   "mimetype": "text/x-python",
   "name": "python",
   "nbconvert_exporter": "python",
   "pygments_lexer": "ipython3",
   "version": "3.11.5"
  }
 },
 "nbformat": 4,
 "nbformat_minor": 2
}
