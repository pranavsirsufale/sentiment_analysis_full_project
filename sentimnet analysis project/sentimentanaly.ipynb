{
 "cells": [
  {
   "cell_type": "markdown",
   "metadata": {},
   "source": [
    "# Sentiment analysis full project"
   ]
  },
  {
   "cell_type": "markdown",
   "metadata": {},
   "source": [
    "### step 1. import Libraries and files\n",
    "### step 2. Identify Polarity\n",
    "### step 3. Sentiment classification\n",
    "### step 4. word cloud \n",
    "### step 5. "
   ]
  },
  {
   "cell_type": "code",
   "execution_count": 9,
   "metadata": {},
   "outputs": [],
   "source": [
    "import numpy as np\n",
    "import pandas as pd\n",
    "import seaborn as sns\n",
    "import matplotlib.pyplot as plt\n",
    "import plotly.express as ex\n",
    "from textblob import TextBlob\n",
    "from wordcloud import WordCloud,STOPWORDS\n"
   ]
  },
  {
   "cell_type": "markdown",
   "metadata": {},
   "source": [
    "## import dataset "
   ]
  },
  {
   "cell_type": "code",
   "execution_count": 29,
   "metadata": {},
   "outputs": [
    {
     "data": {
      "text/html": [
       "<div>\n",
       "<style scoped>\n",
       "    .dataframe tbody tr th:only-of-type {\n",
       "        vertical-align: middle;\n",
       "    }\n",
       "\n",
       "    .dataframe tbody tr th {\n",
       "        vertical-align: top;\n",
       "    }\n",
       "\n",
       "    .dataframe thead th {\n",
       "        text-align: right;\n",
       "    }\n",
       "</style>\n",
       "<table border=\"1\" class=\"dataframe\">\n",
       "  <thead>\n",
       "    <tr style=\"text-align: right;\">\n",
       "      <th></th>\n",
       "      <th>Time of Review</th>\n",
       "      <th>User ID</th>\n",
       "      <th>Brief Review</th>\n",
       "    </tr>\n",
       "  </thead>\n",
       "  <tbody>\n",
       "    <tr>\n",
       "      <th>0</th>\n",
       "      <td>8/22/2022 14:16</td>\n",
       "      <td>User1</td>\n",
       "      <td>extremely satisfied with my new mobile phone</td>\n",
       "    </tr>\n",
       "    <tr>\n",
       "      <th>1</th>\n",
       "      <td>7/7/2023 14:16</td>\n",
       "      <td>User2</td>\n",
       "      <td>Nice design and sleek look.</td>\n",
       "    </tr>\n",
       "    <tr>\n",
       "      <th>2</th>\n",
       "      <td>2/26/2023 14:16</td>\n",
       "      <td>User3</td>\n",
       "      <td>Nice design and sleek look.</td>\n",
       "    </tr>\n",
       "    <tr>\n",
       "      <th>3</th>\n",
       "      <td>4/13/2023 14:16</td>\n",
       "      <td>User4</td>\n",
       "      <td>Good value for money.</td>\n",
       "    </tr>\n",
       "    <tr>\n",
       "      <th>4</th>\n",
       "      <td>5/25/2023 14:16</td>\n",
       "      <td>User5</td>\n",
       "      <td>Disappointed</td>\n",
       "    </tr>\n",
       "  </tbody>\n",
       "</table>\n",
       "</div>"
      ],
      "text/plain": [
       "    Time of Review User ID                                  Brief Review\n",
       "0  8/22/2022 14:16   User1  extremely satisfied with my new mobile phone\n",
       "1   7/7/2023 14:16   User2                   Nice design and sleek look.\n",
       "2  2/26/2023 14:16   User3                   Nice design and sleek look.\n",
       "3  4/13/2023 14:16   User4                         Good value for money.\n",
       "4  5/25/2023 14:16   User5                                  Disappointed"
      ]
     },
     "execution_count": 29,
     "metadata": {},
     "output_type": "execute_result"
    }
   ],
   "source": [
    "df = pd.read_csv('F:/new projects/sentimet analysis proejct/Sentiment_Analysis_Project/DataSet/mobile.csv')\n",
    "\n",
    "pd.set_option('display.max_columns',200)\n",
    "df.head()\n",
    "# df.shape"
   ]
  },
  {
   "cell_type": "markdown",
   "metadata": {},
   "source": []
  },
  {
   "cell_type": "markdown",
   "metadata": {},
   "source": [
    "### Task 1. Deriving the polarity of data"
   ]
  },
  {
   "cell_type": "code",
   "execution_count": null,
   "metadata": {},
   "outputs": [],
   "source": [
    "df['Sentiment'] = [  TextBlob(x).sentiment for x in df['Brief Review']]\n",
    "df\n",
    "\n",
    "def calculate_polarity(text):\n",
    "    return TextBlob(text).sentiment.polarity\n",
    "\n",
    "def calculate_subjectivity(text):\n",
    "    return TextBlob(text).sentiment.subjectivity\n",
    "\n",
    "def calculate_polarity_and_subjectivity(text):\n",
    "    sentiment_and_subjectivity = TextBlob(text).sentiment\n",
    "    sentiment_and_subjectivity = [sentiment_and_subjectivity.polarity,sentiment_and_subjectivity.subjectivity]\n",
    "    return sentiment_and_subjectivity\n",
    "\n",
    "df['Sentiment', 'Subjectivity']= df['Brief Review'].apply(calculate_polarity_and_subjectivity)\n",
    "df"
   ]
  },
  {
   "cell_type": "markdown",
   "metadata": {},
   "source": []
  },
  {
   "cell_type": "code",
   "execution_count": 28,
   "metadata": {},
   "outputs": [
    {
     "ename": "AttributeError",
     "evalue": "'Sentiment' object has no attribute 'apply'",
     "output_type": "error",
     "traceback": [
      "\u001b[1;31m---------------------------------------------------------------------------\u001b[0m",
      "\u001b[1;31mAttributeError\u001b[0m                            Traceback (most recent call last)",
      "Cell \u001b[1;32mIn[28], line 11\u001b[0m\n\u001b[0;32m      6\u001b[0m     \u001b[38;5;28;01melse\u001b[39;00m :\n\u001b[0;32m      7\u001b[0m         \u001b[38;5;28;01mreturn\u001b[39;00m \u001b[38;5;124m'\u001b[39m\u001b[38;5;124mNeutral\u001b[39m\u001b[38;5;124m'\u001b[39m\n\u001b[1;32m---> 11\u001b[0m df[\u001b[38;5;124m'\u001b[39m\u001b[38;5;124mPolarity Type\u001b[39m\u001b[38;5;124m'\u001b[39m] \u001b[38;5;241m=\u001b[39m \u001b[43mdf\u001b[49m\u001b[43m[\u001b[49m\u001b[38;5;124;43m'\u001b[39;49m\u001b[38;5;124;43mSentiment\u001b[39;49m\u001b[38;5;124;43m'\u001b[39;49m\u001b[43m]\u001b[49m\u001b[43m[\u001b[49m\u001b[38;5;241;43m0\u001b[39;49m\u001b[43m]\u001b[49m\u001b[38;5;241;43m.\u001b[39;49m\u001b[43mapply\u001b[49m(review_type)\n\u001b[0;32m     14\u001b[0m df\n",
      "\u001b[1;31mAttributeError\u001b[0m: 'Sentiment' object has no attribute 'apply'"
     ]
    }
   ],
   "source": [
    "def review_type(pol):\n",
    "    if pol < 0 :\n",
    "        return 'Negetive'\n",
    "    elif pol > 0 :\n",
    "        return 'Positive'\n",
    "    else :\n",
    "        return 'Neutral'\n",
    "\n",
    "\n",
    "\n",
    "df['Polarity Type'] = df['Sentiment'][0].apply(review_type)\n",
    "\n",
    "\n",
    "df\n"
   ]
  },
  {
   "cell_type": "markdown",
   "metadata": {},
   "source": []
  },
  {
   "cell_type": "code",
   "execution_count": null,
   "metadata": {},
   "outputs": [],
   "source": []
  },
  {
   "cell_type": "markdown",
   "metadata": {},
   "source": []
  },
  {
   "cell_type": "code",
   "execution_count": null,
   "metadata": {},
   "outputs": [],
   "source": []
  },
  {
   "cell_type": "markdown",
   "metadata": {},
   "source": []
  }
 ],
 "metadata": {
  "kernelspec": {
   "display_name": "Python 3",
   "language": "python",
   "name": "python3"
  },
  "language_info": {
   "codemirror_mode": {
    "name": "ipython",
    "version": 3
   },
   "file_extension": ".py",
   "mimetype": "text/x-python",
   "name": "python",
   "nbconvert_exporter": "python",
   "pygments_lexer": "ipython3",
   "version": "3.11.5"
  }
 },
 "nbformat": 4,
 "nbformat_minor": 2
}
